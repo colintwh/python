{
 "cells": [
  {
   "cell_type": "markdown",
   "metadata": {},
   "source": [
    "# Files and Exceptions\n",
    "\n",
    "---\n",
    "\n",
    "You'll learn to handle errors so your programs don't crash when they encounter unexpected situations. *Exceptions* are special objects Python create to manage errors that arise while a program is running. You'll also learn about *json* module, which allows you to save user data so it isn't lost when your program stops running. \n",
    "\n",
    "## Reading from a File\n",
    "\n",
    "Reading from a file is particularly useful in data analysis applications. When you want to work with the data in a text file, the first step is to read the file into memory. You can read the entire contents of a file, or you can work through the file one line at a time. \n",
    "\n",
    "Let's start with a file that contains *pi* to 30 decimal places, with 10 decimal places per line:\n",
    "\n",
    "*pi_digits.txt*\n",
    "```\n",
    "        3.1415926535\n",
    "          8979323846\n",
    "          2643383279\n",
    "```"
   ]
  },
  {
   "cell_type": "markdown",
   "metadata": {},
   "source": [
    "Here's a program that opens this file, reads it, and prints the contents of the file to the screen:"
   ]
  },
  {
   "cell_type": "code",
   "execution_count": 1,
   "metadata": {},
   "outputs": [
    {
     "name": "stdout",
     "output_type": "stream",
     "text": [
      "3.1415926535\n",
      "  8979323846\n",
      "  2643383279\n",
      "  \n",
      "\n"
     ]
    }
   ],
   "source": [
    "# reading file, pi_digits.txt\n",
    "with open ('pi_digits.txt') as file:\n",
    "    contents = file.read()\n",
    "print(contents)"
   ]
  },
  {
   "cell_type": "markdown",
   "metadata": {},
   "source": [
    "To do any work with a file, you first need to *open* the file to access it. The `open()` function needs one argument: the name of the file you want to open. Python looks for this file in the directory where the program that's currently being executed is stored.\n",
    "\n",
    "The keyword `with` closes the file once access to it is no longer needed. Improperly closed files can cause data to be lost or corrupted. You can also call `close()` method to close the file but if a bug in your program prevents the `close()` method from being executed, the file may never close.\n",
    "\n",
    "Once we have a file object representing *pi_digits.txt*, we use the `read()` method to read the entire contents of the file and store it as one long string in contents. \n",
    "\n",
    "### File Paths - Relative and Absolute\n",
    "\n",
    "Sometimes, depending on how you organise your work, the file you want to open won't be in the same directory as your program file. In such a case, you'll need to provide a *file path*, which tells Python to look in a specific location on your system. One way is to use a *relative file path* which tells Python to look for a given location relative to the directory where the currently running program is stored. For example:"
   ]
  },
  {
   "cell_type": "code",
   "execution_count": 2,
   "metadata": {},
   "outputs": [
    {
     "name": "stdout",
     "output_type": "stream",
     "text": [
      "3.1415926535\n",
      "  8979323846\n",
      "  2643383279\n",
      "  \n",
      "\n"
     ]
    }
   ],
   "source": [
    "with open ('sample_files/pi_digits.txt') as file:\n",
    "    contents = file.read()  # read in contents as one blob of string\n",
    "print(contents)"
   ]
  },
  {
   "cell_type": "markdown",
   "metadata": {},
   "source": [
    "**Note**: *Windows systems use a backslash(\\) instead of a forward(/) when displaying file paths, but you can still use forward slashes in your code.*"
   ]
  },
  {
   "cell_type": "markdown",
   "metadata": {},
   "source": [
    "You can also tell Python exactly where the file is on your computer regardless of where the program that's being executed is stored. This is called an *absolute file path*. For instance:"
   ]
  },
  {
   "cell_type": "code",
   "execution_count": 3,
   "metadata": {},
   "outputs": [
    {
     "name": "stdout",
     "output_type": "stream",
     "text": [
      "3.1415926535\n",
      "  8979323846\n",
      "  2643383279\n",
      "  \n",
      "\n"
     ]
    }
   ],
   "source": [
    "with open ('/home/your_username/Documents/Git/python-basics/sample_files/pi_digits.txt') as file:\n",
    "    contents = file.read()\n",
    "print(contents)"
   ]
  },
  {
   "cell_type": "markdown",
   "metadata": {},
   "source": [
    "**Note** *In macOS and linux systems, the absolute file path typically begins with a forward slash (/), which represents the root directory. This contrasts with Windows operating systems, where the absolute file path starts with a drive letter, followed by a colon (:) and backslash (\\). Backslashes in Python, however is used to escape characters in strings, thus for Windows systems you can use double backslash in filepaths like this: \"C:\\\\\\path\\\\\\to\\\\\\file.txt\". Forward slashes are acceptable when addressing file paths in Windows system but only single forward slash is used, which in this case the path will be like: \"C:/path/to/file.txt\"*"
   ]
  },
  {
   "cell_type": "markdown",
   "metadata": {},
   "source": [
    "### Reading line by line\n",
    "\n",
    "When you're reading a file, you'll often want to examine each line of the file. You might be looking for certain information in the file, or you might want to modify the text in the file in some way. You can use a `for` loop on the file object to examine each line from a file one at a time:"
   ]
  },
  {
   "cell_type": "code",
   "execution_count": 4,
   "metadata": {},
   "outputs": [
    {
     "name": "stdout",
     "output_type": "stream",
     "text": [
      "3.1415926535\n",
      "8979323846\n",
      "2643383279\n",
      "\n"
     ]
    }
   ],
   "source": [
    "filename = 'pi_digits.txt'\n",
    "\n",
    "with open(filename) as file:\n",
    "    for line in file:\n",
    "        print(line.strip())  # strip whitespaces from both ends of each line"
   ]
  },
  {
   "cell_type": "markdown",
   "metadata": {},
   "source": [
    "In the original file contents, there are whitespace in the beginning of 2nd and 3rd lines of digits. However, we are able to read each line, strip the line of strip of whitespaces on both ends as we call `print()` on each line. Another way is instead of calling `read()`, we can use `readlines()` to store the contents as a list of lines:"
   ]
  },
  {
   "cell_type": "code",
   "execution_count": 5,
   "metadata": {},
   "outputs": [
    {
     "name": "stdout",
     "output_type": "stream",
     "text": [
      "3.1415926535\n",
      "8979323846\n",
      "2643383279\n",
      "\n"
     ]
    }
   ],
   "source": [
    "filename = 'pi_digits.txt'\n",
    "\n",
    "with open(filename) as file:\n",
    "    lines = file.readlines()  # store file contents as a list of lines\n",
    "    \n",
    "for line in lines:\n",
    "    print(line.strip())"
   ]
  },
  {
   "cell_type": "markdown",
   "metadata": {},
   "source": [
    "**Note**: *By now, you might have observed that when Python reads from a text file, it interprets all text in the file as a string. If you read in a number and want to work with that value in a numerical context, you'll have to convert it to an interger using the `int()` function or convert it to a float using the `float()` function.*"
   ]
  },
  {
   "cell_type": "markdown",
   "metadata": {},
   "source": [
    "## Writing to a file\n",
    "\n",
    "One of the simplest ways to save data is to write it to a file. To write text to a file, you'll need to call `open()` with a second argument telling Python that you want to write to the file. For instance:"
   ]
  },
  {
   "cell_type": "code",
   "execution_count": 6,
   "metadata": {},
   "outputs": [],
   "source": [
    "filename = 'programming.txt'\n",
    "\n",
    "# writing to file, \"programming.txt\"\n",
    "with open(filename, 'w') as file:\n",
    "    file.write(\"I love programming.\")"
   ]
  },
  {
   "cell_type": "markdown",
   "metadata": {},
   "source": [
    "The call to `open()` now has two arguments in this example. The first argument is still the name of the file we want to open. The second argument 'w', tells Python that we want to open the file in *write mode*. You can open the file in:\n",
    "\n",
    "   + *read mode (`'r'`)*\n",
    "   + *write mode (`'w'`)*\n",
    "   + *append mode (`'a'`)*, or\n",
    "   + *read and write mode (`'r+'`)*\n",
    "   \n",
    "If you omit the mode argument, Python opens the file in read-only mode by default. Also, the `open()` function automatically creates the file you're writing to if it doesn't already exist. However, take extra precaution when opening a file in write mode ('w') because if the file does exist, Python will erase the contents of the file before returning the file object. "
   ]
  },
  {
   "cell_type": "markdown",
   "metadata": {},
   "source": [
    "### Writing Multiple Lines\n",
    "\n",
    "The `write()` function doesn't add any newlines to the text you write. If you write more than one line without including newline characters, all the lines you've written will be saved in only one line in the file: "
   ]
  },
  {
   "cell_type": "code",
   "execution_count": 7,
   "metadata": {},
   "outputs": [
    {
     "name": "stdout",
     "output_type": "stream",
     "text": [
      "I love programming.I love creating games.\n",
      "\n",
      "I love programming.\n",
      "I love creating games.\n",
      "\n"
     ]
    }
   ],
   "source": [
    "filename = 'programming.txt'\n",
    "\n",
    "with open(filename, 'w') as file_w:\n",
    "    file_w.write(\"I love programming.\")\n",
    "    file_w.write(\"I love creating games.\")\n",
    "\n",
    "# two lines written appear on one line in the file:\n",
    "with open(filename, 'r') as file_r:\n",
    "    contents = file_r.read()\n",
    "    print(contents)\n",
    "\n",
    "print(\"\")  # newline to separate outputs from the two examples\n",
    "\n",
    "# rewrite to file using newlines \"\\n\"\n",
    "with open(filename, 'w') as file_w:\n",
    "    file_w.write(\"I love programming.\\n\")\n",
    "    file_w.write(\"I love creating games.\\n\")\n",
    "\n",
    "# the file contents are now saved the way we would have wanted this time round\n",
    "with open(filename, 'r') as file_r:\n",
    "    contents = file_r.read()\n",
    "    print(contents)"
   ]
  },
  {
   "cell_type": "markdown",
   "metadata": {},
   "source": [
    "### Appending to a File\n",
    "\n",
    "When you open a file in append mode, any lines you write to the file will be added at the end of the file. If the file doesn't exist yet, Python will create an empty file for you:"
   ]
  },
  {
   "cell_type": "code",
   "execution_count": 8,
   "metadata": {},
   "outputs": [
    {
     "name": "stdout",
     "output_type": "stream",
     "text": [
      "I love programming.\n",
      "I love creating games.\n",
      "I also love finding meaning in large datasets.\n",
      "I love creating apps that can run in a browser.\n",
      "\n"
     ]
    }
   ],
   "source": [
    "with open(filename, 'a') as file_w:\n",
    "    file_w.write(\"I also love finding meaning in large datasets.\\n\")\n",
    "    file_w.write(\"I love creating apps that can run in a browser.\\n\")\n",
    "    \n",
    "# reading the file contents\n",
    "with open(filename, 'r') as file_r:\n",
    "    contents = file_r.read()\n",
    "    print(contents)"
   ]
  },
  {
   "cell_type": "markdown",
   "metadata": {},
   "source": [
    "## Errors and Exceptions\n",
    "\n",
    "Python uses special objects called *exceptions* to manage errors that arise during a program's execution. Errors can be classified into three major groups:\n",
    "\n",
    "+ Syntax errors\n",
    "+ Runtime errors\n",
    "+ Logical errors\n",
    "\n",
    "#### Syntax errors\n",
    "These are errors which Python will find when it tries to parse your program, resulting in an exit with an error message without running anything. Common syntax errors include leaving out a symbol such as a colon, comma or brackets; misspelling a keyword, incorrect indentation, etc.\n",
    "\n",
    "#### Runtime errors\n",
    "If a program is free of syntax errors – it will be run by the Python interpreter. However, the program may exit unexpectedly (i.e. *crash*) during execution if it encounters a runtime error – a problem which was not detected when the program was parsed, but is only revealed when a particular line is executed. These kind of errors can be caught using exception handling so that your program can continue to run smoothly without crashing.\n",
    "\n",
    "#### Logical errors\n",
    "Logical errors are the most difficult to fix. They are caused by a mistake in the program’s logic - resulting in an incorrect result.  "
   ]
  },
  {
   "cell_type": "markdown",
   "metadata": {},
   "source": [
    "### The `try` and `except` statements\n",
    "\n",
    "To handle possible exceptions, we use a `try-except` block:"
   ]
  },
  {
   "cell_type": "code",
   "execution_count": 9,
   "metadata": {},
   "outputs": [
    {
     "name": "stdout",
     "output_type": "stream",
     "text": [
      "Please enter your age: abc\n",
      "Hey, that wasn't a number!\n"
     ]
    }
   ],
   "source": [
    "try:\n",
    "    age = int(input(\"Please enter your age: \"))\n",
    "    print(\"I see that you are %d years old.\" % age)\n",
    "except ValueError:\n",
    "    print(\"Hey, that wasn't a number!\")"
   ]
  },
  {
   "cell_type": "markdown",
   "metadata": {},
   "source": [
    "In the above example, Python will try to process all the statements inside the `try` block. If a `ValueError` occurs at any point as it is executing them, the flow of control will immediately pass to the `except` block, and any remaining statements in the `try` block will be skipped. The `except` block tells Python what to do in case a certain exception arises when it tries to run the code in the `try` block.\n",
    "\n",
    "It is possible for one `except` clause to handle more than one kind of error: we can provide a tuple of exception types instead of a single type:"
   ]
  },
  {
   "cell_type": "code",
   "execution_count": 10,
   "metadata": {},
   "outputs": [
    {
     "name": "stdout",
     "output_type": "stream",
     "text": [
      "Please enter the dividend: 1\n",
      "Please enter the divisor: 0\n",
      "Oops, something went wrong!\n"
     ]
    }
   ],
   "source": [
    "try:\n",
    "    dividend = int(input(\"Please enter the dividend: \"))\n",
    "    divisor = int(input(\"Please enter the divisor: \"))\n",
    "    print(\"%d / %d = %f\" % (dividend, divisor, dividend/divisor))\n",
    "except(ValueError, ZeroDivisionError):\n",
    "    print(\"Oops, something went wrong!\")"
   ]
  },
  {
   "cell_type": "markdown",
   "metadata": {},
   "source": [
    "A `try-except` block can also have multiple `except` clauses. If an exception occurs, Python will check each `except` clause from the top down to see if the exception type matches. If none of the `except` clauses match, the exception will be considered unhandled, and your program will crash:"
   ]
  },
  {
   "cell_type": "code",
   "execution_count": 11,
   "metadata": {},
   "outputs": [
    {
     "name": "stdout",
     "output_type": "stream",
     "text": [
      "Please enter the dividend: 1\n",
      "Please enter the divisor: a\n",
      "The divisor and dividend have to be numbers!\n"
     ]
    }
   ],
   "source": [
    "try:\n",
    "    dividend = int(input(\"Please enter the dividend: \"))\n",
    "    divisor = int(input(\"Please enter the divisor: \"))\n",
    "    print(\"%d / %d = %f\" % (dividend, divisor, dividend/divisor))\n",
    "except ValueError:\n",
    "    print(\"The divisor and dividend have to be numbers!\")\n",
    "except ZeroDivisionError:\n",
    "    print(\"The dividend may not be zero!\")"
   ]
  },
  {
   "cell_type": "markdown",
   "metadata": {},
   "source": [
    "One common issue when working with files is handling missing files. Let's try to read a file that doesn't exist by handling `FileNotFoundError` exception:"
   ]
  },
  {
   "cell_type": "code",
   "execution_count": 12,
   "metadata": {},
   "outputs": [],
   "source": [
    "filename = 'alice.txt'  # non-existent file\n",
    "\n",
    "try:\n",
    "    with open(filename, encoding='utf-8') as f:\n",
    "        contents = f.read()\n",
    "except FileNotFoundError:\n",
    "    print(f\"Sorry, the file {filename} does not exist.\")"
   ]
  },
  {
   "cell_type": "markdown",
   "metadata": {},
   "source": [
    "### The `try-except-else` block\n",
    "\n",
    "The `try-except-else` block works like this; Python attempts to run the code in the `try` block. The only code that should go in a `try` block is code that might cause an exception to be raised. Sometimes you'll have additional code that should run only if the `try` block was successful; this code goes in the `else` block: "
   ]
  },
  {
   "cell_type": "code",
   "execution_count": 13,
   "metadata": {},
   "outputs": [
    {
     "name": "stdout",
     "output_type": "stream",
     "text": [
      "Give me two numbers, and I'll divide them.\n",
      "Enter 'q' to quit.\n",
      "\n",
      "First number: 1\n",
      "Second number: 2\n",
      "0.5\n",
      "\n",
      "First number: 1\n",
      "Second number: 0\n",
      "You can't divide by 0\n",
      "\n",
      "First number: a\n",
      "Second number: b\n",
      "You have to input numbers!\n",
      "\n",
      "First number: q\n"
     ]
    }
   ],
   "source": [
    "print(\"Give me two numbers, and I'll divide them.\")\n",
    "print(\"Enter 'q' to quit.\")\n",
    "\n",
    "while True:\n",
    "    first_number = input(\"\\nFirst number: \")\n",
    "    if first_number == 'q':\n",
    "        break\n",
    "    second_number = input(\"Second number: \")\n",
    "    if second_number == 'q':\n",
    "        break\n",
    "    try:\n",
    "        answer = int(first_number) / int(second_number)    \n",
    "    except ZeroDivisionError:\n",
    "        print(\"You can't divide by 0\")\n",
    "    except ValueError:\n",
    "        print(\"You have to input numbers!\")\n",
    "    else:\n",
    "        print(answer)"
   ]
  },
  {
   "cell_type": "markdown",
   "metadata": {},
   "source": [
    "### Failing Silently\n",
    "\n",
    "Sometimes, you'll want the program to fail silently when an exception occurs and continue on as if nothing happend. To make a program fail silently, you write a `try` block as usual, but you explicitly tell Python to do nothing in the `except` block. However, not writing any code in the `except` block will cause syntax error as Python expects at least an indented line of code following the `except` statement. You can use the `pass` statement that tells Python to do nothing in the block. \n",
    "\n",
    "In the following example, the program will perform a word count for each text file specified in a list. The text files come from Project Gutenberg (https://www.gutenberg.org/)"
   ]
  },
  {
   "cell_type": "code",
   "execution_count": 14,
   "metadata": {},
   "outputs": [
    {
     "name": "stdout",
     "output_type": "stream",
     "text": [
      "The file alice.txt has about 17842 words.\n",
      "The file siddhartha.txt has about 42166 words.\n",
      "The file little_women.txt has about 189092 words.\n"
     ]
    }
   ],
   "source": [
    "def count_words(filename):\n",
    "    \"\"\"Count the approximate number of words in a file.\"\"\"\n",
    "    try:\n",
    "        with open(filename, encoding='utf-8') as f:\n",
    "            contents = f.read()\n",
    "    except FileNotFoundError:\n",
    "        pass\n",
    "    else:\n",
    "        words = contents.split()\n",
    "        num_words = len(words)\n",
    "        print(f\"The file {filename} has about {num_words} words.\")\n",
    "        \n",
    "filenames = ['alice.txt','siddhartha.txt','moby_dick.txt','little_women.txt']\n",
    "for filename in filenames:\n",
    "    count_words(filename)"
   ]
  },
  {
   "cell_type": "markdown",
   "metadata": {},
   "source": [
    "### The `try-except-else-finally` statement\n",
    "\n",
    "The `finally` clause will be executed at the end of the `try-except` block no matter what – if there is no exception, if an exception is raised and handled, if an exception is raised and not handled, and even if we exit the block using `break`, `continue` or `return`. We can use the `finally` clause for cleanup code that we always want to be executed:"
   ]
  },
  {
   "cell_type": "code",
   "execution_count": 15,
   "metadata": {},
   "outputs": [
    {
     "name": "stdout",
     "output_type": "stream",
     "text": [
      "Please enter your age: Hello\n",
      "Hey, that wasn't a number!\n",
      "It was really nice talking to you.  Goodbye!\n"
     ]
    }
   ],
   "source": [
    "try:\n",
    "    age = int(input(\"Please enter your age: \"))\n",
    "except ValueError:\n",
    "    print(\"Hey, that wasn't a number!\")\n",
    "else:\n",
    "    print(\"I see that you are %d years old.\" % age)\n",
    "finally:\n",
    "    print(\"It was really nice talking to you.  Goodbye!\")"
   ]
  },
  {
   "cell_type": "markdown",
   "metadata": {},
   "source": [
    "## Storing your data\n",
    "\n",
    "You might allow users to store preferences in a game or provide data for a visualisation. Whatever the focus of your program is, you'll store the information users provide in data structures such as lists and dictionaries. A simple way to do this involves storing your data using the `json` module.\n",
    "\n",
    "The `json` module allows you to dump simple Python data structures into a file via JSON (JavaScript Object Notation) data format and load the data from that file the next time the program runs. The JSON data format is not specific to Python and its a useful and portable format, so you can work on JSON format with many other programming languages and systems.\n",
    "\n",
    "### Using `json.dump()` and `json.load()`\n",
    "\n",
    "Let's demonstrate a program that retrieve username from a json file and if the file doesn't exist, it will instead ask for user input and save the data in a json file:"
   ]
  },
  {
   "cell_type": "code",
   "execution_count": 17,
   "metadata": {},
   "outputs": [
    {
     "name": "stdout",
     "output_type": "stream",
     "text": [
      "What is your name? Colin\n",
      "We'll remember you when you come back, Colin!\n"
     ]
    }
   ],
   "source": [
    "import json\n",
    "\n",
    "filename = 'username.json'\n",
    "\n",
    "try:\n",
    "    with open(filename) as f:\n",
    "        username = json.load(f)\n",
    "except FileNotFoundError:\n",
    "    username = input(\"What is your name? \")\n",
    "    with open(filename, 'w') as f:\n",
    "        json.dump(username, f)\n",
    "        print(f\"We'll remember you when you come back, {username}!\")\n",
    "else:\n",
    "    print(f\"Welcome back, {username}!\")"
   ]
  },
  {
   "cell_type": "markdown",
   "metadata": {},
   "source": [
    "### Refactoring\n",
    "\n",
    "Often, you'll come to a point where your code will work, but you'll recognise that you could improve the code by breaking it up into a series of functions that have specific jobs. This process is called *refactoring* - it makes your code cleaner, easier to understand, and easier to extend. We can refactor the above example by moving the bulk of its logic into one or more functions. "
   ]
  },
  {
   "cell_type": "code",
   "execution_count": 18,
   "metadata": {},
   "outputs": [
    {
     "name": "stdout",
     "output_type": "stream",
     "text": [
      "Welcome back, Colin!\n"
     ]
    }
   ],
   "source": [
    "import json\n",
    "\n",
    "def get_stored_username():\n",
    "    \"\"\"Get stored username if available.\"\"\"\n",
    "    filename = 'username.json'\n",
    "    try:\n",
    "        with open(filename) as f:\n",
    "            username = json.load(f)\n",
    "    except FileNotFoundError:\n",
    "        return None\n",
    "    else:\n",
    "        return username\n",
    "\n",
    "def get_new_username():\n",
    "    \"\"\"Prompt for a new username.\"\"\"\n",
    "    username = input(\"What is your name? \")\n",
    "    filename = 'username.json'\n",
    "    with open(filename, 'w') as f:\n",
    "        json.dump(username, f)\n",
    "    return username\n",
    "    \n",
    "def greet_user():\n",
    "    \"\"\"Greet the user by name\"\"\"\n",
    "    username = get_stored_username()\n",
    "    if username:\n",
    "        print(f\"Welcome back, {username}!\")\n",
    "    else:\n",
    "        username = get_new_username()\n",
    "        print(f\"We'll remember you when you come back, {username}!\")\n",
    "            \n",
    "greet_user()    "
   ]
  },
  {
   "cell_type": "markdown",
   "metadata": {},
   "source": [
    "Each function in this version now has a single, clear purpose. This compartmentalisation of work is an essential part of writing clear code that will be easy to maintain and extend.\n",
    "\n",
    "Next up, we'll touch on the last lesson - [how to test your code](https://github.com/colintwh/python-basics/blob/master/testcode.ipynb)"
   ]
  }
 ],
 "metadata": {
  "kernelspec": {
   "display_name": "Python 3",
   "language": "python",
   "name": "python3"
  },
  "language_info": {
   "codemirror_mode": {
    "name": "ipython",
    "version": 3
   },
   "file_extension": ".py",
   "mimetype": "text/x-python",
   "name": "python",
   "nbconvert_exporter": "python",
   "pygments_lexer": "ipython3",
   "version": "3.8.5"
  }
 },
 "nbformat": 4,
 "nbformat_minor": 4
}
