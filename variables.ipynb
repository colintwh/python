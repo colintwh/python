{
 "cells": [
  {
   "cell_type": "markdown",
   "metadata": {},
   "source": [
    "# Variables, Data Types and Scope\n",
    "\n",
    "---\n",
    "   Variable is a label for a location in memory and it is used to hold a value. In statically typed languages, variables have predetermined types, and a variable can only be used to hold values of that type. In Python however, we may reuse the same variable to store values of any type.\n",
    "\n",
    "   A variable is similar to the memory functionality found in most calculators, in that it holds one value which can be retrieved many times, and that storing a new value erases the old. A variable differs from a calculator’s memory in that one can have many variables storing different values, and that each variable is referred to by name.\n",
    "\n",
    "### Defining variables\n",
    "  To define a new variable in Python, we simply assign a value to a label. This is how we create a variable called `count`, which contains the specified integer value:"
   ]
  },
  {
   "cell_type": "code",
   "execution_count": 1,
   "metadata": {},
   "outputs": [
    {
     "name": "stdout",
     "output_type": "stream",
     "text": [
      "1\n"
     ]
    }
   ],
   "source": [
    "count = 1\n",
    "print(count)"
   ]
  },
  {
   "cell_type": "markdown",
   "metadata": {},
   "source": [
    "   We can also define several variables in one line:"
   ]
  },
  {
   "cell_type": "code",
   "execution_count": 2,
   "metadata": {},
   "outputs": [],
   "source": [
    "# Define three variables at once:\n",
    "count, result, total = 0, 0, 0\n",
    "\n",
    "# This is equivalent to:\n",
    "count = 0\n",
    "result = 0\n",
    "total = 0"
   ]
  },
  {
   "cell_type": "markdown",
   "metadata": {},
   "source": [
    "### Naming and Using Variables\n",
    "   When using variables in Python, you need to adhere to a few rules and guidelines. Breaking some of these rules will cause errors; guidelines just help you to write code that's easier to read and understand.\n",
    "   + Trying to access the value of a variable which **hasn't been defined anywhere yet** will result in a **name error**.\n",
    "   + Variables names can contain only **letters**, **numbers**, and **underscores**. They can start with a letter or an underscore, but not with a number. For example, *message_1* is acceptable but not *1_message*.\n",
    "   + **Spaces are not allowed** in variable names, but **underscores can be used** to separate words in variable names. For instance, *greeting_message*.\n",
    "   + Avoid using Python keywords and function names. There are words that Python has reserved for a particular programmatic purpose, such as the word *print*.\n",
    "   + Variable names should be short but descriptive. For example, *name* vs *n*; *name_length* as opposed to *length_of_persons_name*.\n",
    "   + Be careful when using the lowercase letter *l* and the uppercase letter *O* - they can be confused with the numbers *1* and *0*."
   ]
  },
  {
   "cell_type": "markdown",
   "metadata": {},
   "source": [
    "## The assignment operator\n",
    "\n",
    "   As we saw earlier, the assignment operator in Python is a single equals sign `=`. This operator assigns the value on the right hand side to the variable on the left hand side, sometimes creating the variable first. If the right hand side is an expression (such as an arithmetic expression), it will be evaluated before the assignment occurs. Here are a few examples:"
   ]
  },
  {
   "cell_type": "code",
   "execution_count": 3,
   "metadata": {},
   "outputs": [],
   "source": [
    "count = 5           # count becomes 5\n",
    "count = total       # count becomes the value of total\n",
    "count = total + 5   # count becomes the value of total + 5\n",
    "count = count + 1   # count becomes the value of a_number + 1"
   ]
  },
  {
   "cell_type": "markdown",
   "metadata": {},
   "source": [
    "   The last statement might look a bit strange if we were to interpret `=` as a mathematical equals sign. But remember that `=` is an assignment operator – this statement is assigning a new value to the variable `count` which is equal to the old value of `count` plus one. This is useful when we might want to keep track of how many times a certain event occurs.\n",
    "   \n",
    "   This is in fact a very common operation. Python has a shorthand operator, `+=`, which lets us express it more cleanly, without having to write the name of the variable twice:"
   ]
  },
  {
   "cell_type": "code",
   "execution_count": 4,
   "metadata": {},
   "outputs": [],
   "source": [
    "# These statements mean exactly the same thing:\n",
    "count = count + 1\n",
    "count += 1\n",
    "\n",
    "# We can increment a variable by any number we like.\n",
    "count += 2\n",
    "count += 7\n",
    "count += result + total"
   ]
  },
  {
   "cell_type": "markdown",
   "metadata": {},
   "source": [
    "   There is a similar operator, `-=`, which lets us decrement numbers:"
   ]
  },
  {
   "cell_type": "code",
   "execution_count": 5,
   "metadata": {},
   "outputs": [],
   "source": [
    "# These statements mean exactly the same thing:\n",
    "count = count - 3\n",
    "count -= 3"
   ]
  },
  {
   "cell_type": "markdown",
   "metadata": {},
   "source": [
    "   Other common compound assignment operators are given in the table below:\n",
    "   \n",
    "   **Operator** | **Example** | **Equivalent to**\n",
    "   --- | --- |  --- \n",
    "   `+=`  | `x += 5`  | `x = x + 5`\n",
    "   `-=`  | `x -= 5`  | `x = x - 5`\n",
    "   `*=`  | `x *= 5`  | `x = x * 5`\n",
    "   `/=`  | `x /= 5`  | `x = x / 5`\n",
    "   `%=`  | `x %= 5`  | `x = x % 5`\n",
    "   `//=` | `x //= 5` | `x = x // 5`\n",
    "   `**=` | `x **= 5` | `x = x ** 5`\n",
    "   `&=`  | `x &= 5`  | `x = x & 5`\n",
    "   `^=`  | `x ^= 5`  | `x = x ^ 5`\n",
    "   `>>=` | `x >>= 5` | `x = x >> 5`\n",
    "   `<<=` | `x <<= 5` | `x = x << 5`"
   ]
  },
  {
   "cell_type": "markdown",
   "metadata": {},
   "source": [
    "   An assignment statement may have multiple targets separated by equals signs. The expression on the right hand side of the last equals sign will be assigned to all the targets. All the targets must be valid:"
   ]
  },
  {
   "cell_type": "code",
   "execution_count": 6,
   "metadata": {},
   "outputs": [],
   "source": [
    "# both a and b will be set to zero:\n",
    "a = b = 0"
   ]
  },
  {
   "cell_type": "code",
   "execution_count": 7,
   "metadata": {},
   "outputs": [
    {
     "ename": "SyntaxError",
     "evalue": "can't assign to literal (<ipython-input-7-c0928f134f1a>, line 2)",
     "output_type": "error",
     "traceback": [
      "\u001b[0;36m  File \u001b[0;32m\"<ipython-input-7-c0928f134f1a>\"\u001b[0;36m, line \u001b[0;32m2\u001b[0m\n\u001b[0;31m    a = 0 = b\u001b[0m\n\u001b[0m       ^\u001b[0m\n\u001b[0;31mSyntaxError\u001b[0m\u001b[0;31m:\u001b[0m can't assign to literal\n"
     ]
    }
   ],
   "source": [
    "# this is illegal, because we can't set 0 to b:\n",
    "a = 0 = b"
   ]
  },
  {
   "cell_type": "markdown",
   "metadata": {},
   "source": [
    "## Strings\n",
    "   We can also assign a *string* value to a variable. A *string* is a series of characters. Anything inside quotes is considered a string in Python. You can use single or double quotes around your strings like this:"
   ]
  },
  {
   "cell_type": "code",
   "execution_count": 8,
   "metadata": {},
   "outputs": [
    {
     "name": "stdout",
     "output_type": "stream",
     "text": [
      "This is a string.\n",
      "This is also a string.\n"
     ]
    }
   ],
   "source": [
    "message = \"This is a string.\" \n",
    "print(message)\n",
    "\n",
    "# we can also print the string directly without assigning it to a variable\n",
    "print('This is also a string.')"
   ]
  },
  {
   "cell_type": "markdown",
   "metadata": {},
   "source": [
    "   This flexibility allows you to use quotes and apostrophes within your strings:"
   ]
  },
  {
   "cell_type": "code",
   "execution_count": 9,
   "metadata": {},
   "outputs": [
    {
     "name": "stdout",
     "output_type": "stream",
     "text": [
      "I told my friend, \"Python is my favourite language!\"\n",
      "The language 'Python' is named after Monty Python, not the snake.\n",
      "One of Python's strengths is its diverse and supportive community.\n"
     ]
    }
   ],
   "source": [
    "a = 'I told my friend, \"Python is my favourite language!\"'\n",
    "b = \"The language 'Python' is named after Monty Python, not the snake.\"\n",
    "c = \"One of Python's strengths is its diverse and supportive community.\"\n",
    "\n",
    "print(a)\n",
    "print(b)\n",
    "print(c)"
   ]
  },
  {
   "cell_type": "markdown",
   "metadata": {},
   "source": [
    "### Using Variables in Strings\n",
    "\n",
    "   In some situations, you'll want to use a variable's value inside a string. To insert a variable's value into a string, use f-strings by placing the letter `f` immediately before the opening quotation marks. For example, you might want two variables to represent a first name and last name respectively, and then want to combine those values to display someone's full name:"
   ]
  },
  {
   "cell_type": "code",
   "execution_count": 10,
   "metadata": {},
   "outputs": [
    {
     "name": "stdout",
     "output_type": "stream",
     "text": [
      "John Doe\n",
      "Hello, John Doe!\n",
      "Hello, John Doe!\n"
     ]
    }
   ],
   "source": [
    "first_name = 'John'\n",
    "last_name = 'Doe'\n",
    "\n",
    "full_name = f'{first_name} {last_name}'  # an f-string\n",
    "print(full_name)\n",
    "\n",
    "# You can also use f-strings to compose a message with variables in it.\n",
    "print(f'Hello, {full_name}!')\n",
    "\n",
    "# This is another simpler approach, using the format() method, to achieve the same result:\n",
    "print('Hello, {} {}!'.format(first_name, last_name))"
   ]
  },
  {
   "cell_type": "markdown",
   "metadata": {},
   "source": [
    "   **Note**: F-strings were introduced in Python 3.6. If you're using Python 3.5 or earlier, you'll need to use the `format()` method. "
   ]
  },
  {
   "cell_type": "markdown",
   "metadata": {},
   "source": [
    "### Adding Whitespace to Strings with Tabs or Newlines\n",
    "   In programming, *whitespace* refers to any nonprinting character, such as spaces, tabs, and end-of-line symbols. You can use whitespace to organize your output so it's easier for users to read. "
   ]
  },
  {
   "cell_type": "code",
   "execution_count": 11,
   "metadata": {},
   "outputs": [
    {
     "name": "stdout",
     "output_type": "stream",
     "text": [
      "Python\n",
      "\tPython\n",
      "\n",
      "Languages:\n",
      "Python\n",
      "C\n",
      "JavaScript\n"
     ]
    }
   ],
   "source": [
    "# This is a string without whitespace\n",
    "print(\"Python\")\n",
    "\n",
    "# This adds a tab (\\t) to the text\n",
    "print(\"\\tPython\")\n",
    "\n",
    "# This adds newlines (\\n) to the text\n",
    "print(\"\\nLanguages:\\nPython\\nC\\nJavaScript\")"
   ]
  },
  {
   "cell_type": "markdown",
   "metadata": {},
   "source": [
    "### Stripping whitespace\n",
    "   Extra whitespace can create confusion in your programs. To a programmer, *'python'* and *'python '* look pretty much the same when printed. But to a program, they are two different strings. Python detects the extra space in *'python '* and considers it significant unless you tell it otherwise.\n",
    "\n",
    "   Fortunately, Python makes it easy to eliminate extraneous whitespace from data that people enter. For example, you can remove extra whitespace on either the right or left sides, or even both, of a string using the following methods:"
   ]
  },
  {
   "cell_type": "code",
   "execution_count": 12,
   "metadata": {},
   "outputs": [
    {
     "name": "stdout",
     "output_type": "stream",
     "text": [
      "This 'Python  ' has been stripped of whitespace on the left.\n",
      "This '  Python' has been stripped of whitespace on the right.\n",
      "This 'Python' has been stripped of whitespace on both sides.\n"
     ]
    }
   ],
   "source": [
    "a = b = c = '  Python  '\n",
    "\n",
    "a = a.lstrip()   # remove whitespace on left side of the string\n",
    "b = b.rstrip()   # remove whitespace on right side of the string\n",
    "c = c.strip()    # remove whitespace on both sides of the string\n",
    "\n",
    "print(f'This \\'{a}\\' has been stripped of whitespace on the left.')\n",
    "print(f'This \\'{b}\\' has been stripped of whitespace on the right.')\n",
    "print(f'This \\'{c}\\' has been stripped of whitespace on both sides.')"
   ]
  },
  {
   "cell_type": "markdown",
   "metadata": {},
   "source": [
    "### Changing Case in a String\n",
    "\n",
    "   Python also facilitates simple ways to change the case of the words in a string. You can change a string to all uppercase or all lowercase letters like this:"
   ]
  },
  {
   "cell_type": "code",
   "execution_count": 13,
   "metadata": {},
   "outputs": [
    {
     "name": "stdout",
     "output_type": "stream",
     "text": [
      "HELLO WORLD!\n",
      "hello world!\n"
     ]
    }
   ],
   "source": [
    "message = 'hello world!'\n",
    "\n",
    "print(message.upper())  # change to all uppercase\n",
    "print(message.lower())  # change to all lowercase"
   ]
  },
  {
   "cell_type": "markdown",
   "metadata": {},
   "source": [
    "   Notice that I have applied changing of case methods directly on the variable *message* within the print() method. This is done without modifying the original value of the variable while changing the case of the words in my text output.\n",
    "   \n",
    "   You can also convert each word to begin with a capital letter in a string like this:"
   ]
  },
  {
   "cell_type": "code",
   "execution_count": 14,
   "metadata": {},
   "outputs": [
    {
     "name": "stdout",
     "output_type": "stream",
     "text": [
      "Hello World!\n"
     ]
    }
   ],
   "source": [
    "print(message.title())  # change each word to begin with a capital letter"
   ]
  },
  {
   "cell_type": "markdown",
   "metadata": {},
   "source": [
    "## Numbers\n",
    "   \n",
    "   In the earlier sections above, you have already seen how we have used Python to assign variable values using integers. Numbers are used quite often in programming to keep score in games, represent data in visualisations and so on. You can add `+`, subtract `-`, multiply `*`, and divide `/` integers in Python like this:"
   ]
  },
  {
   "cell_type": "code",
   "execution_count": 15,
   "metadata": {},
   "outputs": [
    {
     "data": {
      "text/plain": [
       "1.5"
      ]
     },
     "execution_count": 15,
     "metadata": {},
     "output_type": "execute_result"
    }
   ],
   "source": [
    "2 + 3   # 5\n",
    "3 - 2   # 1\n",
    "2 * 3   # 6\n",
    "3 / 2   # 1.5"
   ]
  },
  {
   "cell_type": "markdown",
   "metadata": {},
   "source": [
    "Exponents can be represented using two multiplication symbols `**`:"
   ]
  },
  {
   "cell_type": "code",
   "execution_count": 16,
   "metadata": {},
   "outputs": [
    {
     "data": {
      "text/plain": [
       "1000000"
      ]
     },
     "execution_count": 16,
     "metadata": {},
     "output_type": "execute_result"
    }
   ],
   "source": [
    "10 ** 6"
   ]
  },
  {
   "cell_type": "markdown",
   "metadata": {},
   "source": [
    "Floor division `//` results into whole number adjusted to the left in the number line. A modulus `%` returns the remainder of the division of left operand by the right"
   ]
  },
  {
   "cell_type": "code",
   "execution_count": 17,
   "metadata": {},
   "outputs": [
    {
     "data": {
      "text/plain": [
       "1"
      ]
     },
     "execution_count": 17,
     "metadata": {},
     "output_type": "execute_result"
    }
   ],
   "source": [
    "7 // 3  # 2\n",
    "7 % 3   # 1"
   ]
  },
  {
   "cell_type": "markdown",
   "metadata": {},
   "source": [
    "Python supports the order of operations as well. You can use parentheses to modify the order of operations so Python can evaluate your expression in the order you specify. For example:"
   ]
  },
  {
   "cell_type": "code",
   "execution_count": 18,
   "metadata": {},
   "outputs": [
    {
     "name": "stdout",
     "output_type": "stream",
     "text": [
      "14\n",
      "20\n"
     ]
    }
   ],
   "source": [
    "a = 2 + 3 * 4    # multiply 3 by 4 first (=12), followed by adding of that result to 2 (=14)\n",
    "b = (2 + 3) * 4  # add 3 to 2 first (=5), followed by multiplying that result by 4 (=20)\n",
    "print(a)\n",
    "print(b)"
   ]
  },
  {
   "cell_type": "markdown",
   "metadata": {},
   "source": [
    "### Floats\n",
    "Python calls any number with a decimal point a *float*. For the most part, you can use decimals without worrying about how they behave. "
   ]
  },
  {
   "cell_type": "code",
   "execution_count": 19,
   "metadata": {},
   "outputs": [
    {
     "data": {
      "text/plain": [
       "0.4"
      ]
     },
     "execution_count": 19,
     "metadata": {},
     "output_type": "execute_result"
    }
   ],
   "source": [
    "0.1 + 0.1  # 0.2\n",
    "0.2 + 0.2  # 0.4\n",
    "2 * 0.1    # 0.2\n",
    "2 * 0.2    # 0.4"
   ]
  },
  {
   "cell_type": "markdown",
   "metadata": {},
   "source": [
    "   Be careful that you can sometimes get an arbitrary number of decimal places in your calculations:"
   ]
  },
  {
   "cell_type": "code",
   "execution_count": 20,
   "metadata": {},
   "outputs": [
    {
     "data": {
      "text/plain": [
       "0.30000000000000004"
      ]
     },
     "execution_count": 20,
     "metadata": {},
     "output_type": "execute_result"
    }
   ],
   "source": [
    "0.2 + 0.1  # 0.30000000000000004\n",
    "3 * 0.1    # 0.30000000000000004"
   ]
  },
  {
   "cell_type": "markdown",
   "metadata": {},
   "source": [
    "   This could happen in many languages. Python tries to find a way to represent the result as precisely as possible, which sometimes lead to results like the one above given how computers have to represent numbers internally."
   ]
  },
  {
   "cell_type": "code",
   "execution_count": 21,
   "metadata": {},
   "outputs": [
    {
     "data": {
      "text/plain": [
       "0.9"
      ]
     },
     "execution_count": 21,
     "metadata": {},
     "output_type": "execute_result"
    }
   ],
   "source": [
    "0.4 + 0.5"
   ]
  },
  {
   "cell_type": "markdown",
   "metadata": {},
   "source": [
    "### Integers and Floats\n",
    "   When you divide any two numbers, even if they are integers that result in a whole number, you'll always get a float. If you mix an integer and a float in any other operations, you'll get a float as well:"
   ]
  },
  {
   "cell_type": "code",
   "execution_count": 22,
   "metadata": {},
   "outputs": [
    {
     "data": {
      "text/plain": [
       "9.0"
      ]
     },
     "execution_count": 22,
     "metadata": {},
     "output_type": "execute_result"
    }
   ],
   "source": [
    "4 / 2      # 2.0\n",
    "\n",
    "# Python defaults to a float in any operations that uses a float\n",
    "1 + 2.0    # 3.0\n",
    "2 * 3.0    # 6.0\n",
    "3.0 ** 2   # 9.0"
   ]
  },
  {
   "cell_type": "markdown",
   "metadata": {},
   "source": [
    "### Underscores in Number\n",
    "\n",
    "   When you're writing long numbers, you can group digits using underscores to make large numbers more readable. Python ignores the underscores when storing these kinds of values. To Python, `1000` is the same as `1_000`, which is the same as `10_00`. This features works for integers and floats, but it's only available in Python 3.6 and later."
   ]
  },
  {
   "cell_type": "code",
   "execution_count": 23,
   "metadata": {},
   "outputs": [
    {
     "name": "stdout",
     "output_type": "stream",
     "text": [
      "14000000000\n",
      "2000\n"
     ]
    }
   ],
   "source": [
    "universe_age = 14_000_000_000\n",
    "print(universe_age)\n",
    "\n",
    "a = 1_000 * 2\n",
    "print(a)"
   ]
  },
  {
   "cell_type": "markdown",
   "metadata": {},
   "source": [
    "### Constants\n",
    "   A *constant* is like a variable whose value stays the same throughout the life of a program. Python doesn't have built-in constant types, but typically Python programmers use all capital letters to indicate a variable should be treated as constant and never be changed like this:"
   ]
  },
  {
   "cell_type": "code",
   "execution_count": 24,
   "metadata": {},
   "outputs": [],
   "source": [
    "MAX_CONNECTIONS = 5000"
   ]
  },
  {
   "cell_type": "markdown",
   "metadata": {},
   "source": [
    "## Mutable and immutable types\n",
    "\n",
    "   Some values in python can be modified, and some cannot. This does not ever mean that we can’t change the value of a variable – but if a variable contains a value of an immutable type, we can only assign it a new value. We cannot alter the existing value in any way.\n",
    "\n",
    "   Integers, floating-point numbers and strings are all immutable types – in all the previous examples, when we changed the values of existing variables we used the assignment operator to assign them new values:"
   ]
  },
  {
   "cell_type": "code",
   "execution_count": 25,
   "metadata": {},
   "outputs": [],
   "source": [
    "a = 3\n",
    "a = 2\n",
    "\n",
    "b = \"jane\"\n",
    "b = \"bob\"\n",
    "\n",
    "# Even this operator doesn’t modify the value of total in-place – it also assigns a new value:\n",
    "total += 4"
   ]
  },
  {
   "cell_type": "markdown",
   "metadata": {},
   "source": [
    "   We haven’t encountered any mutable types yet, but we will use introduce them in later \n",
    "chapters. Lists and dictionaries are mutable, and so are most objects that we are likely to write ourselves:"
   ]
  },
  {
   "cell_type": "code",
   "execution_count": 26,
   "metadata": {},
   "outputs": [
    {
     "name": "stdout",
     "output_type": "stream",
     "text": [
      "[5, 2, 3]\n"
     ]
    }
   ],
   "source": [
    "# this is a list of numbers\n",
    "my_list = [1, 2, 3]\n",
    "my_list[0] = 5 # we can change just the first element of the list\n",
    "print(my_list)\n",
    "\n",
    "class MyClass(object):\n",
    "    pass # this is a very silly class\n",
    "\n",
    "# Now we make a very simple object using our class as a type\n",
    "my_object = MyClass()\n",
    "\n",
    "# We can change the values of attributes on the object\n",
    "my_object.some_property = 42"
   ]
  },
  {
   "cell_type": "markdown",
   "metadata": {},
   "source": [
    "## Type conversion\n",
    "\n",
    "As we write more programs, we will often find that we need to convert data from one type to another, for example from a string to an integer or from an integer to a floating-point number. There are two kinds of type conversions in Python: implicit and explicit conversions.\n",
    "\n",
    "### Implicit conversion\n",
    "\n",
    "Recall from the section about floating-point operators that we can arbitrarily combine integers and floating-point numbers in an arithmetic expression – and that the result of any such expression will always be a floating-point number. This is because Python will convert the integers to floating-point numbers before evaluating the expression. This is an implicit conversion – we don’t have to convert anything ourselves. There is usually no loss of precision when an integer is converted to a floating-point number.\n",
    "\n",
    "For example, the integer `2` will automatically be converted to a floating-point number in the following example:"
   ]
  },
  {
   "cell_type": "code",
   "execution_count": 27,
   "metadata": {},
   "outputs": [
    {
     "data": {
      "text/plain": [
       "float"
      ]
     },
     "execution_count": 27,
     "metadata": {},
     "output_type": "execute_result"
    }
   ],
   "source": [
    "result = 8.5 * 2\n",
    "type(result)"
   ]
  },
  {
   "cell_type": "markdown",
   "metadata": {},
   "source": [
    "   A more complex example:"
   ]
  },
  {
   "cell_type": "code",
   "execution_count": 28,
   "metadata": {},
   "outputs": [
    {
     "data": {
      "text/plain": [
       "float"
      ]
     },
     "execution_count": 28,
     "metadata": {},
     "output_type": "execute_result"
    }
   ],
   "source": [
    "result = 8.5 + 7 // 3 - 2.5\n",
    "type(result)"
   ]
  },
  {
   "cell_type": "markdown",
   "metadata": {},
   "source": [
    "   Python performs operations according to the order of precedence, and decides whether a conversion is needed on a per-operation basis. In our example, `//` has the highest precedence, so it will be processed first. `7` and `3` are both integers and `//` is the integer division operator – the result of this operation is the integer `2`. Now we are left with `8.5 + 2 - 2.5`. The addition and subtraction are at the same level of precedence, so they are evaluated left-to-right, starting with addition. First `2` is converted to the floating-point number `2.0`, and the two floating-point numbers are added, which leaves us with `10.5 - 2.5`. The result of this floating-point subtraction is `2.0`, which is assigned to result."
   ]
  },
  {
   "cell_type": "markdown",
   "metadata": {},
   "source": [
    "### Explicit conversion\n",
    "   Explicit conversion is sometimes also called *casting*. Converting numbers from `float` to `int` will result in a loss of precision. For example, it is not possible to convert 5.834 to an `int` without losing precision. In order to facilitate this, we must explicitly tell Python that we are aware that precision will be lost. For example, we need to tell the compiler to convert a float to an `int` like this:"
   ]
  },
  {
   "cell_type": "code",
   "execution_count": 29,
   "metadata": {},
   "outputs": [
    {
     "name": "stdout",
     "output_type": "stream",
     "text": [
      "5\n"
     ]
    },
    {
     "data": {
      "text/plain": [
       "int"
      ]
     },
     "execution_count": 29,
     "metadata": {},
     "output_type": "execute_result"
    }
   ],
   "source": [
    "i = int(5.834)\n",
    "print(i)\n",
    "type(i)"
   ]
  },
  {
   "cell_type": "markdown",
   "metadata": {},
   "source": [
    "   The `int` function converts a `float` to an `int` by discarding the fractional part – it will always round down! If we want more control over the way in which the number is rounded, we will need to use a different function:"
   ]
  },
  {
   "cell_type": "code",
   "execution_count": 30,
   "metadata": {},
   "outputs": [],
   "source": [
    "# the floor and ceil functions are in the math module\n",
    "import math\n",
    "\n",
    "# ceil returns the closest integer greater than or equal to the number\n",
    "# (so it always rounds up)\n",
    "i = math.ceil(5.834)\n",
    "\n",
    "# floor returns the closest integer less than or equal to the number\n",
    "# (so it always rounds down)\n",
    "i = math.floor(5.834)\n",
    "\n",
    "# round returns the closest integer to the number\n",
    "# (so it rounds up or down)\n",
    "# Note that this is a built-in function -- we don't need to import math to use it.\n",
    "i = round(5.834)"
   ]
  },
  {
   "cell_type": "markdown",
   "metadata": {},
   "source": [
    "### Converting to and from strings\n",
    "   Python seldom performs implicit conversions to and from str – we usually have to convert values explicitly. If we pass a single number (or any other value) to the print function, it will be converted to a string automatically – but if we try to add a number and a string, we will get an error:"
   ]
  },
  {
   "cell_type": "code",
   "execution_count": 31,
   "metadata": {},
   "outputs": [
    {
     "name": "stdout",
     "output_type": "stream",
     "text": [
      "5\n",
      "6.7\n"
     ]
    }
   ],
   "source": [
    "# This is OK\n",
    "print(5)\n",
    "print(6.7)"
   ]
  },
  {
   "cell_type": "code",
   "execution_count": 32,
   "metadata": {},
   "outputs": [
    {
     "ename": "TypeError",
     "evalue": "can only concatenate str (not \"int\") to str",
     "output_type": "error",
     "traceback": [
      "\u001b[0;31m---------------------------------------------------------------------------\u001b[0m",
      "\u001b[0;31mTypeError\u001b[0m                                 Traceback (most recent call last)",
      "\u001b[0;32m<ipython-input-32-f5c97884d940>\u001b[0m in \u001b[0;36m<module>\u001b[0;34m\u001b[0m\n\u001b[1;32m      1\u001b[0m \u001b[0;31m# This is not OK\u001b[0m\u001b[0;34m\u001b[0m\u001b[0;34m\u001b[0m\u001b[0;34m\u001b[0m\u001b[0m\n\u001b[0;32m----> 2\u001b[0;31m \u001b[0mprint\u001b[0m\u001b[0;34m(\u001b[0m\u001b[0;34m\"3\"\u001b[0m \u001b[0;34m+\u001b[0m \u001b[0;36m4\u001b[0m\u001b[0;34m)\u001b[0m\u001b[0;34m\u001b[0m\u001b[0;34m\u001b[0m\u001b[0m\n\u001b[0m",
      "\u001b[0;31mTypeError\u001b[0m: can only concatenate str (not \"int\") to str"
     ]
    }
   ],
   "source": [
    "# This is not OK\n",
    "print(\"3\" + 4)"
   ]
  },
  {
   "cell_type": "code",
   "execution_count": 33,
   "metadata": {},
   "outputs": [
    {
     "name": "stdout",
     "output_type": "stream",
     "text": [
      "34\n",
      "7\n"
     ]
    }
   ],
   "source": [
    "# Do you mean this...\n",
    "print(\"3%d\" % 4) # concatenate \"3\" and \"4\" to get \"34\"\n",
    "\n",
    "# Or this?\n",
    "print(int(\"3\") + 4) # add 3 and 4 to get 7"
   ]
  },
  {
   "cell_type": "markdown",
   "metadata": {},
   "source": [
    "   To convert numbers to strings, we can use string formatting – this is usually the cleanest and most readable way to insert multiple values into a message. If we want to convert a single number to a string, we can also use the `str` function explicitly:"
   ]
  },
  {
   "cell_type": "code",
   "execution_count": 34,
   "metadata": {},
   "outputs": [
    {
     "name": "stdout",
     "output_type": "stream",
     "text": [
      "34\n",
      "34\n"
     ]
    }
   ],
   "source": [
    "# These lines will do the same thing\n",
    "print(\"3%d\" % 4)\n",
    "print(\"3\" + str(4))"
   ]
  },
  {
   "cell_type": "markdown",
   "metadata": {},
   "source": [
    "### More about conversions\n",
    "\n",
    "   In Python, functions like `str`, `int` and `float` will try to convert anything to their respective types – for example, we can use the `int` function to convert strings to integers or to convert floating-point numbers to integers. Note that although `int` can convert a float to an integer it can’t convert a string containing a float to an integer directly!"
   ]
  },
  {
   "cell_type": "code",
   "execution_count": 35,
   "metadata": {},
   "outputs": [
    {
     "data": {
      "text/plain": [
       "3"
      ]
     },
     "execution_count": 35,
     "metadata": {},
     "output_type": "execute_result"
    }
   ],
   "source": [
    "# This is OK\n",
    "int(\"3\")\n",
    "\n",
    "# This is OK\n",
    "int(3.7)"
   ]
  },
  {
   "cell_type": "code",
   "execution_count": 36,
   "metadata": {},
   "outputs": [
    {
     "ename": "ValueError",
     "evalue": "invalid literal for int() with base 10: '3.7'",
     "output_type": "error",
     "traceback": [
      "\u001b[0;31m---------------------------------------------------------------------------\u001b[0m",
      "\u001b[0;31mValueError\u001b[0m                                Traceback (most recent call last)",
      "\u001b[0;32m<ipython-input-36-4f19bab54e24>\u001b[0m in \u001b[0;36m<module>\u001b[0;34m\u001b[0m\n\u001b[1;32m      1\u001b[0m \u001b[0;31m# This is not OK\u001b[0m\u001b[0;34m\u001b[0m\u001b[0;34m\u001b[0m\u001b[0;34m\u001b[0m\u001b[0m\n\u001b[0;32m----> 2\u001b[0;31m \u001b[0mint\u001b[0m\u001b[0;34m(\u001b[0m\u001b[0;34m\"3.7\"\u001b[0m\u001b[0;34m)\u001b[0m \u001b[0;31m# This is a string representation of a float, not an integer!\u001b[0m\u001b[0;34m\u001b[0m\u001b[0;34m\u001b[0m\u001b[0m\n\u001b[0m",
      "\u001b[0;31mValueError\u001b[0m: invalid literal for int() with base 10: '3.7'"
     ]
    }
   ],
   "source": [
    "# This is not OK\n",
    "int(\"3.7\") # This is a string representation of a float, not an integer!"
   ]
  },
  {
   "cell_type": "code",
   "execution_count": 37,
   "metadata": {},
   "outputs": [
    {
     "data": {
      "text/plain": [
       "3"
      ]
     },
     "execution_count": 37,
     "metadata": {},
     "output_type": "execute_result"
    }
   ],
   "source": [
    "# We have to convert the string to a float first\n",
    "int(float(\"3.7\"))"
   ]
  },
  {
   "cell_type": "markdown",
   "metadata": {},
   "source": [
    "### Boolean\n",
    "   Values of type bool can contain the value `True` or `False`. These values are used extensively in conditional statements, which execute or do not execute parts of our program depending on some binary condition:"
   ]
  },
  {
   "cell_type": "code",
   "execution_count": 38,
   "metadata": {},
   "outputs": [
    {
     "name": "stdout",
     "output_type": "stream",
     "text": [
      "Hello World!\n"
     ]
    }
   ],
   "source": [
    "my_flag = True\n",
    "\n",
    "if my_flag:\n",
    "    print(\"Hello World!\")"
   ]
  },
  {
   "cell_type": "markdown",
   "metadata": {},
   "source": [
    "   The condition is often an expression which evaluates to a boolean value like in the example below:"
   ]
  },
  {
   "cell_type": "code",
   "execution_count": 39,
   "metadata": {},
   "outputs": [],
   "source": [
    "if 3 > 4:\n",
    "    print(\"This will not be printed.\")"
   ]
  },
  {
   "cell_type": "markdown",
   "metadata": {},
   "source": [
    "   However, almost any value can implicitly be converted to a boolean if it is used in a statement like this:"
   ]
  },
  {
   "cell_type": "code",
   "execution_count": 40,
   "metadata": {},
   "outputs": [
    {
     "name": "stdout",
     "output_type": "stream",
     "text": [
      "My number is non-zero!\n"
     ]
    }
   ],
   "source": [
    "my_number = 3\n",
    "\n",
    "if my_number:\n",
    "    print(\"My number is non-zero!\")"
   ]
  },
  {
   "cell_type": "markdown",
   "metadata": {},
   "source": [
    "This usually behaves in the way that you would expect: non-zero numbers are `True` values and zero is `False`. However, we need to be careful when using strings – the empty string is treated as `False`, but any other string is `True` – even \"0\" and \"False\"!"
   ]
  },
  {
   "cell_type": "code",
   "execution_count": 41,
   "metadata": {},
   "outputs": [
    {
     "data": {
      "text/plain": [
       "True"
      ]
     },
     "execution_count": 41,
     "metadata": {},
     "output_type": "execute_result"
    }
   ],
   "source": [
    "# bool is a function which converts values to booleans\n",
    "bool(34) # True\n",
    "bool(0) # False\n",
    "bool(1) # True\n",
    "\n",
    "bool(\"\") # False\n",
    "bool(\"Jane\") # True\n",
    "bool(\"0\") # True!\n",
    "bool(\"False\") # Also True!"
   ]
  },
  {
   "cell_type": "code",
   "execution_count": 42,
   "metadata": {},
   "outputs": [
    {
     "data": {
      "text/plain": [
       "True"
      ]
     },
     "execution_count": 42,
     "metadata": {},
     "output_type": "execute_result"
    }
   ],
   "source": [
    "bool(\" \") # String literals with only whitespace evaluates to True"
   ]
  },
  {
   "cell_type": "markdown",
   "metadata": {},
   "source": [
    "## Variable scope and lifetime\n",
    "\n",
    "   Not all variables are accessible from all parts of our program, and not all variables exist for the same amount of time. Where a variable is accessible and how long it exists depend on how it is defined. We call the part of a program where a variable is accessible its **scope**, and the duration for which the variable exists its **lifetime**.\n",
    "\n",
    "   A variable which is defined in the main body of a file is called a **global variable**. It will be visible throughout the file, and also inside any file which imports that file. Global variables can have unintended consequences because of their wide-ranging effects – that is why we should almost never use them. Only objects which are intended to be used globally, like functions and classes, should be put in the global namespace.\n",
    "\n",
    "   A variable which is defined inside a function is local to that function. It is accessible from the point at which it is defined until the end of the function, and exists for as long as the function is executing. The parameter names in the function definition behave like local variables, but they contain the values that we pass into the function when we call it. When we use the assignment operator `=` inside a function, its default behaviour is to create a new local variable – unless a variable with the same name is already defined in the local scope."
   ]
  },
  {
   "cell_type": "code",
   "execution_count": 43,
   "metadata": {},
   "outputs": [
    {
     "name": "stdout",
     "output_type": "stream",
     "text": [
      "7\n",
      "3\n",
      "0\n",
      "1\n"
     ]
    }
   ],
   "source": [
    "# This is a global variable\n",
    "a = 0\n",
    "\n",
    "if a == 0:\n",
    "    # This is still a global variable\n",
    "    b = 1\n",
    "\n",
    "def my_function(c):\n",
    "    # this is a local variable\n",
    "    d = 3\n",
    "    print(c)\n",
    "    print(d)\n",
    "\n",
    "# Now we call the function, passing the value 7 as the first and only parameter\n",
    "my_function(7)\n",
    "\n",
    "# a and b still exist\n",
    "print(a)\n",
    "print(b)"
   ]
  },
  {
   "cell_type": "code",
   "execution_count": 44,
   "metadata": {},
   "outputs": [
    {
     "name": "stdout",
     "output_type": "stream",
     "text": [
      "Python\n"
     ]
    },
    {
     "ename": "NameError",
     "evalue": "name 'd' is not defined",
     "output_type": "error",
     "traceback": [
      "\u001b[0;31m---------------------------------------------------------------------------\u001b[0m",
      "\u001b[0;31mNameError\u001b[0m                                 Traceback (most recent call last)",
      "\u001b[0;32m<ipython-input-44-66cf9ea05d5f>\u001b[0m in \u001b[0;36m<module>\u001b[0;34m\u001b[0m\n\u001b[1;32m      1\u001b[0m \u001b[0;31m# c and d don't exist anymore -- these statements will give us name errors!\u001b[0m\u001b[0;34m\u001b[0m\u001b[0;34m\u001b[0m\u001b[0;34m\u001b[0m\u001b[0m\n\u001b[1;32m      2\u001b[0m \u001b[0mprint\u001b[0m\u001b[0;34m(\u001b[0m\u001b[0mc\u001b[0m\u001b[0;34m)\u001b[0m\u001b[0;34m\u001b[0m\u001b[0;34m\u001b[0m\u001b[0m\n\u001b[0;32m----> 3\u001b[0;31m \u001b[0mprint\u001b[0m\u001b[0;34m(\u001b[0m\u001b[0md\u001b[0m\u001b[0;34m)\u001b[0m\u001b[0;34m\u001b[0m\u001b[0;34m\u001b[0m\u001b[0m\n\u001b[0m",
      "\u001b[0;31mNameError\u001b[0m: name 'd' is not defined"
     ]
    }
   ],
   "source": [
    "# c and d don't exist anymore -- these statements will give us name errors!\n",
    "print(c)\n",
    "print(d)"
   ]
  },
  {
   "cell_type": "markdown",
   "metadata": {},
   "source": [
    "### More about scope: crossing boundaries\n",
    "\n",
    "   What if we want to access a global variable from inside a function? It is possible, but doing so comes with a few caveats:"
   ]
  },
  {
   "cell_type": "code",
   "execution_count": 45,
   "metadata": {},
   "outputs": [
    {
     "name": "stdout",
     "output_type": "stream",
     "text": [
      "0\n"
     ]
    }
   ],
   "source": [
    "a = 0\n",
    "\n",
    "def my_function():\n",
    "    print(a)\n",
    "\n",
    "my_function()"
   ]
  },
  {
   "cell_type": "markdown",
   "metadata": {},
   "source": [
    "   This code below, however, behaves differently from the above program. When we call the function, the print statement inside outputs 3 – but the print statement at the end of the program output 0:"
   ]
  },
  {
   "cell_type": "code",
   "execution_count": 46,
   "metadata": {},
   "outputs": [
    {
     "name": "stdout",
     "output_type": "stream",
     "text": [
      "3\n",
      "0\n"
     ]
    }
   ],
   "source": [
    "a = 0\n",
    "\n",
    "def my_function():\n",
    "    a = 3\n",
    "    print(a)\n",
    "\n",
    "my_function()\n",
    "\n",
    "print(a)"
   ]
  },
  {
   "cell_type": "markdown",
   "metadata": {},
   "source": [
    "   By default, the assignment statement creates variables in the local scope. So the assignment inside the function does not modify the global variable a – it creates a new local variable called a, and assigns the value 3 to that variable. The first print statement outputs the value of the new local variable – because if a local variable has the same name as a global variable the local variable will always take precedence. The last print statement prints out the global variable, which has remained unchanged.\n",
    "\n",
    "What if we really want to modify a global variable from inside a function? We can use the `global` keyword:"
   ]
  },
  {
   "cell_type": "code",
   "execution_count": 47,
   "metadata": {},
   "outputs": [
    {
     "name": "stdout",
     "output_type": "stream",
     "text": [
      "3\n",
      "3\n"
     ]
    }
   ],
   "source": [
    "a = 0\n",
    "\n",
    "def my_function():\n",
    "    global a\n",
    "    a = 3\n",
    "    print(a)\n",
    "\n",
    "my_function()\n",
    "\n",
    "print(a)"
   ]
  },
  {
   "cell_type": "markdown",
   "metadata": {},
   "source": [
    "   We may not refer to both a global variable and a local variable by the same name inside the same function. This program will give us an error:"
   ]
  },
  {
   "cell_type": "code",
   "execution_count": 48,
   "metadata": {},
   "outputs": [
    {
     "ename": "UnboundLocalError",
     "evalue": "local variable 'a' referenced before assignment",
     "output_type": "error",
     "traceback": [
      "\u001b[0;31m---------------------------------------------------------------------------\u001b[0m",
      "\u001b[0;31mUnboundLocalError\u001b[0m                         Traceback (most recent call last)",
      "\u001b[0;32m<ipython-input-48-1db3abec19a4>\u001b[0m in \u001b[0;36m<module>\u001b[0;34m\u001b[0m\n\u001b[1;32m      6\u001b[0m     \u001b[0mprint\u001b[0m\u001b[0;34m(\u001b[0m\u001b[0ma\u001b[0m\u001b[0;34m)\u001b[0m\u001b[0;34m\u001b[0m\u001b[0;34m\u001b[0m\u001b[0m\n\u001b[1;32m      7\u001b[0m \u001b[0;34m\u001b[0m\u001b[0m\n\u001b[0;32m----> 8\u001b[0;31m \u001b[0mmy_function\u001b[0m\u001b[0;34m(\u001b[0m\u001b[0;34m)\u001b[0m\u001b[0;34m\u001b[0m\u001b[0;34m\u001b[0m\u001b[0m\n\u001b[0m",
      "\u001b[0;32m<ipython-input-48-1db3abec19a4>\u001b[0m in \u001b[0;36mmy_function\u001b[0;34m()\u001b[0m\n\u001b[1;32m      2\u001b[0m \u001b[0;34m\u001b[0m\u001b[0m\n\u001b[1;32m      3\u001b[0m \u001b[0;32mdef\u001b[0m \u001b[0mmy_function\u001b[0m\u001b[0;34m(\u001b[0m\u001b[0;34m)\u001b[0m\u001b[0;34m:\u001b[0m\u001b[0;34m\u001b[0m\u001b[0;34m\u001b[0m\u001b[0m\n\u001b[0;32m----> 4\u001b[0;31m     \u001b[0mprint\u001b[0m\u001b[0;34m(\u001b[0m\u001b[0ma\u001b[0m\u001b[0;34m)\u001b[0m\u001b[0;34m\u001b[0m\u001b[0;34m\u001b[0m\u001b[0m\n\u001b[0m\u001b[1;32m      5\u001b[0m     \u001b[0ma\u001b[0m \u001b[0;34m=\u001b[0m \u001b[0;36m3\u001b[0m\u001b[0;34m\u001b[0m\u001b[0;34m\u001b[0m\u001b[0m\n\u001b[1;32m      6\u001b[0m     \u001b[0mprint\u001b[0m\u001b[0;34m(\u001b[0m\u001b[0ma\u001b[0m\u001b[0;34m)\u001b[0m\u001b[0;34m\u001b[0m\u001b[0;34m\u001b[0m\u001b[0m\n",
      "\u001b[0;31mUnboundLocalError\u001b[0m: local variable 'a' referenced before assignment"
     ]
    }
   ],
   "source": [
    "a = 0\n",
    "\n",
    "def my_function():\n",
    "    print(a)\n",
    "    a = 3\n",
    "    print(a)\n",
    "\n",
    "my_function()"
   ]
  },
  {
   "cell_type": "markdown",
   "metadata": {},
   "source": [
    "   Because we haven’t declared `a` to be global, the assignment in the second line of the function will create a local variable `a`. This means that we can’t refer to the global variable `a` elsewhere in the function, even before this line! The first print statement now refers to the local variable `a` – but this variable doesn’t have a value in the first line, because we haven’t assigned it yet!\n",
    "\n",
    "Note that it is usually a **bad practice to access global variables from inside functions**, and even worse practice to modify them. This makes it difficult to arrange our program into logically encapsulated parts which do not affect each other in unexpected ways. If a function needs to access some external value, we should pass the value into the function as a parameter. If the function is a method of an object, it is sometimes appropriate to make the value an attribute of the same object"
   ]
  }
 ],
 "metadata": {
  "kernelspec": {
   "display_name": "Python 3",
   "language": "python",
   "name": "python3"
  },
  "language_info": {
   "codemirror_mode": {
    "name": "ipython",
    "version": 3
   },
   "file_extension": ".py",
   "mimetype": "text/x-python",
   "name": "python",
   "nbconvert_exporter": "python",
   "pygments_lexer": "ipython3",
   "version": "3.7.6"
  }
 },
 "nbformat": 4,
 "nbformat_minor": 4
}
