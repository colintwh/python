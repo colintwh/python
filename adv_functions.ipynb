{
 "cells": [
  {
   "cell_type": "markdown",
   "metadata": {},
   "source": [
    "# More about Functions\n",
    "\n",
    "---\n",
    "\n",
    "Python allows a function to collect an arbitrary number of arguments. We can put `*` (asterisk) before a parameter name to indicate that it is a variable-length tuple of positional parameters, and we can use `**` to indicate that a parameter is a variable-length dictionary of keyword parameters. \n",
    "\n",
    "By convention, the parameter name we use for non-specific tuple is *args* and the name we use for non-specific dictionary is *kwargs* but it is not necessary to write *args* or *kwargs*. Only the `*` is needed:"
   ]
  },
  {
   "cell_type": "code",
   "execution_count": 1,
   "metadata": {},
   "outputs": [],
   "source": [
    "# conventional naming: *args and **kwargs\n",
    "def print_args(*args):\n",
    "    for arg in args:\n",
    "        print(arg)\n",
    "\n",
    "def print_kwargs(**kwargs):\n",
    "    for k, v in kwargs.items():\n",
    "        print(\"%s: %s\" % (k, v))"
   ]
  },
  {
   "cell_type": "markdown",
   "metadata": {},
   "source": [
    "First, we will look at using a single `*` for function parameter:"
   ]
  },
  {
   "cell_type": "code",
   "execution_count": 2,
   "metadata": {},
   "outputs": [
    {
     "name": "stdout",
     "output_type": "stream",
     "text": [
      "\n",
      "Making a pizza with the following toppings:\n",
      "- pepperoni\n",
      "\n",
      "Making a pizza with the following toppings:\n",
      "- mushrooms\n",
      "- green peppers\n",
      "- extra cheese\n"
     ]
    }
   ],
   "source": [
    "def make_pizza(*toppings):\n",
    "    \"\"\"Summarize the pizza we are about to make.\"\"\"\n",
    "    print(\"\\nMaking a pizza with the following toppings:\")\n",
    "    for topping in toppings:\n",
    "        print(f\"- {topping}\")\n",
    "    \n",
    "make_pizza('pepperoni')\n",
    "make_pizza('mushrooms', 'green peppers', 'extra cheese')"
   ]
  },
  {
   "cell_type": "markdown",
   "metadata": {},
   "source": [
    "The `*` in the parameter `*toppings` tells Python to make an empty tuple called `toppings` and pack whatever values it receives into this tuple. Even if the function receives only one value, Python still packs that one value into a tuple. Thus the function performs its task appropriately, whether it it receives one value or three values.\n",
    "\n",
    "Next up is on using `**` for the parameter:"
   ]
  },
  {
   "cell_type": "code",
   "execution_count": 3,
   "metadata": {},
   "outputs": [
    {
     "name": "stdout",
     "output_type": "stream",
     "text": [
      "first_name: albert\n",
      "last_name: einstein\n",
      "location: princeton\n",
      "field: physics\n",
      "\n",
      "...profile generated!\n"
     ]
    }
   ],
   "source": [
    "def build_profile(**user_info):\n",
    "    \"\"\"Build a dictionary containing everything we know about a user.\"\"\"\n",
    "    for attrib, value in user_info.items():\n",
    "        print(\"%s: %s\" % (attrib, value))\n",
    "    print(f\"\\n...profile generated!\")\n",
    "    return user_info\n",
    "\n",
    "albert_profile = build_profile(first_name = 'albert',\n",
    "                               last_name = 'einstein',\n",
    "                               location = 'princeton',\n",
    "                               field = 'physics')"
   ]
  },
  {
   "cell_type": "markdown",
   "metadata": {},
   "source": [
    "The `**` before the parameter `**user_info` gets Python to create an empty dictionary called `user_info` and pack whatever name-value pairs it receives into this dictionary. Within the function, you can access the key-value pairs in `user_info` joust as you would for any dictionary. "
   ]
  },
  {
   "cell_type": "markdown",
   "metadata": {},
   "source": [
    "## Mixing Positional and Arbitrary Arguments\n",
    "\n",
    "You can also mix ordinary and arbitrary (the `*args` and `**kwargs`) parameters in the same function definition, but the arbitrary parameters **must be placed last** in the function definition. Note that you cannot have more than one variable-length parameter (i.e. `*args`) or more than one variable dict parameter (i.e `**kwargs`) in the function definition:"
   ]
  },
  {
   "cell_type": "code",
   "execution_count": 4,
   "metadata": {},
   "outputs": [],
   "source": [
    "def print_everything(name, time=\"morning\", *args, **kwargs):\n",
    "    print(\"Good %s, %s.\" % (time, name))\n",
    "\n",
    "    for arg in args:\n",
    "        print(arg)\n",
    "\n",
    "    for k, v in kwargs.items():\n",
    "        print(\"%s: %s\" % (k, v))"
   ]
  },
  {
   "cell_type": "code",
   "execution_count": 5,
   "metadata": {},
   "outputs": [
    {
     "name": "stdout",
     "output_type": "stream",
     "text": [
      "location: princeton\n",
      "field: physics\n",
      "first_name: albert\n",
      "last_name: einstein\n",
      "\n",
      "...Albert Einstein's profile generated!\n"
     ]
    }
   ],
   "source": [
    "# rewriting build_profile function to pass in names as these are mandatory attributes \n",
    "def build_profile(first, last, **user_info):\n",
    "    \"\"\"Build a dictionary containing everything we know about a user.\"\"\"\n",
    "    \n",
    "    # not forgetting to input the names, which are now provided as separate arguments\n",
    "    user_info['first_name'] = first\n",
    "    user_info['last_name'] = last\n",
    "    \n",
    "    for attrib, value in user_info.items():\n",
    "        print(\"%s: %s\" % (attrib, value))\n",
    "    \n",
    "    # we can use the names passed into the parameters directly\n",
    "    print(f\"\\n...{first.title()} {last.title()}'s profile generated!\")\n",
    "    return user_info\n",
    "\n",
    "albert_profile = build_profile('albert', 'einstein',\n",
    "                               location = 'princeton',\n",
    "                               field = 'physics')"
   ]
  },
  {
   "cell_type": "markdown",
   "metadata": {},
   "source": [
    "A function can return any kind of value you need it to, including lists and dictionaries. For example:"
   ]
  },
  {
   "cell_type": "code",
   "execution_count": 6,
   "metadata": {},
   "outputs": [
    {
     "name": "stdout",
     "output_type": "stream",
     "text": [
      "{'first': 'jimi', 'last': 'hendrix'}\n"
     ]
    }
   ],
   "source": [
    "def build_person(first_name, last_name):\n",
    "    \"\"\"Return a dictionary of information about a person\"\"\"\n",
    "    person = {'first': first_name, 'last': last_name}\n",
    "    return person\n",
    "\n",
    "# dictionary containing keys: first, last; corresponding values: jimi, hendrix\n",
    "musician = build_person('jimi', 'hendrix')\n",
    "print(musician)"
   ]
  },
  {
   "cell_type": "markdown",
   "metadata": {},
   "source": [
    "A function can also return more than one value. Consider this `divide` function:"
   ]
  },
  {
   "cell_type": "code",
   "execution_count": 7,
   "metadata": {},
   "outputs": [
    {
     "name": "stdout",
     "output_type": "stream",
     "text": [
      "quotient: 2 \tremainder: 1\n",
      "Result: (2, 1) \ttype: <class 'tuple'>\n"
     ]
    }
   ],
   "source": [
    "def divide(dividend, divisor):\n",
    "    if not divisor:\n",
    "        return None # instead of dividing by zero\n",
    "    \n",
    "    quotient = dividend // divisor\n",
    "    remainder = dividend % divisor\n",
    "    return quotient, remainder\n",
    "\n",
    "# returns two values, quotient and remainder, which are assigned to variables num_q and num_r respectively.\n",
    "num_q, num_r = divide(5,2)\n",
    "print(f\"quotient: {num_q} \\tremainder: {num_r}\")\n",
    "\n",
    "# if there's only one variable, function returns a tuple instead\n",
    "result = divide(5, 2)\n",
    "print(f\"Result: {result} \\ttype: {type(result)}\")"
   ]
  },
  {
   "cell_type": "markdown",
   "metadata": {},
   "source": [
    "## Lambdas\n",
    "\n",
    "We have seen that we can store a function in a variable, just like any other object, by referring to it by its name (but not calling it). Can we define a function on the fly when we want to pass it as a parameter or assign it to a variable, just like we did with literal string \"Hello!\" when we call `print(\"Hello!\")` ?\n",
    "\n",
    "The answer is yes, but only for very simple functions. We can use the `lambda` keyword to define anonymous, one-line functions inline in our code:"
   ]
  },
  {
   "cell_type": "code",
   "execution_count": 8,
   "metadata": {},
   "outputs": [],
   "source": [
    "a = lambda: 3\n",
    "\n",
    "# is the same as\n",
    "\n",
    "def a():\n",
    "    return 3"
   ]
  },
  {
   "cell_type": "markdown",
   "metadata": {},
   "source": [
    "Lambdas can take parameters – they are written between the `lambda` keyword and the colon, without brackets. A `lambda` function may only contain a single expression, and the result of evaluating this expression is implicitly returned from the function (we don’t use the `return` keyword)."
   ]
  },
  {
   "cell_type": "code",
   "execution_count": 9,
   "metadata": {},
   "outputs": [],
   "source": [
    "b = lambda x, y: x + y\n",
    "\n",
    "# is the same as\n",
    "\n",
    "def b(x, y):\n",
    "    return x + y"
   ]
  },
  {
   "cell_type": "markdown",
   "metadata": {},
   "source": [
    "### `map()` and `lambda`\n",
    "\n",
    "Lambda functions can be used together with Python's built-in functions like `map()`, `filter()` etc. The `map()` function is another built-in function that you'll find it very useful. It basically maps every item in the input iterable to the corresponding item in the output iterable, according to the logic defined by the lambda function."
   ]
  },
  {
   "cell_type": "code",
   "execution_count": 10,
   "metadata": {},
   "outputs": [
    {
     "name": "stdout",
     "output_type": "stream",
     "text": [
      "<map object at 0x7fd1ac2af610>\n",
      "[4, 8, 12, 16]\n"
     ]
    }
   ],
   "source": [
    "some_num = [2,4,6,8]\n",
    "double = map(lambda x: x+x, some_num)\n",
    "\n",
    "print(double)   # This will return object details\n",
    "print(list(double))  # to print actual output we have to use list. "
   ]
  },
  {
   "cell_type": "code",
   "execution_count": 11,
   "metadata": {},
   "outputs": [
    {
     "name": "stdout",
     "output_type": "stream",
     "text": [
      "<map object at 0x7fd1ac2afc70>\n",
      "['MY', 'PYTHON', 'IS', 'GREAT']\n"
     ]
    }
   ],
   "source": [
    "strings = [\"My\", \"python\", 'is', 'GreaT']\n",
    "cap = map(lambda x: str.upper(x), strings)\n",
    "\n",
    "print(cap)\n",
    "print(list(cap))"
   ]
  },
  {
   "cell_type": "markdown",
   "metadata": {},
   "source": [
    "The `filter()` function returns a list of those elements that return `True` when evaluated by the lambda funtion."
   ]
  },
  {
   "cell_type": "code",
   "execution_count": 12,
   "metadata": {},
   "outputs": [
    {
     "data": {
      "text/plain": [
       "[35, 39, 37]"
      ]
     },
     "execution_count": 12,
     "metadata": {},
     "output_type": "execute_result"
    }
   ],
   "source": [
    "attendance = [35,39,32,37,30,33]\n",
    "above_35 = filter(lambda x: x >=35, attendance)\n",
    "list(above_35)"
   ]
  },
  {
   "cell_type": "code",
   "execution_count": 13,
   "metadata": {},
   "outputs": [
    {
     "data": {
      "text/plain": [
       "['India', 'France', 'China', 'Germany']"
      ]
     },
     "execution_count": 13,
     "metadata": {},
     "output_type": "execute_result"
    }
   ],
   "source": [
    "countries = [\"India\", \"US\", \"UK\", \"France\", \"China\", \"Germany\", \"UAE\"]\n",
    "count_grt3 = list(filter(lambda x: len(x) > 3, countries))\n",
    "count_grt3"
   ]
  },
  {
   "cell_type": "markdown",
   "metadata": {},
   "source": [
    "## `reduce` and `lambda` expersion - returns a single value\n",
    "\n",
    "The `reduce()` function in Python takes in a function and a list as argument. The function is called with a lambda function and a list and a new reduced result is returned. This performs a repetitive operation over the pairs of the list. This is a part of `functools` module."
   ]
  },
  {
   "cell_type": "code",
   "execution_count": 14,
   "metadata": {},
   "outputs": [
    {
     "data": {
      "text/plain": [
       "141"
      ]
     },
     "execution_count": 14,
     "metadata": {},
     "output_type": "execute_result"
    }
   ],
   "source": [
    "from functools import reduce\n",
    "\n",
    "nums = [10,20,22,25,29,35]\n",
    "sum_all = reduce(lambda x,y: x+y, nums)\n",
    "sum_all"
   ]
  },
  {
   "cell_type": "code",
   "execution_count": 15,
   "metadata": {},
   "outputs": [
    {
     "name": "stdout",
     "output_type": "stream",
     "text": [
      "35 10\n"
     ]
    }
   ],
   "source": [
    "# Other aggregate functions with lambda\n",
    "max_value = reduce(lambda x,y: max(x,y), nums)\n",
    "min_value = reduce(lambda x,y: min(x,y), nums)\n",
    "\n",
    "print(max_value, min_value)"
   ]
  },
  {
   "cell_type": "markdown",
   "metadata": {},
   "source": [
    "## Working with `if` `if..else` in Lambdas\n",
    "\n",
    "Using if else in lambda function is little tricky, the syntax is as follows:"
   ]
  },
  {
   "cell_type": "code",
   "execution_count": 16,
   "metadata": {},
   "outputs": [
    {
     "data": {
      "text/plain": [
       "55"
      ]
     },
     "execution_count": 16,
     "metadata": {},
     "output_type": "execute_result"
    }
   ],
   "source": [
    "# lambda <arguments> : <Return Value if condition is True> if <condition> else <Return Value if condition is False>\n",
    "nums = [10,20,55,25,29,35]\n",
    "max_value = reduce(lambda x,y: x if x > y else y , nums)\n",
    "max_value"
   ]
  },
  {
   "cell_type": "markdown",
   "metadata": {},
   "source": [
    "## Lambas on nested lists, dictionaries"
   ]
  },
  {
   "cell_type": "code",
   "execution_count": 17,
   "metadata": {},
   "outputs": [
    {
     "data": {
      "text/plain": [
       "[82, 73, 80, 73, 62]"
      ]
     },
     "execution_count": 17,
     "metadata": {},
     "output_type": "execute_result"
    }
   ],
   "source": [
    "# Lamda function on netst list\n",
    "\n",
    "scores = [[1,35,80], [2,32,75], [3,30,82],[4,33,75], [5,37,60]]\n",
    "# Lets assume above is a data of a Student with his ID, Attendance, and Marks in exam.\n",
    "# Here we have to give 2 additional marks if Attendance is more than 35, and if less then reduce marks by 2.\n",
    "\n",
    "avg = 35\n",
    "newmarks = map(lambda x: x[2]+2 if x[1] >= avg else x[2]-2, scores)\n",
    "list(newmarks)"
   ]
  },
  {
   "cell_type": "code",
   "execution_count": 18,
   "metadata": {},
   "outputs": [
    {
     "data": {
      "text/plain": [
       "['India', 'Chine', 'US', 'UK', 'Germany']"
      ]
     },
     "execution_count": 18,
     "metadata": {},
     "output_type": "execute_result"
    }
   ],
   "source": [
    "# Lambda on Dictionaries\n",
    "\n",
    "sales = [\n",
    "            {'country': 'India', 'sale' : 150.5},\n",
    "            {'country': 'Chine', 'sale' : 200.2},\n",
    "            {'country': 'US', 'sale' : 300.3},\n",
    "            {'country': 'UK', 'sale' : 400.6},\n",
    "            {'country': 'Germany', 'sale' : 500.9}\n",
    "        ]\n",
    "\n",
    "# List out the Countries\n",
    "country_key = list(map(lambda x: x['country'], sales))\n",
    "country_key"
   ]
  },
  {
   "cell_type": "markdown",
   "metadata": {},
   "source": [
    "## Revisiting Functions: The stack\n",
    "\n",
    "Python stores information about functions which have been called in a call stack. Whenever a function is called, a new stack frame is added to the stack – all of the function’s parameters are added to it, and as the body of the function is executed, local variables will be created there. When the function finishes executing, its stack frame is discarded, and the flow of control returns to wherever you were before you called the function, at the previous level of the stack.\n",
    "\n",
    "Python also searches the stack whenever it handles an exception: first it checks if the exception can be handled in the current function, and if it cannot, it terminates the function and tries the next one down – until either the exception is handled on some level or the program itself has to terminate. The traceback you see when an exception is printed shows the path that Python took through the stack."
   ]
  },
  {
   "cell_type": "markdown",
   "metadata": {},
   "source": [
    "## Recursion\n",
    "\n",
    "We can make a function call itself. This is known as *recursion*. A common example is a function which calculates numbers in the Fibonacci sequence: the zeroth number is 0, the first number is 1, and each subsequent number is the sum of the previous two numbers:"
   ]
  },
  {
   "cell_type": "code",
   "execution_count": 19,
   "metadata": {},
   "outputs": [
    {
     "name": "stdout",
     "output_type": "stream",
     "text": [
      "8\n"
     ]
    }
   ],
   "source": [
    "def fibonacci(n):\n",
    "    if n == 0:\n",
    "        return 0  # constant value\n",
    "\n",
    "    if n == 1:\n",
    "        return 1  # constant value\n",
    "\n",
    "    return fibonacci(n - 1) + fibonacci(n - 2)\n",
    "\n",
    "print(fibonacci(6))"
   ]
  },
  {
   "cell_type": "markdown",
   "metadata": {},
   "source": [
    "Whenever we write a recursive function, we need to include some conditions that will allow it to stop recursing – an end case in which the function doesn’t call itself. In this example, that happens at the beginning of the sequence: the first two numbers are not calculated from any previous numbers – they are constants.\n",
    "\n",
    "### Avoiding runtime error\n",
    "\n",
    "What would happen if we omitted those conditions from our function? When we got to n = 2, we would keep calling the function, trying to calculate `fibonacci(0)`, `fibonacci(-1)`, and so on. In theory, the function would end up recursing forever and never terminate, but in practice the program will crash with a RuntimeError and a message that we have exceeded the maximum recursion depth. This is because Python’s stack has a finite size – if we keep placing instances of the function on the stack we will eventually fill it up and cause a **stack overflow**. Python protects itself from stack overflows by setting a limit on the number of times that a function is allowed to recurse.\n",
    "\n",
    "Writing fail-safe recursive function is hard. What if we called the function above with a parameter of -1? We haven’t included any error checking which guards against this, so we would skip over the end cases and try to calculate fibonacci(-2), fibonacci(-3), and keep going.\n",
    "\n",
    "Thus we can re-write the recursive function in an *iterative* way that avoids recursion. For instance:"
   ]
  },
  {
   "cell_type": "code",
   "execution_count": 20,
   "metadata": {},
   "outputs": [
    {
     "name": "stdout",
     "output_type": "stream",
     "text": [
      "8\n"
     ]
    }
   ],
   "source": [
    "def fibonacci(n):\n",
    "    current, next = 0, 1\n",
    "\n",
    "    # loop from 0 through n-1\n",
    "    for i in range(n):  \n",
    "        current, next = next, current + next  # interation occurs within a single instance of the function\n",
    "\n",
    "    return current\n",
    "\n",
    "print(fibonacci(6))"
   ]
  },
  {
   "cell_type": "markdown",
   "metadata": {},
   "source": [
    "## Decorators\n",
    "\n",
    "We can write a function which modifies functions. We call a function like this a decorator. Our function will take a function object as a parameter, and will return a new function object – we can then assign the new function value to the old function’s name to replace the old function with the new function. Simply put, *decorators wrap a function and modifies its behaviour*. For example:"
   ]
  },
  {
   "cell_type": "code",
   "execution_count": 21,
   "metadata": {},
   "outputs": [
    {
     "name": "stdout",
     "output_type": "stream",
     "text": [
      "Something is happening before the function is called.\n",
      "Whee!\n",
      "Something is happening after the function is called.\n"
     ]
    }
   ],
   "source": [
    "# decorator function\n",
    "def my_decorator(func):\n",
    "    def wrapper():  # new function\n",
    "        print(\"Something is happening before the function is called.\")\n",
    "        func()   # call the original function, which has been passed in as parameter, func\n",
    "        print(\"Something is happening after the function is called.\")\n",
    "    return wrapper\n",
    "\n",
    "# original function\n",
    "def say_whee():\n",
    "    print(\"Whee!\")\n",
    "\n",
    "# pass in original function as parameter to decorator, and assign modified function back to say_whee()\n",
    "say_whee = my_decorator(say_whee)\n",
    "\n",
    "# call modified function\n",
    "say_whee()"
   ]
  },
  {
   "cell_type": "markdown",
   "metadata": {},
   "source": [
    "Inside our decorator (the outer function) we define an inner `wrapper` function which performs a print, calls the `say_whee` function, and subsequently does another print before returning the function object itself. The `wrapper()` has a reference to the original `say_whee()` as func, and calls it between the two calls to `print()`. \n",
    "\n",
    "Note that the decorator function is only called once, when we replace the original function with the decorated function, but that the inner function will be called every time we use my_function. The inner function can access both variables in its own scope (within `say_whee()`) and variables in the decorator’s scope (within `my_decorator()`.\n",
    "\n",
    "There is a shorthand syntax for applying decorators to functions: we can use the @ symbol together with the decorator name before the definition of each function that we want to decorate:"
   ]
  },
  {
   "cell_type": "code",
   "execution_count": 22,
   "metadata": {},
   "outputs": [],
   "source": [
    "@my_decorator\n",
    "def say_whee():\n",
    "    print(\"Whee!\")\n",
    "\n",
    "# is the same as \n",
    "say_whee = my_decorator(say_whee)"
   ]
  },
  {
   "cell_type": "markdown",
   "metadata": {},
   "source": [
    "## Generator functions and `yield`\n",
    "\n",
    "We have already encountered generators – sequences in which new elements are generated as they are needed, instead of all being generated up-front. We can create our own generators by writing functions which make use of the `yield` statement. Consider this:"
   ]
  },
  {
   "cell_type": "code",
   "execution_count": 23,
   "metadata": {},
   "outputs": [],
   "source": [
    "def my_list(n):\n",
    "    i = 0\n",
    "    l = []\n",
    "\n",
    "    while i < n:\n",
    "        l.append(i)\n",
    "        i += 1\n",
    "\n",
    "    return l"
   ]
  },
  {
   "cell_type": "markdown",
   "metadata": {},
   "source": [
    "This function builds the full list of numbers and returns it. We can change this function into a generator function while preserving a very similar syntax, like this:"
   ]
  },
  {
   "cell_type": "code",
   "execution_count": 24,
   "metadata": {},
   "outputs": [],
   "source": [
    "def my_gen(n):\n",
    "    i = 0\n",
    "\n",
    "    while i < n:\n",
    "        yield i\n",
    "        i += 1"
   ]
  },
  {
   "cell_type": "markdown",
   "metadata": {},
   "source": [
    "The first important thing to know about the `yield` statement is that if we use it in a function, that function will return a generator. We can test this by using the `type` function on the return value of `my_gen`. We can also try using it in a `for` loop, like we would use any other generator:"
   ]
  },
  {
   "cell_type": "code",
   "execution_count": 25,
   "metadata": {},
   "outputs": [
    {
     "name": "stdout",
     "output_type": "stream",
     "text": [
      "<class 'generator'>\n",
      "0\n",
      "1\n",
      "2\n"
     ]
    }
   ],
   "source": [
    "g = my_gen(3)\n",
    "\n",
    "print(type(g))\n",
    "\n",
    "for x in g:\n",
    "    print(x)"
   ]
  },
  {
   "cell_type": "markdown",
   "metadata": {},
   "source": [
    "Whenever a new value is requested from the generator, for example by our `for` loop, the generator starts to execute the function until it reaches the `yield` statement. `yield` causes the generator to return a single value. After `yield` statement executed, execution of the function does not end – when the next value is requested from the generator, it will go back to the beginning of the function and execute it again.\n",
    "\n",
    "If the generator executes the entire function without encountering a `yield` statement, it will raise a `StopIteration` exception to indicate that there are no more values. A `for` loop automatically handles this exception for us. In our `my_gen` function this will happen when `i` becomes equal to `n` – when this happens, the `yield` statement inside the `while` loop will no longer be executed."
   ]
  },
  {
   "cell_type": "markdown",
   "metadata": {},
   "source": [
    "Up to this point, we've learned the basic core concepts that facilitate analytics work using Python. The next few lessons are generally more useful to use Python for creating general programs.\n",
    "\n",
    "Next up, we'll learn about [defining our own custom classes](https://github.com/colintwh/python-basics/blob/master/classes.ipynb), the \"blueprints\" for creating objects."
   ]
  }
 ],
 "metadata": {
  "kernelspec": {
   "display_name": "Python 3",
   "language": "python",
   "name": "python3"
  },
  "language_info": {
   "codemirror_mode": {
    "name": "ipython",
    "version": 3
   },
   "file_extension": ".py",
   "mimetype": "text/x-python",
   "name": "python",
   "nbconvert_exporter": "python",
   "pygments_lexer": "ipython3",
   "version": "3.8.5"
  }
 },
 "nbformat": 4,
 "nbformat_minor": 4
}
