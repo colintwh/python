{
 "cells": [
  {
   "cell_type": "markdown",
   "metadata": {},
   "source": [
    "# Selection control statements\n",
    "\n",
    "---\n",
    "One of the ways in which programmers can change the flow of control in a program - the sequence of instructions in which they appear - is the use of selection control statements.\n",
    "\n",
    "## `if` statement\n",
    "Programming often involves examining a set of conditions and deciding which action to take based on those conditions. Python's `if` statement allows you to choose when to execute certain instructions in a program. For example:"
   ]
  },
  {
   "cell_type": "code",
   "execution_count": 1,
   "metadata": {},
   "outputs": [
    {
     "name": "stdout",
     "output_type": "stream",
     "text": [
      "You are old enough to vote!\n"
     ]
    }
   ],
   "source": [
    "age = 19\n",
    "\n",
    "# prints if age is greater than or equal to 18\n",
    "if age >= 18:\n",
    "    print(\"You are old enough to vote!\")"
   ]
  },
  {
   "cell_type": "markdown",
   "metadata": {},
   "source": [
    "#### Note: identation and colons\n",
    "\n",
    "Indentation plays the same role in `if` statements as it did in `for` loops in Python. Also not to forget the colon at the end of `if` statements. "
   ]
  },
  {
   "cell_type": "markdown",
   "metadata": {},
   "source": [
    "### Conditional tests\n",
    "\n",
    "At the heart of every `if` statement is an expression that can be evaluated as `True` or `False` and is called a *conditional test*. If the test evaluates to `True`, Python executes the code block following the `if` statement. If it's `False`, Python ignores the code following the `if` statement. Relational operators are often used in the *conditional test*. The table below shows Python's relational operators:\n",
    "\n",
    "**Operator** | **Description** | **Example**\n",
    "--- | --- | ---\n",
    "== | equal to | if (age == 18)\n",
    "!= | not equal to | if (score != 10)\n",
    "> | greater than | if (num_people > 50)\n",
    "< | less than | if (price < 25)\n",
    ">= | greater than or equal to | if (total >= 50)\n",
    "<= | less than or equal to | if (value <= 30)\n",
    "\n",
    "We can use any of the above relational operators to compare floating-point numbers, strings and many other types. \n",
    "\n",
    "Also note that the operator for equality is `==` – a double equals sign. Recall that `=`, the single equals sign, is the assignment operator. If we accidentally use `=` when we mean `==`, we are likely to get a syntax error:"
   ]
  },
  {
   "cell_type": "code",
   "execution_count": 2,
   "metadata": {},
   "outputs": [
    {
     "ename": "SyntaxError",
     "evalue": "invalid syntax (<ipython-input-2-70d01a9445db>, line 3)",
     "output_type": "error",
     "traceback": [
      "\u001b[0;36m  File \u001b[0;32m\"<ipython-input-2-70d01a9445db>\"\u001b[0;36m, line \u001b[0;32m3\u001b[0m\n\u001b[0;31m    if choice = 3: # syntax error\u001b[0m\n\u001b[0m              ^\u001b[0m\n\u001b[0;31mSyntaxError\u001b[0m\u001b[0;31m:\u001b[0m invalid syntax\n"
     ]
    }
   ],
   "source": [
    "choice = 3\n",
    "\n",
    "if choice = 3: # syntax error \n",
    "    print(choice)"
   ]
  },
  {
   "cell_type": "markdown",
   "metadata": {},
   "source": [
    "### Ignoring case when checking equality\n",
    "\n",
    "Testing for equality is case-sensitive in Python. For example, two values with different capitalization are not considered equal:"
   ]
  },
  {
   "cell_type": "code",
   "execution_count": 3,
   "metadata": {},
   "outputs": [
    {
     "name": "stdout",
     "output_type": "stream",
     "text": [
      "True\n",
      "False\n",
      "True\n"
     ]
    }
   ],
   "source": [
    "car = 'Audi'\n",
    "\n",
    "print(car == 'Audi') # True\n",
    "print(car == 'audi') # False\n",
    "\n",
    "# converting to lowercase before comparing\n",
    "print(car.lower() == 'audi') # this will be true"
   ]
  },
  {
   "cell_type": "markdown",
   "metadata": {},
   "source": [
    "## `if-else` statements\n",
    "\n",
    "An optional part of an `if` statement is the `else` clause. It allows us to specify an alternative instruction (or set of instructions) to be executed if the condition is not met:"
   ]
  },
  {
   "cell_type": "code",
   "execution_count": 4,
   "metadata": {},
   "outputs": [
    {
     "name": "stdout",
     "output_type": "stream",
     "text": [
      "Sorry, you are too young to vote.\n"
     ]
    }
   ],
   "source": [
    "age = 17\n",
    "if age >= 18:  # checks if age is greater than or equal to 18\n",
    "    print(\"You are old enough to vote!\") \n",
    "    \n",
    "else:\n",
    "    print(\"Sorry, you are too young to vote.\") # prints when above condition test fails"
   ]
  },
  {
   "cell_type": "markdown",
   "metadata": {},
   "source": [
    "### Nested `if-else`\n",
    "\n",
    "Like `for` loops, you can also nest `if` or `if-else` statements within another `if` and `else` clauses:"
   ]
  },
  {
   "cell_type": "code",
   "execution_count": 5,
   "metadata": {},
   "outputs": [
    {
     "name": "stdout",
     "output_type": "stream",
     "text": [
      "Your parcel will cost US$15.22.\n"
     ]
    }
   ],
   "source": [
    "weight = 700\n",
    "\n",
    "if weight <= 1000:\n",
    "    if weight <= 500:\n",
    "        cost = 13.40\n",
    "    else:\n",
    "        cost = 13.40 + 0.91 * round((weight - 500)/100, 2)\n",
    "\n",
    "    print(\"Your parcel will cost US$%.2f.\" % cost)\n",
    "\n",
    "else:\n",
    "    print(\"Maximum weight for parcel exceeded.\")"
   ]
  },
  {
   "cell_type": "markdown",
   "metadata": {},
   "source": [
    "## `if-elif-else` chain\n",
    "\n",
    "Many real-world situations involve more than two possible conditions and to evaluate these you can use Python's `if-elif-else` syntax. For example:"
   ]
  },
  {
   "cell_type": "code",
   "execution_count": 6,
   "metadata": {},
   "outputs": [
    {
     "name": "stdout",
     "output_type": "stream",
     "text": [
      "Your admission cost is $25.\n"
     ]
    }
   ],
   "source": [
    "age = 12\n",
    "\n",
    "if age < 4:  # test for under 4 years old\n",
    "    price = 0\n",
    "elif age < 18:  # test only if the above test fails\n",
    "    price = 25\n",
    "else:  # executes when all tests above fails\n",
    "    price = 40\n",
    "    \n",
    "print(\"Your admission cost is $%d.\" % price)"
   ]
  },
  {
   "cell_type": "markdown",
   "metadata": {},
   "source": [
    "### Multiple `elif` blocks\n",
    "\n",
    "You can use multiple `elif` blocks in your code:"
   ]
  },
  {
   "cell_type": "code",
   "execution_count": 7,
   "metadata": {},
   "outputs": [
    {
     "name": "stdout",
     "output_type": "stream",
     "text": [
      "Your admission cost is $25.\n"
     ]
    }
   ],
   "source": [
    "if age < 4:\n",
    "    price = 0\n",
    "elif age < 18: \n",
    "    price = 25\n",
    "elif age < 65: # tests when all above fails\n",
    "    price = 40\n",
    "else:\n",
    "    price = 20\n",
    "    \n",
    "print(\"Your admission cost is $%d.\" % price)"
   ]
  },
  {
   "cell_type": "markdown",
   "metadata": {},
   "source": [
    "### Omitting the `elif` block\n",
    "\n",
    "You can choose to omit the `else` block:"
   ]
  },
  {
   "cell_type": "code",
   "execution_count": 8,
   "metadata": {},
   "outputs": [
    {
     "name": "stdout",
     "output_type": "stream",
     "text": [
      "Your admission cost is $25.\n"
     ]
    }
   ],
   "source": [
    "if age < 4:\n",
    "    price = 0\n",
    "elif age < 18: \n",
    "    price = 25\n",
    "elif age < 65: # tests when all above fails\n",
    "    price = 40\n",
    "elif age >= 65:\n",
    "    price = 20\n",
    "    \n",
    "print(\"Your admission cost is $%d.\" % price)"
   ]
  },
  {
   "cell_type": "markdown",
   "metadata": {},
   "source": [
    "## Boolean values, operators and expressions\n",
    "\n",
    "In an `if` statement, Python will implicitly convert any other value type to a boolean if we use it like a boolean. We will almost never have to cast values to `bool` explicitly. We also don’t have to use the `==` operator explicitly to check if a variable’s value evaluates to `True` – we can use the variable name by itself as a condition:"
   ]
  },
  {
   "cell_type": "code",
   "execution_count": 9,
   "metadata": {},
   "outputs": [
    {
     "name": "stdout",
     "output_type": "stream",
     "text": [
      "Hello, Jane!\n",
      "Hello, Jane!\n"
     ]
    }
   ],
   "source": [
    "name = \"Jane\"\n",
    "\n",
    "# This is shorthand for checking if name evaluates to True:\n",
    "if name:\n",
    "    print(\"Hello, %s!\" % name)\n",
    "\n",
    "# It means the same thing as this:\n",
    "if bool(name) == True:\n",
    "    print(\"Hello, %s!\" % name)\n",
    "\n",
    "# This won't give us the answer we expect:\n",
    "if name == True:\n",
    "    print(\"Hello, %s!\" % name)"
   ]
  },
  {
   "cell_type": "markdown",
   "metadata": {},
   "source": [
    "If we cast the string \"Jane\" to a boolean, it will be equal to `True`, but it isn’t equal to `True` while it’s still a string – so the condition in the last `if` statement will evaluate to `False`. This is why we should always use the shorthand syntax, as shown in the first statement – Python will then do the implicit cast for us."
   ]
  },
  {
   "cell_type": "markdown",
   "metadata": {},
   "source": [
    "### Conditional operator\n",
    "\n",
    "Python has another way to write a selection in a program – the conditional operator. It can be used within an expression (i.e. it can be evaluated) – in contrast to `if` and `if-else`, which are just statements and not expressions. It is often called the ternary operator because it has three operands (binary operators have two, and unary operators have one). The syntax is as follows:"
   ]
  },
  {
   "cell_type": "code",
   "execution_count": 10,
   "metadata": {},
   "outputs": [
    {
     "name": "stdout",
     "output_type": "stream",
     "text": [
      "Too young to vote\n"
     ]
    }
   ],
   "source": [
    "result = \"Legal age\" if (age >= 18) else \"Too young to vote\"\n",
    "print(result)"
   ]
  },
  {
   "cell_type": "markdown",
   "metadata": {},
   "source": [
    "## Checking multiple conditions using `and`, `or`\n",
    "\n",
    "You may want to check multiple conditions at the same time. For example, sometimes you might need two conditions to be `True` to take an action. The keywords `and` and `or` can help you in these situations. These keywords are known as *boolean operators*. Their logical evaluation can be observed in the truth tables below:\n",
    "\n",
    "`a` | `b` | `a and b` | `a or b`\n",
    "--- | --- | --- | ---\n",
    "False | False | **False** | **False** \n",
    "False | True | **False** | **True**\n",
    "True | False | **False** | **True**\n",
    "True | True | **True** | **True**\n"
   ]
  },
  {
   "cell_type": "code",
   "execution_count": 11,
   "metadata": {},
   "outputs": [
    {
     "name": "stdout",
     "output_type": "stream",
     "text": [
      "Grade B\n",
      "Invalid age: -1\n",
      "All conditions satisfied.\n",
      "At least one condition is satisfied\n"
     ]
    }
   ],
   "source": [
    "# using 'and': prints only when mark is greater or equal to 50 (1st test) *AND* less than 65 (2nd test)\n",
    "mark = 55\n",
    "if mark >= 50 and mark < 65: \n",
    "    print(\"Grade B\")\n",
    "       \n",
    "# using 'or': prints when either age is less than zero (1st test) *OR* greater than 120\n",
    "age = -1\n",
    "if age < 0 or age > 120:\n",
    "    print(\"Invalid age: %d\" % age)\n",
    "    \n",
    "# we can join three or more subexpressions with 'and' – they will be evaluated from left to right:\n",
    "cond1 = cond2 = cond3 = cond4 = True\n",
    "if cond1 and cond2 and cond3 and cond4:\n",
    "    print(\"All conditions satisfied.\")\n",
    "    \n",
    "# similar for `or` - we can join three or more as well\n",
    "cond1 = cond2 = cond3 = False\n",
    "if cond1 or cond2 or cond3 or cond4:\n",
    "    print(\"At least one condition is satisfied\")"
   ]
  },
  {
   "cell_type": "markdown",
   "metadata": {},
   "source": [
    "For evaluating whether a number falls within a certain range, you can use shorthand like below:"
   ]
  },
  {
   "cell_type": "code",
   "execution_count": 12,
   "metadata": {},
   "outputs": [
    {
     "data": {
      "text/plain": [
       "True"
      ]
     },
     "execution_count": 12,
     "metadata": {},
     "output_type": "execute_result"
    }
   ],
   "source": [
    "# these two lines does the same thing\n",
    "mark >= 50 and mark < 65 # true\n",
    "\n",
    "50 <= mark < 65 # true"
   ]
  },
  {
   "cell_type": "markdown",
   "metadata": {},
   "source": [
    "### Short-circuit evaluation\n",
    "\n",
    "Consider the expression `a and b`. If `a` is false, the expression is false regardless whether `b` is true or not. Python interpreter can take advantage of this to be more efficient: if it evaluates the first subexpression in an `and` expression to be false, it does not bother to evaluate the second subexpression. We call this a *short-circuit operator* because of this behaviour. This often comes in useful if we want to access an object’s attribute or an element from a list or a dictionary, and we first want to check if it exists:"
   ]
  },
  {
   "cell_type": "code",
   "execution_count": 13,
   "metadata": {},
   "outputs": [
    {
     "name": "stdout",
     "output_type": "stream",
     "text": [
      "That's a long name, Hubert Blaine Wolfeschlegelsteinhausenbergerdorff Sr.!\n"
     ]
    }
   ],
   "source": [
    "person = {\n",
    "    'fullname': \"Hubert Blaine Wolfeschlegelsteinhausenbergerdorff Sr.\",\n",
    "}\n",
    "\n",
    "# left-hand condition test fails, hence right-hand test (which will result in error) will not be evaluated\n",
    "if \"name\" in person and len(person[\"name\"]) > 30:\n",
    "    print(\"That's a long name, %s!\" % person[\"name\"])\n",
    "\n",
    "    \n",
    "# short-circuit eval also applies for `or` operators, if not right-hand test should cause error\n",
    "if \"fullname\" in person or len(person[\"name\"]) > 30:\n",
    "    print(\"That's a long name, %s!\" % person[\"fullname\"])"
   ]
  },
  {
   "cell_type": "markdown",
   "metadata": {},
   "source": [
    "## `not` operator\n",
    "\n",
    "Unlike `and` and `or` which are binary operators - they require two operands - the `not` operator is a unary operator: it only requires one operand. It is used to reverse an expression as shown in the truth table below:\n",
    "\n",
    "`a` | `not a`\n",
    "--- | ---\n",
    "True | False\n",
    "False | True\n"
   ]
  },
  {
   "cell_type": "code",
   "execution_count": 14,
   "metadata": {},
   "outputs": [
    {
     "name": "stdout",
     "output_type": "stream",
     "text": [
      "'Jane' doesn't start with A!\n"
     ]
    }
   ],
   "source": [
    "# Example using \"not\"\n",
    "if not name.startswith(\"A\"):\n",
    "    print(\"'%s' doesn't start with A!\" % name)"
   ]
  },
  {
   "cell_type": "markdown",
   "metadata": {},
   "source": [
    "### Keeping boolean expressions simple without `not`\n",
    "\n",
    "Try only to use the `not` operator where it makes sense to have it. If it used multiple times, it can make the code complex to developers. Most people find it easier to read positive statements than negative ones. Sometimes we can use the opposite relational operator to avoid using the `not` operator, for example:"
   ]
  },
  {
   "cell_type": "code",
   "execution_count": 15,
   "metadata": {},
   "outputs": [
    {
     "name": "stdout",
     "output_type": "stream",
     "text": [
      "You passed\n",
      "You passed\n"
     ]
    }
   ],
   "source": [
    "if not mark < 50:\n",
    "    print(\"You passed\")\n",
    "\n",
    "# is the same as\n",
    "\n",
    "if mark >= 50:\n",
    "    print(\"You passed\")"
   ]
  },
  {
   "cell_type": "markdown",
   "metadata": {},
   "source": [
    "Table below shows each relational operator and its opposite:\n",
    "\n",
    "**Operator** | **Opposite**\n",
    "--- | ---\n",
    "    `==` | `!=`\n",
    "    `>` | `<=`\n",
    "    `<` | `>=`\n",
    "    \n",
    "Formally, DeMorgan’s laws state:\n",
    "```\n",
    "    NOT (a AND b) = (NOT a) OR (NOT b)\n",
    "    NOT (a OR b) = (NOT a) AND (NOT b)\n",
    "```\n",
    "We can use these laws to distribute the not operator over boolean expressions in Python. For example:"
   ]
  },
  {
   "cell_type": "code",
   "execution_count": 16,
   "metadata": {},
   "outputs": [
    {
     "name": "stdout",
     "output_type": "stream",
     "text": [
      "Invalid age\n",
      "Invalid age\n"
     ]
    }
   ],
   "source": [
    "if not (age > 0 and age <= 120):\n",
    "    print(\"Invalid age\")\n",
    "\n",
    "# can be rewritten as\n",
    "if age <= 0 or age > 120:\n",
    "    print(\"Invalid age\")"
   ]
  },
  {
   "cell_type": "markdown",
   "metadata": {},
   "source": [
    "## The `None` value\n",
    "\n",
    "We often initialise a number to zero or a string to an empty string before we give it a more meaningful value. Zero and various “empty” values evaluate to False in boolean expressions, so we can check whether a variable has a meaningful value like this:\n",
    "\n",
    "    if (my_variable):\n",
    "        print(my_variable)\n",
    "\n",
    "Sometimes, however, a zero or an empty string is a meaningful value. How can we indicate that a variable isn’t set to anything if we can’t use zero or an empty string? We can set it to `None` instead.\n",
    "\n",
    "In Python, `None` is a special value which means “nothing”. Its type is called *NoneType*, and only one `None` value exists at a time – all the `None` values we use are actually the same object:"
   ]
  },
  {
   "cell_type": "code",
   "execution_count": 17,
   "metadata": {},
   "outputs": [
    {
     "name": "stdout",
     "output_type": "stream",
     "text": [
      "True\n"
     ]
    }
   ],
   "source": [
    "print(None is None) # True"
   ]
  },
  {
   "cell_type": "markdown",
   "metadata": {},
   "source": [
    "`None` evaluates to `False` in boolean expressions. If we don’t care whether our variable is `None` or some other value which is also false, we can just check its value like this:"
   ]
  },
  {
   "cell_type": "code",
   "execution_count": 18,
   "metadata": {},
   "outputs": [],
   "source": [
    "my_string = \"\"\n",
    "if my_string:\n",
    "    print(\"My string is '%s'.\" % my_string)"
   ]
  },
  {
   "cell_type": "code",
   "execution_count": 19,
   "metadata": {},
   "outputs": [
    {
     "name": "stdout",
     "output_type": "stream",
     "text": [
      "My string is empty!\n"
     ]
    }
   ],
   "source": [
    "my_number = None\n",
    "\n",
    "if my_number is not None:\n",
    "    print(my_number) # could still be zero\n",
    "\n",
    "if my_string is None:\n",
    "    print(\"I haven't got a string at all!\")\n",
    "elif not my_string: # another false value, i.e. an empty string\n",
    "    print(\"My string is empty!\")\n",
    "else:\n",
    "    print(\"My string is '%s'.\" % my_string)\n"
   ]
  },
  {
   "cell_type": "markdown",
   "metadata": {},
   "source": [
    "## Switch-case statement\n",
    "\n",
    "Unfortunately Python does not have a switch statement, which other programming languages tend to have. On the bright side however, we can still achieve something similar by using a dictionary like below:"
   ]
  },
  {
   "cell_type": "code",
   "execution_count": 20,
   "metadata": {},
   "outputs": [
    {
     "name": "stdout",
     "output_type": "stream",
     "text": [
      "Department: Computer Science\n"
     ]
    }
   ],
   "source": [
    "DEPARTMENT_NAMES = {\n",
    "    \"CSC\": \"Computer Science\",\n",
    "    \"MAM\": \"Mathematics and Applied Mathematics\",\n",
    "    \"STA\": \"Statistical Sciences\", # Trailing commas like this are allowed in Python!\n",
    "}\n",
    "\n",
    "course_code = 'CSC'\n",
    "\n",
    "if course_code in DEPARTMENT_NAMES: # this tests whether the variable is one of the dictionary's keys\n",
    "    print(\"Department: %s\" % DEPARTMENT_NAMES[course_code])\n",
    "else:\n",
    "    print(\"Unknown course code: %s\" % course_code)\n",
    "    "
   ]
  }
 ],
 "metadata": {
  "kernelspec": {
   "display_name": "Python 3",
   "language": "python",
   "name": "python3"
  },
  "language_info": {
   "codemirror_mode": {
    "name": "ipython",
    "version": 3
   },
   "file_extension": ".py",
   "mimetype": "text/x-python",
   "name": "python",
   "nbconvert_exporter": "python",
   "pygments_lexer": "ipython3",
   "version": "3.7.7"
  }
 },
 "nbformat": 4,
 "nbformat_minor": 4
}
