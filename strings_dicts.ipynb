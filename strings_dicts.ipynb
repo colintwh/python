{
 "cells": [
  {
   "cell_type": "markdown",
   "id": "united-violin",
   "metadata": {},
   "source": [
    "# Strings and Dictionaries\n",
    "---\n",
    "\n",
    "One place where the Python language really shines is in the manipulation of strings. This section will cover some of Python's built-in string methods and formatting operations.\n",
    "\n",
    "Such string manipulation patterns come up often in the context of data science work, and is one big perk of Python in this context.\n",
    "\n",
    "## String syntax\n",
    "\n",
    "You've already seen plenty of strings in examples during the previous lessons, but just to recap, strings in Python can be defined using either single or double quotations. They are functionally equivalent."
   ]
  },
  {
   "cell_type": "code",
   "execution_count": 1,
   "id": "aware-addition",
   "metadata": {},
   "outputs": [
    {
     "data": {
      "text/plain": [
       "True"
      ]
     },
     "execution_count": 1,
     "metadata": {},
     "output_type": "execute_result"
    }
   ],
   "source": [
    "x = 'Pluto is a planet'\n",
    "y = \"Pluto is a planet\"\n",
    "x == y"
   ]
  },
  {
   "cell_type": "markdown",
   "id": "angry-carter",
   "metadata": {},
   "source": [
    "Double quotes are convenient if your string contains a single quote character (e.g. representing an apostrophe).\n",
    "\n",
    "Similarly, it's easy to create a string that contains double-quotes if you wrap it in single quotes:\n"
   ]
  },
  {
   "cell_type": "code",
   "execution_count": 2,
   "id": "dental-windows",
   "metadata": {},
   "outputs": [
    {
     "name": "stdout",
     "output_type": "stream",
     "text": [
      "Pluto's a planet!\n",
      "My dog is named \"Pluto\"\n"
     ]
    }
   ],
   "source": [
    "print(\"Pluto's a planet!\")\n",
    "print('My dog is named \"Pluto\"')"
   ]
  },
  {
   "cell_type": "markdown",
   "id": "reasonable-xerox",
   "metadata": {},
   "source": [
    "If we try to put a single quote character inside a single-quoted string, Python gets confused:"
   ]
  },
  {
   "cell_type": "code",
   "execution_count": 3,
   "id": "unauthorized-soccer",
   "metadata": {},
   "outputs": [
    {
     "ename": "SyntaxError",
     "evalue": "invalid syntax (<ipython-input-3-a43631749f52>, line 1)",
     "output_type": "error",
     "traceback": [
      "\u001b[0;36m  File \u001b[0;32m\"<ipython-input-3-a43631749f52>\"\u001b[0;36m, line \u001b[0;32m1\u001b[0m\n\u001b[0;31m    'Pluto's a planet!'\u001b[0m\n\u001b[0m           ^\u001b[0m\n\u001b[0;31mSyntaxError\u001b[0m\u001b[0;31m:\u001b[0m invalid syntax\n"
     ]
    }
   ],
   "source": [
    "'Pluto's a planet!'"
   ]
  },
  {
   "cell_type": "markdown",
   "id": "french-waterproof",
   "metadata": {},
   "source": [
    "We can fix this by \"escaping\" the single quote with a backslash."
   ]
  },
  {
   "cell_type": "code",
   "execution_count": 4,
   "id": "scheduled-strengthening",
   "metadata": {},
   "outputs": [
    {
     "data": {
      "text/plain": [
       "\"Pluto's a planet!\""
      ]
     },
     "execution_count": 4,
     "metadata": {},
     "output_type": "execute_result"
    }
   ],
   "source": [
    "'Pluto\\'s a planet!'"
   ]
  },
  {
   "cell_type": "markdown",
   "id": "piano-catalog",
   "metadata": {},
   "source": [
    "The table below summarizes some important uses of the backslash character.\n",
    "\n",
    "***What you type*** | ***What you get*** | ***Example*** | ***print(example)***\n",
    "--- | --- | --- | ---\n",
    "`\\'` | ' | `'What\\' up?'` | `What's up?`\n",
    "`\\\"` | \" | `\"That's \\\"cool\\\"\"` | `That's \"cool\"`\n",
    "`\\\\` | \\ | `\"Look, a mountain: /\\\\\"` | `Look, a mountain: /\\`\n",
    "`\\n` |  | `\"1\\n2 3\"` | `1`<br>`2 3`\n",
    "\n",
    "The last sequence `\\n` represents the *newline character*. It causes Python to start a new line."
   ]
  },
  {
   "cell_type": "code",
   "execution_count": 5,
   "id": "august-loading",
   "metadata": {},
   "outputs": [
    {
     "name": "stdout",
     "output_type": "stream",
     "text": [
      "hello\n",
      "world\n"
     ]
    }
   ],
   "source": [
    "hello = \"hello\\nworld\"\n",
    "print(hello)"
   ]
  },
  {
   "cell_type": "markdown",
   "id": "conventional-classroom",
   "metadata": {},
   "source": [
    "In addition, Python's triple quote syntax for strings lets us include newlines literally (i.e. by just hitting 'Enter' on our keyboard, rather than using the special '\\n' sequence). We've already seen this in the docstrings we use to document our functions, but we can use them anywhere we want to define a string."
   ]
  },
  {
   "cell_type": "code",
   "execution_count": 6,
   "id": "popular-turkey",
   "metadata": {},
   "outputs": [
    {
     "name": "stdout",
     "output_type": "stream",
     "text": [
      "hello\n",
      "world\n"
     ]
    },
    {
     "data": {
      "text/plain": [
       "True"
      ]
     },
     "execution_count": 6,
     "metadata": {},
     "output_type": "execute_result"
    }
   ],
   "source": [
    "triplequoted_hello = \"\"\"hello\n",
    "world\"\"\"\n",
    "print(triplequoted_hello)\n",
    "triplequoted_hello == hello"
   ]
  },
  {
   "cell_type": "markdown",
   "id": "handled-mounting",
   "metadata": {},
   "source": [
    "The print() function automatically adds a newline character unless we specify a value for the keyword argument end other than the default value of '\\n':"
   ]
  },
  {
   "cell_type": "code",
   "execution_count": 7,
   "id": "miniature-lighter",
   "metadata": {},
   "outputs": [
    {
     "name": "stdout",
     "output_type": "stream",
     "text": [
      "hello\n",
      "world\n",
      "hellopluto"
     ]
    }
   ],
   "source": [
    "print(\"hello\")\n",
    "print(\"world\")\n",
    "print(\"hello\", end='')\n",
    "print(\"pluto\", end='')"
   ]
  },
  {
   "cell_type": "markdown",
   "id": "level-consortium",
   "metadata": {},
   "source": [
    "## Strings are sequences\n",
    "\n",
    "Strings can be thought of as sequences of characters. Almost everything we've seen that we can do to a list, we can also do to a string."
   ]
  },
  {
   "cell_type": "code",
   "execution_count": 8,
   "id": "serial-appreciation",
   "metadata": {},
   "outputs": [
    {
     "data": {
      "text/plain": [
       "'P'"
      ]
     },
     "execution_count": 8,
     "metadata": {},
     "output_type": "execute_result"
    }
   ],
   "source": [
    "# Indexing\n",
    "planet = 'Pluto'\n",
    "planet[0]"
   ]
  },
  {
   "cell_type": "code",
   "execution_count": 9,
   "id": "referenced-department",
   "metadata": {},
   "outputs": [
    {
     "data": {
      "text/plain": [
       "'uto'"
      ]
     },
     "execution_count": 9,
     "metadata": {},
     "output_type": "execute_result"
    }
   ],
   "source": [
    "# Slicing\n",
    "planet[-3:]"
   ]
  },
  {
   "cell_type": "code",
   "execution_count": 10,
   "id": "voluntary-donna",
   "metadata": {},
   "outputs": [
    {
     "data": {
      "text/plain": [
       "5"
      ]
     },
     "execution_count": 10,
     "metadata": {},
     "output_type": "execute_result"
    }
   ],
   "source": [
    "# How long is this string?\n",
    "len(planet)"
   ]
  },
  {
   "cell_type": "code",
   "execution_count": 11,
   "id": "foreign-singing",
   "metadata": {},
   "outputs": [
    {
     "data": {
      "text/plain": [
       "['P! ', 'l! ', 'u! ', 't! ', 'o! ']"
      ]
     },
     "execution_count": 11,
     "metadata": {},
     "output_type": "execute_result"
    }
   ],
   "source": [
    "# Yes, we can even loop over them\n",
    "[char+'! ' for char in planet]"
   ]
  },
  {
   "cell_type": "code",
   "execution_count": 12,
   "id": "bulgarian-dance",
   "metadata": {},
   "outputs": [
    {
     "name": "stdout",
     "output_type": "stream",
     "text": [
      "True\n",
      "True\n",
      "False\n"
     ]
    }
   ],
   "source": [
    "print('a' in 'abcd') # True\n",
    "print('ab' in 'abcd') # also True\n",
    "\n",
    "# this doesn't work for lists\n",
    "print(['a', 'b'] in ['a', 'b', 'c', 'd']) # False"
   ]
  },
  {
   "cell_type": "code",
   "execution_count": 13,
   "id": "congressional-sender",
   "metadata": {
    "scrolled": true
   },
   "outputs": [
    {
     "ename": "TypeError",
     "evalue": "'str' object does not support item assignment",
     "output_type": "error",
     "traceback": [
      "\u001b[0;31m---------------------------------------------------------------------------\u001b[0m",
      "\u001b[0;31mTypeError\u001b[0m                                 Traceback (most recent call last)",
      "\u001b[0;32m<ipython-input-13-6ca42463b9f9>\u001b[0m in \u001b[0;36m<module>\u001b[0;34m\u001b[0m\n\u001b[0;32m----> 1\u001b[0;31m \u001b[0mplanet\u001b[0m\u001b[0;34m[\u001b[0m\u001b[0;36m0\u001b[0m\u001b[0;34m]\u001b[0m \u001b[0;34m=\u001b[0m \u001b[0;34m'B'\u001b[0m\u001b[0;34m\u001b[0m\u001b[0;34m\u001b[0m\u001b[0m\n\u001b[0m\u001b[1;32m      2\u001b[0m \u001b[0;31m# planet.append doesn't work either\u001b[0m\u001b[0;34m\u001b[0m\u001b[0;34m\u001b[0m\u001b[0;34m\u001b[0m\u001b[0m\n",
      "\u001b[0;31mTypeError\u001b[0m: 'str' object does not support item assignment"
     ]
    }
   ],
   "source": [
    "planet[0] = 'B'\n",
    "# planet.append doesn't work either"
   ]
  },
  {
   "cell_type": "markdown",
   "id": "flush-contrast",
   "metadata": {},
   "source": [
    "We can easily convert a string to a list of characters:"
   ]
  },
  {
   "cell_type": "code",
   "execution_count": 14,
   "id": "exposed-latino",
   "metadata": {},
   "outputs": [
    {
     "name": "stdout",
     "output_type": "stream",
     "text": [
      "['a', 'b', 'r', 'a', 'c', 'a', 'd', 'a', 'b', 'r', 'a']\n"
     ]
    }
   ],
   "source": [
    "abc_list = list(\"abracadabra\")\n",
    "print(abc_list)"
   ]
  },
  {
   "cell_type": "markdown",
   "id": "aquatic-rogers",
   "metadata": {},
   "source": [
    "What if we want to convert a list of characters into a string? Using the `str` function will only give us a printable string of the list - including commas, quotes and brackets - which we may not want. To join a sequence of characters (or longer strings) together into a single string, we have to use `join`.\n",
    "\n",
    "`join` is not a function or a sequence method – it’s a string method which takes a sequence of strings as a parameter. When we call a string’s `join` method, we are using that string to glue the strings in the sequence together. For example:"
   ]
  },
  {
   "cell_type": "code",
   "execution_count": 15,
   "id": "behind-contributor",
   "metadata": {},
   "outputs": [
    {
     "name": "stdout",
     "output_type": "stream",
     "text": [
      "abracadabra\n"
     ]
    }
   ],
   "source": [
    "l = ['a', 'b', 'r', 'a', 'c', 'a', 'd', 'a', 'b', 'r', 'a']\n",
    "\n",
    "s = \"\".join(l)\n",
    "print(s)"
   ]
  },
  {
   "cell_type": "markdown",
   "id": "accessible-passing",
   "metadata": {},
   "source": [
    "We can use any string we like to join a sequence of strings together:"
   ]
  },
  {
   "cell_type": "code",
   "execution_count": 16,
   "id": "regional-typing",
   "metadata": {},
   "outputs": [
    {
     "name": "stdout",
     "output_type": "stream",
     "text": [
      "cat dog fish\n",
      "cat,dog,fish\n",
      "cat, dog, fish\n"
     ]
    }
   ],
   "source": [
    "animals = ('cat', 'dog', 'fish')\n",
    "\n",
    "# a space-separated list\n",
    "print(\" \".join(animals))\n",
    "\n",
    "# a comma-separated list\n",
    "print(\",\".join(animals))\n",
    "\n",
    "# a comma-separated list with spaces\n",
    "print(\", \".join(animals))"
   ]
  },
  {
   "cell_type": "markdown",
   "id": "collaborative-questionnaire",
   "metadata": {},
   "source": [
    "The opposite of joining is *splitting*. We can split up a string into a list of strings using the `split` method. If called without any parameters, `split` divides up a string into words, using any number of consecutive whitespace characters as a delimiter. We can use additional parameters to specify a different delimiter as well as a limit on the maximum number of splits to perform:"
   ]
  },
  {
   "cell_type": "code",
   "execution_count": 17,
   "id": "divided-steel",
   "metadata": {},
   "outputs": [
    {
     "name": "stdout",
     "output_type": "stream",
     "text": [
      "['cat', 'dog', 'fish']\n",
      "['cat', 'dog', 'fish']\n",
      "['cat', 'dog', 'fish']\n",
      "['cat', 'dog, fish']\n"
     ]
    }
   ],
   "source": [
    "print(\"cat    dog fish\\n\".split())\n",
    "print(\"cat|dog|fish\".split(\"|\"))\n",
    "print(\"cat, dog, fish\".split(\", \"))\n",
    "print(\"cat, dog, fish\".split(\", \", 1))"
   ]
  },
  {
   "cell_type": "markdown",
   "id": "municipal-couple",
   "metadata": {},
   "source": [
    "## String methods\n",
    "\n",
    "Like list, the type `str` has lots of very useful methods. I'll show just a few examples here."
   ]
  },
  {
   "cell_type": "code",
   "execution_count": 18,
   "id": "norman-yorkshire",
   "metadata": {},
   "outputs": [
    {
     "data": {
      "text/plain": [
       "'PLUTO IS A PLANET!'"
      ]
     },
     "execution_count": 18,
     "metadata": {},
     "output_type": "execute_result"
    }
   ],
   "source": [
    "# ALL CAPS\n",
    "claim = \"Pluto is a planet!\"\n",
    "claim.upper()"
   ]
  },
  {
   "cell_type": "code",
   "execution_count": 19,
   "id": "conservative-gamma",
   "metadata": {},
   "outputs": [
    {
     "data": {
      "text/plain": [
       "'pluto is a planet!'"
      ]
     },
     "execution_count": 19,
     "metadata": {},
     "output_type": "execute_result"
    }
   ],
   "source": [
    "# all lowercase\n",
    "claim.lower()"
   ]
  },
  {
   "cell_type": "code",
   "execution_count": 20,
   "id": "suburban-ambassador",
   "metadata": {},
   "outputs": [
    {
     "data": {
      "text/plain": [
       "'Pluto Is A Planet!'"
      ]
     },
     "execution_count": 20,
     "metadata": {},
     "output_type": "execute_result"
    }
   ],
   "source": [
    "# change each word to begin with a capital letter\n",
    "claim.title() "
   ]
  },
  {
   "cell_type": "code",
   "execution_count": 21,
   "id": "renewable-helena",
   "metadata": {},
   "outputs": [
    {
     "data": {
      "text/plain": [
       "11"
      ]
     },
     "execution_count": 21,
     "metadata": {},
     "output_type": "execute_result"
    }
   ],
   "source": [
    "# Searching for the first index of a substring\n",
    "claim.index('plan')"
   ]
  },
  {
   "cell_type": "code",
   "execution_count": 22,
   "id": "twenty-strike",
   "metadata": {},
   "outputs": [
    {
     "data": {
      "text/plain": [
       "True"
      ]
     },
     "execution_count": 22,
     "metadata": {},
     "output_type": "execute_result"
    }
   ],
   "source": [
    "claim.startswith(planet)"
   ]
  },
  {
   "cell_type": "code",
   "execution_count": 23,
   "id": "limiting-crazy",
   "metadata": {},
   "outputs": [
    {
     "data": {
      "text/plain": [
       "False"
      ]
     },
     "execution_count": 23,
     "metadata": {},
     "output_type": "execute_result"
    }
   ],
   "source": [
    "claim.endswith('dwarf planet')"
   ]
  },
  {
   "cell_type": "markdown",
   "id": "agricultural-proposal",
   "metadata": {},
   "source": [
    "## Going between strings and lists: `.split()` and `.join()`\n",
    "\n",
    "`str.split()` turns a string into a list of smaller strings, breaking on whitespace by default. This is super useful for taking you from one big string to a list of words."
   ]
  },
  {
   "cell_type": "code",
   "execution_count": 24,
   "id": "center-wyoming",
   "metadata": {},
   "outputs": [
    {
     "data": {
      "text/plain": [
       "['Pluto', 'is', 'a', 'planet!']"
      ]
     },
     "execution_count": 24,
     "metadata": {},
     "output_type": "execute_result"
    }
   ],
   "source": [
    "words = claim.split()\n",
    "words"
   ]
  },
  {
   "cell_type": "markdown",
   "id": "sought-hydrogen",
   "metadata": {},
   "source": [
    "\n",
    "\n",
    "Occasionally you'll want to split on something other than whitespace:\n"
   ]
  },
  {
   "cell_type": "code",
   "execution_count": 25,
   "id": "jewish-integer",
   "metadata": {},
   "outputs": [],
   "source": [
    "datestr = '1956-01-31'\n",
    "year, month, day = datestr.split('-')"
   ]
  },
  {
   "cell_type": "markdown",
   "id": "cloudy-significance",
   "metadata": {},
   "source": [
    "`str.join()` takes us in the other direction, sewing a list of strings up into one long string, using the string it was called on as a separator."
   ]
  },
  {
   "cell_type": "code",
   "execution_count": 26,
   "id": "narrative-croatia",
   "metadata": {},
   "outputs": [
    {
     "data": {
      "text/plain": [
       "'01/31/1956'"
      ]
     },
     "execution_count": 26,
     "metadata": {},
     "output_type": "execute_result"
    }
   ],
   "source": [
    "'/'.join([month, day, year])"
   ]
  },
  {
   "cell_type": "code",
   "execution_count": 27,
   "id": "neither-surprise",
   "metadata": {},
   "outputs": [
    {
     "data": {
      "text/plain": [
       "'PLUTO 👏 IS 👏 A 👏 PLANET!'"
      ]
     },
     "execution_count": 27,
     "metadata": {},
     "output_type": "execute_result"
    }
   ],
   "source": [
    "# Yes, we can put unicode characters right in our string literals :)\n",
    "' 👏 '.join([word.upper() for word in words])"
   ]
  },
  {
   "cell_type": "markdown",
   "id": "adjacent-benjamin",
   "metadata": {},
   "source": [
    "## Building strings with .format()\n",
    "\n",
    "Python lets us concatenate strings with the `+` operator."
   ]
  },
  {
   "cell_type": "code",
   "execution_count": 28,
   "id": "organic-syracuse",
   "metadata": {},
   "outputs": [
    {
     "data": {
      "text/plain": [
       "'Pluto, we miss you.'"
      ]
     },
     "execution_count": 28,
     "metadata": {},
     "output_type": "execute_result"
    }
   ],
   "source": [
    "planet + ', we miss you.'"
   ]
  },
  {
   "cell_type": "markdown",
   "id": "documentary-width",
   "metadata": {},
   "source": [
    "If we want to throw in any non-string objects, we have to be careful to call `str()` on them first"
   ]
  },
  {
   "cell_type": "code",
   "execution_count": 29,
   "id": "mobile-intensity",
   "metadata": {},
   "outputs": [
    {
     "ename": "TypeError",
     "evalue": "can only concatenate str (not \"int\") to str",
     "output_type": "error",
     "traceback": [
      "\u001b[0;31m---------------------------------------------------------------------------\u001b[0m",
      "\u001b[0;31mTypeError\u001b[0m                                 Traceback (most recent call last)",
      "\u001b[0;32m<ipython-input-29-73295f9638cc>\u001b[0m in \u001b[0;36m<module>\u001b[0;34m\u001b[0m\n\u001b[1;32m      1\u001b[0m \u001b[0mposition\u001b[0m \u001b[0;34m=\u001b[0m \u001b[0;36m9\u001b[0m\u001b[0;34m\u001b[0m\u001b[0;34m\u001b[0m\u001b[0m\n\u001b[0;32m----> 2\u001b[0;31m \u001b[0mplanet\u001b[0m \u001b[0;34m+\u001b[0m \u001b[0;34m\", you'll always be the \"\u001b[0m \u001b[0;34m+\u001b[0m \u001b[0mposition\u001b[0m \u001b[0;34m+\u001b[0m \u001b[0;34m\"th planet to me.\"\u001b[0m\u001b[0;34m\u001b[0m\u001b[0;34m\u001b[0m\u001b[0m\n\u001b[0m",
      "\u001b[0;31mTypeError\u001b[0m: can only concatenate str (not \"int\") to str"
     ]
    }
   ],
   "source": [
    "position = 9\n",
    "planet + \", you'll always be the \" + position + \"th planet to me.\""
   ]
  },
  {
   "cell_type": "code",
   "execution_count": 30,
   "id": "cross-upgrade",
   "metadata": {},
   "outputs": [
    {
     "data": {
      "text/plain": [
       "\"Pluto, you'll always be the 9th planet to me.\""
      ]
     },
     "execution_count": 30,
     "metadata": {},
     "output_type": "execute_result"
    }
   ],
   "source": [
    "planet + \", you'll always be the \" + str(position) + \"th planet to me.\""
   ]
  },
  {
   "cell_type": "markdown",
   "id": "ideal-verification",
   "metadata": {},
   "source": [
    "This is getting hard to read and annoying to type. `str.format()` to the rescue."
   ]
  },
  {
   "cell_type": "code",
   "execution_count": 31,
   "id": "structured-premises",
   "metadata": {},
   "outputs": [
    {
     "data": {
      "text/plain": [
       "\"Pluto, you'll always be the 9th planet to me.\""
      ]
     },
     "execution_count": 31,
     "metadata": {},
     "output_type": "execute_result"
    }
   ],
   "source": [
    "\"{}, you'll always be the {}th planet to me.\".format(planet, position)"
   ]
  },
  {
   "cell_type": "markdown",
   "id": "optimum-architecture",
   "metadata": {},
   "source": [
    "So much cleaner! We call `.format()` on a \"format string\", where the Python values we want to insert are represented with `{}` placeholders.\n",
    "\n",
    "Notice how we didn't even hmave to call `str()` to convert position from an int. `format()` takes care of that for us.\n",
    "\n",
    "If that was all that `format()` did, it would still be incredibly useful. But as it turns out, it can do a lot more. Here's just a taste:"
   ]
  },
  {
   "cell_type": "code",
   "execution_count": 32,
   "id": "public-innocent",
   "metadata": {},
   "outputs": [
    {
     "data": {
      "text/plain": [
       "\"Pluto weighs about 1.3e+22 kilograms (0.218% of Earth's mass). It is home to 52,910,390 Plutonians.\""
      ]
     },
     "execution_count": 32,
     "metadata": {},
     "output_type": "execute_result"
    }
   ],
   "source": [
    "pluto_mass = 1.303 * 10**22\n",
    "earth_mass = 5.9722 * 10**24\n",
    "population = 52910390\n",
    "#          2 decimal points   3 decimal points, format as percent     separate with commas\n",
    "\"{} weighs about {:.2} kilograms ({:.3%} of Earth's mass). It is home to {:,} Plutonians.\".format(\n",
    "    planet, pluto_mass, pluto_mass / earth_mass, population,\n",
    ")"
   ]
  },
  {
   "cell_type": "code",
   "execution_count": 33,
   "id": "informative-rogers",
   "metadata": {},
   "outputs": [
    {
     "name": "stdout",
     "output_type": "stream",
     "text": [
      "Pluto's a planet.\n",
      "No, it's a dwarf planet.\n",
      "planet!\n",
      "dwarf planet!\n"
     ]
    }
   ],
   "source": [
    "# Referring to format() arguments by index, starting from 0\n",
    "s = \"\"\"Pluto's a {0}.\n",
    "No, it's a {1}.\n",
    "{0}!\n",
    "{1}!\"\"\".format('planet', 'dwarf planet')\n",
    "print(s)"
   ]
  },
  {
   "cell_type": "markdown",
   "id": "entitled-crime",
   "metadata": {},
   "source": [
    "## F-strings\n",
    "\n",
    "We can also use the f-strings to insert a variable's value into a string:\n",
    "\n",
    "***Note:*** F-strings were introduced in Python 3.6. If you're using Python 3.5 or earlier, you'll need to use the `format()` method. "
   ]
  },
  {
   "cell_type": "code",
   "execution_count": 34,
   "id": "legal-movement",
   "metadata": {},
   "outputs": [
    {
     "name": "stdout",
     "output_type": "stream",
     "text": [
      "John Doe\n",
      "Hello, John Doe!\n"
     ]
    }
   ],
   "source": [
    "first_name = 'John'\n",
    "last_name = 'Doe'\n",
    "\n",
    "full_name = f'{first_name} {last_name}'  # an f-string\n",
    "print(full_name)\n",
    "\n",
    "# You can also use f-strings to compose a message with variables in it.\n",
    "print(f'Hello, {full_name}!')"
   ]
  },
  {
   "cell_type": "markdown",
   "id": "bored-victoria",
   "metadata": {},
   "source": [
    "## Adding Whitespace to Strings with Tabs or Newlines\n",
    "\n",
    "You can use whitespace to organize your output so it's easier for users to read. "
   ]
  },
  {
   "cell_type": "code",
   "execution_count": 35,
   "id": "seven-methodology",
   "metadata": {},
   "outputs": [
    {
     "name": "stdout",
     "output_type": "stream",
     "text": [
      "Python\n",
      "\tPython\n",
      "\n",
      "Languages:\n",
      "Python\n",
      "C\n",
      "JavaScript\n"
     ]
    }
   ],
   "source": [
    "# This is a string without whitespace\n",
    "print(\"Python\")\n",
    "\n",
    "# This adds a tab (\\t) to the text\n",
    "print(\"\\tPython\")\n",
    "\n",
    "# This adds newlines (\\n) to the text\n",
    "print(\"\\nLanguages:\\nPython\\nC\\nJavaScript\")"
   ]
  },
  {
   "cell_type": "markdown",
   "id": "dirty-spencer",
   "metadata": {},
   "source": [
    "##  Stripping whitespace\n",
    "\n",
    "You can remove extra whitespace on either the right or left sides, or even both, of a string using `.lstrip()`, `.rstrip()`, and `.strip()`:"
   ]
  },
  {
   "cell_type": "code",
   "execution_count": 36,
   "id": "dietary-destiny",
   "metadata": {},
   "outputs": [
    {
     "name": "stdout",
     "output_type": "stream",
     "text": [
      "This 'Python  ' has been stripped of whitespace on the left.\n",
      "This '  Python' has been stripped of whitespace on the right.\n",
      "This 'Python' has been stripped of whitespace on both sides.\n"
     ]
    }
   ],
   "source": [
    "a = b = c = '  Python  '\n",
    "\n",
    "a = a.lstrip()   # remove whitespace on left side of the string\n",
    "b = b.rstrip()   # remove whitespace on right side of the string\n",
    "c = c.strip()    # remove whitespace on both sides of the string\n",
    "\n",
    "print(f'This \\'{a}\\' has been stripped of whitespace on the left.')\n",
    "print(f'This \\'{b}\\' has been stripped of whitespace on the right.')\n",
    "print(f'This \\'{c}\\' has been stripped of whitespace on both sides.')"
   ]
  },
  {
   "cell_type": "markdown",
   "id": "authorized-leisure",
   "metadata": {},
   "source": [
    "You can refer to [pyformat.info](https://pyformat.info/) and the [official docs](https://docs.python.org/3/library/string.html#formatstrings) for further reading."
   ]
  },
  {
   "cell_type": "markdown",
   "id": "several-survival",
   "metadata": {},
   "source": [
    "## Dictionaries\n",
    "\n",
    "Dictionaries are a built-in Python data structure for mapping keys to values. To define a dictionary literal, we put a comma-separated list of key-value pairs between curly brackets `{` and `}`. We use a colon to separate each key from its value:"
   ]
  },
  {
   "cell_type": "code",
   "execution_count": 37,
   "id": "cardiovascular-gregory",
   "metadata": {},
   "outputs": [],
   "source": [
    "numbers = {'one':1, 'two':2, 'three':3}"
   ]
  },
  {
   "cell_type": "markdown",
   "id": "satellite-warren",
   "metadata": {},
   "source": [
    "In this case 'one', 'two', and 'three' are the keys, and 1, 2 and 3 are their corresponding values.\n",
    "\n",
    "Values are accessed via square bracket syntax similar to indexing into lists and strings."
   ]
  },
  {
   "cell_type": "code",
   "execution_count": 38,
   "id": "physical-atlanta",
   "metadata": {},
   "outputs": [
    {
     "data": {
      "text/plain": [
       "1"
      ]
     },
     "execution_count": 38,
     "metadata": {},
     "output_type": "execute_result"
    }
   ],
   "source": [
    "numbers['one']"
   ]
  },
  {
   "cell_type": "markdown",
   "id": "resistant-wichita",
   "metadata": {},
   "source": [
    "We can use the same syntax to add another key, value pair"
   ]
  },
  {
   "cell_type": "code",
   "execution_count": 39,
   "id": "prime-edwards",
   "metadata": {},
   "outputs": [
    {
     "data": {
      "text/plain": [
       "{'one': 1, 'two': 2, 'three': 3, 'eleven': 11}"
      ]
     },
     "execution_count": 39,
     "metadata": {},
     "output_type": "execute_result"
    }
   ],
   "source": [
    "numbers['eleven'] = 11\n",
    "numbers"
   ]
  },
  {
   "cell_type": "markdown",
   "id": "level-lucas",
   "metadata": {},
   "source": [
    "Or to change the value associated with an existing key"
   ]
  },
  {
   "cell_type": "code",
   "execution_count": 40,
   "id": "nuclear-usage",
   "metadata": {},
   "outputs": [
    {
     "data": {
      "text/plain": [
       "{'one': 'Pluto', 'two': 2, 'three': 3, 'eleven': 11}"
      ]
     },
     "execution_count": 40,
     "metadata": {},
     "output_type": "execute_result"
    }
   ],
   "source": [
    "numbers['one'] = 'Pluto'\n",
    "numbers"
   ]
  },
  {
   "cell_type": "markdown",
   "id": "broken-huntington",
   "metadata": {},
   "source": [
    "Python has dictionary comprehensions with a syntax similar to the list comprehensions we saw in the previous lesson:"
   ]
  },
  {
   "cell_type": "code",
   "execution_count": 41,
   "id": "strategic-jungle",
   "metadata": {},
   "outputs": [
    {
     "data": {
      "text/plain": [
       "{'Mercury': 'M',\n",
       " 'Venus': 'V',\n",
       " 'Earth': 'E',\n",
       " 'Mars': 'M',\n",
       " 'Jupiter': 'J',\n",
       " 'Saturn': 'S',\n",
       " 'Uranus': 'U',\n",
       " 'Neptune': 'N'}"
      ]
     },
     "execution_count": 41,
     "metadata": {},
     "output_type": "execute_result"
    }
   ],
   "source": [
    "planets = ['Mercury', 'Venus', 'Earth', 'Mars', 'Jupiter', 'Saturn', 'Uranus', 'Neptune']\n",
    "planet_to_initial = {planet: planet[0] for planet in planets}\n",
    "planet_to_initial"
   ]
  },
  {
   "cell_type": "markdown",
   "id": "affected-dress",
   "metadata": {},
   "source": [
    "The `in` operator tells us whether something is a key in the dictionary"
   ]
  },
  {
   "cell_type": "code",
   "execution_count": 42,
   "id": "individual-worse",
   "metadata": {},
   "outputs": [
    {
     "data": {
      "text/plain": [
       "True"
      ]
     },
     "execution_count": 42,
     "metadata": {},
     "output_type": "execute_result"
    }
   ],
   "source": [
    "'Saturn' in planet_to_initial"
   ]
  },
  {
   "cell_type": "code",
   "execution_count": 43,
   "id": "noble-assembly",
   "metadata": {},
   "outputs": [
    {
     "data": {
      "text/plain": [
       "False"
      ]
     },
     "execution_count": 43,
     "metadata": {},
     "output_type": "execute_result"
    }
   ],
   "source": [
    "'Betelgeuse' in planet_to_initial"
   ]
  },
  {
   "cell_type": "markdown",
   "id": "wanted-square",
   "metadata": {},
   "source": [
    "A for loop over a dictionary will loop over its keys"
   ]
  },
  {
   "cell_type": "code",
   "execution_count": 44,
   "id": "medium-insurance",
   "metadata": {},
   "outputs": [
    {
     "name": "stdout",
     "output_type": "stream",
     "text": [
      "one = Pluto\n",
      "two = 2\n",
      "three = 3\n",
      "eleven = 11\n"
     ]
    }
   ],
   "source": [
    "for k in numbers:\n",
    "    print(\"{} = {}\".format(k, numbers[k]))"
   ]
  },
  {
   "cell_type": "markdown",
   "id": "working-general",
   "metadata": {},
   "source": [
    "## Switch-case statement\n",
    "\n",
    "Python does not have a switch statement, which other programming languages tend to have. On the bright side however, we can still achieve something similar by using a dictionary like below:"
   ]
  },
  {
   "cell_type": "code",
   "execution_count": 56,
   "id": "satellite-puppy",
   "metadata": {},
   "outputs": [
    {
     "name": "stdout",
     "output_type": "stream",
     "text": [
      "Department: Computer Science\n"
     ]
    }
   ],
   "source": [
    "DEPARTMENT_NAMES = {\n",
    "    \"CSC\": \"Computer Science\",\n",
    "    \"MAM\": \"Mathematics and Applied Mathematics\",\n",
    "    \"STA\": \"Statistical Sciences\", # Trailing commas like this are allowed in Python!\n",
    "}\n",
    "\n",
    "course_code = 'CSC'\n",
    "\n",
    "if course_code in DEPARTMENT_NAMES: # this tests whether the variable is one of the dictionary's keys\n",
    "    print(\"Department: %s\" % DEPARTMENT_NAMES[course_code])\n",
    "else:\n",
    "    print(\"Unknown course code: %s\" % course_code)"
   ]
  },
  {
   "cell_type": "markdown",
   "id": "genuine-lucas",
   "metadata": {},
   "source": [
    "## Dictionary methods\n",
    "\n",
    "We can access a collection of all the keys or all the values with `dict.keys()` and `dict.values()`, respectively."
   ]
  },
  {
   "cell_type": "code",
   "execution_count": 46,
   "id": "julian-clause",
   "metadata": {},
   "outputs": [
    {
     "data": {
      "text/plain": [
       "'E J M M N S U V'"
      ]
     },
     "execution_count": 46,
     "metadata": {},
     "output_type": "execute_result"
    }
   ],
   "source": [
    "# Get all the initials, sort them alphabetically, and put them in a space-separated string.\n",
    "' '.join(sorted(planet_to_initial.values()))"
   ]
  },
  {
   "cell_type": "markdown",
   "id": "adjusted-gilbert",
   "metadata": {},
   "source": [
    "We can also check if a value is in the dictionary using `in` operator in conjunction with the `dict.values` method:"
   ]
  },
  {
   "cell_type": "code",
   "execution_count": 47,
   "id": "textile-enlargement",
   "metadata": {},
   "outputs": [
    {
     "data": {
      "text/plain": [
       "True"
      ]
     },
     "execution_count": 47,
     "metadata": {},
     "output_type": "execute_result"
    }
   ],
   "source": [
    "'M' in planet_to_initial.values()"
   ]
  },
  {
   "cell_type": "markdown",
   "id": "latter-accounting",
   "metadata": {},
   "source": [
    "The very useful `dict.items()` method lets us iterate over the keys and values of a dictionary simultaneously. (In Python jargon, an item refers to a key, value pair)"
   ]
  },
  {
   "cell_type": "code",
   "execution_count": 48,
   "id": "small-compression",
   "metadata": {},
   "outputs": [
    {
     "name": "stdout",
     "output_type": "stream",
     "text": [
      "   Mercury begins with \"M\"\n",
      "     Venus begins with \"V\"\n",
      "     Earth begins with \"E\"\n",
      "      Mars begins with \"M\"\n",
      "   Jupiter begins with \"J\"\n",
      "    Saturn begins with \"S\"\n",
      "    Uranus begins with \"U\"\n",
      "   Neptune begins with \"N\"\n"
     ]
    }
   ],
   "source": [
    "for planet, initial in planet_to_initial.items():\n",
    "    print(\"{} begins with \\\"{}\\\"\".format(planet.rjust(10), initial))"
   ]
  },
  {
   "cell_type": "markdown",
   "id": "amateur-harmony",
   "metadata": {},
   "source": [
    "We can also use the `.get()` method to fetch the corresponding value of the specific key:"
   ]
  },
  {
   "cell_type": "code",
   "execution_count": 49,
   "id": "constitutional-marketing",
   "metadata": {},
   "outputs": [
    {
     "data": {
      "text/plain": [
       "'S'"
      ]
     },
     "execution_count": 49,
     "metadata": {},
     "output_type": "execute_result"
    }
   ],
   "source": [
    "planet_to_initial.get(\"Saturn\")"
   ]
  },
  {
   "cell_type": "markdown",
   "id": "leading-magazine",
   "metadata": {},
   "source": [
    "The `.update()` method allow us to update several values at once:"
   ]
  },
  {
   "cell_type": "code",
   "execution_count": 50,
   "id": "falling-pharmacy",
   "metadata": {},
   "outputs": [
    {
     "name": "stdout",
     "output_type": "stream",
     "text": [
      "{'red': 34, 'green': 32, 'brown': 31, 'yellow': 29, 'orange': 34, 'blue': 23, 'purple': 36}\n"
     ]
    }
   ],
   "source": [
    "marbles = {\"red\": 34, \"green\": 30, \"brown\": 31, \"yellow\": 29 }\n",
    "\n",
    "# Add several items to the dictionaryx at once, and modify \"green\" value to 29\n",
    "marbles.update({\"orange\": 34, \"blue\": 23, \"purple\": 36, \"green\": 32})\n",
    "\n",
    "print(marbles)"
   ]
  },
  {
   "cell_type": "markdown",
   "id": "tough-charles",
   "metadata": {},
   "source": [
    "## Removing key-value pairs\n",
    "   \n",
    "   You can use the `del` statement to remove a key-value pair:"
   ]
  },
  {
   "cell_type": "code",
   "execution_count": 51,
   "id": "minute-sewing",
   "metadata": {
    "scrolled": true
   },
   "outputs": [
    {
     "name": "stdout",
     "output_type": "stream",
     "text": [
      "{'red': 34, 'green': 32, 'yellow': 29, 'orange': 34, 'blue': 23, 'purple': 36}\n"
     ]
    }
   ],
   "source": [
    "del marbles[\"brown\"]  # delete key-value pair identified by the key: \"brown\"\n",
    "print(marbles)"
   ]
  },
  {
   "cell_type": "markdown",
   "id": "aware-feedback",
   "metadata": {},
   "source": [
    "## Different data types in a dictionary\n",
    "\n",
    "The keys in dictionary don’t have to be strings – we can mix different types of keys and different types of values:"
   ]
  },
  {
   "cell_type": "code",
   "execution_count": 52,
   "id": "horizontal-bolivia",
   "metadata": {},
   "outputs": [
    {
     "name": "stdout",
     "output_type": "stream",
     "text": [
      "False\n",
      "False\n"
     ]
    }
   ],
   "source": [
    "# Tuples are used as keys while corresponding values are in boolean\n",
    "battleship_guesses = {\n",
    "    (3, 4): False,\n",
    "    (2, 6): True,\n",
    "    (2, 5): True,\n",
    "}\n",
    "print(battleship_guesses[(3,4)]) # print value corresponding to key: (3,4)\n",
    "print(battleship_guesses.get((3,4))) # this does the same thing as the code above"
   ]
  },
  {
   "cell_type": "markdown",
   "id": "opening-snake",
   "metadata": {},
   "source": [
    "## Nesting\n",
    "\n",
    "You can store multiple dictionaries in a list, or a list of items as a value in a dictionary, i.e. *nesting*. You can nest dictionaries inside a list, a list of items inside a dictionary, or even a dictionary inside another dictionary:"
   ]
  },
  {
   "cell_type": "code",
   "execution_count": 53,
   "id": "spoken-catalyst",
   "metadata": {},
   "outputs": [
    {
     "name": "stdout",
     "output_type": "stream",
     "text": [
      "[{'brand': 'toyota', 'colour': 'silver'}, {'brand': 'honda', 'colour': 'blue'}, {'brand': 'mercedes', 'colour': 'white'}]\n"
     ]
    }
   ],
   "source": [
    "## nesting a list of dictionaries\n",
    "\n",
    "car_0 = {'brand': 'toyota', 'colour': 'silver'}\n",
    "car_1 = {'brand': 'honda', 'colour': 'blue'}\n",
    "car_2 = {'brand': 'mercedes', 'colour': 'white'}\n",
    "cars = [car_0, car_1, car_2]\n",
    "print(cars)"
   ]
  },
  {
   "cell_type": "code",
   "execution_count": 54,
   "id": "sixth-center",
   "metadata": {},
   "outputs": [
    {
     "name": "stdout",
     "output_type": "stream",
     "text": [
      "\n",
      "You ordered a thick-crust pizza with the following toppings: \n",
      "\tmushrooms\n",
      "\textra cheese\n"
     ]
    }
   ],
   "source": [
    "## nesting a list in a dictionary\n",
    "pizza = {\n",
    "    'crust':    'thick',\n",
    "    'toppings': ['mushrooms', 'extra cheese'],  # list of topping ingredients\n",
    "}\n",
    "\n",
    "print(f\"\\nYou ordered a {pizza['crust']}-crust pizza with the following toppings: \")\n",
    "\n",
    "# loop through list of topping and print each item\n",
    "for topping in pizza['toppings']:\n",
    "    print(f\"\\t{topping}\")"
   ]
  },
  {
   "cell_type": "code",
   "execution_count": 55,
   "id": "republican-collective",
   "metadata": {},
   "outputs": [
    {
     "name": "stdout",
     "output_type": "stream",
     "text": [
      "\n",
      "Username: aeinstein\n",
      "\tFull name: Albert Einstein\n",
      "\tLocation: Princeton\n",
      "\n",
      "Username: mcurie\n",
      "\tFull name: Marie Curie\n",
      "\tLocation: Paris\n"
     ]
    }
   ],
   "source": [
    "## nesting a dictionary in a dictionary\n",
    "users = {\n",
    "    'aeinstein': {\n",
    "        'first': 'albert',\n",
    "        'last' : 'einstein',\n",
    "        'location': 'princeton',\n",
    "    },\n",
    "    'mcurie': {\n",
    "        'first': 'marie',\n",
    "        'last' : 'curie',\n",
    "        'location': 'paris',\n",
    "    }\n",
    "}\n",
    "\n",
    "# loop through key-value pairs in dictionary and within each value, print every nested values: first, last and location\n",
    "for username, user_info in users.items():\n",
    "    print(f\"\\nUsername: {username}\")\n",
    "    full_name = f\"{user_info['first']} {user_info['last']}\"\n",
    "    location = user_info['location']\n",
    "    \n",
    "    print(f\"\\tFull name: {full_name.title()}\")\n",
    "    print(f\"\\tLocation: {location.title()}\")"
   ]
  },
  {
   "cell_type": "markdown",
   "id": "chemical-corrections",
   "metadata": {},
   "source": [
    "Next up, we'll learn about [working with external libraries](https://github.com/colintwh/python-basics/blob/master/external_libs.ipynb) that will aid in your coding and programs."
   ]
  }
 ],
 "metadata": {
  "kernelspec": {
   "display_name": "Python 3",
   "language": "python",
   "name": "python3"
  },
  "language_info": {
   "codemirror_mode": {
    "name": "ipython",
    "version": 3
   },
   "file_extension": ".py",
   "mimetype": "text/x-python",
   "name": "python",
   "nbconvert_exporter": "python",
   "pygments_lexer": "ipython3",
   "version": "3.8.5"
  }
 },
 "nbformat": 4,
 "nbformat_minor": 5
}
