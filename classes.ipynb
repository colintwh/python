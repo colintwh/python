{
 "cells": [
  {
   "cell_type": "markdown",
   "metadata": {},
   "source": [
    "# Classes\n",
    "\n",
    "---\n",
    "\n",
    "A class is a kind of data type. When you create individual objects from that data type, we call it an *instance* of a class. You can model almost anything using classes.\n",
    "\n",
    "The data values which we store inside an object are called *attributes*, and the functions which are associated with the object are called *methods*. \n",
    "\n",
    "Below is an example of a simple custom class which models a dog:"
   ]
  },
  {
   "cell_type": "code",
   "execution_count": 1,
   "metadata": {},
   "outputs": [],
   "source": [
    "class Dog:\n",
    "    \"\"\"A simple attempt to model a dog\"\"\"\n",
    "    \n",
    "    def __init__(self, name, age):\n",
    "        \"\"\"Initialise name and age attributes.\"\"\"\n",
    "        self.name = name\n",
    "        self.age = age"
   ]
  },
  {
   "cell_type": "markdown",
   "metadata": {},
   "source": [
    "## The `__init()__` constructor\n",
    "\n",
    "The first function is called `__init__()`, which is a special method. The purpose of this method is thus to set up a new object using data that we have provided. \n",
    "\n",
    "Note that this method has two leading underscores and two trailing underscores on each side of `__init__()`; these are called *dunders*. Names that have *dunders* are reserved for special use in Python. Basically, we are overloading the `__init__()` method in the example above.\n",
    "\n",
    "We define the `__init()__` method to have three parameters: `self`, `name` and `age`. The `self` parameter is required and it must come first before other parameters. Every method call associated with an instance automatically passes `self`, which is a reference to the instance itself; it gives the individual instance access to the attributes and methods in the class. \n",
    "\n",
    "We'll need to provide values for only the other parameters in this case; we don't need to pass `self` as it is automatically passed into the parameter in Python. \n",
    "\n",
    "We can now tell Python to make an instance representing a specific dog:"
   ]
  },
  {
   "cell_type": "code",
   "execution_count": 2,
   "metadata": {},
   "outputs": [
    {
     "name": "stdout",
     "output_type": "stream",
     "text": [
      "My dog's name is Willie.\n",
      "My dog is 5 years old.\n"
     ]
    }
   ],
   "source": [
    "# creating class instance of Dog and assign to object variable my_dog\n",
    "my_dog = Dog(\"Willie\", 5)\n",
    "\n",
    "# accessing dog's attributes - name and age\n",
    "print(f\"My dog's name is {my_dog.name}.\")\n",
    "print(f\"My dog is {my_dog.age} years old.\")"
   ]
  },
  {
   "cell_type": "markdown",
   "metadata": {},
   "source": [
    "When Python reads the line `my_dog = Dog(\"Willie\", 5)`, it calls the `__init__()` method with the arguments, `'Willie'` and `5`, and creates an object instance representing this particular dog. "
   ]
  },
  {
   "cell_type": "markdown",
   "metadata": {},
   "source": [
    "## Custom methods\n",
    "\n",
    "We can add other custom methods in the class that perform certain actions. After we create an instance from the class `Dog`, we can call any method defined in the class. For example:"
   ]
  },
  {
   "cell_type": "code",
   "execution_count": 3,
   "metadata": {},
   "outputs": [
    {
     "name": "stdout",
     "output_type": "stream",
     "text": [
      "Willie is now sitting.\n",
      "Willie rolled over!\n"
     ]
    }
   ],
   "source": [
    "class Dog:\n",
    "    \"\"\"A simple attempt to model a dog\"\"\"\n",
    "    \n",
    "    def __init__(self, name, age):\n",
    "        \"\"\"Initialise name and age attributes.\"\"\"\n",
    "        self.name = name\n",
    "        self.age = age\n",
    "        \n",
    "    def sit(self):\n",
    "        \"\"\"Simulate a dog sitting in response to a command.\"\"\"\n",
    "        print(f\"{self.name} is now sitting.\")\n",
    "        \n",
    "    def roll_over(self):\n",
    "        \"\"\"Simulate rolling over in response to a command.\"\"\"\n",
    "        print(f\"{self.name} rolled over!\")\n",
    "\n",
    "my_dog = Dog(\"Willie\", 5)\n",
    "\n",
    "# calling object methods\n",
    "my_dog.sit()\n",
    "my_dog.roll_over()"
   ]
  },
  {
   "cell_type": "markdown",
   "metadata": {},
   "source": [
    "## Creating multiple instances\n",
    "\n",
    "You can create as many instances from a class as you need. Let's create a second dog:"
   ]
  },
  {
   "cell_type": "code",
   "execution_count": 4,
   "metadata": {},
   "outputs": [
    {
     "name": "stdout",
     "output_type": "stream",
     "text": [
      "My dog's name is Willie.\n",
      "My dog is 5 years old.\n",
      "Willie is now sitting.\n",
      "\n",
      "My neighbour's dog is named Lucy.\n",
      "My neighbour's dog is 3.\n",
      "Lucy rolled over!\n"
     ]
    }
   ],
   "source": [
    "neighbours_dog = Dog('Lucy', 3)\n",
    "\n",
    "print(f\"My dog's name is {my_dog.name}.\")\n",
    "print(f\"My dog is {my_dog.age} years old.\")\n",
    "my_dog.sit()\n",
    "\n",
    "print(f\"\\nMy neighbour's dog is named {neighbours_dog.name}.\")\n",
    "print(f\"My neighbour's dog is {neighbours_dog.age}.\")\n",
    "neighbours_dog.roll_over()"
   ]
  },
  {
   "cell_type": "markdown",
   "metadata": {},
   "source": [
    "## Setting default attributes values\n",
    "\n",
    "Object attributes can be defined without being passed in as parameters. These attributes can be defined in the `__init__()` method, where they are assigned a default value:"
   ]
  },
  {
   "cell_type": "code",
   "execution_count": 5,
   "metadata": {},
   "outputs": [
    {
     "name": "stdout",
     "output_type": "stream",
     "text": [
      "2019 Audi A4\n",
      "This car has 0 miles on it.\n"
     ]
    }
   ],
   "source": [
    "class Car:\n",
    "    \n",
    "    def __init__(self, make, model, year):\n",
    "        \"\"\"Initialise attributes to describe a car.\"\"\"\n",
    "        self.make = make\n",
    "        self.model = model\n",
    "        self.year = year\n",
    "        self.odometer_reading = 0  # assign default value\n",
    "    \n",
    "    def get_descriptive_name(self):\n",
    "        \"\"\"Return a neatly formatted descriptive name.\"\"\"\n",
    "        long_name = f\"{self.year} {self.make} {self.model}\"\n",
    "        return long_name.title()\n",
    "    \n",
    "    def read_odometer(self):\n",
    "        \"\"\"Print a statement, showing the car's mileage.\"\"\"\n",
    "        print(f\"This car has {self.odometer_reading} miles on it.\")\n",
    "        \n",
    "\n",
    "my_new_car = Car('audi', 'a4', 2019)\n",
    "print(my_new_car.get_descriptive_name())\n",
    "my_new_car.read_odometer()"
   ]
  },
  {
   "cell_type": "markdown",
   "metadata": {},
   "source": [
    "## Modifying Attribute Values\n",
    "\n",
    "You can change an attribute's value in three ways: 1) directly through an instance, 2) set the value through a method, or 3) increment the value through a method. Let's look at each of these approaches:\n",
    "\n",
    "This is the simplest way to modify the value of an attribute through an instance:"
   ]
  },
  {
   "cell_type": "code",
   "execution_count": 6,
   "metadata": {},
   "outputs": [
    {
     "name": "stdout",
     "output_type": "stream",
     "text": [
      "This car has 23 miles on it.\n"
     ]
    }
   ],
   "source": [
    "my_new_car.odometer_reading = 23  # directly access attribute and assign a new value\n",
    "my_new_car.read_odometer()"
   ]
  },
  {
   "cell_type": "markdown",
   "metadata": {},
   "source": [
    "Another way is to pass the new value to a method that handles the updating internally. Let's rewrite the class and add in a new method:"
   ]
  },
  {
   "cell_type": "code",
   "execution_count": 7,
   "metadata": {},
   "outputs": [
    {
     "name": "stdout",
     "output_type": "stream",
     "text": [
      "2019 Audi A4\n",
      "This car has 23 miles on it.\n"
     ]
    }
   ],
   "source": [
    "class Car:\n",
    "    \n",
    "    def __init__(self, make, model, year):\n",
    "        \"\"\"Initialise attributes to describe a car.\"\"\"\n",
    "        self.make = make\n",
    "        self.model = model\n",
    "        self.year = year\n",
    "        self.odometer_reading = 0  # assign default value\n",
    "    \n",
    "    def get_descriptive_name(self):\n",
    "        \"\"\"Return a neatly formatted descriptive name.\"\"\"\n",
    "        long_name = f\"{self.year} {self.make} {self.model}\"\n",
    "        return long_name.title()\n",
    "    \n",
    "    def read_odometer(self):\n",
    "        \"\"\"Print a statement, showing the car's mileage.\"\"\"\n",
    "        print(f\"This car has {self.odometer_reading} miles on it.\")\n",
    "    \n",
    "    # new method to update odometer\n",
    "    def update_odometer(self, mileage):\n",
    "        \"\"\"Set the odometer reading to the given value\"\"\"\n",
    "        self.odometer_reading = mileage\n",
    "        \n",
    "my_new_car = Car('audi', 'a4', 2019)\n",
    "print(my_new_car.get_descriptive_name())\n",
    "\n",
    "my_new_car.update_odometer(23)\n",
    "my_new_car.read_odometer()"
   ]
  },
  {
   "cell_type": "markdown",
   "metadata": {},
   "source": [
    "Sometimes you'll want to increment an attribute's value by a certain amount rather than set an entirely new value:"
   ]
  },
  {
   "cell_type": "code",
   "execution_count": 8,
   "metadata": {},
   "outputs": [
    {
     "name": "stdout",
     "output_type": "stream",
     "text": [
      "2019 Subaru Outback\n",
      "This car has 23500 miles on it.\n",
      "This car has 23600 miles on it.\n"
     ]
    }
   ],
   "source": [
    "class Car:\n",
    "    \n",
    "    def __init__(self, make, model, year):\n",
    "        \"\"\"Initialise attributes to describe a car.\"\"\"\n",
    "        self.make = make\n",
    "        self.model = model\n",
    "        self.year = year\n",
    "        self.odometer_reading = 0  # assign default value\n",
    "    \n",
    "    def get_descriptive_name(self):\n",
    "        \"\"\"Return a neatly formatted descriptive name.\"\"\"\n",
    "        long_name = f\"{self.year} {self.make} {self.model}\"\n",
    "        return long_name.title()\n",
    "    \n",
    "    def read_odometer(self):\n",
    "        \"\"\"Print a statement, showing the car's mileage.\"\"\"\n",
    "        print(f\"This car has {self.odometer_reading} miles on it.\")\n",
    "    \n",
    "    def update_odometer(self, mileage):\n",
    "        \"\"\"Set the odometer reading to the given value\"\"\"\n",
    "        self.odometer_reading = mileage\n",
    "    \n",
    "    # new method to increment odometer\n",
    "    def increment_odometer(self, mileage):\n",
    "        \"\"\"Add the given amount to the odometer reading\"\"\"\n",
    "        self.odometer_reading += mileage\n",
    "\n",
    "my_new_car = Car('subaru', 'outback', 2019)\n",
    "print(my_new_car.get_descriptive_name())\n",
    "\n",
    "my_new_car.update_odometer(23_500)\n",
    "my_new_car.read_odometer()\n",
    "\n",
    "my_new_car.increment_odometer(100)\n",
    "my_new_car.read_odometer()"
   ]
  },
  {
   "cell_type": "markdown",
   "metadata": {},
   "source": [
    "## Adding attribute\n",
    "\n",
    "In Python, you can add new attributes, and even new methods, to an object on the fly. We could store a cached age value on the object from inside `get_age()` function within the class:"
   ]
  },
  {
   "cell_type": "code",
   "execution_count": 9,
   "metadata": {},
   "outputs": [
    {
     "name": "stdout",
     "output_type": "stream",
     "text": [
      "2\n"
     ]
    }
   ],
   "source": [
    "import datetime  # import datetime library to get current year\n",
    "\n",
    "class Car:\n",
    "    \n",
    "    def __init__(self, make, model, year):\n",
    "        \"\"\"Initialise attributes to describe a car.\"\"\"\n",
    "        self.make = make\n",
    "        self.model = model\n",
    "        self.year = year\n",
    "        self.odometer_reading = 0  # assign default value\n",
    "    \n",
    "    def get_age(self):\n",
    "        \"\"\"Return age of the car.\"\"\"\n",
    "        if hasattr(self, \"_age\"):   # detects whether the attribute '_age' exists\n",
    "            return self._age\n",
    "        \n",
    "        # calling today() from datetime library to get today's date - subsequently we get the year from the date\n",
    "        age = datetime.date.today().year - self.year  \n",
    "        self._age = age\n",
    "        return age\n",
    "\n",
    "my_new_car = Car('subaru', 'outback', 2019)\n",
    "print(my_new_car.get_age())"
   ]
  },
  {
   "cell_type": "markdown",
   "metadata": {},
   "source": [
    "Notice the use of underscore (`_`) in the attribute `_age`. Starting an attribute or method name with an underscore (`_`) is a convention in Python which we use to indicate that it is a “private” internal property and should not be accessed directly.\n",
    "\n",
    "We could also add new (unrelated) attributes from outside the object:"
   ]
  },
  {
   "cell_type": "code",
   "execution_count": 10,
   "metadata": {},
   "outputs": [],
   "source": [
    "# we added a new attribute 'boot' to the object and initialise the attribute with a list of items\n",
    "my_new_car.boot = ['spare tyre', 'trolley', 'toolbox']"
   ]
  },
  {
   "cell_type": "markdown",
   "metadata": {},
   "source": [
    "It is considered **bad practice**, however, to create new attributes in a method without initialising them in the `__init__` method. Setting arbitrary properties from outside the object is frowned upon even more, since it breaks the object-oriented paradigm. The `__init__` method will definitely be executed before anything else when we create the object – so it’s a good place to do all of our initialisation of the object’s data."
   ]
  },
  {
   "cell_type": "markdown",
   "metadata": {},
   "source": [
    "## `getattr`, `setattr` and `hasattr`\n",
    "\n",
    "Recall the usage of `hasattr` in an earlier example; `hasattr` detects whether an attribute exists:"
   ]
  },
  {
   "cell_type": "code",
   "execution_count": 11,
   "metadata": {
    "scrolled": true
   },
   "outputs": [
    {
     "data": {
      "text/plain": [
       "True"
      ]
     },
     "execution_count": 11,
     "metadata": {},
     "output_type": "execute_result"
    }
   ],
   "source": [
    "# returns true or false, dependent on whether the attribute exists\n",
    "hasattr(my_new_car, \"make\")  # True"
   ]
  },
  {
   "cell_type": "markdown",
   "metadata": {},
   "source": [
    "What if we want to get or set the value of an attribute of an object without hard-coding its name? We may sometimes want to loop over several attribute names and perform the same operation on all of them using `getattr`:"
   ]
  },
  {
   "cell_type": "code",
   "execution_count": 12,
   "metadata": {},
   "outputs": [
    {
     "name": "stdout",
     "output_type": "stream",
     "text": [
      "subaru\n",
      "outback\n",
      "2019\n",
      "['spare tyre', 'trolley', 'toolbox']\n",
      "None\n"
     ]
    }
   ],
   "source": [
    "for key in [\"make\", \"model\", \"year\", \"boot\", \"engine\"]:\n",
    "    print(getattr(my_new_car, key, None))"
   ]
  },
  {
   "cell_type": "markdown",
   "metadata": {},
   "source": [
    "The `getattr` is a built-in function, not a method on the object: it takes the object as its first parameter. The second parameter is the name of the variable as a string, and the optional third parameter is the default value to be returned if the attribute does not exist. If we do not specify a default value, `getattr` will raise an exception if the attribute does not exist.\n",
    "\n",
    "Similarly, `setattr` allows us to set the value of an attribute:"
   ]
  },
  {
   "cell_type": "code",
   "execution_count": 13,
   "metadata": {},
   "outputs": [],
   "source": [
    "mydict = {\n",
    "    'make' : 'Honda',\n",
    "    'model': 'Vettel',\n",
    "    'year': 2017, \n",
    "}\n",
    "\n",
    "# copying values in mydict over to my_new_car for each attribute specified\n",
    "for key in [\"make\", \"model\", \"year\"]:\n",
    "    setattr(my_new_car, key, mydict[key])"
   ]
  },
  {
   "cell_type": "markdown",
   "metadata": {},
   "source": [
    "## Class Attributes\n",
    "\n",
    "So far we have demonstrated *instance* attributes - these are set for the object instance we worked on. We can  also define attributes which are set on the *class*. These attributes will be shared by all instances of that class. In many ways they behave just like instance attributes.\n",
    "\n",
    "We define class attributes in the body of a class, at the same indentation level as method definitions (one level up from the insides of methods):"
   ]
  },
  {
   "cell_type": "code",
   "execution_count": 14,
   "metadata": {},
   "outputs": [
    {
     "data": {
      "text/plain": [
       "('Dr', 'Mr', 'Mrs', 'Ms')"
      ]
     },
     "execution_count": 14,
     "metadata": {},
     "output_type": "execute_result"
    }
   ],
   "source": [
    "class Person:\n",
    "    \n",
    "    # class attribute\n",
    "    TITLES = ('Dr', 'Mr', 'Mrs', 'Ms')\n",
    "\n",
    "    def __init__(self, title, name, surname):\n",
    "        if title not in self.TITLES:\n",
    "            raise ValueError(\"%s is not a valid title.\" % title)  # raise an exception\n",
    "        \n",
    "        # instance attributes\n",
    "        self.title = title\n",
    "        self.name = name\n",
    "        self.surname = surname\n",
    "\n",
    "person = Person(\"Mr\", \"John\", \"Doe\")\n",
    "\n",
    "# we can access a class attribute from an instance\n",
    "person.TITLES\n",
    "\n",
    "# but we can also access it from the class\n",
    "Person.TITLES"
   ]
  },
  {
   "cell_type": "markdown",
   "metadata": {},
   "source": [
    "All the `Person` objects we create will share the same `TITLES` class attribute. (Note we used uppercase words for class attributes to distinguish them from instance variables). Recall how [scope of variables work in the earlier lesson](https://github.com/colintwh/python/blob/master/functions.ipynb) to better understand how these work.\n",
    "\n",
    "Class attributes can also sometimes be used to provide default attribute values:"
   ]
  },
  {
   "cell_type": "code",
   "execution_count": 15,
   "metadata": {},
   "outputs": [],
   "source": [
    "class Person:\n",
    "    deceased = False\n",
    "\n",
    "    def mark_as_deceased(self):\n",
    "        self.deceased = True  # override class attribute with instance attribute"
   ]
  },
  {
   "cell_type": "markdown",
   "metadata": {},
   "source": [
    "When we set an attribute on an instance which has the same name as a class attribute, we are overriding the class attribute with an instance attribute, which will take precedence over it. If we create two `Person` objects and call the `mark_as_deceased` method on one of them, we will not affect the other one. "
   ]
  },
  {
   "cell_type": "code",
   "execution_count": 16,
   "metadata": {},
   "outputs": [
    {
     "name": "stdout",
     "output_type": "stream",
     "text": [
      "Is Albert deceased? False\n",
      "Is Einstein deceased? True\n"
     ]
    }
   ],
   "source": [
    "albert = Person()\n",
    "einstein = Person()\n",
    "einstein.mark_as_deceased()\n",
    "\n",
    "print(f\"Is Albert deceased? {albert.deceased}\")\n",
    "print(f\"Is Einstein deceased? {einstein.deceased}\")"
   ]
  },
  {
   "cell_type": "markdown",
   "metadata": {},
   "source": [
    "Be careful when a class attribute is of a mutable type – because if we modify it in-place, we will affect all objects of that class at the same time. Remember that all instances share the same class attributes:"
   ]
  },
  {
   "cell_type": "code",
   "execution_count": 17,
   "metadata": {},
   "outputs": [
    {
     "name": "stdout",
     "output_type": "stream",
     "text": [
      "['cat']\n",
      "['cat']\n"
     ]
    }
   ],
   "source": [
    "class Person:\n",
    "    pets = []\n",
    "\n",
    "    def add_pet(self, pet):\n",
    "        self.pets.append(pet)  # this appends to class attribute, not instance attribute\n",
    "\n",
    "jane = Person()\n",
    "bob = Person()\n",
    "\n",
    "jane.add_pet(\"cat\") \n",
    "print(jane.pets)\n",
    "print(bob.pets) # bob now also has \"cat\" added to its pets - not what we want"
   ]
  },
  {
   "cell_type": "markdown",
   "metadata": {},
   "source": [
    "We should initialise the mutable attribute as an instance attribute instead - inside `__init__` method. Then every instance will have its own separate copy:"
   ]
  },
  {
   "cell_type": "code",
   "execution_count": 18,
   "metadata": {},
   "outputs": [
    {
     "name": "stdout",
     "output_type": "stream",
     "text": [
      "['cat']\n",
      "[]\n"
     ]
    }
   ],
   "source": [
    "class Person:\n",
    "\n",
    "    def __init__(self):\n",
    "        self.pets = []  # pets is now an instance attribute\n",
    "\n",
    "    def add_pet(self, pet):\n",
    "        self.pets.append(pet)\n",
    "\n",
    "jane = Person()\n",
    "bob = Person()\n",
    "\n",
    "jane.add_pet(\"cat\")\n",
    "print(jane.pets)\n",
    "print(bob.pets)"
   ]
  },
  {
   "cell_type": "markdown",
   "metadata": {},
   "source": [
    "## Class decorators\n",
    "\n",
    "Decorators are used to modify behaviour of other functions. There are some built-in decorators which are often used in class definitions. \n",
    "\n",
    "### `@classmethod`\n",
    "\n",
    "Just like we can define class attributes, which are shared between all instances of a class, we can define class methods. We do this by using the `@classmethod` decorator to decorate an ordinary method.\n",
    "\n",
    "What are class methods good for? Sometimes there are tasks associated with a class which we can perform using constants and other class attributes, without needing to create any class instances."
   ]
  },
  {
   "cell_type": "code",
   "execution_count": 19,
   "metadata": {},
   "outputs": [],
   "source": [
    "class Person:\n",
    "\n",
    "    def __init__(self, name, surname, birthdate, address, telephone, email):\n",
    "        self.name = name\n",
    "        # (...)\n",
    "\n",
    "    @classmethod\n",
    "    def from_text_file(cls, filename):\n",
    "        # extract all the parameters from the text file\n",
    "        return cls(*params) # this is the same as calling Person(*params)"
   ]
  },
  {
   "cell_type": "markdown",
   "metadata": {},
   "source": [
    "A class method has its calling object as the first parameter, but by convention we rename this parameter from `self` to `cls`. If we call the class method from an instance, this parameter will contain the instance object, but if we call it from the class it will contain the class object. By calling the parameter `cls` we remind ourselves that it is not guaranteed to have any instance attributes."
   ]
  },
  {
   "cell_type": "markdown",
   "metadata": {},
   "source": [
    "### `@staticmethod`\n",
    "\n",
    "Unlike a class method, a static method doesn’t have the calling object passed into it as the first parameter - it doesn’t have access to the rest of the class or instance at all. \n",
    "\n",
    "The disadvantage is that if we do occasionally want to refer to another class method/attribute inside a static method, we have to write the class name out in full, which can be much more verbose.\n",
    "\n",
    "Here is a brief example comparing the three method types:"
   ]
  },
  {
   "cell_type": "code",
   "execution_count": 20,
   "metadata": {},
   "outputs": [
    {
     "name": "stdout",
     "output_type": "stream",
     "text": [
      "Jane Smith\n",
      "['Mr', 'Mrs', 'Ms']\n",
      "['Mr', 'Mrs', 'Ms']\n",
      "['Mrs', 'Ms']\n",
      "['Mrs', 'Ms']\n"
     ]
    }
   ],
   "source": [
    "class Person:\n",
    "    TITLES = ('Dr', 'Mr', 'Mrs', 'Ms')\n",
    "\n",
    "    def __init__(self, name, surname):\n",
    "        self.name = name\n",
    "        self.surname = surname\n",
    "\n",
    "    # This is an instance method\n",
    "    def fullname(self):\n",
    "        # instance object accessible through self\n",
    "        return \"%s %s\" % (self.name, self.surname)\n",
    "\n",
    "    # This is a class method\n",
    "    @classmethod\n",
    "    def allowed_titles_starting_with(cls, startswith):\n",
    "        # class or instance object accessible through cls\n",
    "        return [t for t in cls.TITLES if t.startswith(startswith)]\n",
    "\n",
    "    # This is a static method\n",
    "    @staticmethod\n",
    "    def allowed_titles_ending_with(endswith):\n",
    "        # no parameter for class or instance object\n",
    "        # we have to use Person directly\n",
    "        return [t for t in Person.TITLES if t.endswith(endswith)]\n",
    "\n",
    "\n",
    "jane = Person(\"Jane\", \"Smith\")\n",
    "\n",
    "print(jane.fullname())  # calling an instance method on object instance, \"jane\"\n",
    "\n",
    "print(jane.allowed_titles_starting_with(\"M\"))  \n",
    "print(Person.allowed_titles_starting_with(\"M\"))  # calling a class method on the class object, \"Person\"\n",
    "\n",
    "print(jane.allowed_titles_ending_with(\"s\"))\n",
    "print(Person.allowed_titles_ending_with(\"s\"))    # calling a static method on the class object, \"Person\""
   ]
  },
  {
   "cell_type": "markdown",
   "metadata": {},
   "source": [
    "### `@property`\n",
    "\n",
    "Sometimes we use a method to generate a property of an object dynamically, calculating it from the object’s other properties. The decorator `@property` facilitates this:"
   ]
  },
  {
   "cell_type": "code",
   "execution_count": 21,
   "metadata": {},
   "outputs": [
    {
     "name": "stdout",
     "output_type": "stream",
     "text": [
      "Jane Smith\n"
     ]
    }
   ],
   "source": [
    "# accessing fullname as an attribute directly\n",
    "class Person:\n",
    "    def __init__(self, name, surname):\n",
    "        self.name = name\n",
    "        self.surname = surname\n",
    "        \n",
    "        # fullname has to be made available as an attribute\n",
    "        self.fullname = name + \" \" + surname  # concatenate name and surname\n",
    "    \n",
    "jane = Person(\"Jane\", \"Smith\")\n",
    "print(jane.fullname) # accessing 'fullname' attribute"
   ]
  },
  {
   "cell_type": "code",
   "execution_count": 22,
   "metadata": {},
   "outputs": [
    {
     "name": "stdout",
     "output_type": "stream",
     "text": [
      "Jane Smith\n"
     ]
    }
   ],
   "source": [
    "# accessing fullname via 'get' method\n",
    "class Person:\n",
    "    def __init__(self, name, surname):\n",
    "        self.name = name\n",
    "        self.surname = surname\n",
    "    \n",
    "    # a 'get' method; we need not define fullname as an attribute this way\n",
    "    def get_fullname(self):\n",
    "        return (self.name + \" \" + self.surname)  # concatenate name and surname\n",
    "    \n",
    "jane = Person(\"Jane\", \"Smith\")\n",
    "print(jane.get_fullname()) # calling fullname() method"
   ]
  },
  {
   "cell_type": "code",
   "execution_count": 23,
   "metadata": {},
   "outputs": [
    {
     "name": "stdout",
     "output_type": "stream",
     "text": [
      "Jane Smith\n"
     ]
    }
   ],
   "source": [
    "# accessing fullname via @property\n",
    "class Person:\n",
    "    def __init__(self, name, surname):\n",
    "        self.name = name\n",
    "        self.surname = surname\n",
    "    \n",
    "    @property\n",
    "    def fullname(self):\n",
    "        return \"%s %s\" % (self.name, self.surname)\n",
    "\n",
    "jane = Person(\"Jane\", \"Smith\")\n",
    "print(jane.fullname) # no brackets needed! We call @property decorator similar to how an attribute is accessed"
   ]
  },
  {
   "cell_type": "markdown",
   "metadata": {},
   "source": [
    "The advantage of using `@property` is that if even if `name` and `surname` - attributes which `fullname` is derived from - are changed, the changes will automatically be reflected in the `fullname` property. \n",
    "\n",
    "Defining a method to retrieve `fullname` makes the code unnecessarily verbose, hence the use of `@property` is useful in this case."
   ]
  },
  {
   "cell_type": "markdown",
   "metadata": {},
   "source": [
    "## Inspecting an object\n",
    "\n",
    "We can check what properties are defined on an object using the `dir` function which we have already learned:"
   ]
  },
  {
   "cell_type": "code",
   "execution_count": 24,
   "metadata": {},
   "outputs": [
    {
     "name": "stdout",
     "output_type": "stream",
     "text": [
      "['__class__', '__delattr__', '__dict__', '__dir__', '__doc__', '__eq__', '__format__', '__ge__', '__getattribute__', '__gt__', '__hash__', '__init__', '__init_subclass__', '__le__', '__lt__', '__module__', '__ne__', '__new__', '__reduce__', '__reduce_ex__', '__repr__', '__setattr__', '__sizeof__', '__str__', '__subclasshook__', '__weakref__', 'fullname', 'name', 'surname']\n"
     ]
    }
   ],
   "source": [
    "print(dir(jane))"
   ]
  },
  {
   "cell_type": "markdown",
   "metadata": {},
   "source": [
    "We can see the attributes and method I've defined – but what’s all that other stuff? We will discuss inheritance later on, but for now you need to know is that any class that you define has object as its parent class even if you don’t explicitly say so – so your class will have a lot of default attributes and methods that any Python object has."
   ]
  },
  {
   "cell_type": "markdown",
   "metadata": {},
   "source": [
    "## Overriding special methods\n",
    "\n",
    "We've seen how to overload the `__init__` method to initialise our class. We can also overload other special methods such as `__str__`. The purpose of `__str__` method is to output a useful string representation of our object. By default if we use the str function on a person object (which will call the `__str__` method), all that we will get is the class name and an ID. That’s not very useful! \n",
    "\n",
    "Let’s override by writing our own custom `__str__` method which shows the values of all of the object’s properties:"
   ]
  },
  {
   "cell_type": "code",
   "execution_count": 25,
   "metadata": {},
   "outputs": [
    {
     "name": "stdout",
     "output_type": "stream",
     "text": [
      "<__main__.Person object at 0x7f82bc425fa0>\n",
      "\n",
      "Jane Doe, born 1992-03-12\n",
      "Address: No. 12 Short Street, Greenville\n",
      "Telephone: 555 456 0987\n",
      "Email:jane.doe@example.com\n"
     ]
    }
   ],
   "source": [
    "import datetime\n",
    "\n",
    "class Person:\n",
    "    def __init__(self, name, surname, birthdate, address, telephone, email):\n",
    "        self.name = name\n",
    "        self.surname = surname\n",
    "        self.birthdate = birthdate\n",
    "\n",
    "        self.address = address\n",
    "        self.telephone = telephone\n",
    "        self.email = email\n",
    "\n",
    "jane = Person(\n",
    "    \"Jane\",\n",
    "    \"Doe\",\n",
    "    datetime.date(1992, 3, 12), # year, month, day\n",
    "    \"No. 12 Short Street, Greenville\",\n",
    "    \"555 456 0987\",\n",
    "    \"jane.doe@example.com\"\n",
    ")\n",
    "# calling a print on Jane will return not-useful values\n",
    "print(jane)\n",
    "\n",
    "\n",
    "# redefine class with __str__ method override\n",
    "class Person:\n",
    "    def __init__(self, name, surname, birthdate, address, telephone, email):\n",
    "        self.name = name\n",
    "        self.surname = surname\n",
    "        self.birthdate = birthdate\n",
    "\n",
    "        self.address = address\n",
    "        self.telephone = telephone\n",
    "        self.email = email\n",
    "\n",
    "    # overriding __str__ method\n",
    "    def __str__(self):\n",
    "        return \"%s %s, born %s\\nAddress: %s\\nTelephone: %s\\nEmail:%s\" % (self.name, self.surname, self.birthdate, self.address, self.telephone, self.email)\n",
    "\n",
    "        \n",
    "jane = Person(\n",
    "    \"Jane\",\n",
    "    \"Doe\",\n",
    "    datetime.date(1992, 3, 12), # year, month, day\n",
    "    \"No. 12 Short Street, Greenville\",\n",
    "    \"555 456 0987\",\n",
    "    \"jane.doe@example.com\"\n",
    ")\n",
    "\n",
    "print(\"\") # newline\n",
    "\n",
    "print(jane) # compare the changes in result"
   ]
  },
  {
   "cell_type": "markdown",
   "metadata": {},
   "source": [
    "Suppose that we want our person objects to be equal if all their attributes have the same values, and we want to be able to order them alphabetically by surname and then by first name. \n",
    "\n",
    "All of the in-built comparison methods are independent of each other, so we will need to overload all of them if we want all of them to work – but fortunately once we have defined equality and one of the basic order methods the rest are easy to do. Each of these methods takes two parameters – self for the current object, and other for the other object:"
   ]
  },
  {
   "cell_type": "code",
   "execution_count": 26,
   "metadata": {},
   "outputs": [
    {
     "data": {
      "text/plain": [
       "True"
      ]
     },
     "execution_count": 26,
     "metadata": {},
     "output_type": "execute_result"
    }
   ],
   "source": [
    "class Person:\n",
    "    def __init__(self, name, surname):\n",
    "        self.name = name\n",
    "        self.surname = surname\n",
    "\n",
    "    def __eq__(self, other): # does self == other?\n",
    "        return self.name == other.name and self.surname == other.surname\n",
    "\n",
    "    def __gt__(self, other): # is self > other?\n",
    "        if self.surname == other.surname:\n",
    "            return self.name > other.name\n",
    "        return self.surname > other.surname\n",
    "\n",
    "    # now we can define all the other methods in terms of the first two\n",
    "\n",
    "    def __ne__(self, other): # does self != other?\n",
    "        return not self == other # this calls self.__eq__(other)\n",
    "\n",
    "    def __le__(self, other): # is self <= other?\n",
    "        return not self > other # this calls self.__gt__(other)\n",
    "\n",
    "    def __lt__(self, other): # is self < other?\n",
    "        return not (self > other or self == other)\n",
    "\n",
    "    def __ge__(self, other): # is self >= other?\n",
    "        return not self < other\n",
    "    \n",
    "jane = Person(\"Jane\",\"Doe\")\n",
    "albert = Person(\"Albert\",\"Einstein\")\n",
    "\n",
    "albert > jane # True"
   ]
  },
  {
   "cell_type": "markdown",
   "metadata": {},
   "source": [
    "## Inheritance\n",
    "\n",
    "It's not necessary to start from scratch when writing a class - you can use *inheritance*. When one class *inherits* from another, it takes on the attributes and methods of the *parent* class; the class that inherits from the parent is the *child* class, and it can define new attributes and methods of its own.\n",
    "\n",
    "Here is an example of inheritance:"
   ]
  },
  {
   "cell_type": "code",
   "execution_count": 27,
   "metadata": {},
   "outputs": [
    {
     "name": "stdout",
     "output_type": "stream",
     "text": [
      "2019 tesla model s\n",
      "This car has a 75-kWh battery.\n"
     ]
    }
   ],
   "source": [
    "class Car:\n",
    "    \"\"\"A simple attempt to model a car\"\"\"\n",
    "    \n",
    "    def __init__(self, make, model, year):\n",
    "        self.make = make\n",
    "        self.model = model\n",
    "        self.year = year\n",
    "        self.odometer_reading = 0\n",
    "    \n",
    "    @property\n",
    "    def get_descriptive_name(self):\n",
    "        return f\"{self.year} {self.make} {self.model}\"\n",
    "    \n",
    "    def read_odometer(self):\n",
    "        print(f\"This car has {self.odometer_reading} miles on it.\")\n",
    "    \n",
    "    def update_odometer(self, mileage):\n",
    "        if mileage >= self.odometer_reading: \n",
    "            self.odometer_reading = mileage\n",
    "        else:\n",
    "            print(\"You can't roll back an odometer!\")\n",
    "            \n",
    "    def increment_odometer(self, miles):\n",
    "        self.odometer_reading += miles\n",
    "        \n",
    "        \n",
    "# inheriting from class Car\n",
    "class ElectricCar(Car):\n",
    "    \"\"\"Represent aspects of a car, specific to electric vehicles\"\"\"\n",
    "    \n",
    "    def __init__(self, make, model, year):\n",
    "        \"\"\"Initialise attributes of the parent class\"\"\"\n",
    "        \n",
    "        # calling method from parent class\n",
    "        super().__init__(make, model, year)\n",
    "        self.battery_size = 75\n",
    "\n",
    "    # the parent class will not have this\n",
    "    def describe_battery(self):\n",
    "        \"\"\"Print a statement describing the battery size\"\"\"\n",
    "        print(f\"This car has a {self.battery_size}-kWh battery.\")\n",
    "        \n",
    "my_tesla = ElectricCar('tesla', 'model s', 2019)\n",
    "print(my_tesla.get_descriptive_name)\n",
    "my_tesla.describe_battery()"
   ]
  },
  {
   "cell_type": "markdown",
   "metadata": {},
   "source": [
    "When you create a child class, the parent class must be part of the current file and must appear before the child class in the file. When defining the child class, *ElectricCar* the name of the parent class must be included in the parentheses in the class definition. The `super()` function is a special function that allows you to call a method from the parent class. \n",
    "\n",
    "You can work on the child class as though as you would for any ordinary class - defining attributes and methods. \n",
    "\n",
    "You can also override any method from the parent class. You can also override any method from the parent class by defining a method with the same name as the method you want to override in the parent class. Python will disregard the parent class method and only use the method defined in the child class. "
   ]
  },
  {
   "cell_type": "markdown",
   "metadata": {},
   "source": [
    "## Importing Classes\n",
    "\n",
    "Likewise for functions, you can import the classes stored in modules into your main program. For example, we can store the above class definitions into a separate file named `car.py` and import the classes from that module. You can import as many classes as you need as well:"
   ]
  },
  {
   "cell_type": "code",
   "execution_count": 29,
   "metadata": {},
   "outputs": [
    {
     "name": "stdout",
     "output_type": "stream",
     "text": [
      "2019 tesla model s\n",
      "This car has a 75-kWh battery.\n"
     ]
    }
   ],
   "source": [
    "from car import Car, ElectricCar\n",
    "\n",
    "my_tesla = ElectricCar('tesla', 'model s', 2019)\n",
    "print(my_tesla.get_descriptive_name)\n",
    "my_tesla.describe_battery()"
   ]
  },
  {
   "cell_type": "markdown",
   "metadata": {},
   "source": [
    "We can import an entire module or specific classes from a module, just as we did for functions. Likewise, we can also use alias:"
   ]
  },
  {
   "cell_type": "code",
   "execution_count": 30,
   "metadata": {},
   "outputs": [],
   "source": [
    "# import entire module\n",
    "import car\n",
    "\n",
    "# import all classes from a module\n",
    "from car import *\n",
    "\n",
    "# using alias\n",
    "from car import ElectricCar as EC"
   ]
  },
  {
   "cell_type": "markdown",
   "metadata": {},
   "source": [
    "Next up, we'll learn about [files, and handling errors in your programs](https://github.com/colintwh/python-basics/blob/master/files_exceptions.ipynb)"
   ]
  }
 ],
 "metadata": {
  "kernelspec": {
   "display_name": "Python 3",
   "language": "python",
   "name": "python3"
  },
  "language_info": {
   "codemirror_mode": {
    "name": "ipython",
    "version": 3
   },
   "file_extension": ".py",
   "mimetype": "text/x-python",
   "name": "python",
   "nbconvert_exporter": "python",
   "pygments_lexer": "ipython3",
   "version": "3.8.5"
  }
 },
 "nbformat": 4,
 "nbformat_minor": 4
}
