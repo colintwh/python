{
 "cells": [
  {
   "cell_type": "markdown",
   "metadata": {},
   "source": [
    "# Collections\n",
    "\n",
    "---\n",
    "   Now we will see how we can group multiple values together in a collection – like a *list* of numbers, or a *dictionary* which we can use to store and retrieve key-value pairs. Many useful collections are built-in types in Python, and we will encounter them quite often.\n",
    "   \n",
    "## Lists\n",
    "   A *list* is a collection of items in a particular order - a type of sequence that we can use it to store multiple values, and access them sequentially, by their position, or index. In Python, square brackets `[]` indicate a list, and individual elements in the list are separated by commas:"
   ]
  },
  {
   "cell_type": "code",
   "execution_count": 1,
   "metadata": {},
   "outputs": [],
   "source": [
    "# a list of strings\n",
    "animals = ['cat', 'dog', 'fish', 'bison']\n",
    "\n",
    "# a list of integers\n",
    "numbers = [1, 7, 34, 20, 12, 7]\n",
    "\n",
    "# an empty list\n",
    "my_list = []\n",
    "\n",
    "a = \"1\"   # this is a string\n",
    "b = 2     # this is an integer\n",
    "c = 3.0   # this is a float\n",
    "d = \"hello world!\"\n",
    "e = True\n",
    "\n",
    "# we can mix the types of values we store in a list\n",
    "things = [\n",
    "    a,\n",
    "    b,\n",
    "    c, \n",
    "    d, \n",
    "    e, # this trailing comma is legal in Python\n",
    "]"
   ]
  },
  {
   "cell_type": "markdown",
   "metadata": {},
   "source": [
    "Because a list usually contains more than one element, it's a good practice to use plural nouns to label your list, such as *letters*, *digits*, or *names*. If you print a list in Python, the interpreter will return its representation of the list, including the square brackets."
   ]
  },
  {
   "cell_type": "code",
   "execution_count": 2,
   "metadata": {},
   "outputs": [
    {
     "name": "stdout",
     "output_type": "stream",
     "text": [
      "['cat', 'dog', 'fish', 'bison']\n",
      "[1, 7, 34, 20, 12, 7]\n",
      "['1', 2, 3.0, 'hello world!', True]\n"
     ]
    }
   ],
   "source": [
    "print(animals)\n",
    "print(numbers)\n",
    "print(things)"
   ]
  },
  {
   "cell_type": "markdown",
   "metadata": {},
   "source": [
    "### Accessing elements in a list\n",
    "   To access an element in a list, write the name of the list followed by the index of the item enclosed in square brackets. Python considers the first item in a list to be at position 0, **not** position 1. This case applies in most programming languages."
   ]
  },
  {
   "cell_type": "code",
   "execution_count": 4,
   "metadata": {},
   "outputs": [
    {
     "name": "stdout",
     "output_type": "stream",
     "text": [
      "cat\n",
      "7\n",
      "Hello World!\n"
     ]
    }
   ],
   "source": [
    "print(animals[0]) # prints first item: cat\n",
    "print(numbers[1]) # prints second item: 7\n",
    "\n",
    "# You can use string methods on any element in the list\n",
    "print(things[3].title())"
   ]
  },
  {
   "cell_type": "code",
   "execution_count": 5,
   "metadata": {},
   "outputs": [
    {
     "ename": "IndexError",
     "evalue": "list index out of range",
     "output_type": "error",
     "traceback": [
      "\u001b[0;31m---------------------------------------------------------------------------\u001b[0m",
      "\u001b[0;31mIndexError\u001b[0m                                Traceback (most recent call last)",
      "\u001b[0;32m<ipython-input-5-0b4a5f52e2f9>\u001b[0m in \u001b[0;36m<module>\u001b[0;34m\u001b[0m\n\u001b[1;32m      1\u001b[0m \u001b[0;31m# This will give us an error, because the list only has four elements\u001b[0m\u001b[0;34m\u001b[0m\u001b[0;34m\u001b[0m\u001b[0;34m\u001b[0m\u001b[0m\n\u001b[0;32m----> 2\u001b[0;31m \u001b[0mprint\u001b[0m\u001b[0;34m(\u001b[0m\u001b[0manimals\u001b[0m\u001b[0;34m[\u001b[0m\u001b[0;36m6\u001b[0m\u001b[0;34m]\u001b[0m\u001b[0;34m)\u001b[0m\u001b[0;34m\u001b[0m\u001b[0;34m\u001b[0m\u001b[0m\n\u001b[0m",
      "\u001b[0;31mIndexError\u001b[0m: list index out of range"
     ]
    }
   ],
   "source": [
    "# This will give us an error, because the list only has four elements\n",
    "print(animals[6])"
   ]
  },
  {
   "cell_type": "markdown",
   "metadata": {},
   "source": [
    "Using the `index()` method allows you to find index of a value in the list"
   ]
  },
  {
   "cell_type": "code",
   "execution_count": 6,
   "metadata": {},
   "outputs": [
    {
     "name": "stdout",
     "output_type": "stream",
     "text": [
      "Index position of 34 in numbers is: 2\n",
      "Index position of dog in animals is: 1\n",
      "Index position of 7 in numbers is: 1\n"
     ]
    }
   ],
   "source": [
    "# find the index of a value\n",
    "a = numbers.index(34)\n",
    "b = animals.index('dog')\n",
    "print(f'Index position of 34 in numbers is: {a}')\n",
    "print(f'Index position of dog in animals is: {b}')\n",
    "\n",
    "# if the value appears more than once, we will get the index of the first one\n",
    "c = numbers.index(7)\n",
    "print(f'Index position of 7 in numbers is: {c}')"
   ]
  },
  {
   "cell_type": "code",
   "execution_count": 7,
   "metadata": {},
   "outputs": [
    {
     "ename": "ValueError",
     "evalue": "42 is not in list",
     "output_type": "error",
     "traceback": [
      "\u001b[0;31m---------------------------------------------------------------------------\u001b[0m",
      "\u001b[0;31mValueError\u001b[0m                                Traceback (most recent call last)",
      "\u001b[0;32m<ipython-input-7-a159007b6162>\u001b[0m in \u001b[0;36m<module>\u001b[0;34m\u001b[0m\n\u001b[1;32m      1\u001b[0m \u001b[0;31m# if the value is not in the list, we will get a ValueError!\u001b[0m\u001b[0;34m\u001b[0m\u001b[0;34m\u001b[0m\u001b[0;34m\u001b[0m\u001b[0m\n\u001b[0;32m----> 2\u001b[0;31m \u001b[0mnumbers\u001b[0m\u001b[0;34m.\u001b[0m\u001b[0mindex\u001b[0m\u001b[0;34m(\u001b[0m\u001b[0;36m42\u001b[0m\u001b[0;34m)\u001b[0m\u001b[0;34m\u001b[0m\u001b[0;34m\u001b[0m\u001b[0m\n\u001b[0m",
      "\u001b[0;31mValueError\u001b[0m: 42 is not in list"
     ]
    }
   ],
   "source": [
    "# if the value is not in the list, we will get a ValueError!\n",
    "numbers.index(42)"
   ]
  },
  {
   "cell_type": "markdown",
   "metadata": {},
   "source": [
    "   Python also facilitates a special syntax for accessing the last element in a list, by asking for the item at index `-1`. This is useful when you'll want to access the last items in a list without knowing exactly how long the list is. The convention extends to other negative values as well:"
   ]
  },
  {
   "cell_type": "code",
   "execution_count": 8,
   "metadata": {},
   "outputs": [
    {
     "name": "stdout",
     "output_type": "stream",
     "text": [
      "bison\n",
      "12\n"
     ]
    }
   ],
   "source": [
    "print(animals[-1])  # prints last item: bison\n",
    "print(numbers[-2])  # prints second last item: 20"
   ]
  },
  {
   "cell_type": "markdown",
   "metadata": {},
   "source": [
    "### Extracting subsets\n",
    "We can extract a subset of a list, which will itself be a list, using a slice. This uses almost the same syntax as accessing a single element, but instead of specifying a single index between the square brackets we need to specify an upper and lower bound. Note that our sublist will include the element at the lower bound, but exclude the element at the upper bound:"
   ]
  },
  {
   "cell_type": "code",
   "execution_count": 9,
   "metadata": {},
   "outputs": [
    {
     "name": "stdout",
     "output_type": "stream",
     "text": [
      "['dog', 'fish']\n",
      "['dog', 'fish']\n"
     ]
    }
   ],
   "source": [
    "print(animals[1:3])  # prints range from second (dog) to fourth item (fish)\n",
    "print(animals[1:-1]) # this achieves the same result; range from second to second last item (fish)"
   ]
  },
  {
   "cell_type": "markdown",
   "metadata": {},
   "source": [
    "   If one of the bounds is one of the ends of the list, we can leave it out. A slice with neither bound specified gives us a copy of the list:"
   ]
  },
  {
   "cell_type": "code",
   "execution_count": 10,
   "metadata": {},
   "outputs": [
    {
     "name": "stdout",
     "output_type": "stream",
     "text": [
      "['fish', 'bison']\n",
      "['cat', 'dog']\n",
      "['cat', 'dog', 'fish', 'bison']\n"
     ]
    }
   ],
   "source": [
    "print(animals[2:]) # prints range from third item onwards\n",
    "print(animals[:2]) # prints range (from first) till second item\n",
    "print(animals[:])  # prints whole list"
   ]
  },
  {
   "cell_type": "markdown",
   "metadata": {},
   "source": [
    "   Note that printing `animals` and `animals[:]` yields the same output but their usage in assignment operator behaves differently in the program, which we will see later below.\n",
    "   \n",
    "   We can also include a third parameter to specify the step size:"
   ]
  },
  {
   "cell_type": "code",
   "execution_count": 11,
   "metadata": {},
   "outputs": [
    {
     "name": "stdout",
     "output_type": "stream",
     "text": [
      "['cat', 'fish']\n"
     ]
    }
   ],
   "source": [
    "print(animals[::2]) # prints range starting from first item, but skips every alternate item"
   ]
  },
  {
   "cell_type": "markdown",
   "metadata": {},
   "source": [
    "### Changing, Adding and Removing Elements\n",
    "   Lists are mutable – we can modify elements, add elements to them or remove elements from them. A list will change size dynamically when we add or remove elements – we don’t have to manage this ourselves:"
   ]
  },
  {
   "cell_type": "code",
   "execution_count": 12,
   "metadata": {},
   "outputs": [
    {
     "name": "stdout",
     "output_type": "stream",
     "text": [
      "['cat', 'dog', 'hamster', 'squirrel']\n"
     ]
    }
   ],
   "source": [
    "# assign a new value to an existing element\n",
    "animals[3] = \"hamster\"\n",
    "\n",
    "# add a new element to the end of the list\n",
    "animals.append(\"squirrel\")\n",
    "\n",
    "# remove an element by its index\n",
    "del animals[2]  # deletes 'fish'\n",
    "\n",
    "print(animals)"
   ]
  },
  {
   "cell_type": "markdown",
   "metadata": {},
   "source": [
    "You can add a new element at any position in your list by using the `insert()` method:"
   ]
  },
  {
   "cell_type": "code",
   "execution_count": 13,
   "metadata": {},
   "outputs": [
    {
     "name": "stdout",
     "output_type": "stream",
     "text": [
      "['cat', 'dog', 'rabbit', 'hamster', 'squirrel']\n",
      "[45, 1, 7, 34, 20, 12, 7]\n"
     ]
    }
   ],
   "source": [
    "# insert a string value at third position\n",
    "animals.insert(2, 'rabbit')  \n",
    "print(animals)\n",
    "\n",
    "# insert a numerical value at a particular index\n",
    "numbers.insert(0, 45) # insert 45 at the beginning of the list\n",
    "print(numbers)"
   ]
  },
  {
   "cell_type": "markdown",
   "metadata": {},
   "source": [
    "Instead of using `append()`, which works with only **one** new element, you can use the `extend()` method to append multiple values at the end of the list:"
   ]
  },
  {
   "cell_type": "code",
   "execution_count": 14,
   "metadata": {},
   "outputs": [
    {
     "name": "stdout",
     "output_type": "stream",
     "text": [
      "[45, 1, 7, 34, 20, 12, 7, 56, 2, 12]\n"
     ]
    }
   ],
   "source": [
    "# append several values at once to the end\n",
    "numbers.extend([56, 2, 12])\n",
    "print(numbers)"
   ]
  },
  {
   "cell_type": "markdown",
   "metadata": {},
   "source": [
    "### Pop and remove\n",
    "Sometimes you'll want to use the value of an item after you remove it from a list. The `pop()` method removes the last item in a list, but it lets you work with that item after removing it. The term *pop* comes from thinking of a list as a stack of items and popping one items off the top of the stack. In this analogy, the top of a stack corresponds to the end of a list:"
   ]
  },
  {
   "cell_type": "code",
   "execution_count": 15,
   "metadata": {},
   "outputs": [
    {
     "name": "stdout",
     "output_type": "stream",
     "text": [
      "['cat', 'dog', 'rabbit', 'hamster']\n",
      "squirrel\n",
      "The first animal in the list was cat.\n"
     ]
    }
   ],
   "source": [
    "popped_animal = animals.pop() # remove last list item: 'aardvark' and assign it to popped_animal\n",
    "print(animals)\n",
    "print(popped_animal)\n",
    "\n",
    "# You can also pop items from any position in a list by specifying an index\n",
    "first_animal = animals.pop(0)\n",
    "print(f'The first animal in the list was {first_animal}.')"
   ]
  },
  {
   "cell_type": "markdown",
   "metadata": {},
   "source": [
    "You can remove an item from the list if you know the value of the item even though you do not know the position of the item in the list:"
   ]
  },
  {
   "cell_type": "code",
   "execution_count": 16,
   "metadata": {},
   "outputs": [
    {
     "name": "stdout",
     "output_type": "stream",
     "text": [
      "['honda', 'yamaha', 'suzuki']\n",
      "\n",
      "I just bought a Honda motorcycle.\n"
     ]
    }
   ],
   "source": [
    "# remove based on value of the item\n",
    "motorcycles = ['honda', 'yamaha', 'suzuki', 'ducati']\n",
    "motorcycles.remove('ducati')\n",
    "print(motorcycles)\n",
    "\n",
    "# You can also use remove() to work with the removed item\n",
    "purchased_motorcycle = 'honda'\n",
    "motorcycles.remove(purchased_motorcycle)\n",
    "print(f'\\nI just bought a {purchased_motorcycle.title()} motorcycle.')"
   ]
  },
  {
   "cell_type": "markdown",
   "metadata": {},
   "source": [
    "**Note**: The `remove()` method deletes only the *first* occurence of the value you specify. If there's a possibility the value appears more than once in the list, you'll need to use a loop.\n"
   ]
  },
  {
   "cell_type": "markdown",
   "metadata": {},
   "source": [
    "### Lists are mutable\n",
    "Because lists are mutable, we can modify a list variable without assigning the variable a completely new value. Remember that if we assign the same list value to two variables, any in-place changes that we make while referring to the list by one variable name will also be reflected when we access the list through the other variable name:"
   ]
  },
  {
   "cell_type": "code",
   "execution_count": 17,
   "metadata": {},
   "outputs": [
    {
     "name": "stdout",
     "output_type": "stream",
     "text": [
      "['cat', 'dog', 'goldfish', 'canary', 'aardvark']\n",
      "['cat', 'dog', 'goldfish', 'canary', 'aardvark']\n",
      "['rat', 'gerbil', 'hamster']\n"
     ]
    }
   ],
   "source": [
    "animals = ['cat', 'dog', 'goldfish', 'canary']\n",
    "pets = animals # now both variables refer to the same list object\n",
    "\n",
    "animals.append('aardvark')\n",
    "print(pets) # pets is still the same list as animals\n",
    "\n",
    "animals = ['rat', 'gerbil', 'hamster'] # now we assign a new list value to animals\n",
    "print(pets) # pets still refers to the old list\n",
    "\n",
    "pets = animals[:] # assign a *copy* of animals to pets\n",
    "animals.append('aardvark')\n",
    "print(pets) # pets remains unchanged, because it refers to a copy, not the original list"
   ]
  },
  {
   "cell_type": "markdown",
   "metadata": {},
   "source": [
    "### Check for specific item in list\n",
    "How do we check whether a list contains a particular value? We use in or not in, the membership operators:"
   ]
  },
  {
   "cell_type": "code",
   "execution_count": 18,
   "metadata": {},
   "outputs": [
    {
     "name": "stdout",
     "output_type": "stream",
     "text": [
      "67 is in the list!\n",
      "90 is not in the list!\n"
     ]
    }
   ],
   "source": [
    "numbers = [34, 67, 12, 29]\n",
    "number = 67\n",
    "\n",
    "if number in numbers:\n",
    "    print(\"%d is in the list!\" % number)\n",
    "\n",
    "number = 90\n",
    "if number not in numbers:\n",
    "    print(\"%d is not in the list!\" % number)\n"
   ]
  },
  {
   "cell_type": "markdown",
   "metadata": {},
   "source": [
    "### Organising a list\n",
    "\n",
    "   Python provides a number of different ways to organise your lists, depending on the situation. You can use the `sort()` method to sort a list:"
   ]
  },
  {
   "cell_type": "code",
   "execution_count": 19,
   "metadata": {},
   "outputs": [
    {
     "name": "stdout",
     "output_type": "stream",
     "text": [
      "\n",
      "---Sorted order---\n",
      "['audi', 'bmw', 'subaru', 'toyota']\n",
      "[1, 3, 5, 7, 9]\n",
      "\n",
      "---Reverse order---\n",
      "['toyota', 'subaru', 'bmw', 'audi']\n",
      "[9, 7, 5, 3, 1]\n"
     ]
    }
   ],
   "source": [
    "cars = ['bmw', 'audi', 'toyota', 'subaru']\n",
    "print('\\n---Sorted order---')\n",
    "\n",
    "# sort the list by alphabetical order; note the list has been modified\n",
    "cars.sort()   \n",
    "print(cars)\n",
    "\n",
    "numbers = [5, 3, 7, 9, 1]\n",
    "\n",
    "# sort the list by increasing order; list has been modified\n",
    "numbers.sort() \n",
    "print(numbers)\n",
    "\n",
    "\n",
    "# sort the list in reverse alphabetical order\n",
    "cars.sort(reverse=True)\n",
    "print('\\n---Reverse order---')\n",
    "print(cars)\n",
    "\n",
    "\n",
    "# sort the list in decreasing/descending order\n",
    "numbers.sort(reverse=True)\n",
    "print(numbers)"
   ]
  },
  {
   "cell_type": "markdown",
   "metadata": {},
   "source": [
    "   As shown in the examples above, the `sort()` method modifies the order of the lists. To maintain the original order of a list, you can use the `sorted()` function. The `sorted()` function lets you display your list ina particular order but doesn't affect the actual order of the list:"
   ]
  },
  {
   "cell_type": "code",
   "execution_count": 20,
   "metadata": {},
   "outputs": [
    {
     "name": "stdout",
     "output_type": "stream",
     "text": [
      "['toyota', 'subaru', 'bmw', 'audi']\n",
      "['audi', 'bmw', 'subaru', 'toyota']\n",
      "['toyota', 'subaru', 'bmw', 'audi']\n"
     ]
    }
   ],
   "source": [
    "# print the original list\n",
    "print(cars)\n",
    "\n",
    "# print the sorted list\n",
    "print(sorted(cars))\n",
    "\n",
    "# print the original list again\n",
    "print(cars)"
   ]
  },
  {
   "cell_type": "markdown",
   "metadata": {},
   "source": [
    "To reverse the orignal order of a list, you can use the `reverse()` method:"
   ]
  },
  {
   "cell_type": "code",
   "execution_count": 21,
   "metadata": {},
   "outputs": [
    {
     "name": "stdout",
     "output_type": "stream",
     "text": [
      "['bmw', 'audi', 'toyota', 'subaru']\n",
      "['subaru', 'toyota', 'audi', 'bmw']\n"
     ]
    }
   ],
   "source": [
    "cars = ['bmw', 'audi', 'toyota', 'subaru']\n",
    "\n",
    "# print original list\n",
    "print(cars)\n",
    "\n",
    "# print sorted list in reverse\n",
    "cars.reverse()\n",
    "print(cars)"
   ]
  },
  {
   "cell_type": "markdown",
   "metadata": {},
   "source": [
    "### Finding length \n",
    "\n",
    "You can quickly find the length of a list by using the `len()` function:"
   ]
  },
  {
   "cell_type": "code",
   "execution_count": 22,
   "metadata": {},
   "outputs": [
    {
     "data": {
      "text/plain": [
       "4"
      ]
     },
     "execution_count": 22,
     "metadata": {},
     "output_type": "execute_result"
    }
   ],
   "source": [
    "len(cars)"
   ]
  },
  {
   "cell_type": "markdown",
   "metadata": {},
   "source": [
    "### Other useful methods\n",
    "\n",
    "List objects also have useful methods which we can call:"
   ]
  },
  {
   "cell_type": "code",
   "execution_count": 23,
   "metadata": {},
   "outputs": [
    {
     "name": "stdout",
     "output_type": "stream",
     "text": [
      "25\n",
      "1\n",
      "9\n",
      "True\n",
      "False\n"
     ]
    }
   ],
   "source": [
    "# the sum of a list of numbers\n",
    "print(sum(numbers))\n",
    "\n",
    "# the minimum of the list of numbers\n",
    "print(min(numbers))\n",
    "\n",
    "# the maximum of the list of numbers\n",
    "print(max(numbers))\n",
    "\n",
    "# are any of these values true?\n",
    "print(any([1,0,1,0,1]))\n",
    "\n",
    "# are all of these values true?\n",
    "print(all([1,0,1,0,1]))"
   ]
  },
  {
   "cell_type": "markdown",
   "metadata": {},
   "source": [
    "### Using arithmetic operators with lists\n",
    "\n",
    "Some of the arithmetic operators we have used on numbers before can also be used on lists, but the effect may not always be what we expect:"
   ]
  },
  {
   "cell_type": "code",
   "execution_count": 24,
   "metadata": {},
   "outputs": [
    {
     "name": "stdout",
     "output_type": "stream",
     "text": [
      "[1, 2, 3, 4, 5, 6]\n",
      "[1, 2, 3, 1, 2, 3, 1, 2, 3]\n"
     ]
    }
   ],
   "source": [
    "# we can concatenate two lists by adding them\n",
    "print([1, 2, 3] + [4, 5, 6])\n",
    "\n",
    "# we can concatenate a list with itself by multiplying it by an integer\n",
    "print([1, 2, 3] * 3)"
   ]
  },
  {
   "cell_type": "code",
   "execution_count": 25,
   "metadata": {},
   "outputs": [
    {
     "ename": "TypeError",
     "evalue": "unsupported operand type(s) for -: 'list' and 'list'",
     "output_type": "error",
     "traceback": [
      "\u001b[0;31m---------------------------------------------------------------------------\u001b[0m",
      "\u001b[0;31mTypeError\u001b[0m                                 Traceback (most recent call last)",
      "\u001b[0;32m<ipython-input-25-7d0269dcf21f>\u001b[0m in \u001b[0;36m<module>\u001b[0;34m\u001b[0m\n\u001b[1;32m      1\u001b[0m \u001b[0;31m# not all arithmetic operators can be used on lists -- this will give us an error!\u001b[0m\u001b[0;34m\u001b[0m\u001b[0;34m\u001b[0m\u001b[0;34m\u001b[0m\u001b[0m\n\u001b[0;32m----> 2\u001b[0;31m \u001b[0mprint\u001b[0m\u001b[0;34m(\u001b[0m\u001b[0;34m[\u001b[0m\u001b[0;36m1\u001b[0m\u001b[0;34m,\u001b[0m \u001b[0;36m2\u001b[0m\u001b[0;34m,\u001b[0m \u001b[0;36m3\u001b[0m\u001b[0;34m]\u001b[0m \u001b[0;34m-\u001b[0m \u001b[0;34m[\u001b[0m\u001b[0;36m2\u001b[0m\u001b[0;34m,\u001b[0m \u001b[0;36m3\u001b[0m\u001b[0;34m]\u001b[0m\u001b[0;34m)\u001b[0m\u001b[0;34m\u001b[0m\u001b[0;34m\u001b[0m\u001b[0m\n\u001b[0m",
      "\u001b[0;31mTypeError\u001b[0m: unsupported operand type(s) for -: 'list' and 'list'"
     ]
    }
   ],
   "source": [
    "# not all arithmetic operators can be used on lists -- this will give us an error!\n",
    "print([1, 2, 3] - [2, 3])"
   ]
  },
  {
   "cell_type": "markdown",
   "metadata": {},
   "source": [
    "### Lists vs arrays\n",
    "\n",
    "Many other programming languages don’t have a built-in type which behaves like Python’s list. Arrays are simpler, more low-level data structures, which don’t have all the functionality of a list. Here are some major differences between lists and arrays:\n",
    "\n",
    "   + An array has a fixed size which you specify when you create it. If you need to add or remove elements, you have to make a new array.\n",
    "\n",
    "   + If the language is statically typed, you also have to specify a single type for the values which you are going to put in the array when you create it.\n",
    "   \n",
    "   + In languages which have primitive types, arrays are usually not objects, so they don’t have any methods – they are just containers.\n",
    "\n",
    "Compared to lists, arrays are less easy to use but they do have some advantages: because they are so simple, and there are so many restrictions on what you can do with them, the computer can handle them very efficiently. That means that it is often much faster to use an array than to use an object which behaves like a list. A lot of programmers use them when it is important for their programs to be fast.\n",
    "\n",
    "Python has a built-in array type. It’s not so restrictive as an array in C or Java – you have to specify a type for the contents of the array, and you can only use it to store numeric values, but you can resize it dynamically, like a list. You will probably never need to use it."
   ]
  },
  {
   "cell_type": "markdown",
   "metadata": {},
   "source": [
    "## Tuples\n",
    "\n",
    "Python has another sequence type which is called `tuple`. Tuples are similar to lists in many ways, but they are **immutable**, that is a list of items that cannot change. We define a tuple literal by putting a comma-separated list of values inside round brackets `(` and `)`:"
   ]
  },
  {
   "cell_type": "code",
   "execution_count": 26,
   "metadata": {},
   "outputs": [
    {
     "name": "stdout",
     "output_type": "stream",
     "text": [
      "('Monday', 'Tuesday', 'Wednesday', 'Thursday', 'Friday', 'Saturday', 'Sunday')\n",
      "1 2 3\n"
     ]
    }
   ],
   "source": [
    "WEEKDAYS = ('Monday', 'Tuesday', 'Wednesday', 'Thursday', 'Friday', 'Saturday', 'Sunday')\n",
    "print(WEEKDAYS)\n",
    "\n",
    "# Tuples are already used when inserting multiple values into a formatted string\n",
    "print(\"%d %d %d\" % (1, 2, 3))"
   ]
  },
  {
   "cell_type": "markdown",
   "metadata": {},
   "source": [
    "What happens if we try to change one of the items in the tuple?"
   ]
  },
  {
   "cell_type": "code",
   "execution_count": 27,
   "metadata": {},
   "outputs": [
    {
     "ename": "TypeError",
     "evalue": "'tuple' object does not support item assignment",
     "output_type": "error",
     "traceback": [
      "\u001b[0;31m---------------------------------------------------------------------------\u001b[0m",
      "\u001b[0;31mTypeError\u001b[0m                                 Traceback (most recent call last)",
      "\u001b[0;32m<ipython-input-27-8f2ac9b56f9a>\u001b[0m in \u001b[0;36m<module>\u001b[0;34m\u001b[0m\n\u001b[1;32m      3\u001b[0m     \u001b[0mprint\u001b[0m\u001b[0;34m(\u001b[0m\u001b[0mweekdays\u001b[0m\u001b[0;34m)\u001b[0m\u001b[0;34m\u001b[0m\u001b[0;34m\u001b[0m\u001b[0m\n\u001b[1;32m      4\u001b[0m \u001b[0;34m\u001b[0m\u001b[0m\n\u001b[0;32m----> 5\u001b[0;31m \u001b[0mprint_weekday_list\u001b[0m\u001b[0;34m(\u001b[0m\u001b[0mWEEKDAYS\u001b[0m\u001b[0;34m)\u001b[0m\u001b[0;34m\u001b[0m\u001b[0;34m\u001b[0m\u001b[0m\n\u001b[0m",
      "\u001b[0;32m<ipython-input-27-8f2ac9b56f9a>\u001b[0m in \u001b[0;36mprint_weekday_list\u001b[0;34m(weekdays)\u001b[0m\n\u001b[1;32m      1\u001b[0m \u001b[0;32mdef\u001b[0m \u001b[0mprint_weekday_list\u001b[0m\u001b[0;34m(\u001b[0m\u001b[0mweekdays\u001b[0m\u001b[0;34m)\u001b[0m\u001b[0;34m:\u001b[0m\u001b[0;34m\u001b[0m\u001b[0;34m\u001b[0m\u001b[0m\n\u001b[0;32m----> 2\u001b[0;31m     \u001b[0mweekdays\u001b[0m\u001b[0;34m[\u001b[0m\u001b[0;36m5\u001b[0m\u001b[0;34m]\u001b[0m \u001b[0;34m=\u001b[0m \u001b[0;34m'Caturday'\u001b[0m \u001b[0;31m# this is going to modify the original list!\u001b[0m\u001b[0;34m\u001b[0m\u001b[0;34m\u001b[0m\u001b[0m\n\u001b[0m\u001b[1;32m      3\u001b[0m     \u001b[0mprint\u001b[0m\u001b[0;34m(\u001b[0m\u001b[0mweekdays\u001b[0m\u001b[0;34m)\u001b[0m\u001b[0;34m\u001b[0m\u001b[0;34m\u001b[0m\u001b[0m\n\u001b[1;32m      4\u001b[0m \u001b[0;34m\u001b[0m\u001b[0m\n\u001b[1;32m      5\u001b[0m \u001b[0mprint_weekday_list\u001b[0m\u001b[0;34m(\u001b[0m\u001b[0mWEEKDAYS\u001b[0m\u001b[0;34m)\u001b[0m\u001b[0;34m\u001b[0m\u001b[0;34m\u001b[0m\u001b[0m\n",
      "\u001b[0;31mTypeError\u001b[0m: 'tuple' object does not support item assignment"
     ]
    }
   ],
   "source": [
    "def print_weekday_list(weekdays):\n",
    "    weekdays[5] = 'Caturday' # this is going to modify the original list!\n",
    "    print(weekdays)\n",
    "\n",
    "print_weekday_list(WEEKDAYS)"
   ]
  },
  {
   "cell_type": "markdown",
   "metadata": {},
   "source": [
    "You can define a tuple with one element by including a trailing comma:"
   ]
  },
  {
   "cell_type": "code",
   "execution_count": 28,
   "metadata": {},
   "outputs": [
    {
     "name": "stdout",
     "output_type": "stream",
     "text": [
      "(3,)\n",
      "3\n"
     ]
    }
   ],
   "source": [
    "a_tuple = (3,)\n",
    "print(a_tuple)\n",
    "\n",
    "# this assigns a number instead of a tuple\n",
    "a_number = (3)\n",
    "print(a_number)"
   ]
  },
  {
   "cell_type": "code",
   "execution_count": 29,
   "metadata": {},
   "outputs": [
    {
     "data": {
      "text/plain": [
       "1"
      ]
     },
     "execution_count": 29,
     "metadata": {},
     "output_type": "execute_result"
    }
   ],
   "source": [
    "len(a_tuple)"
   ]
  },
  {
   "cell_type": "markdown",
   "metadata": {},
   "source": [
    "You can also use some of the useful methods (e.g. length, summing) used for lists earlier on tuples as well:"
   ]
  },
  {
   "cell_type": "code",
   "execution_count": 30,
   "metadata": {},
   "outputs": [
    {
     "name": "stdout",
     "output_type": "stream",
     "text": [
      "67\n",
      "2\n",
      "4\n",
      "142\n",
      "True\n",
      "False\n"
     ]
    }
   ],
   "source": [
    "numbers_t = (34, 67, 12, 29)\n",
    "\n",
    "# accessing specific item in a tuple\n",
    "print(numbers_t[1])\n",
    "\n",
    "# get index of specific value in a tuple\n",
    "print(numbers_t.index(12))\n",
    "\n",
    "# length of tuple\n",
    "print(len(numbers_t))\n",
    "\n",
    "# the sum of a list of numbers\n",
    "print(sum(numbers_t))\n",
    "\n",
    "# are any of these values true?\n",
    "print(any((1,0,1,0,1)))\n",
    "\n",
    "# are all of these values true?\n",
    "print(all((1,0,1,0,1)))"
   ]
  },
  {
   "cell_type": "markdown",
   "metadata": {},
   "source": [
    "## Sets\n",
    "\n",
    "Python also supports another type called `set`. A set is a collection of unique elements. If we add multiple copies of the same element to a set, the duplicates will be eliminated, and we will be left with one of each element. To define a set literal, we put a comma-separated list of values inside curly brackets `{` and `}`:"
   ]
  },
  {
   "cell_type": "code",
   "execution_count": 31,
   "metadata": {},
   "outputs": [
    {
     "name": "stdout",
     "output_type": "stream",
     "text": [
      "{'cat', 'dog', 'goldfish', 'canary'}\n"
     ]
    }
   ],
   "source": [
    "animals = {'cat', 'dog', 'goldfish', 'canary', 'cat'}\n",
    "print(animals) # the set will only contain one cat"
   ]
  },
  {
   "cell_type": "markdown",
   "metadata": {},
   "source": [
    "We can perform various set operations on sets:"
   ]
  },
  {
   "cell_type": "code",
   "execution_count": 32,
   "metadata": {},
   "outputs": [
    {
     "name": "stdout",
     "output_type": "stream",
     "text": [
      "{9, 7}\n",
      "{2, 4, 6, 7, 8, 9, 10}\n",
      "{8, 10, 6}\n",
      "{2, 4, 7, 9}\n"
     ]
    }
   ],
   "source": [
    "even_numbers = {2, 4, 6, 8, 10}\n",
    "big_numbers = {6, 7, 8, 9, 10}\n",
    "\n",
    "# subtraction: big numbers which are not even\n",
    "print(big_numbers - even_numbers)\n",
    "\n",
    "# union: numbers which are big or even\n",
    "print(big_numbers | even_numbers)\n",
    "\n",
    "# intersection: numbers which are big and even\n",
    "print(big_numbers & even_numbers)\n",
    "\n",
    "# numbers which are big or even but not both\n",
    "print(big_numbers ^ even_numbers)"
   ]
  },
  {
   "cell_type": "markdown",
   "metadata": {},
   "source": [
    "Important to note that unlike lists and tuples sets are **not** ordered. When we print a set, the order of the elements will be random. If we want to process the contents of a set in a particular order, we will first need to convert it to a list or tuple and sort it:"
   ]
  },
  {
   "cell_type": "code",
   "execution_count": 33,
   "metadata": {},
   "outputs": [
    {
     "name": "stdout",
     "output_type": "stream",
     "text": [
      "{'cat', 'dog', 'goldfish', 'canary'}\n",
      "['canary', 'cat', 'dog', 'goldfish']\n"
     ]
    }
   ],
   "source": [
    "print(animals)\n",
    "print(sorted(animals))   # sorted() on tuple returns a list object"
   ]
  },
  {
   "cell_type": "markdown",
   "metadata": {},
   "source": [
    "How do we make an empty set? We have to use the `set` function. Dictionaries, which will be discuss in later section below, used curly brackets before sets adopted them, so an empty set of curly brackets is actually an empty dictionary:"
   ]
  },
  {
   "cell_type": "code",
   "execution_count": 34,
   "metadata": {},
   "outputs": [],
   "source": [
    "# this is an empty dictionary\n",
    "a = {}\n",
    "\n",
    "# this is how we make an empty set\n",
    "b = set()"
   ]
  },
  {
   "cell_type": "markdown",
   "metadata": {},
   "source": [
    "## Range\n",
    "\n",
    "`range` is another kind of immutable sequence type. It is very specialised – we use it to create sequence of integers. Ranges are also *generators*, which we will find out more about it in later chapters. For now we just need to know that the numbers in the range are generated one at a time as they are needed, and not all at once. In the examples below, we convert each range to a list so that all the numbers are generated and we can print them out:"
   ]
  },
  {
   "cell_type": "code",
   "execution_count": 35,
   "metadata": {},
   "outputs": [
    {
     "name": "stdout",
     "output_type": "stream",
     "text": [
      "[0, 1, 2, 3, 4, 5, 6, 7, 8, 9]\n",
      "[1, 2, 3, 4, 5, 6, 7, 8, 9, 10]\n",
      "[1, 3, 5, 7, 9]\n"
     ]
    }
   ],
   "source": [
    "# print the integers from 0 to 9\n",
    "print(list(range(10)))\n",
    "\n",
    "# print the integers from 1 to 10\n",
    "print(list(range(1, 11)))\n",
    "\n",
    "# print the odd integers from 1 to 10\n",
    "print(list(range(1, 11, 2)))"
   ]
  },
  {
   "cell_type": "markdown",
   "metadata": {},
   "source": [
    "As observed above, a single parameter passed to the range function will be used as the upper bound. If we use two parameters, the first is the lower bound and the second forms the upper bound. If we use three, the third parameter is the step size. The default lower bound is zero, and the default step size is one. Note that the range includes the lower bound and excludes the upper bound."
   ]
  },
  {
   "cell_type": "markdown",
   "metadata": {},
   "source": [
    "## Dictionaries\n",
    "\n",
    "A *dictionary* (`dict`) in Python is a collection of key-value pairs. Each *key* is connected to a value, and you can use a key to access the associated value, which can be a number, a string, a list, or even another dictionary. Thus we use keys instead of indices, unlike how we access values in list or tuple elements. \n",
    "\n",
    "To define a dictionary literal, we put a comma-separated list of key-value pairs between curly brackets `{` and `}`. We use a colon to separate each key from its value:"
   ]
  },
  {
   "cell_type": "code",
   "execution_count": 36,
   "metadata": {},
   "outputs": [
    {
     "name": "stdout",
     "output_type": "stream",
     "text": [
      "30\n",
      "Jane Doe\n"
     ]
    }
   ],
   "source": [
    "marbles = {\"red\": 34, \"green\": 30, \"brown\": 31, \"yellow\": 29 }\n",
    "\n",
    "personal_details = {\n",
    "    \"name\": \"Jane Doe\",\n",
    "    \"age\": 38,  # trailing comma is legal\n",
    "}\n",
    "\n",
    "print(marbles[\"green\"])\n",
    "print(personal_details[\"name\"])"
   ]
  },
  {
   "cell_type": "code",
   "execution_count": 37,
   "metadata": {},
   "outputs": [
    {
     "ename": "KeyError",
     "evalue": "'blue'",
     "output_type": "error",
     "traceback": [
      "\u001b[0;31m---------------------------------------------------------------------------\u001b[0m",
      "\u001b[0;31mKeyError\u001b[0m                                  Traceback (most recent call last)",
      "\u001b[0;32m<ipython-input-37-de6fe70b00cb>\u001b[0m in \u001b[0;36m<module>\u001b[0;34m\u001b[0m\n\u001b[1;32m      1\u001b[0m \u001b[0;31m# This will give us an error, because there is no such key in the dictionary\u001b[0m\u001b[0;34m\u001b[0m\u001b[0;34m\u001b[0m\u001b[0;34m\u001b[0m\u001b[0m\n\u001b[0;32m----> 2\u001b[0;31m \u001b[0mprint\u001b[0m\u001b[0;34m(\u001b[0m\u001b[0mmarbles\u001b[0m\u001b[0;34m[\u001b[0m\u001b[0;34m\"blue\"\u001b[0m\u001b[0;34m]\u001b[0m\u001b[0;34m)\u001b[0m\u001b[0;34m\u001b[0m\u001b[0;34m\u001b[0m\u001b[0m\n\u001b[0m\u001b[1;32m      3\u001b[0m \u001b[0;34m\u001b[0m\u001b[0m\n\u001b[1;32m      4\u001b[0m \u001b[0;31m# modify a value\u001b[0m\u001b[0;34m\u001b[0m\u001b[0;34m\u001b[0m\u001b[0;34m\u001b[0m\u001b[0m\n\u001b[1;32m      5\u001b[0m \u001b[0mmarbles\u001b[0m\u001b[0;34m[\u001b[0m\u001b[0;34m\"red\"\u001b[0m\u001b[0;34m]\u001b[0m \u001b[0;34m+=\u001b[0m \u001b[0;36m3\u001b[0m\u001b[0;34m\u001b[0m\u001b[0;34m\u001b[0m\u001b[0m\n",
      "\u001b[0;31mKeyError\u001b[0m: 'blue'"
     ]
    }
   ],
   "source": [
    "# This will give us an error, because there is no such key in the dictionary\n",
    "print(marbles[\"blue\"])\n",
    "\n",
    "# modify a value\n",
    "marbles[\"red\"] += 3\n",
    "personal_details[\"name\"] = \"Jane Q. Doe\""
   ]
  },
  {
   "cell_type": "markdown",
   "metadata": {},
   "source": [
    "The keys of a dictionary don’t have to be strings – we can mix different types of keys and different types of values, be it numbers, any immutable type, and even tuples, in one dictionary. Keys are unique – if we repeat a key, we will overwrite the old value with the new value. When we store a value in a dictionary, the key doesn’t have to exist – it will be created automatically:"
   ]
  },
  {
   "cell_type": "code",
   "execution_count": 38,
   "metadata": {},
   "outputs": [
    {
     "name": "stdout",
     "output_type": "stream",
     "text": [
      "False\n",
      "False\n",
      "{'John': 'Doe'}\n",
      "{'red': 34, 'green': 30, 'brown': 31, 'yellow': 29, 'blue': 30}\n"
     ]
    }
   ],
   "source": [
    "# Tuples are used as keys while corresponding values are in boolean\n",
    "battleship_guesses = {\n",
    "    (3, 4): False,\n",
    "    (2, 6): True,\n",
    "    (2, 5): True,\n",
    "}\n",
    "print(battleship_guesses[(3,4)]) # print value corresponding to key: (3,4)\n",
    "print(battleship_guesses.get((3,4))) # this does the same thing as the code above\n",
    "\n",
    "surnames = {} # this is an empty dictionary\n",
    "surnames[\"John\"] = \"Smith\"\n",
    "surnames[\"John\"] = \"Doe\"\n",
    "print(surnames) # we overwrote the older surname\n",
    "\n",
    "marbles = {\"red\": 34, \"green\": 30, \"brown\": 31, \"yellow\": 29 }\n",
    "\n",
    "# add a new key-pair: \"blue\"-30\n",
    "marbles[\"blue\"] = 30\n",
    "print(marbles)"
   ]
  },
  {
   "cell_type": "markdown",
   "metadata": {},
   "source": [
    "Like sets, dictionaries are **not ordered** – if we print a dictionary, the order will be random.\n"
   ]
  },
  {
   "cell_type": "markdown",
   "metadata": {},
   "source": [
    "### Some useful methods for dictionaries\n",
    "Here are some commonly used methods of dictionary objects:"
   ]
  },
  {
   "cell_type": "code",
   "execution_count": 39,
   "metadata": {},
   "outputs": [
    {
     "name": "stdout",
     "output_type": "stream",
     "text": [
      "None\n",
      "0\n",
      "dict_keys(['red', 'green', 'brown', 'yellow', 'orange', 'blue', 'purple'])\n",
      "dict_values([34, 32, 31, 29, 34, 23, 36])\n",
      "dict_items([('red', 34), ('green', 32), ('brown', 31), ('yellow', 29), ('orange', 34), ('blue', 23), ('purple', 36)])\n"
     ]
    }
   ],
   "source": [
    "marbles = {\"red\": 34, \"green\": 30, \"brown\": 31, \"yellow\": 29 }\n",
    "\n",
    "# Get a value by its key, or None if it doesn't exist\n",
    "print(marbles.get(\"orange\"))\n",
    "# We can specify a different default\n",
    "print(marbles.get(\"orange\", 0))\n",
    "\n",
    "# Add several items to the dictionary at once, and modify \"green\" value to 29\n",
    "marbles.update({\"orange\": 34, \"blue\": 23, \"purple\": 36, \"green\": 32})\n",
    "\n",
    "# All the keys in the dictionary\n",
    "print(marbles.keys())\n",
    "# All the values in the dictionary\n",
    "print(marbles.values())\n",
    "# All the items in the dictionary\n",
    "print(marbles.items())"
   ]
  },
  {
   "cell_type": "markdown",
   "metadata": {},
   "source": [
    "The last three methods return special sequence types which are read-only views of various properties of the dictionary. We cannot edit them directly, but they will be updated when we modify the dictionary. We most often access these properties because we want to iterate over them (something we will discuss in the next chapter), but we can also convert them to other sequence types if we need to."
   ]
  },
  {
   "cell_type": "markdown",
   "metadata": {},
   "source": [
    "We can check if a **key** is in the dictionary using `in` and `not in`:"
   ]
  },
  {
   "cell_type": "code",
   "execution_count": 40,
   "metadata": {},
   "outputs": [
    {
     "name": "stdout",
     "output_type": "stream",
     "text": [
      "True\n",
      "True\n"
     ]
    }
   ],
   "source": [
    "print(\"purple\" in marbles)\n",
    "print(\"white\" not in marbles)"
   ]
  },
  {
   "cell_type": "markdown",
   "metadata": {},
   "source": [
    "We can also check if a **value** is in the dictionary using in in conjunction with the `values` method:"
   ]
  },
  {
   "cell_type": "code",
   "execution_count": 41,
   "metadata": {},
   "outputs": [
    {
     "name": "stdout",
     "output_type": "stream",
     "text": [
      "False\n"
     ]
    }
   ],
   "source": [
    "print(\"Smith\" in surnames.values())"
   ]
  },
  {
   "cell_type": "markdown",
   "metadata": {},
   "source": [
    "### Removing key-value pairs\n",
    "   \n",
    "   You can use the `del` statement to remove a key-value pair:"
   ]
  },
  {
   "cell_type": "code",
   "execution_count": 42,
   "metadata": {},
   "outputs": [
    {
     "name": "stdout",
     "output_type": "stream",
     "text": [
      "{'red': 34, 'green': 32, 'yellow': 29, 'orange': 34, 'blue': 23, 'purple': 36}\n"
     ]
    }
   ],
   "source": [
    "del marbles[\"brown\"]  # delete key-value pair identified by the key: \"brown\"\n",
    "print(marbles)"
   ]
  },
  {
   "cell_type": "markdown",
   "metadata": {},
   "source": [
    "### Nesting\n",
    "\n",
    "You can store multiple dictionaries in a list, or a list of items as a value in a dictionary, i.e. *nesting*. You can nest dictionaries inside a list, a list of items inside a dictionary, or even a dictionary inside another dictionary:"
   ]
  },
  {
   "cell_type": "code",
   "execution_count": 43,
   "metadata": {},
   "outputs": [
    {
     "name": "stdout",
     "output_type": "stream",
     "text": [
      "[{'brand': 'toyota', 'colour': 'silver'}, {'brand': 'honda', 'colour': 'blue'}, {'brand': 'mercedes', 'colour': 'white'}]\n",
      "\n",
      "You ordered a thick-crust pizza with the following toppings: \n",
      "\tmushrooms\n",
      "\textra cheese\n",
      "\n",
      "Username: aeinstein\n",
      "\tFull name: Albert Einstein\n",
      "\tLocation: Princeton\n",
      "\n",
      "Username: mcurie\n",
      "\tFull name: Marie Curie\n",
      "\tLocation: Paris\n"
     ]
    }
   ],
   "source": [
    "## nesting a list of dictionaries\n",
    "\n",
    "# we first create 3 dictionaries describing car properties\n",
    "car_0 = {'brand': 'toyota', 'colour': 'silver'}\n",
    "car_1 = {'brand': 'honda', 'colour': 'blue'}\n",
    "car_2 = {'brand': 'mercedes', 'colour': 'white'}\n",
    "\n",
    "# create a list of cars with above properties\n",
    "cars = [car_0, car_1, car_2]\n",
    "print(cars)\n",
    "\n",
    "\n",
    "## nesting a list in a dictionary\n",
    "pizza = {\n",
    "    'crust':    'thick',\n",
    "    'toppings': ['mushrooms', 'extra cheese'],  # list of topping ingredients\n",
    "}\n",
    "\n",
    "print(f\"\\nYou ordered a {pizza['crust']}-crust pizza with the following toppings: \")\n",
    "\n",
    "# loop through list of topping and print each item\n",
    "for topping in pizza['toppings']:\n",
    "    print(f\"\\t{topping}\")\n",
    "    \n",
    "    \n",
    "## nesting a dictionary in a dictionary\n",
    "users = {\n",
    "    'aeinstein': {\n",
    "        'first': 'albert',\n",
    "        'last' : 'einstein',\n",
    "        'location': 'princeton',\n",
    "    },\n",
    "    'mcurie': {\n",
    "        'first': 'marie',\n",
    "        'last' : 'curie',\n",
    "        'location': 'paris',\n",
    "    }\n",
    "}\n",
    "\n",
    "# loop through key-value pairs in dictionary and within each value, print every nested values: first, last and location\n",
    "for username, user_info in users.items():\n",
    "    print(f\"\\nUsername: {username}\")\n",
    "    full_name = f\"{user_info['first']} {user_info['last']}\"\n",
    "    location = user_info['location']\n",
    "    \n",
    "    print(f\"\\tFull name: {full_name.title()}\")\n",
    "    print(f\"\\tLocation: {location.title()}\")"
   ]
  },
  {
   "cell_type": "markdown",
   "metadata": {},
   "source": [
    "You will notice in the examples above, I have used `for` loops to run through all entries in a list or dictionaries, performing the same task with each item. I will explain more in-depth about loops in the next chapter."
   ]
  },
  {
   "cell_type": "markdown",
   "metadata": {},
   "source": [
    "## N-dimensional sequences\n",
    "\n",
    "Most of the sequences we have seen so far have been one-dimensional: each sequence is a row of elements. What if we want to use a sequence to represent a two-dimensional data structure, which has both rows and columns? The easiest way to do this is to make a sequence in which each element is also a sequence. For example, we can create a list of lists:"
   ]
  },
  {
   "cell_type": "code",
   "execution_count": 44,
   "metadata": {},
   "outputs": [],
   "source": [
    "my_table = [\n",
    "    [1, 2, 3],\n",
    "    [4, 5, 6],\n",
    "    [7, 8, 9],\n",
    "    [10, 11, 12],\n",
    "]"
   ]
  },
  {
   "cell_type": "markdown",
   "metadata": {},
   "source": [
    "The outer list has four elements, and each of these elements is a list with three elements (which are numbers). To access one of these numbers, we need to use two indices – one for the outer list, and one for the inner list:"
   ]
  },
  {
   "cell_type": "code",
   "execution_count": 45,
   "metadata": {},
   "outputs": [
    {
     "name": "stdout",
     "output_type": "stream",
     "text": [
      "1\n",
      "42\n"
     ]
    }
   ],
   "source": [
    "print(my_table[0][0])\n",
    "\n",
    "# lists are mutable, so we can do this\n",
    "my_table[0][0] = 42\n",
    "\n",
    "print(my_table[0][0])"
   ]
  },
  {
   "cell_type": "markdown",
   "metadata": {},
   "source": [
    "We can also make a three-dimensional sequence by making a list of lists of lists:"
   ]
  },
  {
   "cell_type": "code",
   "execution_count": 46,
   "metadata": {},
   "outputs": [
    {
     "name": "stdout",
     "output_type": "stream",
     "text": [
      "1\n"
     ]
    }
   ],
   "source": [
    "my_3d_list = [\n",
    "    [[1, 2], [3, 4]],\n",
    "    [[5, 6], [7, 8]],\n",
    "]\n",
    "\n",
    "print(my_3d_list[0][0][0])"
   ]
  },
  {
   "cell_type": "markdown",
   "metadata": {},
   "source": [
    "## Converting between collection types\n",
    "\n",
    "### Implicit conversions\n",
    "\n",
    "If we try to iterate over a collection in a `for` loop, Python will try to convert it into something that we can iterate over if it knows how to. For example, the dictionary we saw above are not actually iterators, but Python knows how to make them into iterators – so we can use them in a `for` loop without having to convert them ourselves.\n",
    "\n",
    "Sometimes the iterator we get by default may not be what we expected – if we iterate over a dictionary in a `for` loop, we will iterate over the keys. If what we actually want to do is iterate over the values, or key and value pairs, we will have to specify that ourselves by using the dictionary’s values or items instead.\n",
    "\n",
    "### Explicit conversions\n",
    "\n",
    "We can convert between the different sequence types quite easily by using the type functions to cast sequences to the desired types – just like we would use `float` and `int` to convert numbers:\n"
   ]
  },
  {
   "cell_type": "code",
   "execution_count": 47,
   "metadata": {},
   "outputs": [],
   "source": [
    "animals = ['cat', 'dog', 'goldfish', 'canary', 'cat']\n",
    "\n",
    "animals_set = set(animals)\n",
    "animals_unique_list = list(animals_set)\n",
    "animals_unique_tuple = tuple(animals_unique_list)\n"
   ]
  },
  {
   "cell_type": "markdown",
   "metadata": {},
   "source": [
    "We have to be more careful when converting a dictionary to a sequence: do we want to use the keys, the values or pairs of keys and values?"
   ]
  },
  {
   "cell_type": "code",
   "execution_count": 48,
   "metadata": {},
   "outputs": [],
   "source": [
    "marbles = {\"red\": 34, \"green\": 30, \"brown\": 31, \"yellow\": 29 }\n",
    "\n",
    "colours = list(marbles) # the keys will be used by default\n",
    "counts = tuple(marbles.values()) # but we can use a view to get the values\n",
    "marbles_set = set(marbles.items()) # or the key-value pairs"
   ]
  },
  {
   "cell_type": "markdown",
   "metadata": {},
   "source": [
    "We can also convert a sequence to a dictionary, but only if it’s a sequence of pairs – each pair must itself be a sequence with two values:"
   ]
  },
  {
   "cell_type": "code",
   "execution_count": 49,
   "metadata": {},
   "outputs": [
    {
     "data": {
      "text/plain": [
       "{1: 2, 3: 4}"
      ]
     },
     "execution_count": 49,
     "metadata": {},
     "output_type": "execute_result"
    }
   ],
   "source": [
    "# This works\n",
    "dict([(1, 2), (3, 4)])"
   ]
  },
  {
   "cell_type": "code",
   "execution_count": 50,
   "metadata": {},
   "outputs": [
    {
     "ename": "TypeError",
     "evalue": "cannot convert dictionary update sequence element #0 to a sequence",
     "output_type": "error",
     "traceback": [
      "\u001b[0;31m---------------------------------------------------------------------------\u001b[0m",
      "\u001b[0;31mTypeError\u001b[0m                                 Traceback (most recent call last)",
      "\u001b[0;32m<ipython-input-50-4ff105466677>\u001b[0m in \u001b[0;36m<module>\u001b[0;34m\u001b[0m\n\u001b[1;32m      1\u001b[0m \u001b[0;31m# Python doesn't know how to convert this into a dictionary\u001b[0m\u001b[0;34m\u001b[0m\u001b[0;34m\u001b[0m\u001b[0;34m\u001b[0m\u001b[0m\n\u001b[0;32m----> 2\u001b[0;31m \u001b[0mdict\u001b[0m\u001b[0;34m(\u001b[0m\u001b[0;34m[\u001b[0m\u001b[0;36m1\u001b[0m\u001b[0;34m,\u001b[0m \u001b[0;36m2\u001b[0m\u001b[0;34m,\u001b[0m \u001b[0;36m3\u001b[0m\u001b[0;34m,\u001b[0m \u001b[0;36m4\u001b[0m\u001b[0;34m]\u001b[0m\u001b[0;34m)\u001b[0m\u001b[0;34m\u001b[0m\u001b[0;34m\u001b[0m\u001b[0m\n\u001b[0m",
      "\u001b[0;31mTypeError\u001b[0m: cannot convert dictionary update sequence element #0 to a sequence"
     ]
    }
   ],
   "source": [
    "\n",
    "# Python doesn't know how to convert this into a dictionary\n",
    "dict([1, 2, 3, 4])"
   ]
  },
  {
   "cell_type": "markdown",
   "metadata": {},
   "source": [
    "## Another look at string\n",
    "Strings are also a kind of sequence type – they are sequences of characters. We can find the length of a string or the index of a character in the string, and we can access individual elements of strings or slices:"
   ]
  },
  {
   "cell_type": "code",
   "execution_count": 51,
   "metadata": {},
   "outputs": [
    {
     "name": "stdout",
     "output_type": "stream",
     "text": [
      "11\n",
      "0\n",
      "a\n",
      "ac\n"
     ]
    }
   ],
   "source": [
    "s = \"abracadabra\"\n",
    "\n",
    "print(len(s))\n",
    "print(s.index(\"a\"))\n",
    "\n",
    "print(s[0])\n",
    "print(s[3:5])"
   ]
  },
  {
   "cell_type": "markdown",
   "metadata": {},
   "source": [
    "The membership operator has special behaviour when applied to strings: we can use it to determine if a string contains a single character as an element, but we can also use it to check if a string contains a substring:"
   ]
  },
  {
   "cell_type": "code",
   "execution_count": 52,
   "metadata": {},
   "outputs": [
    {
     "name": "stdout",
     "output_type": "stream",
     "text": [
      "True\n",
      "True\n",
      "False\n"
     ]
    }
   ],
   "source": [
    "print('a' in 'abcd') # True\n",
    "print('ab' in 'abcd') # also True\n",
    "\n",
    "# this doesn't work for lists\n",
    "print(['a', 'b'] in ['a', 'b', 'c', 'd']) # False"
   ]
  },
  {
   "cell_type": "markdown",
   "metadata": {},
   "source": [
    "We can easily convert a string to a list of characters:"
   ]
  },
  {
   "cell_type": "code",
   "execution_count": 53,
   "metadata": {},
   "outputs": [
    {
     "name": "stdout",
     "output_type": "stream",
     "text": [
      "['a', 'b', 'r', 'a', 'c', 'a', 'd', 'a', 'b', 'r', 'a']\n"
     ]
    }
   ],
   "source": [
    "abc_list = list(\"abracadabra\")\n",
    "print(abc_list)"
   ]
  },
  {
   "cell_type": "markdown",
   "metadata": {},
   "source": [
    "What if we want to convert a list of characters into a string? Using the `str` function on the list will give us a printable string of the list, including commas, quotes and brackets, which we may not want. To join a sequence of characters (or longer strings) together into a single string, we have to use `join`.\n",
    "\n",
    "`join` is not a function or a sequence method – it’s a string method which takes a sequence of strings as a parameter. When we call a string’s `join` method, we are using that string to glue the strings in the sequence together. For example, to join a list of single characters into a string, with no spaces between them, we call the `join` method on the empty string:"
   ]
  },
  {
   "cell_type": "code",
   "execution_count": 54,
   "metadata": {},
   "outputs": [
    {
     "name": "stdout",
     "output_type": "stream",
     "text": [
      "abracadabra\n"
     ]
    }
   ],
   "source": [
    "l = ['a', 'b', 'r', 'a', 'c', 'a', 'd', 'a', 'b', 'r', 'a']\n",
    "\n",
    "s = \"\".join(l)\n",
    "print(s)"
   ]
  },
  {
   "cell_type": "markdown",
   "metadata": {},
   "source": [
    "We can use any string we like to join a sequence of strings together:"
   ]
  },
  {
   "cell_type": "code",
   "execution_count": 55,
   "metadata": {},
   "outputs": [
    {
     "name": "stdout",
     "output_type": "stream",
     "text": [
      "cat dog fish\n",
      "cat,dog,fish\n",
      "cat, dog, fish\n"
     ]
    }
   ],
   "source": [
    "animals = ('cat', 'dog', 'fish')\n",
    "\n",
    "# a space-separated list\n",
    "print(\" \".join(animals))\n",
    "\n",
    "# a comma-separated list\n",
    "print(\",\".join(animals))\n",
    "\n",
    "# a comma-separated list with spaces\n",
    "print(\", \".join(animals))"
   ]
  },
  {
   "cell_type": "markdown",
   "metadata": {},
   "source": [
    "The opposite of joining is *splitting*. We can split up a string into a list of strings using the `split` method. If called without any parameters, `split` divides up a string into words, using any number of consecutive whitespace characters as a delimiter. We can use additional parameters to specify a different delimiter as well as a limit on the maximum number of splits to perform:"
   ]
  },
  {
   "cell_type": "code",
   "execution_count": 56,
   "metadata": {
    "scrolled": true
   },
   "outputs": [
    {
     "name": "stdout",
     "output_type": "stream",
     "text": [
      "['cat', 'dog', 'fish']\n",
      "['cat', 'dog', 'fish']\n",
      "['cat', 'dog', 'fish']\n",
      "['cat', 'dog, fish']\n"
     ]
    }
   ],
   "source": [
    "print(\"cat    dog fish\\n\".split())\n",
    "print(\"cat|dog|fish\".split(\"|\"))\n",
    "print(\"cat, dog, fish\".split(\", \"))\n",
    "print(\"cat, dog, fish\".split(\", \", 1))"
   ]
  }
 ],
 "metadata": {
  "kernelspec": {
   "display_name": "Python 3",
   "language": "python",
   "name": "python3"
  },
  "language_info": {
   "codemirror_mode": {
    "name": "ipython",
    "version": 3
   },
   "file_extension": ".py",
   "mimetype": "text/x-python",
   "name": "python",
   "nbconvert_exporter": "python",
   "pygments_lexer": "ipython3",
   "version": "3.7.6"
  }
 },
 "nbformat": 4,
 "nbformat_minor": 4
}
