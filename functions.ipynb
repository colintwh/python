{
 "cells": [
  {
   "cell_type": "markdown",
   "metadata": {},
   "source": [
    "# Functions\n",
    "\n",
    "---\n",
    "\n",
    "A function is a block of code that is designed to do one specific task. If you need to perform that task multiple times throughout your program, you can just call the function dedicated to handling that task rather than retyping all the code for the task repeatedly. Calling a function tells Python to run the code inside the function. \n",
    "\n",
    "Here's a simple function named `greet_user()` that prints a greeting:"
   ]
  },
  {
   "cell_type": "code",
   "execution_count": 1,
   "metadata": {},
   "outputs": [
    {
     "name": "stdout",
     "output_type": "stream",
     "text": [
      "Hello!\n",
      "Hello!\n"
     ]
    }
   ],
   "source": [
    "# define custom function which prints \"Hello!\"\n",
    "def greet_user():\n",
    "    \"\"\"Display a simple greeting.\"\"\"  # a docstring\n",
    "    print(\"Hello!\")\n",
    "\n",
    "# message is printed only when function is called\n",
    "greet_user()\n",
    "greet_user()  # call function again"
   ]
  },
  {
   "cell_type": "markdown",
   "metadata": {},
   "source": [
    "We use the `def` statement to indicate the start of a function definition. The next part is the function name, in this case `greet_user`, followed by round brackets (the definitions of any parameters that the function takes will go in between them) and a colon. Any indented lines that follow `def greet_user():` make up the *body* of the function. \n",
    "\n",
    "There is also a *docstring*, which describe what the function does. Docstrings are enclosed in triple quotes (`\"\"\"`), which Python looks for when it generates documentation for the functions in your program. \n",
    "\n",
    "To call the function we use its name followed by round brackets (with any parameters that the function takes in between them):\n",
    "        \n",
    "    greet_user()"
   ]
  },
  {
   "cell_type": "markdown",
   "metadata": {},
   "source": [
    "In the earlier chapters, we have already used many of Python’s built-in functions, such as `print` and `len`:"
   ]
  },
  {
   "cell_type": "code",
   "execution_count": 2,
   "metadata": {},
   "outputs": [
    {
     "name": "stdout",
     "output_type": "stream",
     "text": [
      "Hello\n"
     ]
    },
    {
     "data": {
      "text/plain": [
       "3"
      ]
     },
     "execution_count": 2,
     "metadata": {},
     "output_type": "execute_result"
    }
   ],
   "source": [
    "print(\"Hello\")\n",
    "len([1, 2, 3])"
   ]
  },
  {
   "cell_type": "markdown",
   "metadata": {},
   "source": [
    "Many objects in Python are *callable*, which means that you can call them like functions – a callable object has a special method defined which is executed when the object is called. For example, types such as `str`, `int` or `list` can be used as functions, to create new objects of that type (sometimes by converting an existing object):"
   ]
  },
  {
   "cell_type": "code",
   "execution_count": 3,
   "metadata": {},
   "outputs": [],
   "source": [
    "num_str = str(3)\n",
    "num = int(\"3\")\n",
    "\n",
    "people = list() # make a new (empty) list\n",
    "people = list((1, 2, 3)) # convert a tuple to a new list"
   ]
  },
  {
   "cell_type": "markdown",
   "metadata": {},
   "source": [
    "Because functions are objects in Python, we can treat them just like any other object – we can assign a function as the value of a variable. To refer to a function without calling it, we just use the function name without round brackets:"
   ]
  },
  {
   "cell_type": "code",
   "execution_count": 4,
   "metadata": {},
   "outputs": [
    {
     "name": "stdout",
     "output_type": "stream",
     "text": [
      "Hello!\n"
     ]
    }
   ],
   "source": [
    "my_function = greet_user\n",
    "\n",
    "# later we can call the function using the variable name\n",
    "my_function()"
   ]
  },
  {
   "cell_type": "markdown",
   "metadata": {},
   "source": [
    "Because defining a function does not cause it to execute, we can use an identifier inside a function even if it hasn’t been defined yet – as long as it becomes defined by the time we run the function. For example, if we define several functions which all call each other, the order in which we define them doesn’t matter as long as they are all defined before we start using them:"
   ]
  },
  {
   "cell_type": "code",
   "execution_count": 5,
   "metadata": {},
   "outputs": [
    {
     "name": "stdout",
     "output_type": "stream",
     "text": [
      "Hello!\n"
     ]
    }
   ],
   "source": [
    "def my_function():\n",
    "    my_other_function()\n",
    "\n",
    "def my_other_function():\n",
    "    print(\"Hello!\")\n",
    "\n",
    "# this is fine, because my_other_function is now defined\n",
    "my_function()"
   ]
  },
  {
   "cell_type": "markdown",
   "metadata": {},
   "source": [
    "## Arguments and parameters\n",
    "\n",
    "It is seldom the case that the task that we want to perform with a function is always exactly the same. We don’t want to write a slightly different function for each of these slightly different cases. Instead, we want to pass information into the function and use it inside the function to tailor the function’s behaviour to our exact needs.\n",
    "\n",
    "In the example below, the variable `name` is an example of a *parameter* - a piece of information the function needs to do its job. The value 'jesse' in `greet_user('jessie')` is an example of an *argument* - a piece of information that's passed from a function call to a function:"
   ]
  },
  {
   "cell_type": "code",
   "execution_count": 6,
   "metadata": {},
   "outputs": [
    {
     "name": "stdout",
     "output_type": "stream",
     "text": [
      "Hello! Jessie\n",
      "8\n",
      "brown fox\n"
     ]
    }
   ],
   "source": [
    "# pass in a string through the function\n",
    "def greet_user(name):\n",
    "    print(f\"Hello! {name.title()}\")\n",
    "    \n",
    "greet_user(\"jessie\")\n",
    "\n",
    "# we can pass in more than one parameter into the function \n",
    "def print_sum(a, b):\n",
    "    print(a + b)\n",
    "    \n",
    "print_sum(5, 3)\n",
    "print_sum(\"brown\", \" fox\") # works for strings too"
   ]
  },
  {
   "cell_type": "markdown",
   "metadata": {},
   "source": [
    "In Python, parameters have no declared types. We can pass any kind of variable to our `greet_user` function above, not just a string. We can use the `print_sum` function to add any two things which can be added: two integers, two floats, an integer and a float, or even two strings.\n",
    "\n",
    "The disadvantage is that since Python doesn’t check parameter types against the function definition when a function is called, **we may not immediately notice if the wrong type of parameter is passed in** – if, for example, another person interacting with code that we have written uses parameter types that we did not anticipate, or if we accidentally get the parameters out of order.\n",
    "\n",
    "Thus it is important for us to test our code thoroughly – something we will look at in a later chapter. If we intend to write code which is robust, it is also often a good idea to check function parameters early in the function and give the user feedback (by raising exceptions) if they are incorrect. I will discuss more on exceptions handling in later chapter."
   ]
  },
  {
   "cell_type": "markdown",
   "metadata": {},
   "source": [
    "### Positional arguments\n",
    "\n",
    "When you call a function, Python must match each argument in the function call with a parameter in the function definition. Values matched up this way are called *positional arguments*. To see how this works:"
   ]
  },
  {
   "cell_type": "code",
   "execution_count": 7,
   "metadata": {},
   "outputs": [
    {
     "name": "stdout",
     "output_type": "stream",
     "text": [
      "\n",
      "I have a hamster.\n",
      "My hamster's name is Harry.\n",
      "\n",
      "I have a harry.\n",
      "My harry's name is Hamster.\n"
     ]
    }
   ],
   "source": [
    "def describe_pet(animal_type, pet_name):\n",
    "    \"\"\"Display infromation about a pet\"\"\"\n",
    "    print(f\"\\nI have a {animal_type}.\")\n",
    "    print(f\"My {animal_type}'s name is {pet_name.title()}.\")\n",
    "    \n",
    "describe_pet('hamster', 'harry') # 'hamster' is matched with animal_type; 'harry' matched pet_name\n",
    "\n",
    "# this does not work the way we would have wanted\n",
    "describe_pet('harry', 'hamster') # 'harry' is now matched with animal_type; 'hamster' matched pet_name"
   ]
  },
  {
   "cell_type": "markdown",
   "metadata": {},
   "source": [
    "### Keyword arguments\n",
    "In order to avoid the mistake of mismatched arguments in the example above, we can use a *keyword argument* - a name-value pair that you pass to a function. You directly associate the name and value within the argument so there's no confusion:"
   ]
  },
  {
   "cell_type": "code",
   "execution_count": 8,
   "metadata": {},
   "outputs": [
    {
     "name": "stdout",
     "output_type": "stream",
     "text": [
      "\n",
      "I have a hamster.\n",
      "My hamster's name is Harry.\n"
     ]
    }
   ],
   "source": [
    "# this will match the argument 'harry' to match with pet_name, and 'hamster' to animal_type\n",
    "describe_pet(pet_name='harry', animal_type='hamster') "
   ]
  },
  {
   "cell_type": "markdown",
   "metadata": {},
   "source": [
    "### Avoiding argument errors\n",
    "\n",
    "When you start to use functions, you may encounter errors about unmatched arguments. Unmatched arguments occur when you provide few or more arguments than a function needs to do its work. For example:"
   ]
  },
  {
   "cell_type": "code",
   "execution_count": 9,
   "metadata": {},
   "outputs": [
    {
     "ename": "TypeError",
     "evalue": "describe_pet() missing 2 required positional arguments: 'animal_type' and 'pet_name'",
     "output_type": "error",
     "traceback": [
      "\u001b[0;31m---------------------------------------------------------------------------\u001b[0m",
      "\u001b[0;31mTypeError\u001b[0m                                 Traceback (most recent call last)",
      "\u001b[0;32m<ipython-input-9-898ade9b86a6>\u001b[0m in \u001b[0;36m<module>\u001b[0;34m\u001b[0m\n\u001b[0;32m----> 1\u001b[0;31m \u001b[0mdescribe_pet\u001b[0m\u001b[0;34m(\u001b[0m\u001b[0;34m)\u001b[0m \u001b[0;31m# function minimally need argument for parameter, pet_name\u001b[0m\u001b[0;34m\u001b[0m\u001b[0;34m\u001b[0m\u001b[0m\n\u001b[0m",
      "\u001b[0;31mTypeError\u001b[0m: describe_pet() missing 2 required positional arguments: 'animal_type' and 'pet_name'"
     ]
    }
   ],
   "source": [
    "describe_pet() # function minimally need argument for parameter, pet_name"
   ]
  },
  {
   "cell_type": "markdown",
   "metadata": {},
   "source": [
    "### Default parameters\n",
    "\n",
    "When writing a function, you can define a *default value* for each parameter. If an argument for a parameter is provided in the function call, Python uses the argument value. If not, it uses the parameter's default value. For example:"
   ]
  },
  {
   "cell_type": "code",
   "execution_count": 10,
   "metadata": {},
   "outputs": [
    {
     "name": "stdout",
     "output_type": "stream",
     "text": [
      "\n",
      "I have a dog.\n",
      "My dog's name is Willie.\n",
      "\n",
      "I have a dog.\n",
      "My dog's name is Willie.\n"
     ]
    }
   ],
   "source": [
    "def describe_pet(pet_name, animal_type = 'dog'):\n",
    "    \"\"\"Display infromation about a pet\"\"\"\n",
    "    print(f\"\\nI have a {animal_type}.\")\n",
    "    print(f\"My {animal_type}'s name is {pet_name.title()}.\")\n",
    "\n",
    "# animal_type is omitted in the argument; invokes default value for animal_type\n",
    "describe_pet(pet_name = 'willie') \n",
    "\n",
    "# this does the same as 'willie' matches with first parameter, 'pet_name' in the function.\n",
    "describe_pet('willie')"
   ]
  },
  {
   "cell_type": "markdown",
   "metadata": {},
   "source": [
    "## Passing a list\n",
    "\n",
    "You'll often find it useful to pass a list to a function, whether it's a list of names, numbers or more complex objects, such as dictionaries. When you pass a list, the function gets direct access to the contents of the list. We'll see how this is done by modifying the earlier `greet_user` function:"
   ]
  },
  {
   "cell_type": "code",
   "execution_count": 11,
   "metadata": {},
   "outputs": [
    {
     "name": "stdout",
     "output_type": "stream",
     "text": [
      "<class 'list'>\n",
      "Hello, Hannah!\n",
      "Hello, Ty!\n",
      "Hello, Margot!\n"
     ]
    }
   ],
   "source": [
    "def greet_users(names):\n",
    "    \"\"\"Print a simple greetng to each user in the list\"\"\"\n",
    "    print(type(names))\n",
    "    for name in names:\n",
    "        msg = f\"Hello, {name.title()}!\" # print message for each item in the list\n",
    "        print(msg)\n",
    "        \n",
    "usernames = ['hannah', 'ty', 'margot']\n",
    "greet_users(usernames) # print "
   ]
  },
  {
   "cell_type": "markdown",
   "metadata": {},
   "source": [
    "### Modifying a list in a function\n",
    "\n",
    "When you pass a list to a function, the function can modify the list. Any changes made to the list inside the function's body are permanent, allowing you to work efficiently when you're dealing with large amounts of data. Consider a situation where a company creates 3D printed models of designs - these  designs needed to be printed are stored in a list, and after being printed they're moved to a separate list. We can write functions to perform the tasks:"
   ]
  },
  {
   "cell_type": "code",
   "execution_count": 12,
   "metadata": {},
   "outputs": [
    {
     "name": "stdout",
     "output_type": "stream",
     "text": [
      "Printing model: dodecahedron\n",
      "Printing model: robot pendant\n",
      "Printing model: phone case\n",
      "\n",
      "The following models have been printed:\n",
      "dodecahedron\n",
      "robot pendant\n",
      "phone case\n",
      "\n",
      "---unprinted_designs list---\n",
      "[]\n",
      "\n",
      "---completed_models list---\n",
      "['dodecahedron', 'robot pendant', 'phone case']\n"
     ]
    }
   ],
   "source": [
    "# define custom functions\n",
    "def print_models(unprinted_designs, completed_models):\n",
    "    \"\"\"\n",
    "    Simulate printing each design, until none are left.\n",
    "    Move each design to completed_models after printing.\n",
    "    \"\"\"\n",
    "    while unprinted_designs:\n",
    "        current_design = unprinted_designs.pop()\n",
    "        print(f\"Printing model: {current_design}\")\n",
    "        completed_models.append(current_design)\n",
    "        \n",
    "def show_completed_models(completed_models):\n",
    "    \"\"\"Show all the models that were printed.\"\"\"\n",
    "    print(\"\\nThe following models have been printed:\")\n",
    "    for completed_model in completed_models:\n",
    "        print(completed_model)\n",
    "        \n",
    "        \n",
    "# initialise variables\n",
    "unprinted_designs = ['phone case', 'robot pendant', 'dodecahedron']\n",
    "completed_models = []\n",
    "\n",
    "# call functions\n",
    "print_models(unprinted_designs, completed_models)\n",
    "show_completed_models(completed_models)\n",
    "\n",
    "\n",
    "# show the original lists have been modified\n",
    "print(f\"\\n---unprinted_designs list---\\n{unprinted_designs}\")\n",
    "print(f\"\\n---completed_models list---\\n{completed_models}\")"
   ]
  },
  {
   "cell_type": "markdown",
   "metadata": {},
   "source": [
    "### Preventing function from modifying a list\n",
    "\n",
    "Sometimes you'll want to prevent a function from modifying a list. Using the case scenario above, you may instead decide that you want to keep the original list of unprinted designs for records even though you've printed all the designs. You can send a copy of the list to a function like this:"
   ]
  },
  {
   "cell_type": "code",
   "execution_count": 13,
   "metadata": {},
   "outputs": [
    {
     "name": "stdout",
     "output_type": "stream",
     "text": [
      "Printing model: dodecahedron\n",
      "Printing model: robot pendant\n",
      "Printing model: phone case\n",
      "\n",
      "The following models have been printed:\n",
      "dodecahedron\n",
      "robot pendant\n",
      "phone case\n",
      "\n",
      "---unprinted_designs list---\n",
      "['phone case', 'robot pendant', 'dodecahedron']\n",
      "\n",
      "---completed_models list---\n",
      "['dodecahedron', 'robot pendant', 'phone case']\n"
     ]
    }
   ],
   "source": [
    "unprinted_designs = ['phone case', 'robot pendant', 'dodecahedron']\n",
    "completed_models = []\n",
    "\n",
    "# recall in earlier chapter that object_name[:] copies an instance of list, leaving the original list untouched\n",
    "print_models(unprinted_designs[:], completed_models) \n",
    "show_completed_models(completed_models)\n",
    "\n",
    "# original list 'unprinted_designs' is left intact\n",
    "print(f\"\\n---unprinted_designs list---\\n{unprinted_designs}\")\n",
    "print(f\"\\n---completed_models list---\\n{completed_models}\")"
   ]
  },
  {
   "cell_type": "markdown",
   "metadata": {},
   "source": [
    "## Passing an arbitrary number of arguments\n",
    "\n",
    "Sometimes we won't know ahead of time how many arguments a function needs to accept. Fortunately, Python allows a function to collect an arbitrary number of arguments. We can put `*` (asterisk) before a parameter name to indicate that it is a variable-length tuple of positional parameters, and we can use `**` to indicate that a parameter is a variable-length dictionary of keyword parameters. \n",
    "\n",
    "By convention, the parameter name we use for non-specific tuple is *args* and the name we use for non-specific dictionary is *kwargs* but it is not necessary to write *args* or *kwargs*. Only the `*` is needed:"
   ]
  },
  {
   "cell_type": "code",
   "execution_count": 14,
   "metadata": {},
   "outputs": [],
   "source": [
    "# conventional naming: *args and **kwargs\n",
    "def print_args(*args):\n",
    "    for arg in args:\n",
    "        print(arg)\n",
    "\n",
    "def print_kwargs(**kwargs):\n",
    "    for k, v in kwargs.items():\n",
    "        print(\"%s: %s\" % (k, v))"
   ]
  },
  {
   "cell_type": "markdown",
   "metadata": {},
   "source": [
    "First, we will look at using a single `*` for function parameter:"
   ]
  },
  {
   "cell_type": "code",
   "execution_count": 15,
   "metadata": {},
   "outputs": [
    {
     "name": "stdout",
     "output_type": "stream",
     "text": [
      "\n",
      "Making a pizza with the following toppings:\n",
      "- pepperoni\n",
      "\n",
      "Making a pizza with the following toppings:\n",
      "- mushrooms\n",
      "- green peppers\n",
      "- extra cheese\n"
     ]
    }
   ],
   "source": [
    "def make_pizza(*toppings):\n",
    "    \"\"\"Summarize the pizza we are about to make.\"\"\"\n",
    "    print(\"\\nMaking a pizza with the following toppings:\")\n",
    "    for topping in toppings:\n",
    "        print(f\"- {topping}\")\n",
    "    \n",
    "make_pizza('pepperoni')\n",
    "make_pizza('mushrooms', 'green peppers', 'extra cheese')"
   ]
  },
  {
   "cell_type": "markdown",
   "metadata": {},
   "source": [
    "The `*` in the parameter `*toppings` tells Python to make an empty tuple called `toppings` and pack whatever values it receives into this tuple. Even if the function receives only one value, Python still packs that one value into a tuple. Thus the function performs its task appropriately, whether it it receives one value or three values.\n",
    "\n",
    "Next up is on using `**` for the parameter:"
   ]
  },
  {
   "cell_type": "code",
   "execution_count": 16,
   "metadata": {},
   "outputs": [
    {
     "name": "stdout",
     "output_type": "stream",
     "text": [
      "first_name: albert\n",
      "last_name: einstein\n",
      "location: princeton\n",
      "field: physics\n",
      "\n",
      "...profile generated!\n"
     ]
    }
   ],
   "source": [
    "def build_profile(**user_info):\n",
    "    \"\"\"Build a dictionary containing everything we know about a user.\"\"\"\n",
    "    for attrib, value in user_info.items():\n",
    "        print(\"%s: %s\" % (attrib, value))\n",
    "    print(f\"\\n...profile generated!\")\n",
    "    return user_info\n",
    "\n",
    "albert_profile = build_profile(first_name = 'albert',\n",
    "                               last_name = 'einstein',\n",
    "                               location = 'princeton',\n",
    "                               field = 'physics')"
   ]
  },
  {
   "cell_type": "markdown",
   "metadata": {},
   "source": [
    "The `**` before the parameter `**user_info` gets Python to create an empty dictionary called `user_info` and pack whatever name-value pairs it receives into this dictionary. Within the function, you can access the key-value pairs in `user_info` joust as you would for any dictionary. "
   ]
  },
  {
   "cell_type": "markdown",
   "metadata": {},
   "source": [
    "### Mixing Positional and Arbitrary Arguments\n",
    "\n",
    "You can also mix ordinary and arbitrary (the `*args` and `**kwargs`) parameters in the same function definition, but the arbitrary parameters **must** be placed last in the function definition. Note that you cannot have more than one variable-length parameter (i.e. `*args`) or more than one variable dict parameter (i.e `**kwargs`) in the function definition:"
   ]
  },
  {
   "cell_type": "code",
   "execution_count": 17,
   "metadata": {},
   "outputs": [],
   "source": [
    "def print_everything(name, time=\"morning\", *args, **kwargs):\n",
    "    print(\"Good %s, %s.\" % (time, name))\n",
    "\n",
    "    for arg in args:\n",
    "        print(arg)\n",
    "\n",
    "    for k, v in kwargs.items():\n",
    "        print(\"%s: %s\" % (k, v))"
   ]
  },
  {
   "cell_type": "code",
   "execution_count": 18,
   "metadata": {},
   "outputs": [
    {
     "name": "stdout",
     "output_type": "stream",
     "text": [
      "location: princeton\n",
      "field: physics\n",
      "first_name: albert\n",
      "last_name: einstein\n",
      "\n",
      "...Albert Einstein's profile generated!\n"
     ]
    }
   ],
   "source": [
    "# rewriting build_profile function to pass in names as these are mandatory attributes \n",
    "def build_profile(first, last, **user_info):\n",
    "    \"\"\"Build a dictionary containing everything we know about a user.\"\"\"\n",
    "    \n",
    "    # not forgetting to input the names, which are now provided as separate arguments\n",
    "    user_info['first_name'] = first\n",
    "    user_info['last_name'] = last\n",
    "    \n",
    "    for attrib, value in user_info.items():\n",
    "        print(\"%s: %s\" % (attrib, value))\n",
    "    \n",
    "    # we can use the names passed into the parameters directly\n",
    "    print(f\"\\n...{first.title()} {last.title()}'s profile generated!\")\n",
    "    return user_info\n",
    "\n",
    "albert_profile = build_profile('albert', 'einstein',\n",
    "                               location = 'princeton',\n",
    "                               field = 'physics')"
   ]
  },
  {
   "cell_type": "markdown",
   "metadata": {},
   "source": [
    "## Return values\n",
    "\n",
    "A function doesn't necessarily need to have to display its output directly. Instead, it can process some data and then return a value or set of values. The value the function returns is called a *return value*. We can rewrite the `print_sum` function earlier to return the result of its addition, using the `return` statement at the end of the function:"
   ]
  },
  {
   "cell_type": "code",
   "execution_count": 19,
   "metadata": {},
   "outputs": [],
   "source": [
    "def add(a, b):\n",
    "    return a + b  # return addition\n",
    "\n",
    "# we can thus assign the return value to variable c this way\n",
    "c = add(1, 2)"
   ]
  },
  {
   "cell_type": "markdown",
   "metadata": {},
   "source": [
    "### The `None` value\n",
    "What happens if you try to assign a function, which don’t have a return value, to a variable?"
   ]
  },
  {
   "cell_type": "code",
   "execution_count": 20,
   "metadata": {},
   "outputs": [
    {
     "name": "stdout",
     "output_type": "stream",
     "text": [
      "Hello World!\n",
      "None\n"
     ]
    }
   ],
   "source": [
    "def print_message(message):\n",
    "    print(message)\n",
    "\n",
    "mystery_output = print_message(\"Hello World!\")\n",
    "print(mystery_output)"
   ]
  },
  {
   "cell_type": "markdown",
   "metadata": {},
   "source": [
    "All functions do actually return something, even if we don’t define a return value – the default return value is `None`, which is what our mystery output is set to.\n",
    "\n",
    "A function can return any kind of value you need it to, including more complicated data structures like lists and dictionaries. For example:"
   ]
  },
  {
   "cell_type": "code",
   "execution_count": 21,
   "metadata": {},
   "outputs": [
    {
     "name": "stdout",
     "output_type": "stream",
     "text": [
      "{'first': 'jimi', 'last': 'hendrix'}\n"
     ]
    }
   ],
   "source": [
    "def build_person(first_name, last_name):\n",
    "    \"\"\"Return a dictionary of information about a person\"\"\"\n",
    "    person = {'first': first_name, 'last': last_name}\n",
    "    return person\n",
    "\n",
    "# dictionary containing keys: first, last; corresponding values: jimi, hendrix\n",
    "musician = build_person('jimi', 'hendrix')\n",
    "print(musician)"
   ]
  },
  {
   "cell_type": "markdown",
   "metadata": {},
   "source": [
    "A function can also return more than one value. Consider this `divide` function:"
   ]
  },
  {
   "cell_type": "code",
   "execution_count": 22,
   "metadata": {},
   "outputs": [
    {
     "name": "stdout",
     "output_type": "stream",
     "text": [
      "quotient: 2 \tremainder: 1\n",
      "Result: (2, 1) \ttype: <class 'tuple'>\n"
     ]
    }
   ],
   "source": [
    "def divide(dividend, divisor):\n",
    "    if not divisor:\n",
    "        return None # instead of dividing by zero\n",
    "    \n",
    "    quotient = dividend // divisor\n",
    "    remainder = dividend % divisor\n",
    "    return quotient, remainder\n",
    "\n",
    "# returns two values, quotient and remainder, which are assigned to variables num_q and num_r respectively.\n",
    "num_q, num_r = divide(5,2)\n",
    "print(f\"quotient: {num_q} \\tremainder: {num_r}\")\n",
    "\n",
    "# if there's only one variable, function returns a tuple instead\n",
    "result = divide(5, 2)\n",
    "print(f\"Result: {result} \\ttype: {type(result)}\")"
   ]
  },
  {
   "cell_type": "markdown",
   "metadata": {},
   "source": [
    "## The stack\n",
    "\n",
    "Python stores information about functions which have been called in a call stack. Whenever a function is called, a new stack frame is added to the stack – all of the function’s parameters are added to it, and as the body of the function is executed, local variables will be created there. When the function finishes executing, its stack frame is discarded, and the flow of control returns to wherever you were before you called the function, at the previous level of the stack.\n",
    "\n",
    "If you recall the section about variable scope from an earlier chapter, this explains a little more about the way that variable names are resolved. When you use an identifier, Python will first look for it on the current level of the stack, and if it doesn’t find it it will check the previous level, and so on – until either the variable is found or it isn’t found anywhere and you get an error. This is why a local variable will always take precedence over a global variable with the same name.\n",
    "\n",
    "Python also searches the stack whenever it handles an exception: first it checks if the exception can be handled in the current function, and if it cannot, it terminates the function and tries the next one down – until either the exception is handled on some level or the program itself has to terminate. The traceback you see when an exception is printed shows the path that Python took through the stack."
   ]
  },
  {
   "cell_type": "markdown",
   "metadata": {},
   "source": [
    "### Recursion\n",
    "\n",
    "We can make a function call itself. This is known as *recursion*. A common example is a function which calculates numbers in the Fibonacci sequence: the zeroth number is 0, the first number is 1, and each subsequent number is the sum of the previous two numbers:"
   ]
  },
  {
   "cell_type": "code",
   "execution_count": 23,
   "metadata": {},
   "outputs": [
    {
     "name": "stdout",
     "output_type": "stream",
     "text": [
      "8\n"
     ]
    }
   ],
   "source": [
    "def fibonacci(n):\n",
    "    if n == 0:\n",
    "        return 0  # constant value\n",
    "\n",
    "    if n == 1:\n",
    "        return 1  # constant value\n",
    "\n",
    "    return fibonacci(n - 1) + fibonacci(n - 2)\n",
    "\n",
    "print(fibonacci(6))"
   ]
  },
  {
   "cell_type": "markdown",
   "metadata": {},
   "source": [
    "Whenever we write a recursive function, we need to include some conditions that will allow it to stop recursing – an end case in which the function doesn’t call itself. In this example, that happens at the beginning of the sequence: the first two numbers are not calculated from any previous numbers – they are constants.\n",
    "\n",
    "What would happen if we omitted those conditions from our function? When we got to n = 2, we would keep calling the function, trying to calculate `fibonacci(0)`, `fibonacci(-1)`, and so on. In theory, the function would end up recursing forever and never terminate, but in practice the program will crash with a RuntimeError and a message that we have exceeded the maximum recursion depth. This is because Python’s stack has a finite size – if we keep placing instances of the function on the stack we will eventually fill it up and cause a **stack overflow**. Python protects itself from stack overflows by setting a limit on the number of times that a function is allowed to recurse.\n",
    "\n",
    "Writing fail-safe recursive function is hard. What if we called the function above with a parameter of -1? We haven’t included any error checking which guards against this, so we would skip over the end cases and try to calculate fibonacci(-2), fibonacci(-3), and keep going.\n",
    "\n",
    "Thus we can re-write the recursive function in an *iterative* way that avoids recursion. For instance:"
   ]
  },
  {
   "cell_type": "code",
   "execution_count": 24,
   "metadata": {},
   "outputs": [
    {
     "name": "stdout",
     "output_type": "stream",
     "text": [
      "8\n"
     ]
    }
   ],
   "source": [
    "def fibonacci(n):\n",
    "    current, next = 0, 1\n",
    "\n",
    "    # loop from 0 through n-1\n",
    "    for i in range(n):  \n",
    "        current, next = next, current + next  # interation occurs within a single instance of the function\n",
    "\n",
    "    return current\n",
    "\n",
    "print(fibonacci(6))"
   ]
  },
  {
   "cell_type": "markdown",
   "metadata": {},
   "source": [
    "## Decorators\n",
    "\n",
    "At times we may need to modify several functions in the same way – for example, we may want to perform a particular action before and after executing each of the functions, or pass in an extra parameter, or convert the output to another format.\n",
    "\n",
    "To solve this problem, we can write a function which modifies functions. We call a function like this a decorator. Our function will take a function object as a parameter, and will return a new function object – we can then assign the new function value to the old function’s name to replace the old function with the new function. Simply put, *decorators wrap a function and modifies its behaviour*. For example:"
   ]
  },
  {
   "cell_type": "code",
   "execution_count": 25,
   "metadata": {},
   "outputs": [
    {
     "name": "stdout",
     "output_type": "stream",
     "text": [
      "Something is happening before the function is called.\n",
      "Whee!\n",
      "Something is happening after the function is called.\n"
     ]
    }
   ],
   "source": [
    "# decorator function\n",
    "def my_decorator(func):\n",
    "    def wrapper():  # new function\n",
    "        print(\"Something is happening before the function is called.\")\n",
    "        func()   # call the original function, which has been passed in as parameter, func\n",
    "        print(\"Something is happening after the function is called.\")\n",
    "    return wrapper\n",
    "\n",
    "# original function\n",
    "def say_whee():\n",
    "    print(\"Whee!\")\n",
    "\n",
    "# pass in original function as parameter to decorator, and assign modified function back to say_whee()\n",
    "say_whee = my_decorator(say_whee)\n",
    "\n",
    "# call modified function\n",
    "say_whee()"
   ]
  },
  {
   "cell_type": "markdown",
   "metadata": {},
   "source": [
    "Inside our decorator (the outer function) we define an inner `wrapper` function which performs a print, calls the `say_whee` function, and subsequently does another print before returning the function object itself. The `wrapper()` has a reference to the original `say_whee()` as func, and calls it between the two calls to `print()`. \n",
    "\n",
    "Note that the decorator function is only called once, when we replace the original function with the decorated function, but that the inner function will be called every time we use my_function. The inner function can access both variables in its own scope (within `say_whee()`) and variables in the decorator’s scope (within `my_decorator()`.\n",
    "\n",
    "There is a shorthand syntax for applying decorators to functions: we can use the @ symbol together with the decorator name before the definition of each function that we want to decorate:"
   ]
  },
  {
   "cell_type": "code",
   "execution_count": 26,
   "metadata": {},
   "outputs": [],
   "source": [
    "@my_decorator\n",
    "def say_whee():\n",
    "    print(\"Whee!\")\n",
    "\n",
    "# is the same as \n",
    "say_whee = my_decorator(say_whee)"
   ]
  },
  {
   "cell_type": "markdown",
   "metadata": {},
   "source": [
    "## Lambdas\n",
    "\n",
    "We have seen that we can store a function in a variable, just like any other object, by referring to it by its name (but not calling it). Can we define a function on the fly when we want to pass it as a parameter or assign it to a variable, just like we did with literal string \"Hello!\" when we call `print(\"Hello!\")` ?\n",
    "\n",
    "The answer is yes, but only for very simple functions. We can use the `lambda` keyword to define anonymous, one-line functions inline in our code:"
   ]
  },
  {
   "cell_type": "code",
   "execution_count": 27,
   "metadata": {},
   "outputs": [],
   "source": [
    "a = lambda: 3\n",
    "\n",
    "# is the same as\n",
    "\n",
    "def a():\n",
    "    return 3"
   ]
  },
  {
   "cell_type": "markdown",
   "metadata": {},
   "source": [
    "Lambdas can take parameters – they are written between the `lambda` keyword and the colon, without brackets. A `lambda` function may only contain a single expression, and the result of evaluating this expression is implicitly returned from the function (we don’t use the `return` keyword)."
   ]
  },
  {
   "cell_type": "code",
   "execution_count": 28,
   "metadata": {},
   "outputs": [],
   "source": [
    "b = lambda x, y: x + y\n",
    "\n",
    "# is the same as\n",
    "\n",
    "def b(x, y):\n",
    "    return x + y"
   ]
  },
  {
   "cell_type": "markdown",
   "metadata": {},
   "source": [
    "## Generator functions and `yield`\n",
    "\n",
    "We have already encountered generators – sequences in which new elements are generated as they are needed, instead of all being generated up-front. We can create our own generators by writing functions which make use of the `yield` statement. Consider this:"
   ]
  },
  {
   "cell_type": "code",
   "execution_count": 29,
   "metadata": {},
   "outputs": [],
   "source": [
    "def my_list(n):\n",
    "    i = 0\n",
    "    l = []\n",
    "\n",
    "    while i < n:\n",
    "        l.append(i)\n",
    "        i += 1\n",
    "\n",
    "    return l"
   ]
  },
  {
   "cell_type": "markdown",
   "metadata": {},
   "source": [
    "This function builds the full list of numbers and returns it. We can change this function into a generator function while preserving a very similar syntax, like this:"
   ]
  },
  {
   "cell_type": "code",
   "execution_count": 30,
   "metadata": {},
   "outputs": [],
   "source": [
    "def my_gen(n):\n",
    "    i = 0\n",
    "\n",
    "    while i < n:\n",
    "        yield i\n",
    "        i += 1"
   ]
  },
  {
   "cell_type": "markdown",
   "metadata": {},
   "source": [
    "The first important thing to know about the `yield` statement is that if we use it in a function, that function will return a generator. We can test this by using the `type` function on the return value of `my_gen`. We can also try using it in a `for` loop, like we would use any other generator:"
   ]
  },
  {
   "cell_type": "code",
   "execution_count": 31,
   "metadata": {},
   "outputs": [
    {
     "name": "stdout",
     "output_type": "stream",
     "text": [
      "<class 'generator'>\n",
      "0\n",
      "1\n",
      "2\n"
     ]
    }
   ],
   "source": [
    "g = my_gen(3)\n",
    "\n",
    "print(type(g))\n",
    "\n",
    "for x in g:\n",
    "    print(x)"
   ]
  },
  {
   "cell_type": "markdown",
   "metadata": {},
   "source": [
    "What does the `yield` statement do? Whenever a new value is requested from the generator, for example by our `for` loop in the example above, the generator begins to execute the function until it reaches the `yield` statement. The `yield` statement causes the generator to return a single value. After `yield` statement executed, execution of the function does not end – when the next value is requested from the generator, it will go back to the beginning of the function and execute it again.\n",
    "\n",
    "If the generator executes the entire function without encountering a `yield` statement, it will raise a `StopIteration` exception to indicate that there are no more values. A `for` loop automatically handles this exception for us. In our `my_gen` function this will happen when `i` becomes equal to `n` – when this happens, the `yield` statement inside the `while` loop will no longer be executed."
   ]
  },
  {
   "cell_type": "markdown",
   "metadata": {},
   "source": [
    "## Storing your functions in Modules\n",
    "\n",
    "One advantage of functions is the way they separate blocks of code from your main program. You can go a step further by storing your functions in a separate file called a *module* and then `import` that module into your main program. An `import` statement tells Python to make the code in a module available in the running program file.\n",
    "\n",
    "Storing your functions this way also allows you to hide the details of your program's code and focus on its higher-level logic. It also facilitates reuse of the functions in many different programs. Knowing how to import functions also allows you to use libraries of functions that other programmers have written. \n",
    "\n",
    "\n",
    "### Importing a module\n",
    "\n",
    "A module is a file ending in *.py* that contains the code you want to import into your program. Let's make a module, *pizza.py*, that contains the function `make_pizza()`:"
   ]
  },
  {
   "cell_type": "code",
   "execution_count": null,
   "metadata": {},
   "outputs": [],
   "source": [
    "def make_pizza(size, *toppings):\n",
    "    \"\"\"Summarise the pizza we are about to make.\"\"\"\n",
    "    print(f\"\\nMaking a {size}-inch pizza with the following toppings:\")\n",
    "    for topping in toppings:\n",
    "        print(f\"- {topping}\")"
   ]
  },
  {
   "cell_type": "markdown",
   "metadata": {},
   "source": [
    "Now we'll make a separate file called *making_pizzas.py* in the same directory as *pizza.py*. This file imports the module we just created and then makes two calls to `make_pizza()`."
   ]
  },
  {
   "cell_type": "code",
   "execution_count": 32,
   "metadata": {},
   "outputs": [
    {
     "name": "stdout",
     "output_type": "stream",
     "text": [
      "\n",
      "Making a 16-inch pizza with the following toppings:\n",
      "- pepperoni\n",
      "\n",
      "Making a 12-inch pizza with the following toppings:\n",
      "- mushrooms\n",
      "- green peppers\n",
      "- extra cheese\n"
     ]
    }
   ],
   "source": [
    "import pizza  # import pizza.py\n",
    "\n",
    "# call make_pizza() from pizza module\n",
    "pizza.make_pizza(16, 'pepperoni')\n",
    "pizza.make_pizza(12, 'mushrooms', 'green peppers', 'extra cheese')"
   ]
  },
  {
   "cell_type": "markdown",
   "metadata": {},
   "source": [
    "The line `import pizza` tells Python to open the file *pizza.py* and copy all the functions from it into this program. You don't see the code being copied between files Python copies the code behind the scenes just before the program runs, hence you don't actually see the code being copied between files. "
   ]
  },
  {
   "cell_type": "markdown",
   "metadata": {},
   "source": [
    "### Using `as` to give Module an Alias\n",
    "\n",
    "You can also provide a short, unique alias for a module name, using the `as` keyword. Here we assign an alias, *p* to the module *pizza* after importing. This allows you to call the module's functions more quickly:"
   ]
  },
  {
   "cell_type": "code",
   "execution_count": 33,
   "metadata": {},
   "outputs": [
    {
     "name": "stdout",
     "output_type": "stream",
     "text": [
      "\n",
      "Making a 16-inch pizza with the following toppings:\n",
      "- pepperoni\n",
      "\n",
      "Making a 12-inch pizza with the following toppings:\n",
      "- mushrooms\n",
      "- green peppers\n",
      "- extra cheese\n"
     ]
    }
   ],
   "source": [
    "import pizza as p  # import pizza.py and assign an alias p\n",
    "\n",
    "# we can now call the functions using the alias\n",
    "p.make_pizza(16, 'pepperoni')\n",
    "p.make_pizza(12, 'mushrooms', 'green peppers', 'extra cheese')"
   ]
  },
  {
   "cell_type": "markdown",
   "metadata": {},
   "source": [
    "### Importing specific functions\n",
    "\n",
    "You can also import specific functions from a module using the `from` statement. You can import as many functions as you want from a module this way. Here's the general syntax:\n",
    "\n",
    "    # import a specific function from a module\n",
    "    from module_name import function_name\n",
    "    \n",
    "    # import several functions using comma (,)\n",
    "    from module_name import function_0, function_1, function_2\n",
    "\n",
    "We can rewrite the code above if we just want to import `make_pizza` function from *pizza.py* instead of the entire module"
   ]
  },
  {
   "cell_type": "code",
   "execution_count": 34,
   "metadata": {},
   "outputs": [
    {
     "name": "stdout",
     "output_type": "stream",
     "text": [
      "\n",
      "Making a 16-inch pizza with the following toppings:\n",
      "- pepperoni\n",
      "\n",
      "Making a 12-inch pizza with the following toppings:\n",
      "- mushrooms\n",
      "- green peppers\n",
      "- extra cheese\n"
     ]
    }
   ],
   "source": [
    "from pizza import make_pizza  # import just the make_pizza() function from pizza.py\n",
    "\n",
    "# no longer need \"pizza.\" before the function call\n",
    "make_pizza(16, 'pepperoni')\n",
    "make_pizza(12, 'mushrooms', 'green peppers', 'extra cheese')"
   ]
  },
  {
   "cell_type": "markdown",
   "metadata": {},
   "source": [
    "With this syntax, you don't need to use the dot notation when you call a function as we have explicitly imported the function `make_pizza()` in the `import` statement. Thus we can call it by name when we use the function. "
   ]
  },
  {
   "cell_type": "markdown",
   "metadata": {},
   "source": [
    "### Using `as` to give a Function an Alias\n",
    "\n",
    "Likewise, we can use `as` keyword to give a functio an alias. This is useful in cases where the name of a function you're importing conflict with an existing name in your program or if the function name is long:"
   ]
  },
  {
   "cell_type": "code",
   "execution_count": 35,
   "metadata": {},
   "outputs": [
    {
     "name": "stdout",
     "output_type": "stream",
     "text": [
      "\n",
      "Making a 16-inch pizza with the following toppings:\n",
      "- pepperoni\n",
      "\n",
      "Making a 12-inch pizza with the following toppings:\n",
      "- mushrooms\n",
      "- green peppers\n",
      "- extra cheese\n"
     ]
    }
   ],
   "source": [
    "from pizza import make_pizza as mp  # assign alias, mp, to the function imported\n",
    "\n",
    "# calling the function based on the alias\n",
    "mp(16, 'pepperoni')\n",
    "mp(12, 'mushrooms', 'green peppers', 'extra cheese')"
   ]
  },
  {
   "cell_type": "markdown",
   "metadata": {},
   "source": [
    "### Importing all Functions in a Module\n",
    "\n",
    "You can tell Python to import every function in a module by using `*` (asterisk). This allows you to call the imported functions without using the dot notation:"
   ]
  },
  {
   "cell_type": "code",
   "execution_count": 36,
   "metadata": {},
   "outputs": [
    {
     "name": "stdout",
     "output_type": "stream",
     "text": [
      "\n",
      "Making a 16-inch pizza with the following toppings:\n",
      "- pepperoni\n",
      "\n",
      "Making a 12-inch pizza with the following toppings:\n",
      "- mushrooms\n",
      "- green peppers\n",
      "- extra cheese\n"
     ]
    }
   ],
   "source": [
    "from pizza import * # import every functions in pizza.py\n",
    "\n",
    "make_pizza(16, 'pepperoni')\n",
    "make_pizza(12, 'mushrooms', 'green peppers', 'extra cheese')"
   ]
  }
 ],
 "metadata": {
  "kernelspec": {
   "display_name": "Python 3",
   "language": "python",
   "name": "python3"
  },
  "language_info": {
   "codemirror_mode": {
    "name": "ipython",
    "version": 3
   },
   "file_extension": ".py",
   "mimetype": "text/x-python",
   "name": "python",
   "nbconvert_exporter": "python",
   "pygments_lexer": "ipython3",
   "version": "3.7.7"
  }
 },
 "nbformat": 4,
 "nbformat_minor": 4
}
