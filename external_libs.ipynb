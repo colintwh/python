{
 "cells": [
  {
   "cell_type": "markdown",
   "metadata": {},
   "source": [
    "# Working with External Libraries\n",
    "---\n",
    "\n",
    "In this notebook, I'll be talking about imports in Python, giving some tips for working with unfamiliar libraries (and the objects they return), and digging into the guts of Python just a bit to talk about operator overloading."
   ]
  },
  {
   "cell_type": "markdown",
   "metadata": {},
   "source": [
    "## Imports\n",
    "\n",
    "So far we've talked about types and functions which are built-in to the language.\n",
    "\n",
    "But one of the best things about Python (especially if you're a data scientist) is the vast number of high-quality custom libraries that have been written for it.\n",
    "\n",
    "Some of these libraries are in the \"standard library\", meaning you can find them anywhere you run Python. Others libraries can be easily added, even if they aren't always shipped with Python.\n",
    "\n",
    "Either way, we'll access this code with imports.\n",
    "\n",
    "We'll start our example by importing `math` from the standard library."
   ]
  },
  {
   "cell_type": "code",
   "execution_count": 1,
   "metadata": {},
   "outputs": [
    {
     "name": "stdout",
     "output_type": "stream",
     "text": [
      "It's math! It has type <class 'module'>\n"
     ]
    }
   ],
   "source": [
    "import math\n",
    "\n",
    "print(\"It's math! It has type {}\".format(type(math)))"
   ]
  },
  {
   "cell_type": "markdown",
   "metadata": {},
   "source": [
    "`math` is a module. A module is just a collection of variables (a namespace, if you like) defined by someone else. We can see all the names in math using the built-in function `dir()`."
   ]
  },
  {
   "cell_type": "code",
   "execution_count": 2,
   "metadata": {},
   "outputs": [
    {
     "name": "stdout",
     "output_type": "stream",
     "text": [
      "['__doc__', '__file__', '__loader__', '__name__', '__package__', '__spec__', 'acos', 'acosh', 'asin', 'asinh', 'atan', 'atan2', 'atanh', 'ceil', 'comb', 'copysign', 'cos', 'cosh', 'degrees', 'dist', 'e', 'erf', 'erfc', 'exp', 'expm1', 'fabs', 'factorial', 'floor', 'fmod', 'frexp', 'fsum', 'gamma', 'gcd', 'hypot', 'inf', 'isclose', 'isfinite', 'isinf', 'isnan', 'isqrt', 'ldexp', 'lgamma', 'log', 'log10', 'log1p', 'log2', 'modf', 'nan', 'perm', 'pi', 'pow', 'prod', 'radians', 'remainder', 'sin', 'sinh', 'sqrt', 'tan', 'tanh', 'tau', 'trunc']\n"
     ]
    }
   ],
   "source": [
    "print(dir(math))"
   ]
  },
  {
   "cell_type": "markdown",
   "metadata": {},
   "source": [
    "We can access these variables using dot syntax. Some of them refer to simple values, like `math.pi`:"
   ]
  },
  {
   "cell_type": "code",
   "execution_count": 4,
   "metadata": {},
   "outputs": [
    {
     "name": "stdout",
     "output_type": "stream",
     "text": [
      "pi to 4 significant digits = 3.142\n"
     ]
    }
   ],
   "source": [
    "print(\"pi to 4 significant digits = {:.4}\".format(math.pi))"
   ]
  },
  {
   "cell_type": "markdown",
   "metadata": {},
   "source": [
    "But most of what we'll find in the module are functions, like `math.log`:"
   ]
  },
  {
   "cell_type": "code",
   "execution_count": 5,
   "metadata": {},
   "outputs": [
    {
     "data": {
      "text/plain": [
       "5.0"
      ]
     },
     "execution_count": 5,
     "metadata": {},
     "output_type": "execute_result"
    }
   ],
   "source": [
    "math.log(32, 2)"
   ]
  },
  {
   "cell_type": "markdown",
   "metadata": {},
   "source": [
    "If we don't know what `math.log` does, we can always call `help()` on it:"
   ]
  },
  {
   "cell_type": "code",
   "execution_count": 6,
   "metadata": {},
   "outputs": [
    {
     "name": "stdout",
     "output_type": "stream",
     "text": [
      "Help on built-in function log in module math:\n",
      "\n",
      "log(...)\n",
      "    log(x, [base=math.e])\n",
      "    Return the logarithm of x to the given base.\n",
      "    \n",
      "    If the base not specified, returns the natural logarithm (base e) of x.\n",
      "\n"
     ]
    }
   ],
   "source": [
    "help(math.log)"
   ]
  },
  {
   "cell_type": "markdown",
   "metadata": {},
   "source": [
    "We can also call `help()` on the `math` module itself. This will give us the combined documentation for all the functions and values in the module (as well as a high-level description of the module).\n",
    "\n",
    "## Other import syntax\n",
    "\n",
    "If we know we'll be using functions in `math` frequently we can import it under a shorter alias to save some typing (though in this case \"math\" is already pretty short)."
   ]
  },
  {
   "cell_type": "code",
   "execution_count": 7,
   "metadata": {},
   "outputs": [
    {
     "data": {
      "text/plain": [
       "3.141592653589793"
      ]
     },
     "execution_count": 7,
     "metadata": {},
     "output_type": "execute_result"
    }
   ],
   "source": [
    "import math as mt\n",
    "mt.pi"
   ]
  },
  {
   "cell_type": "markdown",
   "metadata": {},
   "source": [
    "*You may have seen code that does this with certain popular libraries like Pandas, Numpy, Tensorflow, or Matplotlib. For example, it's a common convention to import numpy as np and import pandas as pd.*\n",
    "\n",
    "The `as` simply renames the imported module. It's equivalent to doing something like:\n"
   ]
  },
  {
   "cell_type": "code",
   "execution_count": 8,
   "metadata": {},
   "outputs": [],
   "source": [
    "import math\n",
    "mt = math"
   ]
  },
  {
   "cell_type": "markdown",
   "metadata": {},
   "source": [
    "Wouldn't it be great if we could refer to all the variables in the `math` module by themselves? i.e. if we could just refer to pi instead of `math.pi` or `mt.pi`? Good news: we can do that."
   ]
  },
  {
   "cell_type": "code",
   "execution_count": 9,
   "metadata": {},
   "outputs": [
    {
     "name": "stdout",
     "output_type": "stream",
     "text": [
      "3.141592653589793 5.0\n"
     ]
    }
   ],
   "source": [
    "from math import *\n",
    "print(pi, log(32, 2))"
   ]
  },
  {
   "cell_type": "markdown",
   "metadata": {},
   "source": [
    "`import *` makes all the module's variables directly accessible to you (without any dotted prefix).\n",
    "\n",
    "Bad news: some purists might grumble at you for doing this.\n",
    "\n",
    "Worse: they kind of have a point."
   ]
  },
  {
   "cell_type": "code",
   "execution_count": 10,
   "metadata": {},
   "outputs": [
    {
     "ename": "TypeError",
     "evalue": "return arrays must be of ArrayType",
     "output_type": "error",
     "traceback": [
      "\u001b[0;31m---------------------------------------------------------------------------\u001b[0m",
      "\u001b[0;31mTypeError\u001b[0m                                 Traceback (most recent call last)",
      "\u001b[0;32m<ipython-input-10-5045b296ad83>\u001b[0m in \u001b[0;36m<module>\u001b[0;34m\u001b[0m\n\u001b[1;32m      1\u001b[0m \u001b[0;32mfrom\u001b[0m \u001b[0mmath\u001b[0m \u001b[0;32mimport\u001b[0m \u001b[0;34m*\u001b[0m\u001b[0;34m\u001b[0m\u001b[0;34m\u001b[0m\u001b[0m\n\u001b[1;32m      2\u001b[0m \u001b[0;32mfrom\u001b[0m \u001b[0mnumpy\u001b[0m \u001b[0;32mimport\u001b[0m \u001b[0;34m*\u001b[0m\u001b[0;34m\u001b[0m\u001b[0;34m\u001b[0m\u001b[0m\n\u001b[0;32m----> 3\u001b[0;31m \u001b[0mprint\u001b[0m\u001b[0;34m(\u001b[0m\u001b[0mpi\u001b[0m\u001b[0;34m,\u001b[0m \u001b[0mlog\u001b[0m\u001b[0;34m(\u001b[0m\u001b[0;36m32\u001b[0m\u001b[0;34m,\u001b[0m \u001b[0;36m2\u001b[0m\u001b[0;34m)\u001b[0m\u001b[0;34m)\u001b[0m\u001b[0;34m\u001b[0m\u001b[0;34m\u001b[0m\u001b[0m\n\u001b[0m",
      "\u001b[0;31mTypeError\u001b[0m: return arrays must be of ArrayType"
     ]
    }
   ],
   "source": [
    "from math import *\n",
    "from numpy import *\n",
    "print(pi, log(32, 2))"
   ]
  },
  {
   "cell_type": "markdown",
   "metadata": {},
   "source": [
    "We get an error? But it worked before!\n",
    "\n",
    "These kinds of \"star imports\" can occasionally lead to weird, difficult-to-debug situations.\n",
    "\n",
    "The problem in this case is that the `math` and `numpy` modules both have functions called `log`, but they have different semantics. Because we import from `numpy` second, its log overwrites (or \"shadows\") the log variable we imported from `math`.\n",
    "\n",
    "A good compromise is to import only the specific things we'll need from each module:"
   ]
  },
  {
   "cell_type": "code",
   "execution_count": 11,
   "metadata": {},
   "outputs": [],
   "source": [
    "from math import log, pi\n",
    "from numpy import asarray"
   ]
  },
  {
   "cell_type": "markdown",
   "metadata": {},
   "source": [
    "## Submodules\n",
    "\n",
    "We've seen that modules contain variables which can refer to functions or values. Something to be aware of is that they can also have variables referring to other modules."
   ]
  },
  {
   "cell_type": "code",
   "execution_count": 12,
   "metadata": {},
   "outputs": [
    {
     "name": "stdout",
     "output_type": "stream",
     "text": [
      "numpy.random is a <class 'module'>\n",
      "it contains names such as... ['seed', 'set_state', 'shuffle', 'standard_cauchy', 'standard_exponential', 'standard_gamma', 'standard_normal', 'standard_t', 'test', 'triangular', 'uniform', 'vonmises', 'wald', 'weibull', 'zipf']\n"
     ]
    }
   ],
   "source": [
    "import numpy\n",
    "print(\"numpy.random is a\", type(numpy.random))\n",
    "print(\"it contains names such as...\",\n",
    "      dir(numpy.random)[-15:]\n",
    "     )"
   ]
  },
  {
   "cell_type": "markdown",
   "metadata": {},
   "source": [
    "So if we import `numpy` as above, then calling a function in the `random` \"submodule\" will require two dots."
   ]
  },
  {
   "cell_type": "code",
   "execution_count": 13,
   "metadata": {},
   "outputs": [
    {
     "data": {
      "text/plain": [
       "array([1, 5, 4, 2, 3, 2, 5, 3, 1, 4])"
      ]
     },
     "execution_count": 13,
     "metadata": {},
     "output_type": "execute_result"
    }
   ],
   "source": [
    "# Roll 10 dice\n",
    "rolls = numpy.random.randint(low=1, high=6, size=10)\n",
    "rolls"
   ]
  },
  {
   "cell_type": "markdown",
   "metadata": {},
   "source": [
    "## Survival tips\n",
    "\n",
    "As you work with various libraries for specialized tasks, you'll find that they define their own types which you'll have to learn to work with. For example, if you work with the graphing library `matplotlib`, you'll be coming into contact with objects it defines which represent Subplots, Figures, TickMarks, and Annotations. `pandas` functions will give you DataFrames and Series.\n",
    "\n",
    "In this section, I want to share with you a quick survival guide for working with strange types."
   ]
  },
  {
   "cell_type": "markdown",
   "metadata": {},
   "source": [
    "### Three tools for understanding strange objects¶\n",
    "\n",
    "In the earlier example above, we called a `numpy` function which gave us an \"array\". You may not have seen anything like this before thus far. But not to worry: there are three familiar builtin functions to help us here.\n",
    "\n",
    "**1: `type()`** (what is this thing?)"
   ]
  },
  {
   "cell_type": "code",
   "execution_count": 14,
   "metadata": {},
   "outputs": [
    {
     "data": {
      "text/plain": [
       "numpy.ndarray"
      ]
     },
     "execution_count": 14,
     "metadata": {},
     "output_type": "execute_result"
    }
   ],
   "source": [
    "type(rolls)"
   ]
  },
  {
   "cell_type": "markdown",
   "metadata": {},
   "source": [
    "**2: `dir()`** (what can I do with it?)"
   ]
  },
  {
   "cell_type": "code",
   "execution_count": 15,
   "metadata": {},
   "outputs": [
    {
     "name": "stdout",
     "output_type": "stream",
     "text": [
      "['T', '__abs__', '__add__', '__and__', '__array__', '__array_finalize__', '__array_function__', '__array_interface__', '__array_prepare__', '__array_priority__', '__array_struct__', '__array_ufunc__', '__array_wrap__', '__bool__', '__class__', '__complex__', '__contains__', '__copy__', '__deepcopy__', '__delattr__', '__delitem__', '__dir__', '__divmod__', '__doc__', '__eq__', '__float__', '__floordiv__', '__format__', '__ge__', '__getattribute__', '__getitem__', '__gt__', '__hash__', '__iadd__', '__iand__', '__ifloordiv__', '__ilshift__', '__imatmul__', '__imod__', '__imul__', '__index__', '__init__', '__init_subclass__', '__int__', '__invert__', '__ior__', '__ipow__', '__irshift__', '__isub__', '__iter__', '__itruediv__', '__ixor__', '__le__', '__len__', '__lshift__', '__lt__', '__matmul__', '__mod__', '__mul__', '__ne__', '__neg__', '__new__', '__or__', '__pos__', '__pow__', '__radd__', '__rand__', '__rdivmod__', '__reduce__', '__reduce_ex__', '__repr__', '__rfloordiv__', '__rlshift__', '__rmatmul__', '__rmod__', '__rmul__', '__ror__', '__rpow__', '__rrshift__', '__rshift__', '__rsub__', '__rtruediv__', '__rxor__', '__setattr__', '__setitem__', '__setstate__', '__sizeof__', '__str__', '__sub__', '__subclasshook__', '__truediv__', '__xor__', 'all', 'any', 'argmax', 'argmin', 'argpartition', 'argsort', 'astype', 'base', 'byteswap', 'choose', 'clip', 'compress', 'conj', 'conjugate', 'copy', 'ctypes', 'cumprod', 'cumsum', 'data', 'diagonal', 'dot', 'dtype', 'dump', 'dumps', 'fill', 'flags', 'flat', 'flatten', 'getfield', 'imag', 'item', 'itemset', 'itemsize', 'max', 'mean', 'min', 'nbytes', 'ndim', 'newbyteorder', 'nonzero', 'partition', 'prod', 'ptp', 'put', 'ravel', 'real', 'repeat', 'reshape', 'resize', 'round', 'searchsorted', 'setfield', 'setflags', 'shape', 'size', 'sort', 'squeeze', 'std', 'strides', 'sum', 'swapaxes', 'take', 'tobytes', 'tofile', 'tolist', 'tostring', 'trace', 'transpose', 'var', 'view']\n"
     ]
    }
   ],
   "source": [
    "print(dir(rolls))"
   ]
  },
  {
   "cell_type": "code",
   "execution_count": 17,
   "metadata": {},
   "outputs": [
    {
     "data": {
      "text/plain": [
       "3.0"
      ]
     },
     "execution_count": 17,
     "metadata": {},
     "output_type": "execute_result"
    }
   ],
   "source": [
    "# What can I do with this dice roll data? Maybe I want the average roll, in which case the \"mean\" method \n",
    "# looks promising...\n",
    "rolls.mean()"
   ]
  },
  {
   "cell_type": "code",
   "execution_count": 16,
   "metadata": {},
   "outputs": [
    {
     "data": {
      "text/plain": [
       "[1, 5, 4, 2, 3, 2, 5, 3, 1, 4]"
      ]
     },
     "execution_count": 16,
     "metadata": {},
     "output_type": "execute_result"
    }
   ],
   "source": [
    "# Or I might also want to check out \"tolist\"\n",
    "rolls.tolist()"
   ]
  },
  {
   "cell_type": "markdown",
   "metadata": {},
   "source": [
    "**3: `help()`** (tell me more)"
   ]
  },
  {
   "cell_type": "code",
   "execution_count": 18,
   "metadata": {},
   "outputs": [
    {
     "name": "stdout",
     "output_type": "stream",
     "text": [
      "Help on built-in function ravel:\n",
      "\n",
      "ravel(...) method of numpy.ndarray instance\n",
      "    a.ravel([order])\n",
      "    \n",
      "    Return a flattened array.\n",
      "    \n",
      "    Refer to `numpy.ravel` for full documentation.\n",
      "    \n",
      "    See Also\n",
      "    --------\n",
      "    numpy.ravel : equivalent function\n",
      "    \n",
      "    ndarray.flat : a flat iterator on the array.\n",
      "\n"
     ]
    }
   ],
   "source": [
    "# That \"ravel\" attribute sounds interesting.\n",
    "help(rolls.ravel)"
   ]
  },
  {
   "cell_type": "markdown",
   "metadata": {},
   "source": [
    "Alternatively, you might also prefer to check out the [online docs](https://docs.scipy.org/doc/numpy-1.14.0/reference/generated/numpy.ndarray.html)"
   ]
  },
  {
   "cell_type": "markdown",
   "metadata": {},
   "source": [
    "## Operator overloading\n",
    "\n",
    "What's the value of the below expression? Recall about arithmetic operations on lists in the [earlier lesson](https://github.com/colintwh/python-basics/blob/master/lists.ipynb).\n",
    "\n",
    "```python\n",
    "[3, 4, 1, 2, 2, 1] + 10\n",
    "```"
   ]
  },
  {
   "cell_type": "code",
   "execution_count": 22,
   "metadata": {},
   "outputs": [
    {
     "ename": "TypeError",
     "evalue": "can only concatenate list (not \"int\") to list",
     "output_type": "error",
     "traceback": [
      "\u001b[0;31m---------------------------------------------------------------------------\u001b[0m",
      "\u001b[0;31mTypeError\u001b[0m                                 Traceback (most recent call last)",
      "\u001b[0;32m<ipython-input-22-a2508fc27c2b>\u001b[0m in \u001b[0;36m<module>\u001b[0;34m\u001b[0m\n\u001b[0;32m----> 1\u001b[0;31m \u001b[0;34m[\u001b[0m\u001b[0;36m3\u001b[0m\u001b[0;34m,\u001b[0m \u001b[0;36m4\u001b[0m\u001b[0;34m,\u001b[0m \u001b[0;36m1\u001b[0m\u001b[0;34m,\u001b[0m \u001b[0;36m2\u001b[0m\u001b[0;34m,\u001b[0m \u001b[0;36m2\u001b[0m\u001b[0;34m,\u001b[0m \u001b[0;36m1\u001b[0m\u001b[0;34m]\u001b[0m \u001b[0;34m+\u001b[0m \u001b[0;36m10\u001b[0m\u001b[0;34m\u001b[0m\u001b[0;34m\u001b[0m\u001b[0m\n\u001b[0m",
      "\u001b[0;31mTypeError\u001b[0m: can only concatenate list (not \"int\") to list"
     ]
    }
   ],
   "source": [
    "[3, 4, 1, 2, 2, 1] + 10"
   ]
  },
  {
   "cell_type": "markdown",
   "metadata": {},
   "source": [
    "What about...\n",
    "```python\n",
    "rolls + 10\n",
    "```"
   ]
  },
  {
   "cell_type": "code",
   "execution_count": 21,
   "metadata": {},
   "outputs": [
    {
     "data": {
      "text/plain": [
       "array([11, 15, 14, 12, 13, 12, 15, 13, 11, 14])"
      ]
     },
     "execution_count": 21,
     "metadata": {},
     "output_type": "execute_result"
    }
   ],
   "source": [
    "rolls + 10"
   ]
  },
  {
   "cell_type": "markdown",
   "metadata": {},
   "source": [
    "We might think that Python strictly polices how pieces of its core syntax behave such as `+`, `<`, `in`, `==`, or square brackets for indexing and slicing. But in fact, it takes a very hands-off approach. When you define a new type, you can choose how addition works for it, or what it means for an object of that type to be equal to something else.\n",
    "\n",
    "The designers of lists decided that adding them to numbers wasn't allowed. The designers of numpy arrays went a different way (adding the number to each element of the array).\n",
    "\n",
    "Here are a few more examples of how numpy arrays interact unexpectedly with Python operators (or at least differently from lists)."
   ]
  },
  {
   "cell_type": "code",
   "execution_count": 23,
   "metadata": {},
   "outputs": [
    {
     "data": {
      "text/plain": [
       "array([ True, False, False,  True,  True,  True, False,  True,  True,\n",
       "       False])"
      ]
     },
     "execution_count": 23,
     "metadata": {},
     "output_type": "execute_result"
    }
   ],
   "source": [
    "# At which indices are the dice less than or equal to 3?\n",
    "rolls <= 3"
   ]
  },
  {
   "cell_type": "code",
   "execution_count": 24,
   "metadata": {},
   "outputs": [
    {
     "name": "stdout",
     "output_type": "stream",
     "text": [
      "xlist = [[1, 2, 3], [2, 4, 6]]\n",
      "x =\n",
      "[[1 2 3]\n",
      " [2 4 6]]\n"
     ]
    }
   ],
   "source": [
    "xlist = [[1,2,3],[2,4,6],]\n",
    "# Create a 2-dimensional array\n",
    "x = numpy.asarray(xlist)\n",
    "print(\"xlist = {}\\nx =\\n{}\".format(xlist, x))"
   ]
  },
  {
   "cell_type": "code",
   "execution_count": 25,
   "metadata": {},
   "outputs": [
    {
     "data": {
      "text/plain": [
       "6"
      ]
     },
     "execution_count": 25,
     "metadata": {},
     "output_type": "execute_result"
    }
   ],
   "source": [
    "# Get the last element of the second row of our numpy array\n",
    "x[1,-1]"
   ]
  },
  {
   "cell_type": "code",
   "execution_count": 26,
   "metadata": {},
   "outputs": [
    {
     "ename": "TypeError",
     "evalue": "list indices must be integers or slices, not tuple",
     "output_type": "error",
     "traceback": [
      "\u001b[0;31m---------------------------------------------------------------------------\u001b[0m",
      "\u001b[0;31mTypeError\u001b[0m                                 Traceback (most recent call last)",
      "\u001b[0;32m<ipython-input-26-e2f4c7f35788>\u001b[0m in \u001b[0;36m<module>\u001b[0;34m\u001b[0m\n\u001b[1;32m      1\u001b[0m \u001b[0;31m# Get the last element of the second sublist of our nested list?\u001b[0m\u001b[0;34m\u001b[0m\u001b[0;34m\u001b[0m\u001b[0;34m\u001b[0m\u001b[0m\n\u001b[0;32m----> 2\u001b[0;31m \u001b[0mxlist\u001b[0m\u001b[0;34m[\u001b[0m\u001b[0;36m1\u001b[0m\u001b[0;34m,\u001b[0m\u001b[0;34m-\u001b[0m\u001b[0;36m1\u001b[0m\u001b[0;34m]\u001b[0m\u001b[0;34m\u001b[0m\u001b[0;34m\u001b[0m\u001b[0m\n\u001b[0m",
      "\u001b[0;31mTypeError\u001b[0m: list indices must be integers or slices, not tuple"
     ]
    }
   ],
   "source": [
    "# Get the last element of the second sublist of our nested list?\n",
    "xlist[1,-1]"
   ]
  },
  {
   "cell_type": "markdown",
   "metadata": {},
   "source": [
    "numpy's `ndarray` type is specialized for working with multi-dimensional data, so it defines its own logic for indexing, allowing us to index by a tuple to specify the index at each dimension."
   ]
  },
  {
   "cell_type": "markdown",
   "metadata": {},
   "source": [
    "## When does 1 + 1 not equal 2?\n",
    "\n",
    "Things can get weirder than this. You may have heard of (or even used) tensorflow, a Python library popularly used for deep learning. It makes extensive use of operator overloading."
   ]
  },
  {
   "cell_type": "code",
   "execution_count": 30,
   "metadata": {},
   "outputs": [
    {
     "data": {
      "text/plain": [
       "<tf.Tensor: shape=(), dtype=int32, numpy=2>"
      ]
     },
     "execution_count": 30,
     "metadata": {},
     "output_type": "execute_result"
    }
   ],
   "source": [
    "import tensorflow as tf\n",
    "# Create two constants, each with value 1\n",
    "a = tf.constant(1)\n",
    "b = tf.constant(1)\n",
    "# Add them together to get...\n",
    "a + b"
   ]
  },
  {
   "cell_type": "markdown",
   "metadata": {},
   "source": [
    "a + b isn't 2, it is (to quote tensorflow's documentation)...\n",
    "\n",
    "    a symbolic handle to one of the outputs of an Operation. It does not hold the values of that operation's output, but instead provides a means of computing those values in a TensorFlow tf.Session.\n",
    "\n",
    "\n",
    "It's important just to be aware of the fact that this sort of thing is possible and that libraries will often use operator overloading in non-obvious or magical-seeming ways.\n",
    "\n",
    "Understanding how Python's operators work when applied to ints, strings, and lists is no guarantee that you'll be able to immediately understand what they do when applied to a tensorflow Tensor, or a numpy `ndarray`, or a `pandas` DataFrame.\n",
    "\n",
    "Once you've had a little taste of DataFrames, for example, an expression like the one below starts to look appealingly intuitive:\n",
    "\n",
    "``` python\n",
    "# Get the rows with population over 1m in South America\n",
    "df[(df['population'] > 10**6) & (df['continent'] == 'South America')]\n",
    "```"
   ]
  },
  {
   "cell_type": "markdown",
   "metadata": {},
   "source": [
    "Curious how it all works?\n",
    "\n",
    "Have you ever called `help()` or `dir()` on an object and wondered what the heck all those names with the double-underscores were?"
   ]
  },
  {
   "cell_type": "code",
   "execution_count": 29,
   "metadata": {},
   "outputs": [
    {
     "name": "stdout",
     "output_type": "stream",
     "text": [
      "['__add__', '__class__', '__contains__', '__delattr__', '__delitem__', '__dir__', '__doc__', '__eq__', '__format__', '__ge__', '__getattribute__', '__getitem__', '__gt__', '__hash__', '__iadd__', '__imul__', '__init__', '__init_subclass__', '__iter__', '__le__', '__len__', '__lt__', '__mul__', '__ne__', '__new__', '__reduce__', '__reduce_ex__', '__repr__', '__reversed__', '__rmul__', '__setattr__', '__setitem__', '__sizeof__', '__str__', '__subclasshook__', 'append', 'clear', 'copy', 'count', 'extend', 'index', 'insert', 'pop', 'remove', 'reverse', 'sort']\n"
     ]
    }
   ],
   "source": [
    "print(dir(list))"
   ]
  },
  {
   "cell_type": "markdown",
   "metadata": {},
   "source": [
    "This turns out to be directly related to operator overloading.\n",
    "\n",
    "When Python programmers want to define how operators behave on their types, they do so by implementing methods with special names beginning and ending with 2 underscores such as __lt__, __setattr__, or __contains__. Generally, names that follow this double-underscore format have a special meaning to Python.\n",
    "\n",
    "So, for example, the expression x in [1, 2, 3] is actually calling the list method __contains__ behind-the-scenes. It's equivalent to (the much uglier) [1, 2, 3].__contains__(x).\n",
    "\n",
    "If you're curious to learn more, you can check out Python's [official documentation](https://docs.python.org/3.4/reference/datamodel.html#special-method-names), which describes many, many more of these special \"underscores\" methods."
   ]
  },
  {
   "cell_type": "markdown",
   "metadata": {},
   "source": [
    "## Useful Modules in Standard Library\n",
    "\n",
    "Python comes with a built-in selection of modules which provide commonly used functionality. For a full listing of the available libraries, you can find out more details about each one [here](https://docs.python.org/3/library/index.html).\n",
    "\n",
    "### `datetime`\n",
    "\n",
    "The `datetime` module provides us with objects which we can use to store information about dates and times:\n",
    "\n",
    "Here are a few examples:"
   ]
  },
  {
   "cell_type": "code",
   "execution_count": 1,
   "metadata": {},
   "outputs": [
    {
     "name": "stdout",
     "output_type": "stream",
     "text": [
      "2020\n",
      "9\n",
      "17\n",
      "4\n",
      "Fri, 15 May 2020\n",
      "1999-03-14 12:30:58\n",
      "True\n",
      "<class 'datetime.timedelta'>\n",
      "7732 days, 20:46:02.521399\n"
     ]
    }
   ],
   "source": [
    "import datetime\n",
    "\n",
    "# this class method creates a datetime object with the current date and time\n",
    "now = datetime.datetime.today()\n",
    "\n",
    "print(now.year)\n",
    "print(now.hour)\n",
    "print(now.minute)\n",
    "\n",
    "print(now.weekday())\n",
    "\n",
    "print(now.strftime(\"%a, %d %B %Y\"))\n",
    "\n",
    "long_ago = datetime.datetime(1999, 3, 14, 12, 30, 58)\n",
    "\n",
    "print(long_ago) # remember that this calls str automatically\n",
    "print(long_ago < now)\n",
    "\n",
    "difference = now - long_ago\n",
    "print(type(difference))\n",
    "print(difference) # remember that this calls str automatically"
   ]
  },
  {
   "cell_type": "markdown",
   "metadata": {},
   "source": [
    "## `math`\n",
    "\n",
    "The `math` module is a collection of mathematical functions, some of which we have already seen earlier. These can be used on floats or integers, but are mostly intended to be used on floats, and usually return floats. Here are a few examples:"
   ]
  },
  {
   "cell_type": "code",
   "execution_count": 2,
   "metadata": {},
   "outputs": [
    {
     "data": {
      "text/plain": [
       "1.5707963267948966"
      ]
     },
     "execution_count": 2,
     "metadata": {},
     "output_type": "execute_result"
    }
   ],
   "source": [
    "import math\n",
    "\n",
    "# These are constant attributes, not functions\n",
    "math.pi\n",
    "math.e\n",
    "\n",
    "# round a float up or down\n",
    "math.ceil(3.3)\n",
    "math.floor(3.3)\n",
    "\n",
    "# natural logarithm\n",
    "math.log(5)\n",
    "# logarithm with base 10\n",
    "math.log(5, 10)\n",
    "math.log10(5) # this function is slightly more accurate\n",
    "\n",
    "# square root\n",
    "math.sqrt(10)\n",
    "\n",
    "# trigonometric functions\n",
    "math.sin(math.pi/2)\n",
    "math.cos(0)\n",
    "\n",
    "# convert between radians and degrees\n",
    "math.degrees(math.pi/2)\n",
    "math.radians(90)"
   ]
  },
  {
   "cell_type": "markdown",
   "metadata": {},
   "source": [
    "## `random`\n",
    "\n",
    "In Python we use the `random` module to generate pseudo-random numbers, and do a few more things which depend on randomness. The core function of the module generates a random float between 0 and 1, and most of the other functions are derived from it. Here are a few examples:"
   ]
  },
  {
   "cell_type": "code",
   "execution_count": 3,
   "metadata": {},
   "outputs": [
    {
     "data": {
      "text/plain": [
       "2"
      ]
     },
     "execution_count": 3,
     "metadata": {},
     "output_type": "execute_result"
    }
   ],
   "source": [
    "import random\n",
    "\n",
    "# a random float from 0 to 1 (excluding 1)\n",
    "random.random()\n",
    "\n",
    "pets = [\"cat\", \"dog\", \"fish\"]\n",
    "# a random element from a sequence\n",
    "random.choice(pets)\n",
    "# shuffle a list (in place)\n",
    "random.shuffle(pets)\n",
    "\n",
    "# a random integer from 1 to 10 (inclusive)\n",
    "random.randint(1, 10)"
   ]
  },
  {
   "cell_type": "markdown",
   "metadata": {},
   "source": [
    "## Matching string patterns: `re`\n",
    "\n",
    "The `re` module allows us to write regular expressions. Regular expressions are a mini-language for matching strings, and can be used to find and possibly replace text.\n",
    "\n",
    "Here are some very simple examples:"
   ]
  },
  {
   "cell_type": "code",
   "execution_count": 4,
   "metadata": {},
   "outputs": [
    {
     "data": {
      "text/plain": [
       "'cat|dog'"
      ]
     },
     "execution_count": 4,
     "metadata": {},
     "output_type": "execute_result"
    }
   ],
   "source": [
    "# this regular expression contains no special symbols\n",
    "# it won't match anything except 'cat'\n",
    "\"cat\"\n",
    "\n",
    "# a . stands for any single character (except the newline, by default)\n",
    "# this will match 'cat', 'cbt', 'c3t', 'c!t' ...\n",
    "\"c.t\"\n",
    "\n",
    "# a * repeats the previous character 0 or more times\n",
    "# it can be used after a normal character, or a special symbol like .\n",
    "# this will match 'ct', 'cat', 'caat', 'caaaaaaaaat' ...\n",
    "\"ca*t\"\n",
    "# this will match 'sc', 'sac', 'sic', 'supercalifragilistic' ...\n",
    "\"s.*c\"\n",
    "\n",
    "# + is like *, but the character must occur at least once\n",
    "# there must be at least one 'a'\n",
    "\"ca+t\"\n",
    "\n",
    "# more generally, we can use curly brackets {} to specify any number of repeats\n",
    "# or a minimum and maximum\n",
    "# this will match any five-letter word which starts with 'c' and ends with 't'\n",
    "\"c.{3}t\"\n",
    "# this will match any five-, six-, or seven-letter word ...\n",
    "\"c.{3,5}t\"\n",
    "\n",
    "# One of the uses for ? is matching the previous character zero or one times\n",
    "# this will match 'http' or 'https'\n",
    "\"https?\"\n",
    "\n",
    "# square brackets [] define a set of allowed values for a character\n",
    "# they can contain normal characters, or ranges\n",
    "# if ^ is the first character in the brackets, it *negates* the contents\n",
    "# the character between 'c' and 't' must be a vowel\n",
    "\"c[aeiou]t\"\n",
    "# this matches any character that *isn't* a vowel, three times\n",
    "\"[^aeiou]{3}\"\n",
    "# This matches an uppercase UCT student number\n",
    "\"[B-DF-HJ-NP-TV-Z]{3}[A-Z]{3}[0-9]{3}\"\n",
    "\n",
    "# we use \\ to escape any special regular expression character\n",
    "# this would match 'c*t'\n",
    "r\"c\\*t\"\n",
    "# note that we have used a raw string, so that we can write a literal backslash\n",
    "\n",
    "# there are also some shorthand symbols for certain allowed subsets of characters:\n",
    "# \\d matches any digit\n",
    "# \\s matches any whitespace character, like space, tab or newline\n",
    "# \\w matches alphanumeric characters -- letters, digits or the underscore\n",
    "# \\D, \\S and \\W are the opposites of \\d, \\s and \\w\n",
    "\n",
    "# we can use round brackets () to *capture* portions of the pattern\n",
    "# this is useful if we want to search and replace\n",
    "# we can retrieve the contents of the capture in the replace step\n",
    "# this will capture whatever would be matched by .*\n",
    "\"c(.*)t\"\n",
    "\n",
    "# ^ and $ denote the beginning or end of a string\n",
    "# this will match a string which starts with 'c' and ends in 't'\n",
    "\"^c.*t$\"\n",
    "\n",
    "# | means \"or\" -- it lets us choose between multiple options.\n",
    "\"cat|dog\""
   ]
  },
  {
   "cell_type": "markdown",
   "metadata": {},
   "source": [
    "Now that we have seen how to construct regular expression strings, we can start using them. The `re` module provides us with several functions which allow us to use regular expressions in different ways:\n",
    "\n",
    "+ `search` searches for the regular expression inside a string – the regular expression will match if any subset of the string matches.\n",
    "+ `match` matches a regular expression against the entire string – the regular expression will only match if the whole string matches. `re.match('something', some_string)` is equivalent to `re.search('^something$', some_string)`.\n",
    "+ `sub` searches for the regular expression and replaces it with the provided replacement expression.\n",
    "+ `findall` searches for all matches of the regular expression within the string.\n",
    "+ `split` splits a string using any regular expression as a delimiter.\n",
    "+ `compile` allows us to convert our regular expression string to a pre-compiled regular expression object, which has methods analogous to the `re` module. Using this object is slightly more efficient.\n",
    "\n",
    "Here are some usage examples:"
   ]
  },
  {
   "cell_type": "code",
   "execution_count": 5,
   "metadata": {},
   "outputs": [
    {
     "name": "stdout",
     "output_type": "stream",
     "text": [
      "<re.Match object; span=(0, 6), match='cravat'>\n",
      "None\n",
      "<re.Match object; span=(9, 15), match='cravat'>\n",
      "Mary had a little squirrel.\n",
      "MAN BITES DOG\n",
      "bbbbbbbbbb\n",
      "baaaaaaaaa\n",
      "('DOG', 'BITES', 'MAN')\n",
      "DOG\n",
      "DOG\n",
      "{'subject': 'DOG', 'verb': 'BITES', 'object': 'MAN'}\n",
      "DOG\n",
      "['<bob@example.com>,', '<jane.doe@example.com>']\n",
      "['one', 'two', 'three', 'four']\n",
      "MAN BITES DOG\n"
     ]
    }
   ],
   "source": [
    "import re\n",
    "\n",
    "# match and search are quite similar\n",
    "print(re.match(\"c.*t\", \"cravat\")) # this will match\n",
    "print(re.match(\"c.*t\", \"I have a cravat\")) # this won't\n",
    "print(re.search(\"c.*t\", \"I have a cravat\")) # this will\n",
    "\n",
    "# We can use a static string as a replacement...\n",
    "print(re.sub(\"lamb\", \"squirrel\", \"Mary had a little lamb.\"))\n",
    "# Or we can capture groups, and substitute their contents back in.\n",
    "print(re.sub(\"(.*) (BITES) (.*)\", r\"\\3 \\2 \\1\", \"DOG BITES MAN\"))\n",
    "# count is a keyword parameter which we can use to limit replacements\n",
    "print(re.sub(\"a\", \"b\", \"aaaaaaaaaa\"))\n",
    "print(re.sub(\"a\", \"b\", \"aaaaaaaaaa\", count=1))\n",
    "\n",
    "# Here's a closer look at a match object.\n",
    "my_match = re.match(\"(.*) (BITES) (.*)\", \"DOG BITES MAN\")\n",
    "print(my_match.groups())\n",
    "print(my_match.group(1))\n",
    "\n",
    "# We can name groups.\n",
    "my_match = re.match(\"(?P<subject>.*) (?P<verb>BITES) (?P<object>.*)\", \"DOG BITES MAN\")\n",
    "print(my_match.group(\"subject\"))\n",
    "print(my_match.groupdict())\n",
    "# We can still access named groups by their positions.\n",
    "print(my_match.group(1))\n",
    "\n",
    "# Sometimes we want to find all the matches in a string.\n",
    "print(re.findall(\"[^ ]+@[^ ]+\", \"Bob <bob@example.com>, Jane <jane.doe@example.com>\"))\n",
    "\n",
    "# Sometimes we want to split a string.\n",
    "print(re.split(\", *\", \"one,two,  three, four\"))\n",
    "\n",
    "# We can compile a regular expression to an object\n",
    "my_regex = re.compile(\"(.*) (BITES) (.*)\")\n",
    "# now we can use it in a very similar way to the module\n",
    "print(my_regex.sub(r\"\\3 \\2 \\1\", \"DOG BITES MAN\"))\n"
   ]
  },
  {
   "cell_type": "markdown",
   "metadata": {},
   "source": [
    "Regular expressions are *greedy* by default – this means that if a part of a regular expression can match a variable number of characters, it will always try to match as many characters as possible. That means that we sometimes need to take special care to make sure that a regular expression doesn’t match too much. For example:"
   ]
  },
  {
   "cell_type": "code",
   "execution_count": 6,
   "metadata": {},
   "outputs": [
    {
     "name": "stdout",
     "output_type": "stream",
     "text": [
      "['\"one\" \"two\" \"three\" \"four\"']\n",
      "['\"one\"', '\"two\"', '\"three\"', '\"four\"']\n",
      "['\"one\"', '\"two\"', '\"three\"', '\"four\"']\n"
     ]
    }
   ],
   "source": [
    "# this is going to match everything between the first and last '\"'\n",
    "# but that's not what we want!\n",
    "print(re.findall('\".*\"', '\"one\" \"two\" \"three\" \"four\"'))\n",
    "\n",
    "# This is a common trick\n",
    "print(re.findall('\"[^\"]*\"', '\"one\" \"two\" \"three\" \"four\"'))\n",
    "\n",
    "# We can also use ? after * or other expressions to make them *not greedy*\n",
    "print(re.findall('\".*?\"', '\"one\" \"two\" \"three\" \"four\"'))"
   ]
  },
  {
   "cell_type": "markdown",
   "metadata": {},
   "source": [
    "We can use `re.sub` to apply a function to a match instead of a string replacement. The function must take a match object as a parameter, and return a string. We can use this functionality to perform modifications which may be difficult or impossible to express as a replacement string:"
   ]
  },
  {
   "cell_type": "code",
   "execution_count": 7,
   "metadata": {},
   "outputs": [
    {
     "name": "stdout",
     "output_type": "stream",
     "text": [
      "Man bites dog!\n"
     ]
    }
   ],
   "source": [
    "def swap(m):\n",
    "    subject = m.group(\"object\").title()\n",
    "    verb = m.group(\"verb\")\n",
    "    object = m.group(\"subject\").lower()\n",
    "    return \"%s %s %s!\" % (subject, verb, object)\n",
    "\n",
    "print(re.sub(\"(?P<subject>.*) (?P<verb>.*) (?P<object>.*)!\", swap, \"Dog bites man!\"))"
   ]
  },
  {
   "cell_type": "markdown",
   "metadata": {},
   "source": [
    "Regular expressions have historically tended to be applied to text line by line – newlines have usually required special handling. In Python, the text is treated as a single unit by default, but we can change this and a few other options using flags. These are the most commonly used:\n",
    "\n",
    "+ `re.IGNORECASE` – make the regular expression case-insensitive. It is case-sensitive by default.\n",
    "+ `re.MULTILINE` – make ^ and $ match the beginning and end of each line (excluding the newline at the end), as well as the beginning and end of the whole string (which is the default).\n",
    "+ `re.DOTALL` – make . match any character (by default it does not match newlines).\n",
    "\n",
    "Here are few examples:"
   ]
  },
  {
   "cell_type": "code",
   "execution_count": 8,
   "metadata": {},
   "outputs": [
    {
     "name": "stdout",
     "output_type": "stream",
     "text": [
      "None\n",
      "<re.Match object; span=(0, 3), match='Cat'>\n",
      "[]\n",
      "[\"numbers = 'one,\\ntwo,\\nthree'\", \"numbers = 'four,\\nfive,\\nsix'\"]\n"
     ]
    }
   ],
   "source": [
    "print(re.match(\"cat\", \"Cat\")) # this won't match\n",
    "print(re.match(\"cat\", \"Cat\", re.IGNORECASE)) # this will\n",
    "\n",
    "text = \"\"\"numbers = 'one,\n",
    "two,\n",
    "three'\n",
    "numbers = 'four,\n",
    "five,\n",
    "six'\n",
    "not_numbers = 'cat,\n",
    "dog'\"\"\"\n",
    "\n",
    "print(re.findall(\"^numbers = '.*?'\", text)) # this won't find anything\n",
    "# we need both DOTALL and MULTILINE\n",
    "print(re.findall(\"^numbers = '.*?'\", text, re.DOTALL | re.MULTILINE))"
   ]
  },
  {
   "cell_type": "markdown",
   "metadata": {},
   "source": [
    "## Parsing csv files: `csv`\n",
    "\n",
    "CSV stands for comma-separated values – it’s a very simple file format for storing tabular data. Most spreadsheets can easily be converted to and from CSV format.\n",
    "\n",
    "In a typical CSV file, each line represents a row of values in the table, with the columns separated by commas. Field values are often enclosed in double quotes, so that any literal commas or newlines inside them can be escaped:\n",
    "\n",
    "    \"one\",\"two\",\"three\"\n",
    "    \"four, five\",\"six\",\"seven\"\n",
    "    \n",
    "Python’s `csv` module takes care of all this in the background, and allows us to manipulate the data in a CSV file in a simple way, using the reader class:"
   ]
  },
  {
   "cell_type": "code",
   "execution_count": 9,
   "metadata": {},
   "outputs": [
    {
     "name": "stdout",
     "output_type": "stream",
     "text": [
      "['one', ' \"two\"', ' \"three\"']\n",
      "['four', ' \"five\"', ' \"six\"', ' \"seven\"']\n"
     ]
    }
   ],
   "source": [
    "import csv\n",
    "\n",
    "with open(\"numbers.csv\") as f:\n",
    "    r = csv.reader(f)\n",
    "    for row in r:\n",
    "        print(row)\n",
    "              \n",
    "# Similarly, we can write to a CSV file using the writer class:\n",
    "\n",
    "with open('pets.csv', 'w') as f:\n",
    "    w = csv.writer(f)\n",
    "    w.writerow(['Fluffy', 'cat'])\n",
    "    w.writerow(['Max', 'dog'])"
   ]
  },
  {
   "cell_type": "markdown",
   "metadata": {},
   "source": [
    "## Writing scripts: `sys` and `argparse`\n",
    "\n",
    "Technically speaking, any Python file can be considered a script, since it can be executed without compilation. When we call a Python program a script, however, we usually mean that it contains statements other than function and class definitions – scripts do something other than define structures to be reused.\n",
    "\n",
    "### Scripts vs libraries\n",
    "\n",
    "We can combine class and function definitions with statements that use them in the same file, but in a large project it is considered good practice to keep them separate: to define all our classes in library files, and import them into the main program. If we do put both classes and main program in one file, we can ensure that the program is only executed when the file is run as a script and not if it is imported from another file:"
   ]
  },
  {
   "cell_type": "code",
   "execution_count": 32,
   "metadata": {},
   "outputs": [],
   "source": [
    "class MyClass:\n",
    "    pass\n",
    "\n",
    "class MyOtherClass:\n",
    "    pass\n",
    "\n",
    "if __name__ == '__main__':\n",
    "    my_object = MyClass()\n",
    "    # do more things"
   ]
  },
  {
   "cell_type": "markdown",
   "metadata": {},
   "source": [
    "### Simple command-line parameters\n",
    "\n",
    "Unlike parameters passed to a function in Python, arguments passed to an application on the commandline are separated by spaces and listed after the program name without any brackets.\n",
    "\n",
    "The simplest way to access commandline arguments inside a script is through the `sys` module. All the arguments in order are stored in the module’s `argv` attribute. We must remember that the first argument is always the name of the script file, and that all the arguments will be provided in string format. Try saving this simple script and calling it with various arguments after the script name:"
   ]
  },
  {
   "cell_type": "markdown",
   "metadata": {},
   "source": [
    "import sys\n",
    "\n",
    "print sys.argv"
   ]
  },
  {
   "cell_type": "markdown",
   "metadata": {},
   "source": [
    "### Complex command-line parameters\n",
    "\n",
    "The `sys` module is good enough when we only have a few simple arguments – perhaps the name of a file to open, or a number which tells us how many times to execute a loop. When we want to provide a variety of complicated arguments, some of them optional, we need a better solution.\n",
    "\n",
    "The `argparse` module allows us to define a wide range of compulsory and optional arguments. A commonly used type of argument is the flag, which we can think of as equivalent to a keyword argument in Python. A flag is optional, it has a name (sometimes both a long name and a short name) and it may have a value. In Linux and OSX programs, flag names often start with a dash (long names usually start with two), and this convention is sometimes followed by Windows programs too.\n",
    "\n",
    "Here is a simple example of a program which uses `argparse` to define two positional arguments which must be integers, a flag which specifies an operation to be performed on the two numbers, and a flag to turn on verbose output:"
   ]
  },
  {
   "cell_type": "code",
   "execution_count": null,
   "metadata": {},
   "outputs": [],
   "source": [
    "import argparse\n",
    "import logging\n",
    "\n",
    "parser = argparse.ArgumentParser()\n",
    "# two integers\n",
    "parser.add_argument(\"num1\", help=\"the first number\", type=int)\n",
    "parser.add_argument(\"num2\", help=\"the second number\", type=int)\n",
    "# a string, limited to a list of options\n",
    "parser.add_argument(\"op\", help=\"the desired arithmetic operation\", choices=['add', 'sub', 'mul', 'div'])\n",
    "# an optional flag, true by default, with a short and a long name\n",
    "parser.add_argument(\"-v\", \"--verbose\", help=\"turn on verbose output\", action=\"store_true\")\n",
    "\n",
    "opts = parser.parse_args()\n",
    "\n",
    "if opts.verbose:\n",
    "    logging.basicConfig(level=logging.DEBUG)\n",
    "\n",
    "logging.debug(\"First number: %d\" % opts.num1)\n",
    "logging.debug(\"Second number: %d\" % opts.num2)\n",
    "logging.debug(\"Operation: %s\" % opts.op)\n",
    "\n",
    "if opts.op == \"add\":\n",
    "    result = opts.num1 + opts.num2\n",
    "elif opts.op == \"sub\":\n",
    "    result = opts.num1 - opts.num2\n",
    "elif opts.op == \"mul\":\n",
    "    result = opts.num1 * opts.num2\n",
    "elif opts.op == \"div\":\n",
    "    result = opts.num1 / opts.num2\n",
    "\n",
    "print(result)"
   ]
  },
  {
   "cell_type": "markdown",
   "metadata": {},
   "source": [
    "Next up, we'll learn about [more about functions](https://github.com/colintwh/python-basics/blob/master/adv_functions.ipynb). We'll learn how to pass in lists, tuples and/or dicts as parameters, about lambdas"
   ]
  }
 ],
 "metadata": {
  "kernelspec": {
   "display_name": "Python 3",
   "language": "python",
   "name": "python3"
  },
  "language_info": {
   "codemirror_mode": {
    "name": "ipython",
    "version": 3
   },
   "file_extension": ".py",
   "mimetype": "text/x-python",
   "name": "python",
   "nbconvert_exporter": "python",
   "pygments_lexer": "ipython3",
   "version": "3.8.5"
  }
 },
 "nbformat": 4,
 "nbformat_minor": 4
}
