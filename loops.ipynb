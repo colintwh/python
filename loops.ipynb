{
 "cells": [
  {
   "cell_type": "markdown",
   "metadata": {},
   "source": [
    "# Loop control statements\n",
    "\n",
    "---\n",
    "   Looping allows you to make the program execute the same set of statements over and over as long as certain criterion holds. There are two loop statements in Python: `while` and `for`, which caters for two major kinds of programming loops - event-controlled loops and counting loops - respectively. I will first explain on `while` statements."
   ]
  },
  {
   "cell_type": "markdown",
   "metadata": {},
   "source": [
    "## `while` loops\n",
    "\n",
    "The `while` loop runs as long as or while, a certain condition is true. For example, the following loop counts from 1 to 5:"
   ]
  },
  {
   "cell_type": "code",
   "execution_count": 1,
   "metadata": {},
   "outputs": [
    {
     "name": "stdout",
     "output_type": "stream",
     "text": [
      "1\n",
      "2\n",
      "3\n",
      "4\n",
      "5\n"
     ]
    }
   ],
   "source": [
    "# counts from 1 to 5\n",
    "x = 1 \n",
    "while x <= 5: # 1 less than or equal 5 is true, thus it enters the loop at least once\n",
    "    print(x)\n",
    "    x += 1"
   ]
  },
  {
   "cell_type": "markdown",
   "metadata": {},
   "source": [
    "The `while` loop is set to repeat as long as the value of current_number is less than or equal to 5. The code inside the loop prints the value of `x` and increments by 1."
   ]
  },
  {
   "cell_type": "markdown",
   "metadata": {},
   "source": [
    "### Avoiding infinite loops\n",
    "\n",
    "Note that if you accidentally forget to increment `x` by omitting the line `x += 1`, the loop will run forever:\n",
    "```\n",
    "        # This loops runs forever!\n",
    "        x = 1 \n",
    "        while x <= 5:\n",
    "            print(x)\n",
    "```\n",
    "\n",
    "The Python interpreter cannot catch infinite loops. This is known as the halting problem. It is impossible for a computer to detect all possible infinite loops in another program. It is up to the programmer to avoid infinite loops. If your program gets stuck in an infinite loop, press Ctrl-C or just close the terminal window displaying your program's output."
   ]
  },
  {
   "cell_type": "markdown",
   "metadata": {},
   "source": [
    "### Suited for event-controlled loop\n",
    "\n",
    "In the counting example above, it is more appropriate to use a `for` loop as we are counting to a predetermined number. I will briefly explain on `for` loop in later section below.\n",
    "\n",
    "When do we need an event-controlled or `while` loop? For example, we can make a program below to run as long as the user wants by putting most of the program inside a `while` loop. We'll define a `quit` value and then keep the program running as long as the user has not entered the quit value:"
   ]
  },
  {
   "cell_type": "code",
   "execution_count": 2,
   "metadata": {},
   "outputs": [
    {
     "name": "stdout",
     "output_type": "stream",
     "text": [
      "\n",
      "Tell me something, and I will repeat it back to you:\n",
      "Enter 'quit' to end the program. Hello world!\n",
      "Hello world!\n",
      "\n",
      "Tell me something, and I will repeat it back to you:\n",
      "Enter 'quit' to end the program. quit\n",
      "quit\n"
     ]
    }
   ],
   "source": [
    "prompt = \"\\nTell me something, and I will repeat it back to you:\"\n",
    "prompt += \"\\nEnter 'quit' to end the program. \"\n",
    "\n",
    "message = \"\"   \n",
    "while message != 'quit':     # loop stops when message is 'quit'\n",
    "    message = input(prompt)  # prompts for user's input and assign the value to variable, message\n",
    "    print(message)"
   ]
  },
  {
   "cell_type": "markdown",
   "metadata": {},
   "source": [
    "The `input()` method is used to get user's text input. Using `while` statement, the above program will continue to loop, prompting for input from user and printing the input keyed in by user in each loop iteration. The loop will only terminate when user keys in 'quit'. \n",
    "\n",
    "In a more complex program whereby many different events could cause the program to stop running, you can use a single variable - called a *flag* - that acts as a signal to the program. The flag will take on the value *True* to signal the program to continue to run, and the program should stop running when any event sets the value of the flag to *False* like the example below:"
   ]
  },
  {
   "cell_type": "code",
   "execution_count": 3,
   "metadata": {},
   "outputs": [
    {
     "name": "stdout",
     "output_type": "stream",
     "text": [
      "\n",
      "Tell me something, and I will repeat it back to you:\n",
      "Enter 'quit' to end the program. Hello again!\n",
      "Hello again!\n",
      "\n",
      "Tell me something, and I will repeat it back to you:\n",
      "Enter 'quit' to end the program. quit\n"
     ]
    }
   ],
   "source": [
    "active = True  # use of a flag variable\n",
    "while active:  # runs loop while active is True\n",
    "    message = input(prompt)\n",
    "    \n",
    "    if message == 'quit':  # sets flag to False if user inputs 'quit'\n",
    "        active = False\n",
    "    else:\n",
    "        print(message)     # prints message otherwise"
   ]
  },
  {
   "cell_type": "markdown",
   "metadata": {},
   "source": [
    "Notice I have used `if` statement and the accompanying `else` clause. `if` and `else` are examples of selection control statements that change the flow of control in a program and their usage are somewhat self-explanatory. I will explain more about selection control statements in a later chapter."
   ]
  },
  {
   "cell_type": "markdown",
   "metadata": {},
   "source": [
    "### Using `while` loop with Lists and Dictionaries\n",
    "\n",
    "Using `while` loops with lists and dictionaries allows you to collect, store, and organise lots of input to examine and report on later. We can use `while` loops to move items from one list to another, or remove all instances of specific values from a list:"
   ]
  },
  {
   "cell_type": "code",
   "execution_count": 4,
   "metadata": {},
   "outputs": [
    {
     "name": "stdout",
     "output_type": "stream",
     "text": [
      "Verifying user: Candice\n",
      "Verifying user: Brian\n",
      "Verifying user: Alice\n",
      "[]\n",
      "['candice', 'brian', 'alice']\n",
      "['dog', 'dog', 'goldfish', 'rabbit']\n"
     ]
    }
   ],
   "source": [
    "# using while loop to move from one list to another\n",
    "unconfirmed_users = ['alice', 'brian', 'candice']\n",
    "confirmed_users = []\n",
    "\n",
    "while unconfirmed_users: # evaluates true when there is existing values in the list\n",
    "    current_user = unconfirmed_users.pop()\n",
    "    \n",
    "    print(f\"Verifying user: {current_user.title()}\")\n",
    "    confirmed_users.append(current_user)\n",
    "\n",
    "print(unconfirmed_users)\n",
    "print(confirmed_users)\n",
    "\n",
    "\n",
    "# using while loop to remove instances of specific value from a list\n",
    "pets = ['dog', 'cat', 'dog', 'goldfish', 'cat', 'rabbit', 'cat']\n",
    "while 'cat' in pets:\n",
    "    pets.remove('cat')   \n",
    "print(pets)"
   ]
  },
  {
   "cell_type": "markdown",
   "metadata": {},
   "source": [
    "We can use `while` loop to make a polling program in which each pass through the loop prompts for participant's name and response. We'll store the data gathered in a dictionary, as w want to connect each reponse with a particular user:"
   ]
  },
  {
   "cell_type": "code",
   "execution_count": 5,
   "metadata": {},
   "outputs": [
    {
     "name": "stdout",
     "output_type": "stream",
     "text": [
      "\n",
      "What is your name? Eric\n",
      "Which mountain would you like to climb someday? Denali\n",
      "Would you like to let another person respond? (yes/no) yes\n",
      "\n",
      "What is your name? Lynn\n",
      "Which mountain would you like to climb someday? Devil's Thumb\n",
      "Would you like to let another person respond? (yes/no) no\n",
      "\n",
      "--- Poll results ---\n",
      "Eric would like to climb Denali.\n",
      "Lynn would like to climb Devil's Thumb.\n"
     ]
    }
   ],
   "source": [
    "responses = {}\n",
    "\n",
    "# set flag to signal program to continue running\n",
    "polling_active = True\n",
    "\n",
    "while polling_active:\n",
    "    # prompts user for name and response\n",
    "    name = input(\"\\nWhat is your name? \")\n",
    "    response = input(\"Which mountain would you like to climb someday? \")\n",
    "    \n",
    "    # store reponse in the dictionary\n",
    "    responses[name] = response\n",
    "    \n",
    "    # prompts decision to repeat polling program\n",
    "    repeat = input(\"Would you like to let another person respond? (yes/no) \")\n",
    "    if repeat == 'no':\n",
    "        polling_active = False\n",
    "\n",
    "print(\"\\n--- Poll results ---\")\n",
    "for name, response in responses.items():\n",
    "    print(f\"{name} would like to climb {response}.\")"
   ]
  },
  {
   "cell_type": "markdown",
   "metadata": {},
   "source": [
    "### Using `break` and `continue`\n",
    "\n",
    "To exit a `while` loop immediately without running any remaining code in the loop, we can use the `break` statement. For example:"
   ]
  },
  {
   "cell_type": "code",
   "execution_count": 6,
   "metadata": {},
   "outputs": [
    {
     "name": "stdout",
     "output_type": "stream",
     "text": [
      "\n",
      "Enter the name of a city you have visited:\n",
      "(Enter 'quit' when you are finished) San Francisco\n",
      "I'd love to go to San Francisco!\n",
      "\n",
      "Enter the name of a city you have visited:\n",
      "(Enter 'quit' when you are finished) Paris\n",
      "I'd love to go to Paris!\n",
      "\n",
      "Enter the name of a city you have visited:\n",
      "(Enter 'quit' when you are finished) quit\n"
     ]
    }
   ],
   "source": [
    "prompt = \"\\nEnter the name of a city you have visited:\"\n",
    "prompt += \"\\n(Enter 'quit' when you are finished) \"\n",
    "\n",
    "while True:  # always runs loop\n",
    "    city = input(prompt)\n",
    "    \n",
    "    if city == 'quit':  # break out of loop if city takes on value of 'quit'\n",
    "        break\n",
    "    else:\n",
    "        print(f\"I'd love to go to {city.title()}!\")     # prints message otherwise"
   ]
  },
  {
   "cell_type": "markdown",
   "metadata": {},
   "source": [
    "Using `while True` ensures the program will *never* terminate the loop after checking the condition, thus the loop can *only* terminate with a `break` triggered in the loop. \n",
    "\n",
    "You can use the `continue` statement if you want the program to exit only the current loop iteration but not the loop itself:"
   ]
  },
  {
   "cell_type": "code",
   "execution_count": 7,
   "metadata": {},
   "outputs": [
    {
     "name": "stdout",
     "output_type": "stream",
     "text": [
      "1\n",
      "3\n",
      "5\n",
      "7\n",
      "9\n"
     ]
    }
   ],
   "source": [
    "current_num = 0\n",
    "\n",
    "# loop from 0 through 9\n",
    "while current_num < 10:\n",
    "    current_num += 1\n",
    "    if current_num % 2 == 0:  # skips the rest of code within loop iteration when number is even number\n",
    "        continue\n",
    "        \n",
    "    print(current_num)  # prints only odd numbers"
   ]
  },
  {
   "cell_type": "markdown",
   "metadata": {},
   "source": [
    "## `for` loops\n",
    "\n",
    "The `for` statement facilitates a counting loop where the computer knows at the start of the loop execution how many times it needs to execute the loop - the loop is repeated until the required number of iterations is reached. You can use Python's `for` loop when you'll often want to run through all entries in a list or values in a dictionary, performing the same task with each item like below:"
   ]
  },
  {
   "cell_type": "code",
   "execution_count": 8,
   "metadata": {},
   "outputs": [
    {
     "name": "stdout",
     "output_type": "stream",
     "text": [
      "1\n",
      "2\n",
      "3\n",
      "4\n",
      "5\n",
      "6\n",
      "7\n",
      "8\n",
      "\n",
      "The magicians are:\n",
      "Alice\n",
      "David\n",
      "Carolina\n",
      "\n",
      "Alice\n",
      "David\n",
      "Carolina\n"
     ]
    }
   ],
   "source": [
    "# counts from 1 to 8\n",
    "for i in range(1, 9): # Loop will stop after printing 8\n",
    "    print(i)  # prints current value of i\n",
    "\n",
    "# loop through a list of names\n",
    "magicians = ['alice', 'david', 'carolina']\n",
    "print(\"\\nThe magicians are:\")\n",
    "\n",
    "# print name of each magician in the list\n",
    "for name in magicians: \n",
    "    print(name.title())\n",
    "\n",
    "print(\"\") # newline\n",
    "\n",
    "# this achieves the same result\n",
    "for i in range(len(magicians)):\n",
    "    name = magicians[i]  # assign i-th item of the list to the variable\n",
    "    print(name.title())"
   ]
  },
  {
   "cell_type": "markdown",
   "metadata": {},
   "source": [
    "In the first example, `range()` generates a series of numbers 1 through 8. The `for` loop will step through each of the numbers in turn and associate each one with the variable `i`. Python will then print the value of the variable `i` in each iteration of the loop. In the second example, similar action is performed on a list of strings - assign each item in the list `magicians` to the variable `magician` and print the value (with first letter in caps) in each loop iteration. \n",
    "\n",
    "In the third example, `range()` generates a series of indices that corresponds to each value's index position in the list. The program will then loop through for each index, retrieve the item in the list via its index position and assign it to the variable `magician` and subsequently print the value of that variable in each iteration.\n",
    "\n",
    "If you need the index as well as the list element itself within each loop iteration (e.g. to modify each list element using upper case), you can use the `enumerate` function to number the elements like this:"
   ]
  },
  {
   "cell_type": "code",
   "execution_count": 9,
   "metadata": {},
   "outputs": [
    {
     "name": "stdout",
     "output_type": "stream",
     "text": [
      "ALICE\n",
      "DAVID\n",
      "CAROLINA\n",
      "(0, 'ALICE')\n",
      "(1, 'DAVID')\n",
      "(2, 'CAROLINA')\n",
      "ALICE\n",
      "DAVID\n",
      "CAROLINA\n"
     ]
    }
   ],
   "source": [
    "for i, name in enumerate(magicians):\n",
    "    magicians[i] = name.upper() # rewrite the list in all caps\n",
    "    print(magicians[i])\n",
    "    \n",
    "# see how enumerate values are like\n",
    "for item in enumerate(magicians):\n",
    "    print(item)\n",
    "    \n",
    "# this does not change the original list\n",
    "for i, name in enumerate(magicians):\n",
    "    name = name.lower() # this only affects the value of the variable, not the value in the list\n",
    "    print(magicians[i])"
   ]
  },
  {
   "cell_type": "markdown",
   "metadata": {},
   "source": [
    "`enumerate` returns an iterator – each item it generates is a tuple in which the first value is the index of the element (starting at *zero*) and the second is the element itself. In the loop above, at each iteration the value of the index is assigned to the variable i, and the element is assigned to the variable `name`, as before.\n",
    "\n",
    "This bring us to a common `for` loop pitfall: *modifying a list while you’re iterating over it*. You can cause unintended behaviour if you insert or delete list elements in the middle of iteration:"
   ]
  },
  {
   "cell_type": "code",
   "execution_count": 10,
   "metadata": {},
   "outputs": [
    {
     "name": "stdout",
     "output_type": "stream",
     "text": [
      "[1, 2, 3]\n"
     ]
    }
   ],
   "source": [
    "numbers = [1, 2, 2, 3]\n",
    "\n",
    "for i, num in enumerate(numbers):\n",
    "    if num == 2:\n",
    "        del numbers[i]\n",
    "        \n",
    "print(numbers) # we missed one, because we shifted the elements around while we were iterating!"
   ]
  },
  {
   "cell_type": "markdown",
   "metadata": {},
   "source": [
    "What happens when we run a `for` loop through a string value instead of a list?"
   ]
  },
  {
   "cell_type": "code",
   "execution_count": 11,
   "metadata": {},
   "outputs": [
    {
     "name": "stdout",
     "output_type": "stream",
     "text": [
      "a\n",
      "l\n",
      "i\n",
      "c\n",
      "e\n"
     ]
    }
   ],
   "source": [
    "magician = 'alice'\n",
    "for name in magician:\n",
    "    print(name)"
   ]
  },
  {
   "cell_type": "markdown",
   "metadata": {},
   "source": [
    "The `for` loop will loop through every character in the string value. Thus every letter in the name 'alice' is treat asif it's an item in a list which the `for` statement loops through and prints the letter."
   ]
  },
  {
   "cell_type": "markdown",
   "metadata": {},
   "source": [
    "### Nested loops\n",
    "\n",
    "How do we iterate over all the values of a multi-dimensional sequence or nested dictionaries? We can use loops within loops:"
   ]
  },
  {
   "cell_type": "code",
   "execution_count": 12,
   "metadata": {},
   "outputs": [
    {
     "name": "stdout",
     "output_type": "stream",
     "text": [
      "\n",
      "---Order no. 102---\n",
      "\tCrust: \tthick\n",
      "\tToppings:\n",
      "\t\tmushrooms\n",
      "\t\textra cheese\n",
      "\n",
      "---Order no. 103---\n",
      "\tCrust: \tthin\n",
      "\tToppings:\n",
      "\t\tham\n",
      "\t\tpineapple chunks\n"
     ]
    }
   ],
   "source": [
    "orders = {\n",
    "    '102': {\n",
    "        'crust':    'thick',\n",
    "        'toppings': ['mushrooms', 'extra cheese'],\n",
    "    },\n",
    "    '103': {\n",
    "        'crust':    'thin',\n",
    "        'toppings': ['ham', 'pineapple chunks'], \n",
    "    }\n",
    "}\n",
    "\n",
    "# print pizza orders\n",
    "for order_num, details in orders.items():\n",
    "    print(f\"\\n---Order no. {order_num}---\")\n",
    "    print(f\"\\tCrust: \\t{details['crust']}\\n\\tToppings:\")\n",
    "          \n",
    "    # print each topping\n",
    "    for topping in details['toppings']:\n",
    "        print(f\"\\t\\t{topping}\")"
   ]
  },
  {
   "cell_type": "markdown",
   "metadata": {},
   "source": [
    "### Forgetting the colon\n",
    "The colon at the end of a `for` statement tells Python to interpret the next line as the start of a loop."
   ]
  },
  {
   "cell_type": "code",
   "execution_count": 13,
   "metadata": {},
   "outputs": [
    {
     "ename": "SyntaxError",
     "evalue": "invalid syntax (<ipython-input-13-6708fd1e1b65>, line 3)",
     "output_type": "error",
     "traceback": [
      "\u001b[0;36m  File \u001b[0;32m\"<ipython-input-13-6708fd1e1b65>\"\u001b[0;36m, line \u001b[0;32m3\u001b[0m\n\u001b[0;31m    for name in magicians  # omitting the colon results in error\u001b[0m\n\u001b[0m                                                                ^\u001b[0m\n\u001b[0;31mSyntaxError\u001b[0m\u001b[0;31m:\u001b[0m invalid syntax\n"
     ]
    }
   ],
   "source": [
    "magicians = ['alice', 'david', 'carolina']\n",
    "\n",
    "for name in magicians  # omitting the colon results in error\n",
    "    print(name.title())"
   ]
  },
  {
   "cell_type": "markdown",
   "metadata": {},
   "source": [
    "### Indentation Errors\n",
    "Python uses indentation to determine how a line, or group of lines of codes, is related to the rest of the program. In above examples, the lines that printed messages to individual items of a list were recognised as part of a `for` loop because they were indented. Python's use of indentations makes code easy to read and helps you gain a general sense of the overall program's organisation. \n",
    "\n",
    "This could thus lead us to commit indentation errors if we are not careful. Some examples of common indentation errors are below:"
   ]
  },
  {
   "cell_type": "code",
   "execution_count": 14,
   "metadata": {},
   "outputs": [
    {
     "ename": "IndentationError",
     "evalue": "expected an indented block (<ipython-input-14-d81cec2f6a7b>, line 3)",
     "output_type": "error",
     "traceback": [
      "\u001b[0;36m  File \u001b[0;32m\"<ipython-input-14-d81cec2f6a7b>\"\u001b[0;36m, line \u001b[0;32m3\u001b[0m\n\u001b[0;31m    print(name.title())   # this causes error as python expects an indented code block after for statement.\u001b[0m\n\u001b[0m        ^\u001b[0m\n\u001b[0;31mIndentationError\u001b[0m\u001b[0;31m:\u001b[0m expected an indented block\n"
     ]
    }
   ],
   "source": [
    "# Forgetting to indent\n",
    "for name in magicians: \n",
    "print(name.title())   # this causes error as python expects an indented code block after for statement."
   ]
  },
  {
   "cell_type": "markdown",
   "metadata": {},
   "source": [
    "Another case of forgetting to indent lines:"
   ]
  },
  {
   "cell_type": "code",
   "execution_count": 15,
   "metadata": {},
   "outputs": [
    {
     "name": "stdout",
     "output_type": "stream",
     "text": [
      "CAROLINA\n"
     ]
    }
   ],
   "source": [
    "# Forgetting to indent additional line\n",
    "for i, name in enumerate(magicians):\n",
    "    magicians[i] = name.upper() #  this executes in each iteration\n",
    "print(magicians[i])  # this prints only the last name as it executes outside the loop"
   ]
  },
  {
   "cell_type": "markdown",
   "metadata": {},
   "source": [
    "### Iterables, iterators and generators\n",
    "\n",
    "In Python, any type which can be iterated over with a `for` loop is an *iterable*. Lists, tuples, strings and dicts are all commonly used iterable types. Iterating over a list or a tuple simply means processing each value in turn.\n",
    "\n",
    "Python has a lot of built-in iterable types that generate values on demand – they are often referred to as *generators*. We have already seen some examples, like `range` and `enumerate`. You can mostly treat a generator just like any other sequence if you only need to access its elements one at a time – for example, if you use it in a `for` loop:"
   ]
  },
  {
   "cell_type": "code",
   "execution_count": 16,
   "metadata": {},
   "outputs": [
    {
     "name": "stdout",
     "output_type": "stream",
     "text": [
      "1\n",
      "2\n",
      "3\n",
      "4\n",
      "5\n",
      "1\n",
      "2\n",
      "3\n",
      "4\n",
      "5\n"
     ]
    }
   ],
   "source": [
    "# These two loops will do exactly the same thing:\n",
    "\n",
    "for i in (1, 2, 3, 4, 5):\n",
    "    print(i)\n",
    "\n",
    "for i in range(1, 6):\n",
    "    print(i)"
   ]
  },
  {
   "cell_type": "markdown",
   "metadata": {},
   "source": [
    "If you try to print out the generator’s contents – by default all you will get is Python’s standard string representation of the object, which shows you the object’s type and its unique identifier. To print out all the values of generator, we need to convert it to a sequence type like a list, which will force all of the values to be generated:"
   ]
  },
  {
   "cell_type": "code",
   "execution_count": 17,
   "metadata": {},
   "outputs": [
    {
     "name": "stdout",
     "output_type": "stream",
     "text": [
      "range(0, 100)\n",
      "[0, 1, 2, 3, 4, 5, 6, 7, 8, 9, 10, 11, 12, 13, 14, 15, 16, 17, 18, 19, 20, 21, 22, 23, 24, 25, 26, 27, 28, 29, 30, 31, 32, 33, 34, 35, 36, 37, 38, 39, 40, 41, 42, 43, 44, 45, 46, 47, 48, 49, 50, 51, 52, 53, 54, 55, 56, 57, 58, 59, 60, 61, 62, 63, 64, 65, 66, 67, 68, 69, 70, 71, 72, 73, 74, 75, 76, 77, 78, 79, 80, 81, 82, 83, 84, 85, 86, 87, 88, 89, 90, 91, 92, 93, 94, 95, 96, 97, 98, 99]\n"
     ]
    }
   ],
   "source": [
    "# this will not be very helpful\n",
    "print(range(100))\n",
    "\n",
    "# this will show you all the generated values\n",
    "print(list(range(100)))"
   ]
  },
  {
   "cell_type": "markdown",
   "metadata": {},
   "source": [
    "An *iterable* is any object, not necessarily a data structure, that can return an iterator (with the purpose of returning all of its elements). I find this [website](https://nvie.com/posts/iterators-vs-generators/) has a pretty good and succinct explanation on iterables and iterators that you can refer to:\n",
    "\n",
    "![rel:iterable,iterators](https://nvie.com/img/relationships.png)\n",
    "\n",
    "*Source: https://nvie.com/posts/iterators-vs-generators/*"
   ]
  },
  {
   "cell_type": "code",
   "execution_count": 18,
   "metadata": {},
   "outputs": [
    {
     "name": "stdout",
     "output_type": "stream",
     "text": [
      "1\n",
      "2\n",
      "3\n"
     ]
    }
   ],
   "source": [
    "# When you write:\n",
    "x = [1, 2, 3]\n",
    "for elem in x:\n",
    "    print(elem)"
   ]
  },
  {
   "cell_type": "markdown",
   "metadata": {},
   "source": [
    "This is what happens internally in Python program:\n",
    "![iterable->iterator](https://nvie.com/img/iterable-vs-iterator.png)\n",
    "\n",
    "*Source: https://nvie.com/posts/iterators-vs-generators/*"
   ]
  },
  {
   "cell_type": "markdown",
   "metadata": {},
   "source": [
    "We will discuss more on iterators in later chapter when it comes to writing custom objects."
   ]
  },
  {
   "cell_type": "markdown",
   "metadata": {},
   "source": [
    "## Comprehensions\n",
    "\n",
    "A comprehension is a kind of filter which we can define on an iterable based on some condition. Suppose that we have:\n",
    "\n",
    "+ a list of numbers, and we want to build a new list by doubling all the values in the first list; or\n",
    "+ we want to extract all the even numbers from a list of numbers; or\n",
    "+ we want to find and capitalise all the animal names in a list of animal names that start with a vowel. \n",
    "\n",
    "We can do each of these things by iterating over the original list, performing some kind of check on each element in turn, and appending values to a new list as we go:"
   ]
  },
  {
   "cell_type": "code",
   "execution_count": 19,
   "metadata": {},
   "outputs": [],
   "source": [
    "numbers = [1, 5, 2, 12, 14, 7, 18]\n",
    "\n",
    "doubles = []\n",
    "for number in numbers:\n",
    "    doubles.append(2 * number)\n",
    "\n",
    "even_numbers = []\n",
    "for number in numbers:\n",
    "    if number % 2 == 0:\n",
    "        even_numbers.append(number)\n",
    "\n",
    "animals = ['aardvark', 'cat', 'dog', 'opossum']\n",
    "\n",
    "vowel_animals = []\n",
    "for animal in animals:\n",
    "    if animal[0] in 'aeiou':\n",
    "        vowel_animals.append(animal.title())"
   ]
  },
  {
   "cell_type": "markdown",
   "metadata": {},
   "source": [
    "We can rewrite simple loops like this to use a cleaner and more readable syntax by using comprehensions:"
   ]
  },
  {
   "cell_type": "code",
   "execution_count": 20,
   "metadata": {},
   "outputs": [],
   "source": [
    "doubles = [2 * number for number in numbers]\n",
    "even_numbers = [number for number in numbers if number % 2 == 0]\n",
    "vowel_animals = [animal.title() for animal in animals if animal[0] in 'aeiou']"
   ]
  },
  {
   "cell_type": "markdown",
   "metadata": {},
   "source": [
    "You can think of the comprehension as a compact form of `for` loop, which has been rearranged slightly.\n",
    "\n",
    "+ The first part (`2 * number`, `number`, `animal.title()`) in all three lines defines what is going to be inserted into the new list at each step of the loop. \n",
    "\n",
    "+ The middle part (`for number in numbers`, `for animal in animals`) in all three examples corresponds to the first line of a `for` loop, and defines what iterable is being iterated over and what variable name each item is given inside the loop.\n",
    "\n",
    "+ The last part (`if number % 2 == 0` or `if animal[0] in 'aeiou'`) in the second and third example are conditions which filters out some of the original items. Only items for which the condition is true will be processed (as described in the first part) and included in the new list. You don’t have to include this part – in the first example, we want to double all the numbers in the original list."
   ]
  }
 ],
 "metadata": {
  "kernelspec": {
   "display_name": "Python 3",
   "language": "python",
   "name": "python3"
  },
  "language_info": {
   "codemirror_mode": {
    "name": "ipython",
    "version": 3
   },
   "file_extension": ".py",
   "mimetype": "text/x-python",
   "name": "python",
   "nbconvert_exporter": "python",
   "pygments_lexer": "ipython3",
   "version": "3.7.7"
  }
 },
 "nbformat": 4,
 "nbformat_minor": 4
}
