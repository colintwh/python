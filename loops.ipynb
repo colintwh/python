{
 "cells": [
  {
   "cell_type": "markdown",
   "metadata": {},
   "source": [
    "# Loops\n",
    "\n",
    "---\n",
    "   Loops are a way to repeatedly execute some code. Here's an example"
   ]
  },
  {
   "cell_type": "code",
   "execution_count": 1,
   "metadata": {},
   "outputs": [
    {
     "name": "stdout",
     "output_type": "stream",
     "text": [
      "Mercury Venus Earth Mars Jupiter Saturn Uranus Neptune "
     ]
    }
   ],
   "source": [
    "planets = ['Mercury', 'Venus', 'Earth', 'Mars', 'Jupiter', 'Saturn', 'Uranus', 'Neptune']\n",
    "for planet in planets:\n",
    "    print(planet, end=' ') # print all on same line"
   ]
  },
  {
   "cell_type": "markdown",
   "metadata": {},
   "source": [
    "The `for` loop specifies\n",
    "\n",
    "+ the variable name to use (in this case, planet)\n",
    "+ the set of values to loop over (in this case, planets)\n",
    "\n",
    "You can use the word `in` to link them together.\n",
    "\n",
    "The object to the right of `in` can be any object that supports iteration. Basically, if it can be thought of as a group of things, you can probably loop over it. In addition to lists, we can iterate over the elements of a tuple:"
   ]
  },
  {
   "cell_type": "code",
   "execution_count": 2,
   "metadata": {},
   "outputs": [
    {
     "data": {
      "text/plain": [
       "360"
      ]
     },
     "execution_count": 2,
     "metadata": {},
     "output_type": "execute_result"
    }
   ],
   "source": [
    "multiplicands = (2, 2, 2, 3, 3, 5)\n",
    "product = 1\n",
    "for mult in multiplicands:\n",
    "    product = product * mult\n",
    "product"
   ]
  },
  {
   "cell_type": "markdown",
   "metadata": {},
   "source": [
    "You can even loop through each character in a string:"
   ]
  },
  {
   "cell_type": "code",
   "execution_count": 3,
   "metadata": {},
   "outputs": [
    {
     "name": "stdout",
     "output_type": "stream",
     "text": [
      "HELLO"
     ]
    }
   ],
   "source": [
    "s = 'steganograpHy is the practicE of conceaLing a file, message, image, or video within another fiLe, message, image, Or video.'\n",
    "msg = ''\n",
    "# print all the uppercase letters in s, one at a time\n",
    "for char in s:\n",
    "    if char.isupper():\n",
    "        print(char, end='')        \n"
   ]
  },
  {
   "cell_type": "markdown",
   "metadata": {},
   "source": [
    "## range()\n",
    "\n",
    "`range()` is a function that returns a sequence of numbers. It turns out to be very useful for writing loops. `range` is another kind of immutable sequence type.\n",
    "\n",
    "For example, if we want to repeat some action 5 times:"
   ]
  },
  {
   "cell_type": "code",
   "execution_count": 4,
   "metadata": {},
   "outputs": [
    {
     "name": "stdout",
     "output_type": "stream",
     "text": [
      "Doing important work. i = 0\n",
      "Doing important work. i = 1\n",
      "Doing important work. i = 2\n",
      "Doing important work. i = 3\n",
      "Doing important work. i = 4\n"
     ]
    }
   ],
   "source": [
    "for i in range(5):\n",
    "    print(\"Doing important work. i =\", i)"
   ]
  },
  {
   "cell_type": "markdown",
   "metadata": {},
   "source": [
    "A single parameter passed to the range function will be used as the upper bound. Ranges are also *generators*, which generate the numbers in the range one at a time as they are neeeded, not all at once.\n",
    "\n",
    "If we merely print `range(n)`, we will only get `range(0, n)` as the output, not the sequence of numbers. "
   ]
  },
  {
   "cell_type": "code",
   "execution_count": 5,
   "metadata": {},
   "outputs": [
    {
     "name": "stdout",
     "output_type": "stream",
     "text": [
      "range(0, 5)\n"
     ]
    }
   ],
   "source": [
    "# this will not be very helpful\n",
    "print(range(5))"
   ]
  },
  {
   "cell_type": "markdown",
   "metadata": {},
   "source": [
    "In the examples below, we convert each range to a list so that all the numbers are generated and we can print them out:"
   ]
  },
  {
   "cell_type": "code",
   "execution_count": 6,
   "metadata": {},
   "outputs": [
    {
     "name": "stdout",
     "output_type": "stream",
     "text": [
      "[0, 1, 2, 3, 4, 5, 6, 7, 8, 9]\n",
      "[1, 2, 3, 4, 5, 6, 7, 8, 9, 10]\n",
      "[1, 3, 5, 7, 9]\n"
     ]
    }
   ],
   "source": [
    "# print the integers from 0 to 9\n",
    "print(list(range(10)))\n",
    "\n",
    "# print the integers from 1 to 10\n",
    "print(list(range(1, 11)))\n",
    "\n",
    "# print the odd integers from 1 to 10\n",
    "print(list(range(1, 11, 2)))"
   ]
  },
  {
   "cell_type": "markdown",
   "metadata": {},
   "source": [
    "If we use two parameters, the first is the lower bound and the second forms the upper bound. If we use three, the third parameter is the step size. The default lower bound is zero, and the default step size is one. Note that the range includes the lower bound and excludes the upper bound."
   ]
  },
  {
   "cell_type": "code",
   "execution_count": 7,
   "metadata": {},
   "outputs": [
    {
     "name": "stdout",
     "output_type": "stream",
     "text": [
      "1\n",
      "2\n",
      "3\n",
      "4\n",
      "5\n",
      "1\n",
      "2\n",
      "3\n",
      "4\n",
      "5\n"
     ]
    }
   ],
   "source": [
    "# These two loops will do exactly the same thing:\n",
    "\n",
    "for i in (1, 2, 3, 4, 5):\n",
    "    print(i)\n",
    "\n",
    "for i in range(1, 6):\n",
    "    print(i)"
   ]
  },
  {
   "cell_type": "markdown",
   "metadata": {},
   "source": [
    "## enumerate()\n",
    "\n",
    "If you need the index as well as the list element itself within each loop iteration (e.g. to modify each list element using upper case), you can use the `enumerate` function to number the elements like this:"
   ]
  },
  {
   "cell_type": "code",
   "execution_count": 8,
   "metadata": {},
   "outputs": [
    {
     "name": "stdout",
     "output_type": "stream",
     "text": [
      "(0, 'Mercury')\n",
      "(1, 'Venus')\n",
      "(2, 'Earth')\n",
      "(3, 'Mars')\n",
      "(4, 'Jupiter')\n",
      "(5, 'Saturn')\n",
      "(6, 'Uranus')\n",
      "(7, 'Neptune')\n",
      "0 MERCURY\n",
      "1 VENUS\n",
      "2 EARTH\n",
      "3 MARS\n",
      "4 JUPITER\n",
      "5 SATURN\n",
      "6 URANUS\n",
      "7 NEPTUNE\n"
     ]
    }
   ],
   "source": [
    "# see how enumerate values are like\n",
    "for item in enumerate(planets):\n",
    "    print(item)\n",
    "       \n",
    "# this does not change the original list\n",
    "for i, name in enumerate(planets):\n",
    "    print(i, name.upper())   # print planet name in 'all caps'"
   ]
  },
  {
   "cell_type": "markdown",
   "metadata": {},
   "source": [
    "`enumerate` returns an iterator – each item it generates is a tuple in which the first value is the index of the element (starting at *zero*) and the second is the element itself. In the loop above, at each iteration the value of the index is assigned to the variable i, and the element is assigned to the variable `name`, as before.\n",
    "\n",
    "This bring us to a common `for` loop pitfall: *modifying a list while you’re iterating over it*. You can cause unintended behaviour if you insert or delete list elements in the middle of iteration:"
   ]
  },
  {
   "cell_type": "code",
   "execution_count": 9,
   "metadata": {},
   "outputs": [
    {
     "name": "stdout",
     "output_type": "stream",
     "text": [
      "[1, 2, 3]\n"
     ]
    }
   ],
   "source": [
    "numbers = [1, 2, 2, 3]\n",
    "\n",
    "for i, num in enumerate(numbers):\n",
    "    if num == 2:\n",
    "        del numbers[i]\n",
    "        \n",
    "print(numbers) # we missed one, because we shifted the elements around while we were iterating!"
   ]
  },
  {
   "cell_type": "markdown",
   "metadata": {},
   "source": [
    "What happens when we run a `for` loop through a string value instead of a list?"
   ]
  },
  {
   "cell_type": "code",
   "execution_count": 10,
   "metadata": {},
   "outputs": [
    {
     "name": "stdout",
     "output_type": "stream",
     "text": [
      "a\n",
      "l\n",
      "i\n",
      "c\n",
      "e\n"
     ]
    }
   ],
   "source": [
    "magician = 'alice'\n",
    "for name in magician:\n",
    "    print(name)"
   ]
  },
  {
   "cell_type": "markdown",
   "metadata": {},
   "source": [
    "The `for` loop will loop through every character in the string value. Thus every letter in the name 'alice' is treat asif it's an item in a list which the `for` statement loops through and prints the letter."
   ]
  },
  {
   "cell_type": "markdown",
   "metadata": {},
   "source": [
    "## `while` loops\n",
    "\n",
    "The other type of loop in Python is a `while` loop, which iterates until some condition is met:"
   ]
  },
  {
   "cell_type": "code",
   "execution_count": 11,
   "metadata": {},
   "outputs": [
    {
     "name": "stdout",
     "output_type": "stream",
     "text": [
      "1 2 3 4 5 "
     ]
    }
   ],
   "source": [
    "# counts from 1 to 5\n",
    "x = 1 \n",
    "while x <= 5: # 1 is less than or equal 5 is true, thus it enters the loop at least once\n",
    "    print(x, end= ' ')\n",
    "    x += 1"
   ]
  },
  {
   "cell_type": "markdown",
   "metadata": {},
   "source": [
    "The argument of the `while` loop is evaluated as a boolean statement, and the loop is executed until the statement evaluates to `False`.\n",
    "\n",
    "**Note:** If you accidentally forget to increment `x` by omitting `x +=1`, the loop will run forever. Python interpreter cannot catch infinite loops. If your program gets stuck in an infinite loop, press Ctrl+C or just close the terminal window displaying your program's output.\n",
    "\n",
    "Thus in the counting example above, it is more appropriate to use a `for` loop as we are counting to a predetermined number. `while` loops are more suited for event-controlled loop like below:"
   ]
  },
  {
   "cell_type": "code",
   "execution_count": 12,
   "metadata": {},
   "outputs": [
    {
     "name": "stdout",
     "output_type": "stream",
     "text": [
      "\n",
      "Tell me something, and I will repeat it back to you:\n",
      "Enter 'quit' to end the program. Hello World!\n",
      "Hello World!\n",
      "\n",
      "Tell me something, and I will repeat it back to you:\n",
      "Enter 'quit' to end the program. quit\n",
      "quit\n"
     ]
    }
   ],
   "source": [
    "prompt = \"\\nTell me something, and I will repeat it back to you:\"\n",
    "prompt += \"\\nEnter 'quit' to end the program. \"\n",
    "\n",
    "message = \"\"   \n",
    "while message != 'quit':     # loop stops when message is 'quit'\n",
    "    message = input(prompt)  # prompts for user's input and assign the value to variable, message\n",
    "    print(message)"
   ]
  },
  {
   "cell_type": "markdown",
   "metadata": {},
   "source": [
    "The `input()` method is used to get user's text input. Using `while` statement, the above program will continue to loop, prompting for input from user and printing the input keyed in by user in each loop iteration. The loop will only terminate when user keys in 'quit'. \n",
    "\n",
    "In a more complex program handling different events, you can use a single variable - called a *flag* - that acts as a signal to halt the program:"
   ]
  },
  {
   "cell_type": "code",
   "execution_count": 13,
   "metadata": {},
   "outputs": [
    {
     "name": "stdout",
     "output_type": "stream",
     "text": [
      "\n",
      "Tell me something, and I will repeat it back to you:\n",
      "Enter 'quit' to end the program. Hello again\n",
      "Hello again\n",
      "\n",
      "Tell me something, and I will repeat it back to you:\n",
      "Enter 'quit' to end the program. quit\n"
     ]
    }
   ],
   "source": [
    "active = True  # use of a flag variable\n",
    "while active:  # runs loop while active is True\n",
    "    message = input(prompt)\n",
    "    \n",
    "    if message == 'quit':  # sets flag to False if user inputs 'quit'\n",
    "        active = False\n",
    "    else:\n",
    "        print(message)     # prints message otherwise"
   ]
  },
  {
   "cell_type": "markdown",
   "metadata": {},
   "source": [
    "Using `while` loops with lists allows you to collect, store, and organise lots of input to examine and report on later. We can use `while` loops to move items from one list to another, or remove all instances of specific values from a list:"
   ]
  },
  {
   "cell_type": "code",
   "execution_count": 14,
   "metadata": {},
   "outputs": [
    {
     "name": "stdout",
     "output_type": "stream",
     "text": [
      "Verifying user: Candice\n",
      "Verifying user: Brian\n",
      "Verifying user: Alice\n",
      "[]\n",
      "['candice', 'brian', 'alice']\n",
      "['dog', 'dog', 'goldfish', 'rabbit']\n"
     ]
    }
   ],
   "source": [
    "# using while loop to move from one list to another\n",
    "unconfirmed_users = ['alice', 'brian', 'candice']\n",
    "confirmed_users = []\n",
    "\n",
    "while unconfirmed_users: # evaluates true when there is existing values in the list\n",
    "    current_user = unconfirmed_users.pop()\n",
    "    \n",
    "    print(f\"Verifying user: {current_user.title()}\")  ## .title() capitalise first letter of the word\n",
    "    confirmed_users.append(current_user)\n",
    "\n",
    "print(unconfirmed_users)\n",
    "print(confirmed_users)\n",
    "\n",
    "# using while loop to remove instances of specific value from a list\n",
    "pets = ['dog', 'cat', 'dog', 'goldfish', 'cat', 'rabbit', 'cat']\n",
    "while 'cat' in pets:\n",
    "    pets.remove('cat')   \n",
    "print(pets)"
   ]
  },
  {
   "cell_type": "markdown",
   "metadata": {},
   "source": [
    "## Breaking loops\n",
    "\n",
    "To exit a `while` loop immediately without running any remaining code in the loop, we can use the `break` statement. For example:"
   ]
  },
  {
   "cell_type": "code",
   "execution_count": 15,
   "metadata": {},
   "outputs": [
    {
     "name": "stdout",
     "output_type": "stream",
     "text": [
      "\n",
      "Enter the name of a city you have visited:\n",
      "(Enter 'quit' when you are finished) San Francisco\n",
      "I'd love to go to San Francisco!\n",
      "\n",
      "Enter the name of a city you have visited:\n",
      "(Enter 'quit' when you are finished) quit\n"
     ]
    }
   ],
   "source": [
    "prompt = \"\\nEnter the name of a city you have visited:\"\n",
    "prompt += \"\\n(Enter 'quit' when you are finished) \"\n",
    "\n",
    "while True:  # always runs loop\n",
    "    city = input(prompt)\n",
    "    \n",
    "    if city == 'quit':  # break out of loop if city takes on value of 'quit'\n",
    "        break\n",
    "    else:\n",
    "        print(f\"I'd love to go to {city.title()}!\")     # prints message otherwise"
   ]
  },
  {
   "cell_type": "markdown",
   "metadata": {},
   "source": [
    "Using `while True` ensures the program will *never* terminate the loop after checking the condition, thus the loop can *only* terminate with a `break` triggered in the loop. \n",
    "\n",
    "You can use the `continue` statement if you want the program to exit only the current loop iteration but not the loop itself:"
   ]
  },
  {
   "cell_type": "code",
   "execution_count": 16,
   "metadata": {
    "scrolled": false
   },
   "outputs": [
    {
     "name": "stdout",
     "output_type": "stream",
     "text": [
      "1\n",
      "3\n",
      "5\n",
      "7\n",
      "9\n"
     ]
    }
   ],
   "source": [
    "current_num = 0\n",
    "\n",
    "# loop from 0 through 9\n",
    "while current_num < 10:\n",
    "    current_num += 1\n",
    "    if current_num % 2 == 0:  # skips the rest of code within loop iteration when number is even number\n",
    "        continue\n",
    "        \n",
    "    print(current_num)  # prints only odd numbers"
   ]
  },
  {
   "cell_type": "markdown",
   "metadata": {},
   "source": [
    "## Using `while` loop with lists and dictionaries\n",
    "\n",
    "We can use `while` loop to make a polling program in which each pass through the loop prompts for participant's name and response. We'll store the data gathered in a dictionary, as w want to connect each reponse with a particular user:"
   ]
  },
  {
   "cell_type": "code",
   "execution_count": 26,
   "metadata": {},
   "outputs": [
    {
     "name": "stdout",
     "output_type": "stream",
     "text": [
      "\n",
      "What is your name? Eric\n",
      "Which mountain would you like to climb someday? Denali\n",
      "Would you like to let another person respond? (yes/no) yes\n",
      "\n",
      "What is your name? Lynn\n",
      "Which mountain would you like to climb someday? Devil's Thumb\n",
      "Would you like to let another person respond? (yes/no) no\n",
      "\n",
      "--- Poll results ---\n",
      "Eric would like to climb Denali.\n",
      "Lynn would like to climb Devil's Thumb.\n"
     ]
    }
   ],
   "source": [
    "responses = {} # create an empty dictionary\n",
    "\n",
    "# set flag to signal program to continue running\n",
    "polling_active = True\n",
    "\n",
    "while polling_active:\n",
    "    # prompts user for name and response\n",
    "    name = input(\"\\nWhat is your name? \")\n",
    "    response = input(\"Which mountain would you like to climb someday? \")\n",
    "    \n",
    "    # store reponse in the dictionary\n",
    "    responses[name] = response\n",
    "    \n",
    "    # prompts decision to repeat polling program\n",
    "    repeat = input(\"Would you like to let another person respond? (yes/no) \")\n",
    "    if repeat == 'no':\n",
    "        polling_active = False\n",
    "\n",
    "print(\"\\n--- Poll results ---\")\n",
    "for name, response in responses.items():\n",
    "    print(f\"{name} would like to climb {response}.\")"
   ]
  },
  {
   "cell_type": "markdown",
   "metadata": {},
   "source": [
    "## Nested loops\n",
    "\n",
    "We can use loops within loops:"
   ]
  },
  {
   "cell_type": "code",
   "execution_count": 27,
   "metadata": {
    "scrolled": true
   },
   "outputs": [
    {
     "name": "stdout",
     "output_type": "stream",
     "text": [
      "70\n",
      "71\n",
      "73\n",
      "50\n",
      "56\n",
      "58\n",
      "41\n",
      "43\n",
      "45\n"
     ]
    }
   ],
   "source": [
    "block_list = [\n",
    "    [70, 71, 73],\n",
    "    [50, 56, 58],\n",
    "    [41, 43, 45],\n",
    "]\n",
    "\n",
    "for item_outer in block_list:\n",
    "    for item_inner in item_outer:\n",
    "        print(item_inner)"
   ]
  },
  {
   "cell_type": "markdown",
   "metadata": {},
   "source": [
    "## List comprehensions\n",
    "\n",
    "List comprehensions are one of Python's most beloved and unique features. The easiest way to understand them is probably to just look at a few examples:"
   ]
  },
  {
   "cell_type": "code",
   "execution_count": 17,
   "metadata": {},
   "outputs": [
    {
     "data": {
      "text/plain": [
       "[0, 1, 4, 9, 16, 25, 36, 49, 64, 81]"
      ]
     },
     "execution_count": 17,
     "metadata": {},
     "output_type": "execute_result"
    }
   ],
   "source": [
    "squares = [n**2 for n in range(10)]\n",
    "squares"
   ]
  },
  {
   "cell_type": "markdown",
   "metadata": {},
   "source": [
    "Here's how we would do the same thing without a list comprehension:"
   ]
  },
  {
   "cell_type": "code",
   "execution_count": 18,
   "metadata": {},
   "outputs": [
    {
     "data": {
      "text/plain": [
       "[0, 1, 4, 9, 16, 25, 36, 49, 64, 81]"
      ]
     },
     "execution_count": 18,
     "metadata": {},
     "output_type": "execute_result"
    }
   ],
   "source": [
    "squares = []\n",
    "for n in range(10):\n",
    "    squares.append(n**2)\n",
    "squares"
   ]
  },
  {
   "cell_type": "markdown",
   "metadata": {},
   "source": [
    "We can also add an `if` condition:"
   ]
  },
  {
   "cell_type": "code",
   "execution_count": 19,
   "metadata": {},
   "outputs": [
    {
     "data": {
      "text/plain": [
       "['Venus', 'Earth', 'Mars']"
      ]
     },
     "execution_count": 19,
     "metadata": {},
     "output_type": "execute_result"
    }
   ],
   "source": [
    "short_planets = [planet for planet in planets if len(planet) < 6]\n",
    "short_planets"
   ]
  },
  {
   "cell_type": "markdown",
   "metadata": {},
   "source": [
    "Here's an example of filtering with an if condition and applying some transformation to the loop variable:"
   ]
  },
  {
   "cell_type": "code",
   "execution_count": 20,
   "metadata": {},
   "outputs": [
    {
     "data": {
      "text/plain": [
       "['VENUS!', 'EARTH!', 'MARS!']"
      ]
     },
     "execution_count": 20,
     "metadata": {},
     "output_type": "execute_result"
    }
   ],
   "source": [
    "# str.upper() returns an all-caps version of a string\n",
    "loud_short_planets = [planet.upper() + '!' for planet in planets if len(planet) < 6]\n",
    "loud_short_planets"
   ]
  },
  {
   "cell_type": "markdown",
   "metadata": {},
   "source": [
    "People usually write these on a single line, but you might find the structure clearer when it's split up over 3 lines:"
   ]
  },
  {
   "cell_type": "code",
   "execution_count": 21,
   "metadata": {},
   "outputs": [
    {
     "data": {
      "text/plain": [
       "['VENUS!', 'EARTH!', 'MARS!']"
      ]
     },
     "execution_count": 21,
     "metadata": {},
     "output_type": "execute_result"
    }
   ],
   "source": [
    "[\n",
    "    planet.upper() + '!' \n",
    "    for planet in planets \n",
    "    if len(planet) < 6\n",
    "]"
   ]
  },
  {
   "cell_type": "markdown",
   "metadata": {},
   "source": [
    "The expression on the left doesn't technically have to involve the loop variable (though it'd be pretty unusual for it not to). What do you think the expression below will evaluate to?\n",
    "\n",
    "```python\n",
    "[32 for planet in planets]\n",
    "```"
   ]
  },
  {
   "cell_type": "markdown",
   "metadata": {},
   "source": [
    "List comprehensions combined with functions like `min`, `max`, and `sum` can lead to impressive one-line solutions for problems that would otherwise require several lines of code.\n",
    "\n",
    "For example, compare the following two cells of code that do the same thing."
   ]
  },
  {
   "cell_type": "code",
   "execution_count": 22,
   "metadata": {},
   "outputs": [
    {
     "data": {
      "text/plain": [
       "2"
      ]
     },
     "execution_count": 22,
     "metadata": {},
     "output_type": "execute_result"
    }
   ],
   "source": [
    "def count_negatives(nums):\n",
    "    \"\"\"Return the number of negative numbers in the given list.\n",
    "    \n",
    "    >>> count_negatives([5, -1, -2, 0, 3])\n",
    "    2\n",
    "    \"\"\"\n",
    "    n_negative = 0\n",
    "    for num in nums:\n",
    "        if num < 0:\n",
    "            n_negative = n_negative + 1\n",
    "    return n_negative\n",
    "\n",
    "count_negatives([5, -1, -2, 0, 3])"
   ]
  },
  {
   "cell_type": "markdown",
   "metadata": {},
   "source": [
    "Here's a solution using a list comprehension:"
   ]
  },
  {
   "cell_type": "code",
   "execution_count": 23,
   "metadata": {},
   "outputs": [
    {
     "data": {
      "text/plain": [
       "2"
      ]
     },
     "execution_count": 23,
     "metadata": {},
     "output_type": "execute_result"
    }
   ],
   "source": [
    "def count_negatives(nums):\n",
    "    return len([num for num in nums if num < 0])\n",
    "\n",
    "count_negatives([5, -1, -2, 0, 3])"
   ]
  },
  {
   "cell_type": "markdown",
   "metadata": {},
   "source": [
    "Much better, right?\n",
    "\n",
    "Well if all we care about is minimizing the length of our code, this third solution is better still!"
   ]
  },
  {
   "cell_type": "code",
   "execution_count": 24,
   "metadata": {},
   "outputs": [
    {
     "data": {
      "text/plain": [
       "2"
      ]
     },
     "execution_count": 24,
     "metadata": {},
     "output_type": "execute_result"
    }
   ],
   "source": [
    "def count_negatives(nums):\n",
    "    # Reminder: in the \"booleans and conditionals\" exercises, we learned about a quirk of \n",
    "    # Python where it calculates something like True + True + False + True to be equal to 3.\n",
    "    return sum([num < 0 for num in nums])\n",
    "\n",
    "count_negatives([5, -1, -2, 0, 3])"
   ]
  },
  {
   "cell_type": "markdown",
   "metadata": {},
   "source": [
    "## Iterables, iterators and generators\n",
    "\n",
    "In Python, any type which can be iterated over with a `for` loop is an *iterable*. Iterating over a list or a tuple simply means processing each value in turn.\n",
    "\n",
    "Python has a lot of built-in iterable types that generate values on demand – they are often referred to as *generators*. We have already seen some examples, like `range` and `enumerate`. You can mostly treat a generator just like any other sequence if you only need to access its elements one at a time – for example, if you use it in a `for` loop:"
   ]
  },
  {
   "cell_type": "code",
   "execution_count": 28,
   "metadata": {},
   "outputs": [
    {
     "name": "stdout",
     "output_type": "stream",
     "text": [
      "1\n",
      "2\n",
      "3\n"
     ]
    }
   ],
   "source": [
    "# When you write:\n",
    "x = [1, 2, 3]\n",
    "for elem in x:\n",
    "    print(elem)"
   ]
  },
  {
   "cell_type": "markdown",
   "metadata": {},
   "source": [
    "This is what happens internally in Python program:\n",
    "![iterable->iterator](https://nvie.com/img/iterable-vs-iterator.png)\n",
    "\n",
    "*Source: https://nvie.com/posts/iterators-vs-generators/*"
   ]
  },
  {
   "cell_type": "markdown",
   "metadata": {},
   "source": [
    "## zip()\n",
    "\n",
    "There is also a built-in function called `zip` which allows us to combine multiple iterables pairwise. It also outputs a generator."
   ]
  },
  {
   "cell_type": "code",
   "execution_count": 29,
   "metadata": {},
   "outputs": [
    {
     "name": "stdout",
     "output_type": "stream",
     "text": [
      "(1, 4)\n",
      "(2, 5)\n",
      "(3, 6)\n",
      "(0, 5, 10)\n",
      "(1, 6, 11)\n",
      "(2, 7, 12)\n",
      "(3, 8, 13)\n",
      "(4, 9, 14)\n"
     ]
    }
   ],
   "source": [
    "for i in zip((1, 2, 3), (4, 5, 6)):\n",
    "    print(i)\n",
    "\n",
    "for i in zip(range(5), range(5, 10), range(10, 15)):\n",
    "    print(i)"
   ]
  },
  {
   "cell_type": "markdown",
   "metadata": {},
   "source": [
    "The combined iterable will be the same length as the shortest of the component iterables – if any of the component iterables are longer than that, their trailing elements will be discarded:"
   ]
  },
  {
   "cell_type": "markdown",
   "metadata": {},
   "source": [
    "Next up, we will look into [working with strings and dictionaries](https://github.com/colintwh/python-basics/blob/master/strings_dicts.ipynb), two fundamental Python data types. "
   ]
  }
 ],
 "metadata": {
  "kernelspec": {
   "display_name": "Python 3",
   "language": "python",
   "name": "python3"
  },
  "language_info": {
   "codemirror_mode": {
    "name": "ipython",
    "version": 3
   },
   "file_extension": ".py",
   "mimetype": "text/x-python",
   "name": "python",
   "nbconvert_exporter": "python",
   "pygments_lexer": "ipython3",
   "version": "3.8.2"
  }
 },
 "nbformat": 4,
 "nbformat_minor": 4
}
