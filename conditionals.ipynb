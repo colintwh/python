{
 "cells": [
  {
   "cell_type": "markdown",
   "metadata": {},
   "source": [
    "# Booleans and Conditionals\n",
    "\n",
    "---\n",
    "\n",
    "## Booleans\n",
    "\n",
    "Python has a type of variable called bool. It has two possible values: `True` and `False`."
   ]
  },
  {
   "cell_type": "code",
   "execution_count": 1,
   "metadata": {},
   "outputs": [
    {
     "name": "stdout",
     "output_type": "stream",
     "text": [
      "True\n",
      "<class 'bool'>\n"
     ]
    }
   ],
   "source": [
    "x = True\n",
    "print(x)\n",
    "print(type(x))"
   ]
  },
  {
   "cell_type": "markdown",
   "metadata": {},
   "source": [
    "Rather than putting True or False directly in our code, we usually get boolean values from boolean operators. These are operators that answer yes/no questions. We'll go through some of these operators below.\n",
    "\n",
    "**Comparison Operators**\n",
    "\n",
    "Operation | Description | | Operation | Description\n",
    "--- | --- | --- | --- | ---\n",
    "`a == b` | a equal to b | | `a != b` | a not equal to b\n",
    "`a < b` | a less than b | | `a > b` | a greater than b\n",
    "`a <= b` | a less than or eq al to b | | `a >= b` | a greater than or equal to b\n",
    "\n",
    "**Note:** When making comparisons, remember to use `==` instead of `=`. If you write `x == 2` you are *checking* about the value of `x`. When you write `x = 2` you are *changing* the value of `x`."
   ]
  },
  {
   "cell_type": "code",
   "execution_count": 2,
   "metadata": {},
   "outputs": [
    {
     "name": "stdout",
     "output_type": "stream",
     "text": [
      "Can a 19-year-old run for president? False\n",
      "Can a 45-year-old run for president? True\n"
     ]
    }
   ],
   "source": [
    "def can_run_for_president(age):\n",
    "    \"\"\"Can someone of the given age run for president in the US?\"\"\"\n",
    "    # The US Constitution says you must be at least 35 years old\n",
    "    return age >= 35\n",
    "\n",
    "print(\"Can a 19-year-old run for president?\", can_run_for_president(19))\n",
    "print(\"Can a 45-year-old run for president?\", can_run_for_president(45))"
   ]
  },
  {
   "cell_type": "markdown",
   "metadata": {},
   "source": [
    "Comparisons frequently work like you'd hope"
   ]
  },
  {
   "cell_type": "code",
   "execution_count": 3,
   "metadata": {},
   "outputs": [
    {
     "data": {
      "text/plain": [
       "True"
      ]
     },
     "execution_count": 3,
     "metadata": {},
     "output_type": "execute_result"
    }
   ],
   "source": [
    "3.0 == 3 "
   ]
  },
  {
   "cell_type": "markdown",
   "metadata": {},
   "source": [
    "This is a tricky one - comparing string literal and a number"
   ]
  },
  {
   "cell_type": "code",
   "execution_count": 4,
   "metadata": {},
   "outputs": [
    {
     "data": {
      "text/plain": [
       "False"
      ]
     },
     "execution_count": 4,
     "metadata": {},
     "output_type": "execute_result"
    }
   ],
   "source": [
    "'3' == 3"
   ]
  },
  {
   "cell_type": "markdown",
   "metadata": {},
   "source": [
    "Testing for equality is case-sensitive in Python. For example, two values with different capitalization are not considered equal:"
   ]
  },
  {
   "cell_type": "code",
   "execution_count": 5,
   "metadata": {},
   "outputs": [
    {
     "name": "stdout",
     "output_type": "stream",
     "text": [
      "True\n",
      "False\n"
     ]
    }
   ],
   "source": [
    "car = 'Audi'\n",
    "\n",
    "print(car == 'Audi') # True\n",
    "print(car == 'audi') # False"
   ]
  },
  {
   "cell_type": "markdown",
   "metadata": {},
   "source": [
    "Comparison operators can be combined with the arithmetic operators we've already seen to express a virtually limitless range of mathematical tests. For example, we can check if a number is odd by checking that the modulus with 2 returns 1:"
   ]
  },
  {
   "cell_type": "code",
   "execution_count": 6,
   "metadata": {},
   "outputs": [
    {
     "name": "stdout",
     "output_type": "stream",
     "text": [
      "Is 100 odd? False\n",
      "Is -1 odd? True\n"
     ]
    }
   ],
   "source": [
    "def is_odd(n):\n",
    "    return (n % 2) == 1\n",
    "\n",
    "print(\"Is 100 odd?\", is_odd(100))\n",
    "print(\"Is -1 odd?\", is_odd(-1))"
   ]
  },
  {
   "cell_type": "markdown",
   "metadata": {},
   "source": [
    "### Combining Boolean Values\n",
    "\n",
    "You can combine boolean values using the standard concepts of \"and\", \"or\", and \"not\". In fact, the words to do this are: and, or, and not.\n",
    "\n",
    "With these, we can make our `can_run_for_president` function more accurate."
   ]
  },
  {
   "cell_type": "code",
   "execution_count": 7,
   "metadata": {},
   "outputs": [
    {
     "name": "stdout",
     "output_type": "stream",
     "text": [
      "False\n",
      "False\n",
      "True\n"
     ]
    }
   ],
   "source": [
    "def can_run_for_president(age, is_natural_born_citizen):\n",
    "    \"\"\"Can someone of the given age and citizenship status run for president in the US?\"\"\"\n",
    "    # you must be a natural born citizen *and* at least 35 years old\n",
    "    return is_natural_born_citizen and (age >= 35)\n",
    "\n",
    "print(can_run_for_president(19, True))\n",
    "print(can_run_for_president(55, False))\n",
    "print(can_run_for_president(55, True))"
   ]
  },
  {
   "cell_type": "markdown",
   "metadata": {},
   "source": [
    "Quick, can you guess the value of this expression?\n",
    "\n",
    "```python\n",
    "True or True and False\n",
    "```"
   ]
  },
  {
   "cell_type": "markdown",
   "metadata": {},
   "source": [
    "To answer this, you'd need to figure out the order of operations. In earlier chapters illustrating arithmetic operations, Python evaluates expressions from left to right. In the case of evaluating an assignment however, the right-hand side is evaluated before the left-hand side.\n",
    "\n",
    "If we had evaluated it from left to right, we would have calculated `True` or `True` first (which is `True`), and then taken the and of that result with `False`, giving a resulting value of `False`. In this example however, `and` is evaluated before `or`. Thus the first expression above is `True`. "
   ]
  },
  {
   "cell_type": "code",
   "execution_count": 8,
   "metadata": {},
   "outputs": [
    {
     "data": {
      "text/plain": [
       "True"
      ]
     },
     "execution_count": 8,
     "metadata": {},
     "output_type": "execute_result"
    }
   ],
   "source": [
    "True or True and False"
   ]
  },
  {
   "cell_type": "markdown",
   "metadata": {},
   "source": [
    "You could try to memorize the [order of precedence](https://docs.python.org/3/reference/expressions.html#operator-precedence), but a safer bet is to just use liberal parentheses. Not only does this help prevent bugs, it makes your intentions clearer to anyone who reads your code."
   ]
  },
  {
   "cell_type": "markdown",
   "metadata": {},
   "source": [
    "## Conditionals\n",
    "\n",
    "Booleans are most useful when combined with conditional statements, using the keywords `if`, `elif`, and `else`.\n",
    "\n",
    "Conditional statements, often referred to as if-then statements, let you control what pieces of code are run based on the value of some Boolean condition. Here's an example:"
   ]
  },
  {
   "cell_type": "code",
   "execution_count": 9,
   "metadata": {},
   "outputs": [
    {
     "name": "stdout",
     "output_type": "stream",
     "text": [
      "0 is zero\n",
      "-15 is negative\n"
     ]
    }
   ],
   "source": [
    "def inspect(x):\n",
    "    if x == 0:\n",
    "        print(x, \"is zero\")\n",
    "    elif x > 0:\n",
    "        print(x, \"is positive\")\n",
    "    elif x < 0:\n",
    "        print(x, \"is negative\")\n",
    "    else:\n",
    "        print(x, \"is unlike anything I've ever seen...\")\n",
    "\n",
    "inspect(0)\n",
    "inspect(-15)"
   ]
  },
  {
   "cell_type": "markdown",
   "metadata": {},
   "source": [
    "The `if` and `else` keywords are often used in other languages; its more unique keyword is `elif`, a contraction of \"else if\". In these conditional clauses, `elif` and `else` blocks are optional; additionally, you can include as many `elif` statements as you would like.\n",
    "\n",
    "Note especially the use of colons (:) and whitespace to denote separate blocks of code. This is similar to what happens when we define a function - the function header ends with `:`, and the following line is indented with 4 spaces. All subsequent indented lines belong to the body of the conditional clause."
   ]
  },
  {
   "cell_type": "code",
   "execution_count": 10,
   "metadata": {},
   "outputs": [
    {
     "name": "stdout",
     "output_type": "stream",
     "text": [
      "Only printed when x is positive; x = 1\n",
      "Also only printed when x is positive; x = 1\n",
      "Always printed, regardless of x's value; x = 1\n",
      "Always printed, regardless of x's value; x = 0\n"
     ]
    }
   ],
   "source": [
    "def f(x):\n",
    "    if x > 0:\n",
    "        print(\"Only printed when x is positive; x =\", x)\n",
    "        print(\"Also only printed when x is positive; x =\", x)\n",
    "    print(\"Always printed, regardless of x's value; x =\", x)\n",
    "\n",
    "f(1)\n",
    "f(0)"
   ]
  },
  {
   "cell_type": "code",
   "execution_count": 11,
   "metadata": {},
   "outputs": [
    {
     "name": "stdout",
     "output_type": "stream",
     "text": [
      "Hello World!\n"
     ]
    }
   ],
   "source": [
    "my_flag = True\n",
    "\n",
    "if my_flag:\n",
    "    print(\"Hello World!\")"
   ]
  },
  {
   "cell_type": "code",
   "execution_count": 12,
   "metadata": {},
   "outputs": [
    {
     "ename": "IndentationError",
     "evalue": "expected an indented block (<ipython-input-12-417c5fa419ee>, line 4)",
     "output_type": "error",
     "traceback": [
      "\u001b[0;36m  File \u001b[0;32m\"<ipython-input-12-417c5fa419ee>\"\u001b[0;36m, line \u001b[0;32m4\u001b[0m\n\u001b[0;31m    print(\"Only printed when x is positive; x =\", x)\u001b[0m\n\u001b[0m    ^\u001b[0m\n\u001b[0;31mIndentationError\u001b[0m\u001b[0;31m:\u001b[0m expected an indented block\n"
     ]
    }
   ],
   "source": [
    "# Forgetting to indent; this leads to an error\n",
    "x = 1\n",
    "if x > 0:\n",
    "print(\"Only printed when x is positive; x =\", x)"
   ]
  },
  {
   "cell_type": "markdown",
   "metadata": {},
   "source": [
    "You can also nest `if`, `elif`, or `if-else` statements within: "
   ]
  },
  {
   "cell_type": "code",
   "execution_count": 13,
   "metadata": {},
   "outputs": [
    {
     "name": "stdout",
     "output_type": "stream",
     "text": [
      "Your parcel will cost US$15.22.\n"
     ]
    }
   ],
   "source": [
    "weight = 700\n",
    "\n",
    "if weight <= 1000:\n",
    "    if weight <= 500:\n",
    "        cost = 13.40\n",
    "    else:\n",
    "        cost = 13.40 + 0.91 * round((weight - 500)/100, 2)\n",
    "\n",
    "    print(\"Your parcel will cost US$%.2f.\" % cost)\n",
    "\n",
    "else:\n",
    "    print(\"Maximum weight for parcel exceeded.\")"
   ]
  },
  {
   "cell_type": "markdown",
   "metadata": {},
   "source": [
    "### Short-hand conditional\n",
    "\n",
    "Python has a short-hand way to write a selection in a program – the conditional operator. It can be used within an expression (i.e. it can be evaluated) – in contrast to `if` and `if-else`, which are just statements and not expressions:"
   ]
  },
  {
   "cell_type": "code",
   "execution_count": 14,
   "metadata": {},
   "outputs": [
    {
     "name": "stdout",
     "output_type": "stream",
     "text": [
      "Legal age\n"
     ]
    }
   ],
   "source": [
    "age = 19\n",
    "result = \"Legal age\" if (age >= 18) else \"Too young to vote\"\n",
    "print(result)"
   ]
  },
  {
   "cell_type": "markdown",
   "metadata": {},
   "source": [
    "### `not` operator\n",
    "\n",
    "`not` is used to reverse an expression as shown in the truth table below:\n",
    "\n",
    "`a` | `not a`\n",
    "--- | ---\n",
    "True | False\n",
    "False | True"
   ]
  },
  {
   "cell_type": "code",
   "execution_count": 15,
   "metadata": {},
   "outputs": [
    {
     "name": "stdout",
     "output_type": "stream",
     "text": [
      "'Jane' doesn't start with A!\n"
     ]
    }
   ],
   "source": [
    "name = 'Jane'\n",
    "if not name.startswith(\"A\"):\n",
    "    print(\"'%s' doesn't start with A!\" % name)"
   ]
  },
  {
   "cell_type": "markdown",
   "metadata": {},
   "source": [
    "### Boolean conversion\n",
    "\n",
    "We've seen `int()`, which turns things into integers, and `float()`, which turns things into floats, so you might not be surprised to hear that Python has a `bool()` function which turns things into booleans."
   ]
  },
  {
   "cell_type": "code",
   "execution_count": 16,
   "metadata": {},
   "outputs": [
    {
     "name": "stdout",
     "output_type": "stream",
     "text": [
      "True\n",
      "False\n",
      "True\n",
      "False\n"
     ]
    }
   ],
   "source": [
    "print(bool(1))     # all numbers are treated as true, except 0\n",
    "print(bool(0))\n",
    "\n",
    "print(bool(\"asf\")) # all strings are treated as true, except the empty string \"\"\n",
    "\n",
    "print(bool(\"\"))\n",
    "# Generally empty sequences (strings, lists, and other types we've yet to see like lists and tuples)\n",
    "# are \"false\" and the rest are \"true\""
   ]
  },
  {
   "cell_type": "markdown",
   "metadata": {},
   "source": [
    "We can use non-boolean objects in if conditions and other places where a boolean would be expected. Python will implicitly treat them as their corresponding boolean value:"
   ]
  },
  {
   "cell_type": "code",
   "execution_count": 17,
   "metadata": {},
   "outputs": [
    {
     "name": "stdout",
     "output_type": "stream",
     "text": [
      "spam\n"
     ]
    }
   ],
   "source": [
    "if 0:\n",
    "    print(0)\n",
    "elif \"spam\":\n",
    "    print(\"spam\")"
   ]
  },
  {
   "cell_type": "markdown",
   "metadata": {},
   "source": [
    "Next up, we'll learn about [lists](https://github.com/colintwh/python-basics/blob/master/lists.ipynb), a very useful data type in Python"
   ]
  }
 ],
 "metadata": {
  "kernelspec": {
   "display_name": "Python 3",
   "language": "python",
   "name": "python3"
  },
  "language_info": {
   "codemirror_mode": {
    "name": "ipython",
    "version": 3
   },
   "file_extension": ".py",
   "mimetype": "text/x-python",
   "name": "python",
   "nbconvert_exporter": "python",
   "pygments_lexer": "ipython3",
   "version": "3.8.2"
  }
 },
 "nbformat": 4,
 "nbformat_minor": 4
}
