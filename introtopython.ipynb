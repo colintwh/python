{
 "cells": [
  {
   "cell_type": "markdown",
   "metadata": {},
   "source": [
    "# Introduction to Python\n",
    "---\n",
    "A quick introduction to Python syntax, variable assignment and numbers\n",
    "\n",
    "\n",
    "## Variable\n",
    "\n",
    "A variable is similar to the memory functionality found in most calculators, in that it holds one value which can be retrieved many times, and that storing a new value erases the old. A variable can have many variables storing different values, and that each variable is referred to by name.\n",
    "\n",
    "To define a new variable, we assign a value to a label using the `=` sign (also called the assignment operator):"
   ]
  },
  {
   "cell_type": "code",
   "execution_count": 1,
   "metadata": {},
   "outputs": [
    {
     "name": "stdout",
     "output_type": "stream",
     "text": [
      "1\n"
     ]
    }
   ],
   "source": [
    "count = 1\n",
    "print(count)"
   ]
  },
  {
   "cell_type": "code",
   "execution_count": 2,
   "metadata": {},
   "outputs": [],
   "source": [
    "# We can also define three variables at once:\n",
    "count, result, total = 1, 2, 3\n",
    "\n",
    "# This is equivalent to:\n",
    "count = 1\n",
    "result = 2\n",
    "total = 3"
   ]
  },
  {
   "cell_type": "markdown",
   "metadata": {},
   "source": [
    " **Note:** If you've programmed in certain other languages like Java or C++, you might notice things that Python doesn't require us to do:\n",
    "   \n",
    "   + we don't need to \"declare\" `count` before assigning to it\n",
    "   + we don't need to tell Python what type of value `count` is going to refer to."
   ]
  },
  {
   "cell_type": "markdown",
   "metadata": {},
   "source": [
    "   An assignment statement may have multiple targets separated by equals signs. The expression on the right hand side of the last equals sign will be assigned to all the targets. All the targets must be valid:"
   ]
  },
  {
   "cell_type": "code",
   "execution_count": 3,
   "metadata": {},
   "outputs": [],
   "source": [
    "# both a and b will be set to zero:\n",
    "a = b = 0"
   ]
  },
  {
   "cell_type": "code",
   "execution_count": 4,
   "metadata": {},
   "outputs": [
    {
     "ename": "SyntaxError",
     "evalue": "cannot assign to literal (<ipython-input-4-c0928f134f1a>, line 2)",
     "output_type": "error",
     "traceback": [
      "\u001b[0;36m  File \u001b[0;32m\"<ipython-input-4-c0928f134f1a>\"\u001b[0;36m, line \u001b[0;32m2\u001b[0m\n\u001b[0;31m    a = 0 = b\u001b[0m\n\u001b[0m        ^\u001b[0m\n\u001b[0;31mSyntaxError\u001b[0m\u001b[0;31m:\u001b[0m cannot assign to literal\n"
     ]
    }
   ],
   "source": [
    "# this is illegal, because we can't set 0 to b:\n",
    "a = 0 = b"
   ]
  },
  {
   "cell_type": "markdown",
   "metadata": {},
   "source": [
    "**Function calls:** `print` is a Python function that displays the value passed to it on the screen. We call functions by putting parentheses after their name, and putting the inputs (*or arguments*) to the function in those parentheses."
   ]
  },
  {
   "cell_type": "code",
   "execution_count": 5,
   "metadata": {},
   "outputs": [
    {
     "name": "stdout",
     "output_type": "stream",
     "text": [
      "1\n"
     ]
    }
   ],
   "source": [
    "print(count)"
   ]
  },
  {
   "cell_type": "markdown",
   "metadata": {},
   "source": [
    "Below is a comment. In Python, comments begin with the `#` symbol."
   ]
  },
  {
   "cell_type": "code",
   "execution_count": 6,
   "metadata": {},
   "outputs": [],
   "source": [
    "# count becomes 5"
   ]
  },
  {
   "cell_type": "markdown",
   "metadata": {},
   "source": [
    "Next we see an example of reassignment. Reassigning the value of an existing variable looks just the same creating  a variable using the `=` asssignment operator. \n",
    "We can also perform simple arithmetic on its previous value."
   ]
  },
  {
   "cell_type": "code",
   "execution_count": 7,
   "metadata": {},
   "outputs": [],
   "source": [
    "count = 5           # count becomes 5\n",
    "count = total       # count becomes the value of total\n",
    "count = total + 5   # count becomes the value of total + 5\n",
    "count = count + 1   # count becomes the value of a_number + 1"
   ]
  },
  {
   "cell_type": "markdown",
   "metadata": {},
   "source": [
    "Python has a shorthand operator, `+=`, which lets us express the last line more cleanly, without having to write the name of the variable twice:"
   ]
  },
  {
   "cell_type": "code",
   "execution_count": 8,
   "metadata": {},
   "outputs": [],
   "source": [
    "# These statements mean exactly the same thing:\n",
    "count = count + 1\n",
    "count += 1\n",
    "\n",
    "# We can increment a variable by any number we like.\n",
    "count += 2\n",
    "count += result + total"
   ]
  },
  {
   "cell_type": "markdown",
   "metadata": {},
   "source": [
    "   Other common compound assignment operators are shown below:\n",
    "   \n",
    "   **Operator** | **Equivalent to** | **Name** | **Description**\n",
    "   --- | --- |  --- | ---\n",
    "   `x += 5`  | `x = x + 5` | Increment | Increase `x` by 5\n",
    "   `x -= 5`  | `x = x - 5` | Decrement | Decrease `x` by 5\n",
    "   `x *= 5`  | `x = x * 5` | Mulitply | Multiply `x` by 5\n",
    "   `x /= 5`  | `x = x / 5` | True division | Divide `x` by 5\n",
    "   `x %= 5`  | `x = x % 5` | Modulus | Integer remainder after division of x by 5\n",
    "   `x //= 5` | `x = x // 5` | Floor division | Quotient of `x` and 5, removing fractional parts\n",
    "   `x **= 5` | `x = x ** 5` | Exponentiation | `x` raised to the power of 5\n",
    "   \n",
    "   Bitwise operators:\n",
    "   \n",
    "   **Operator** | **Equivalent to** | **Name** | **Description**\n",
    "   --- | --- |  --- | ---\n",
    "   `x \\|= 5`  | `x = x \\| 5` | Bitwise OR | Logical bitwise OR of x and 5\n",
    "   `x &= 5`  | `x = x & 5` | Bitwise AND | Logical bitwise AND of x and 5\n",
    "   `x ^= 5`  | `x = x ^ 5` | Binary XOR | Logical bitwise XOR of x and 5\n",
    "   `x <<= 5` | `x = x << 5` | Bitmasked left shift | Shift bits of x to the left by 5\n",
    "   `x >>= 5` | `x = x >> 5` | Bitmasked rightshift | Shift bits of x to the right by 5, rightmost bits gets dropped"
   ]
  },
  {
   "cell_type": "markdown",
   "metadata": {},
   "source": [
    "This code snippet offers our first sighting of a *string* in Python"
   ]
  },
  {
   "cell_type": "code",
   "execution_count": 9,
   "metadata": {},
   "outputs": [
    {
     "data": {
      "text/plain": [
       "'This is a string'"
      ]
     },
     "execution_count": 9,
     "metadata": {},
     "output_type": "execute_result"
    }
   ],
   "source": [
    "\"This is a string\""
   ]
  },
  {
   "cell_type": "markdown",
   "metadata": {},
   "source": [
    "More uses of how to use string:"
   ]
  },
  {
   "cell_type": "code",
   "execution_count": 10,
   "metadata": {},
   "outputs": [
    {
     "name": "stdout",
     "output_type": "stream",
     "text": [
      "This is a string.\n",
      "This is also a string.\n"
     ]
    }
   ],
   "source": [
    "message = \"This is a string.\" \n",
    "print(message)\n",
    "\n",
    "# we can also print the string directly without assigning it to a variable\n",
    "print('This is also a string.')"
   ]
  },
  {
   "cell_type": "markdown",
   "metadata": {},
   "source": [
    "Strings can be marked either by double or single quotation marks. I will explain more about strings in later chapters"
   ]
  },
  {
   "cell_type": "markdown",
   "metadata": {},
   "source": [
    "## Naming and Using Variables\n",
    "   When using variables in Python, you need to adhere to a few rules and guidelines. Breaking some of these rules will cause errors; guidelines just help you to write code that's easier to read and understand.\n",
    "   \n",
    "   \n",
    "   + Trying to access a variable which **hasn't been defined anywhere yet will result in a **name error**.\n",
    "   \n",
    "   + Variables names can contain only **letters, numbers, and underscores**. \n",
    "   \n",
    "   + They can start with a **letter or an underscore, but not with a number**. For example, *message_1* is acceptable but not *1_message*.\n",
    "   \n",
    "   + **Spaces are not allowed** in variable names\n",
    "   \n",
    "   + **Underscores can be used** to separate words in variable names. E.g., *greeting_message*.\n",
    "   \n",
    "   + **Avoid using Python keywords and function names**. There are words that Python has reserved for a particular programmatic purpose, such as the word *print*.\n",
    "   \n",
    "   + Variable names should be **short but descriptive**. For example, *name* vs *n*; *name_length* as opposed to *length_of_persons_name*.\n",
    "   \n",
    "   + Be careful when using the lowercase letter *l* and the uppercase letter *O* - they can be confused with the numbers *1* and *0*."
   ]
  },
  {
   "cell_type": "markdown",
   "metadata": {},
   "source": [
    "## Numbers and arithmetic\n",
    "   \n",
    "   In the earlier sections above, you have already seen how we have used Python to assign variable values using integers. You can add `+`, subtract `-`, multiply `*`, and divide `/` integers in Python like this:"
   ]
  },
  {
   "cell_type": "code",
   "execution_count": 11,
   "metadata": {},
   "outputs": [
    {
     "name": "stdout",
     "output_type": "stream",
     "text": [
      "5\n",
      "1\n",
      "6\n",
      "1.5\n"
     ]
    }
   ],
   "source": [
    "print(2 + 3)   # 5\n",
    "print(3 - 2)   # 1\n",
    "print(2 * 3)   # 6\n",
    "print(3 / 2)   # 1.5 Note this returns a float instead of integer"
   ]
  },
  {
   "cell_type": "markdown",
   "metadata": {},
   "source": [
    "Python calls any number with a decimal point a *float*. For the most part, you can use decimals without worrying about how they behave. "
   ]
  },
  {
   "cell_type": "code",
   "execution_count": 12,
   "metadata": {},
   "outputs": [
    {
     "data": {
      "text/plain": [
       "0.4"
      ]
     },
     "execution_count": 12,
     "metadata": {},
     "output_type": "execute_result"
    }
   ],
   "source": [
    "0.1 + 0.1  # 0.2\n",
    "0.2 + 0.2  # 0.4\n",
    "2 * 0.1    # 0.2\n",
    "2 * 0.2    # 0.4"
   ]
  },
  {
   "cell_type": "markdown",
   "metadata": {},
   "source": [
    "   Be careful that you can sometimes get an arbitrary number of decimal places in your calculations:"
   ]
  },
  {
   "cell_type": "code",
   "execution_count": 13,
   "metadata": {
    "scrolled": true
   },
   "outputs": [
    {
     "data": {
      "text/plain": [
       "0.30000000000000004"
      ]
     },
     "execution_count": 13,
     "metadata": {},
     "output_type": "execute_result"
    }
   ],
   "source": [
    "0.2 + 0.1  # 0.30000000000000004\n",
    "3 * 0.1    # 0.30000000000000004"
   ]
  },
  {
   "cell_type": "markdown",
   "metadata": {},
   "source": [
    "   This could happen in many languages. Python tries to find a way to represent the result as precisely as possible, which sometimes lead to results like the one above given how computers have to represent numbers internally."
   ]
  },
  {
   "cell_type": "markdown",
   "metadata": {},
   "source": [
    "## Integers and Floats\n",
    "   When you divide any two numbers, even if they are integers that result in a whole number, you'll always get a float. If you mix an integer and a float in any other operations, you'll get a float as well:"
   ]
  },
  {
   "cell_type": "code",
   "execution_count": 14,
   "metadata": {},
   "outputs": [
    {
     "data": {
      "text/plain": [
       "9.0"
      ]
     },
     "execution_count": 14,
     "metadata": {},
     "output_type": "execute_result"
    }
   ],
   "source": [
    "4 / 2      # 2.0\n",
    "\n",
    "# Python defaults to a float in any operations that uses a float\n",
    "1 + 2.0    # 3.0\n",
    "2 * 3.0    # 6.0\n",
    "3.0 ** 2   # 9.0"
   ]
  },
  {
   "cell_type": "markdown",
   "metadata": {},
   "source": [
    "Note that Python has two kinds of division. \"True division\" using `/` always gives us a `float`. The other is a \"floor division\" using `//` which gives us a result that's rounded down to the next integer"
   ]
  },
  {
   "cell_type": "code",
   "execution_count": 15,
   "metadata": {},
   "outputs": [
    {
     "name": "stdout",
     "output_type": "stream",
     "text": [
      "1.5\n",
      "1\n"
     ]
    }
   ],
   "source": [
    "print (3/2)\n",
    "print (3//2)"
   ]
  },
  {
   "cell_type": "markdown",
   "metadata": {},
   "source": [
    "We could ask Python how it would describe the type of value specified:"
   ]
  },
  {
   "cell_type": "code",
   "execution_count": 16,
   "metadata": {},
   "outputs": [
    {
     "data": {
      "text/plain": [
       "int"
      ]
     },
     "execution_count": 16,
     "metadata": {},
     "output_type": "execute_result"
    }
   ],
   "source": [
    "type(count)"
   ]
  },
  {
   "cell_type": "code",
   "execution_count": 17,
   "metadata": {},
   "outputs": [
    {
     "data": {
      "text/plain": [
       "float"
      ]
     },
     "execution_count": 17,
     "metadata": {},
     "output_type": "execute_result"
    }
   ],
   "source": [
    "type(1.5)"
   ]
  },
  {
   "cell_type": "markdown",
   "metadata": {},
   "source": [
    "`type()` is the second built-in function we've seen (after `print()`), and it's another good one to remember."
   ]
  },
  {
   "cell_type": "markdown",
   "metadata": {},
   "source": [
    "We've seen a few arithmetic operator for addition, division. Python have us covered for the rest of the basic buttons on your calculator:\n",
    "\n",
    "**Operator** | **Name** | **Description**\n",
    "--- | --- | ---\n",
    "`a + b` | Addition | Sum of a and b\n",
    "`a - b` | Subtraction | Difference of `a` and `b`\n",
    "`a * b` | Multiplication | Product of `a` and `b`\n",
    "`a / b` | True division | Quotient of `a` and `b`\n",
    "`a // b` | Floor division | Quotient of `a` and `b`, removing fractional parts\n",
    "`a % b` | Modulus | Integer remainder after division of `a` by `b`\n",
    "`a ** b` | Exponentiation | `a` raised to the power of `b`\n",
    "`-a` | Negation | The negative of `a`"
   ]
  },
  {
   "cell_type": "markdown",
   "metadata": {},
   "source": [
    "## Order of operations\n",
    "\n",
    "Python supports the order of operations as well. You can use parentheses to modify the order of operations so Python can evaluate your expression in the order you specify. For example:"
   ]
  },
  {
   "cell_type": "code",
   "execution_count": 18,
   "metadata": {},
   "outputs": [
    {
     "name": "stdout",
     "output_type": "stream",
     "text": [
      "14\n",
      "20\n"
     ]
    }
   ],
   "source": [
    "a = 2 + 3 * 4    # multiply 3 by 4 first (=12), followed by adding of that result to 2 (=14)\n",
    "b = (2 + 3) * 4  # add 3 to 2 first (=5), followed by multiplying that result by 4 (=20)\n",
    "print(a)\n",
    "print(b)"
   ]
  },
  {
   "cell_type": "markdown",
   "metadata": {},
   "source": [
    "## Builtin functions for working with numbers\n",
    "\n",
    "`min` and `max` return the minimum and maximum of their arguments, respectively..."
   ]
  },
  {
   "cell_type": "code",
   "execution_count": 19,
   "metadata": {},
   "outputs": [
    {
     "name": "stdout",
     "output_type": "stream",
     "text": [
      "1\n",
      "3\n"
     ]
    }
   ],
   "source": [
    "print(min(1, 2, 3))\n",
    "print(max(1, 2, 3))"
   ]
  },
  {
   "cell_type": "markdown",
   "metadata": {},
   "source": [
    "`abs` returns the absolute value of its argument:"
   ]
  },
  {
   "cell_type": "code",
   "execution_count": 20,
   "metadata": {},
   "outputs": [
    {
     "name": "stdout",
     "output_type": "stream",
     "text": [
      "32\n",
      "32\n"
     ]
    }
   ],
   "source": [
    "print(abs(32))\n",
    "print(abs(-32))"
   ]
  },
  {
   "cell_type": "markdown",
   "metadata": {},
   "source": [
    "## Type conversions\n",
    "\n",
    "In addition to being the names of Python's two main numerical types, `int` and `float` can also be called as functions which convert their arguments to the corresponding types:"
   ]
  },
  {
   "cell_type": "code",
   "execution_count": 21,
   "metadata": {},
   "outputs": [
    {
     "name": "stdout",
     "output_type": "stream",
     "text": [
      "10.0\n",
      "3\n",
      "808\n"
     ]
    }
   ],
   "source": [
    "print(float(10))\n",
    "print(int(3.33))\n",
    "\n",
    "print(int('807') + 1)  # convert the string literal \"807\" to number 807 in order to perform arithmetic on it"
   ]
  },
  {
   "cell_type": "markdown",
   "metadata": {},
   "source": [
    "There are two kinds of type conversions in Python: *implicit* and *explicit* conversions.\n",
    "\n",
    "Recall that we can arbitrarily combine integers and floating-point numbers in an arithmetic expression – and that the result will always be a float. This is because Python will convert the integers to floats before evaluating the expression. This is an implicit conversion – we don’t have to convert anything ourselves.\n",
    "\n",
    "For example, the integer `2` will automatically be converted to a floating-point number in the following example:"
   ]
  },
  {
   "cell_type": "code",
   "execution_count": 22,
   "metadata": {},
   "outputs": [
    {
     "data": {
      "text/plain": [
       "float"
      ]
     },
     "execution_count": 22,
     "metadata": {},
     "output_type": "execute_result"
    }
   ],
   "source": [
    "result = 8.5 * 2\n",
    "type(result)"
   ]
  },
  {
   "cell_type": "markdown",
   "metadata": {},
   "source": [
    "Explicit conversion is sometimes also called *casting*. Converting numbers from `float` to `int` will result in a loss of precision, e.g. converting 5.834 to an `int` leads to losing precision. In order to facilitate this, we must explicitly tell Python that we are aware that precision will be lost. For example, we need to tell the compiler to convert a float to an `int` like this:"
   ]
  },
  {
   "cell_type": "code",
   "execution_count": 23,
   "metadata": {},
   "outputs": [
    {
     "name": "stdout",
     "output_type": "stream",
     "text": [
      "5\n"
     ]
    },
    {
     "data": {
      "text/plain": [
       "int"
      ]
     },
     "execution_count": 23,
     "metadata": {},
     "output_type": "execute_result"
    }
   ],
   "source": [
    "i = int(5.834)\n",
    "print(i)\n",
    "type(i)"
   ]
  },
  {
   "cell_type": "markdown",
   "metadata": {},
   "source": [
    "   The `int` function converts a `float` to an `int` by discarding the fractional part – it will always round down! If we want more control over the way in which the number is rounded, we will need to use a different function:"
   ]
  },
  {
   "cell_type": "code",
   "execution_count": 24,
   "metadata": {},
   "outputs": [],
   "source": [
    "# the floor and ceil functions are in the math module\n",
    "import math\n",
    "\n",
    "# ceil returns the closest integer greater than or equal to the number\n",
    "# (so it always rounds up)\n",
    "i = math.ceil(5.834)\n",
    "\n",
    "# floor returns the closest integer less than or equal to the number\n",
    "# (so it always rounds down)\n",
    "i = math.floor(5.834)\n",
    "\n",
    "# round returns the closest integer to the number\n",
    "# (so it rounds up or down)\n",
    "# Note that this is a built-in function -- we don't need to import math to use it.\n",
    "i = round(5.834)"
   ]
  },
  {
   "cell_type": "markdown",
   "metadata": {},
   "source": [
    "## Underscores in Number\n",
    "\n",
    "   When you're writing long numbers, you can group digits using underscores to make large numbers more readable. Python ignores the underscores when storing these kinds of values. To Python, `1000` is the same as `1_000`, which is the same as `10_00`. This features works for integers and floats, but it's only available in Python 3.6 and later."
   ]
  },
  {
   "cell_type": "code",
   "execution_count": 25,
   "metadata": {},
   "outputs": [
    {
     "name": "stdout",
     "output_type": "stream",
     "text": [
      "14000000000\n",
      "2000\n"
     ]
    }
   ],
   "source": [
    "universe_age = 14_000_000_000\n",
    "print(universe_age)\n",
    "\n",
    "a = 1_000 * 2\n",
    "print(a)"
   ]
  },
  {
   "cell_type": "markdown",
   "metadata": {},
   "source": [
    "## Constants\n",
    "   A *constant* is like a variable whose value stays the same throughout the life of a program. Python doesn't have built-in constant types, but typically Python programmers use all capital letters to indicate a variable should be treated as constant and never be changed like this:"
   ]
  },
  {
   "cell_type": "code",
   "execution_count": 26,
   "metadata": {},
   "outputs": [],
   "source": [
    "MAX_CONNECTIONS = 5000"
   ]
  },
  {
   "cell_type": "markdown",
   "metadata": {},
   "source": [
    "## Guiding Principles in Coding\n",
    "\n",
    "A Pythoneer once wrote 19 aphorisms stating how one can write beautiful and clean code with Python. Came to be known as [The Zen of Python](https://en.wikipedia.org/wiki/Zen_of_Python), these aphorisms exploded amongst Python developers. The Zen of Python is an Easter egg, or hidden joke, that appears if you run `import this`:"
   ]
  },
  {
   "cell_type": "code",
   "execution_count": 27,
   "metadata": {
    "scrolled": true
   },
   "outputs": [
    {
     "name": "stdout",
     "output_type": "stream",
     "text": [
      "The Zen of Python, by Tim Peters\n",
      "\n",
      "Beautiful is better than ugly.\n",
      "Explicit is better than implicit.\n",
      "Simple is better than complex.\n",
      "Complex is better than complicated.\n",
      "Flat is better than nested.\n",
      "Sparse is better than dense.\n",
      "Readability counts.\n",
      "Special cases aren't special enough to break the rules.\n",
      "Although practicality beats purity.\n",
      "Errors should never pass silently.\n",
      "Unless explicitly silenced.\n",
      "In the face of ambiguity, refuse the temptation to guess.\n",
      "There should be one-- and preferably only one --obvious way to do it.\n",
      "Although that way may not be obvious at first unless you're Dutch.\n",
      "Now is better than never.\n",
      "Although never is often better than *right* now.\n",
      "If the implementation is hard to explain, it's a bad idea.\n",
      "If the implementation is easy to explain, it may be a good idea.\n",
      "Namespaces are one honking great idea -- let's do more of those!\n"
     ]
    }
   ],
   "source": [
    "import this"
   ]
  },
  {
   "cell_type": "markdown",
   "metadata": {},
   "source": [
    "Next up, [we'll learn to write new functions and understand functions](https://github.com/colintwh/python-basics/blob/master/functions.ipynb). This will make you at least 10 times more productive as a Python programmer. "
   ]
  }
 ],
 "metadata": {
  "kernelspec": {
   "display_name": "Python 3",
   "language": "python",
   "name": "python3"
  },
  "language_info": {
   "codemirror_mode": {
    "name": "ipython",
    "version": 3
   },
   "file_extension": ".py",
   "mimetype": "text/x-python",
   "name": "python",
   "nbconvert_exporter": "python",
   "pygments_lexer": "ipython3",
   "version": "3.8.5"
  }
 },
 "nbformat": 4,
 "nbformat_minor": 4
}
