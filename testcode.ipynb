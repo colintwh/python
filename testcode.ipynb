{
 "cells": [
  {
   "cell_type": "markdown",
   "metadata": {},
   "source": [
    "# Testing your code\n",
    "\n",
    "---\n",
    "\n",
    "You can also write tests for your code, in addition to writing a function or a class. Testing proves that your code works as intended in response to all the input types it's design to receive. The module `unittest` from the Python standard library provides tools or testing your code. A *unit test* verifies one specific aspect of a function's behaviour is correct. A *test case* is a collection of unit tests that together prove that a function behaves as its intended to, within the full range of situations you expect it to handle. It's often good enough to write tests for your code's critical behaviours and then aim for full coverage - a full range of unit tests covering *all possible ways* to use a function - only if the project starts to see widespread use. \n",
    "\n",
    "## Testing a Function\n",
    "\n",
    "To write a test case for a function, import the `unittest` module and the functions you want to test. Then create a class that inherits from `unittest.TestCase`, and write a series of methods to test different aspects of your function's behaviour. Before we demonstrate a test case, we first need to define the code to be tested and save it in *name_function.py* file"
   ]
  },
  {
   "cell_type": "code",
   "execution_count": null,
   "metadata": {},
   "outputs": [],
   "source": [
    "# save in name_function.py\n",
    "def get_formatted_name(first, last):\n",
    "    \"\"\"Generate a neatly formatted full name.\"\"\"\n",
    "    full_name = f\"{first} {last}\"\n",
    "    return full_name.title()"
   ]
  },
  {
   "cell_type": "markdown",
   "metadata": {},
   "source": [
    "Here's a test case with one method that verifies that the function get_formatted_name() works correctly when given a first and last name:"
   ]
  },
  {
   "cell_type": "code",
   "execution_count": 1,
   "metadata": {},
   "outputs": [
    {
     "name": "stderr",
     "output_type": "stream",
     "text": [
      ".\n",
      "----------------------------------------------------------------------\n",
      "Ran 1 test in 0.001s\n",
      "\n",
      "OK\n"
     ]
    }
   ],
   "source": [
    "import unittest\n",
    "from name_function import get_formatted_name\n",
    "\n",
    "class NamesTestCase(unittest.TestCase):\n",
    "    \"\"\"Tests for 'name_function.py'.\"\"\"\n",
    "    \n",
    "    def test_first_last_name(self):\n",
    "        \"\"\"Do names like 'Janis Joplin' work?\"\"\"\n",
    "        formatted_name = get_formatted_name('janis', 'joplin')\n",
    "        self.assertEqual(formatted_name, 'Janis Joplin')  # verify result matches the result you expect to receive\n",
    "\n",
    "# runs unittest.main() which runs the test case when this file is being run as the main program\n",
    "if __name__ == '__main__':\n",
    "    unittest.main(argv=['first-arg-is-ignored'], exit=False)  # see note"
   ]
  },
  {
   "cell_type": "markdown",
   "metadata": {},
   "source": [
    "**Note**: *The above example is run in Jupyter Notebook, where the behaviour of `unittest.main()` differs from if you were to run the code in a normal Python interpreter or editor (e.g. Sublime). In this case, `argv=['first-arg-is-ignored'], exit=False` is provided as an argument to the function call to avoid any errors in Jupyter. Otherwise, just running `unittest.main()` without passing any argument should work fine. For details on how the argument works, refer to https://stackoverflow.com/questions/37895781/unable-to-run-unittests-main-function-in-ipython-jupyter-notebook/38012249#38012249*"
   ]
  },
  {
   "cell_type": "markdown",
   "metadata": {},
   "source": [
    "The dot on the first line of output indicates that a single test passed. The next line tell us that Python ran one test, and it took 0.001 seconds to run. The final *OK* tell us that all unit tests in the test case passed. \n",
    "\n",
    "What does a failing test look like? We will first need to modify the function to take in middle name argument:"
   ]
  },
  {
   "cell_type": "code",
   "execution_count": null,
   "metadata": {},
   "outputs": [],
   "source": [
    "# save in name_function2.py\n",
    "def get_formatted_name(first, middle, last):\n",
    "    \"\"\"Generate a neatly formatted full name.\"\"\"\n",
    "    full_name = f\"{first} {middle} {last}\"\n",
    "    return full_name.title()"
   ]
  },
  {
   "cell_type": "markdown",
   "metadata": {},
   "source": [
    "Run the test again on the modified function:"
   ]
  },
  {
   "cell_type": "code",
   "execution_count": 2,
   "metadata": {},
   "outputs": [
    {
     "name": "stderr",
     "output_type": "stream",
     "text": [
      "E\n",
      "======================================================================\n",
      "ERROR: test_first_last_name (__main__.NamesTestCase)\n",
      "Do names like 'Janis Joplin' work?\n",
      "----------------------------------------------------------------------\n",
      "Traceback (most recent call last):\n",
      "  File \"<ipython-input-2-e6612d1f8abb>\", line 8, in test_first_last_name\n",
      "    formatted_name = get_formatted_name('janis', 'joplin')\n",
      "TypeError: get_formatted_name() missing 1 required positional argument: 'last'\n",
      "\n",
      "----------------------------------------------------------------------\n",
      "Ran 1 test in 0.001s\n",
      "\n",
      "FAILED (errors=1)\n"
     ]
    }
   ],
   "source": [
    "from name_function2 import get_formatted_name\n",
    "\n",
    "class NamesTestCase(unittest.TestCase):\n",
    "    \"\"\"Tests for 'name_function.py'.\"\"\"\n",
    "    \n",
    "    def test_first_last_name(self):\n",
    "        \"\"\"Do names like 'Janis Joplin' work?\"\"\"\n",
    "        formatted_name = get_formatted_name('janis', 'joplin')\n",
    "        self.assertEqual(formatted_name, 'Janis Joplin')  # verify result matches the result you expect to receive\n",
    "\n",
    "# runs unittest.main() which runs the test case when this file is being run as the main program\n",
    "if __name__ == '__main__':\n",
    "    unittest.main(argv=['first-arg-is-ignored'], exit=False)"
   ]
  },
  {
   "cell_type": "markdown",
   "metadata": {},
   "source": [
    "Instead of a dot, the first item in the output is now a single E, which tells us one unit test in the test case resulted in an error. Next, we see that `test_first_last_name` unit test caused an error, followed by a standard traceback that gives details on what the error is. At the last line of the output, we see the **\"FAILED (errors=1)\"**, telling us the overall test case failed and that one error occured when running the test case. \n",
    "\n",
    "In responding to the failed test case, we need to modify the function such that the middle name is optional instead of being a mandatory argument:"
   ]
  },
  {
   "cell_type": "code",
   "execution_count": null,
   "metadata": {},
   "outputs": [],
   "source": [
    "# save in name_function3.py\n",
    "def get_formatted_name(first, last, middle=''):\n",
    "    \"\"\"Generate a neatly formatted full name.\"\"\"\n",
    "    if middle:\n",
    "        full_name = f\"{first} {middle} {last}\"\n",
    "    else:\n",
    "        full_name = f\"{first} {last}\"\n",
    "    return full_name.title()"
   ]
  },
  {
   "cell_type": "markdown",
   "metadata": {},
   "source": [
    "Run the same test again on the refined function. This time the test should pass:"
   ]
  },
  {
   "cell_type": "code",
   "execution_count": 3,
   "metadata": {},
   "outputs": [
    {
     "name": "stderr",
     "output_type": "stream",
     "text": [
      ".\n",
      "----------------------------------------------------------------------\n",
      "Ran 1 test in 0.001s\n",
      "\n",
      "OK\n"
     ]
    }
   ],
   "source": [
    "from name_function3 import get_formatted_name\n",
    "\n",
    "class NamesTestCase(unittest.TestCase):\n",
    "    \"\"\"Tests for 'name_function.py'.\"\"\"\n",
    "    \n",
    "    def test_first_last_name(self):\n",
    "        \"\"\"Do names like 'Janis Joplin' work?\"\"\"\n",
    "        formatted_name = get_formatted_name('janis', 'joplin')\n",
    "        self.assertEqual(formatted_name, 'Janis Joplin')  # verify result matches the result you expect to receive\n",
    "\n",
    "# runs unittest.main() which runs the test case when this file is being run as the main program\n",
    "if __name__ == '__main__':\n",
    "    unittest.main(argv=['first-arg-is-ignored'], exit=False)"
   ]
  },
  {
   "cell_type": "markdown",
   "metadata": {},
   "source": [
    "### Adding New Tests\n",
    "\n",
    "We can write a second unittest for people who include a middle name and see the test output:"
   ]
  },
  {
   "cell_type": "code",
   "execution_count": 4,
   "metadata": {},
   "outputs": [
    {
     "name": "stderr",
     "output_type": "stream",
     "text": [
      "..\n",
      "----------------------------------------------------------------------\n",
      "Ran 2 tests in 0.002s\n",
      "\n",
      "OK\n"
     ]
    }
   ],
   "source": [
    "from name_function3 import get_formatted_name\n",
    "\n",
    "class NamesTestCase(unittest.TestCase):\n",
    "    \"\"\"Tests for 'name_function.py'.\"\"\"\n",
    "    \n",
    "    def test_first_last_name(self):\n",
    "        \"\"\"Do names like 'Janis Joplin' work?\"\"\"\n",
    "        formatted_name = get_formatted_name('janis', 'joplin')\n",
    "        self.assertEqual(formatted_name, 'Janis Joplin')\n",
    "    \n",
    "    # add in a second unittest\n",
    "    def test_first_last_middle_name(self):\n",
    "        \"\"\"Do names like 'Wolfgang Amadeus Mozart' work?\"\"\"\n",
    "        formatted_name = get_formatted_name(\n",
    "            'wolfgang', 'mozart', 'amadeus')\n",
    "        self.assertEqual(formatted_name, 'Wolfgang Amadeus Mozart')\n",
    "\n",
    "\n",
    "# runs unittest.main() which runs the test case when this file is being run as the main program\n",
    "if __name__ == '__main__':\n",
    "    unittest.main(argv=['first-arg-is-ignored'], exit=False)"
   ]
  },
  {
   "cell_type": "markdown",
   "metadata": {},
   "source": [
    "### Variety of Assert Methods\n",
    "\n",
    "In the earlier example, I have demonstrated the use of `assertEqual()` to test the return value of the function. Python provides a number of assert methods in the unittest.TestCase class. The table below lists commonly used assert methods. You can use these methods only in the class that inherits from unittest.TestCase:\n",
    "\n",
    "**Method** | **Use**\n",
    "--- | ---\n",
    "assertEqual(a, b) | Verify that a == b\n",
    "assertNotEqual(a, b) | Verify that a != b\n",
    "assertTrue(x) | Verify that x is True\n",
    "assertFalse(x) | Verify that x is False\n",
    "assertIn(item, list) | Verify that item is in list\n",
    "assertNotIn(item, list) | Verify that item is not in list"
   ]
  },
  {
   "cell_type": "markdown",
   "metadata": {},
   "source": [
    "## Testing a class\n",
    "\n",
    "Earlier in this chapter, I've demonstrated writing tests for a single function. Now I'll discuss on writing tests for a class. Testing a class is similar to testing a function, but there are a few differences. Consider a class that helps administer anonymous surveys:"
   ]
  },
  {
   "cell_type": "code",
   "execution_count": null,
   "metadata": {},
   "outputs": [],
   "source": [
    "# save in survey.py\n",
    "class AnonymousSurvey:\n",
    "    \"\"\"Collect anonymous answers to a survey question\"\"\"\n",
    "    \n",
    "    def __init__(self, question):\n",
    "        \"\"\"Store a question, and prepare to store responses.\"\"\"\n",
    "        self.question = question\n",
    "        self.responses = []\n",
    "        \n",
    "    def show_question(self):\n",
    "        \"\"\"Show the survey question\"\"\"\n",
    "        print(self.question)\n",
    "        \n",
    "    def store_response(self, new_response):\n",
    "        \"\"\"Store a single reponse to the survey.\"\"\"\n",
    "        self.responses.append(new_response)\n",
    "        \n",
    "    def show_results(self):\n",
    "        \"\"\"Show all the responses that have been given.\"\"\"\n",
    "        print(\"Survey results:\")\n",
    "        for response in self.responses:\n",
    "            print(f\"- {response}\")"
   ]
  },
  {
   "cell_type": "markdown",
   "metadata": {},
   "source": [
    "Let's write a test that verifies one aspect of the way `AnonymousSurvey` behaves:"
   ]
  },
  {
   "cell_type": "code",
   "execution_count": 1,
   "metadata": {},
   "outputs": [
    {
     "name": "stderr",
     "output_type": "stream",
     "text": [
      ".\n",
      "----------------------------------------------------------------------\n",
      "Ran 1 test in 0.000s\n",
      "\n",
      "OK\n"
     ]
    }
   ],
   "source": [
    "import unittest\n",
    "from survey import AnonymousSurvey\n",
    "\n",
    "class TestAnonymousSurvey(unittest.TestCase):\n",
    "    \"\"\"Tests for the class AnonymousSurvey\"\"\"\n",
    "    \n",
    "    def test_store_single_response(self):\n",
    "        \"\"\"Tests that a single response is stored properly\"\"\"\n",
    "        question = \"What language did you first learn to speak? \"\n",
    "        my_survey = AnonymousSurvey(question)   # create object instance of the class\n",
    "        my_survey.store_response('English')\n",
    "        self.assertIn('English', my_survey.responses)  # check data properly saved in object instance\n",
    "\n",
    "if __name__ == '__main__':\n",
    "    unittest.main(argv=['first-arg-is-ignored'], exit=False)"
   ]
  },
  {
   "cell_type": "markdown",
   "metadata": {},
   "source": [
    "Verify that three responses can be stored correctly by adding another method to testcase:"
   ]
  },
  {
   "cell_type": "code",
   "execution_count": 2,
   "metadata": {},
   "outputs": [
    {
     "name": "stderr",
     "output_type": "stream",
     "text": [
      "..\n",
      "----------------------------------------------------------------------\n",
      "Ran 2 tests in 0.001s\n",
      "\n",
      "OK\n"
     ]
    }
   ],
   "source": [
    "from survey import AnonymousSurvey\n",
    "\n",
    "class TestAnonymousSurvey(unittest.TestCase):\n",
    "    \"\"\"Tests for the class AnonymousSurvey\"\"\"\n",
    "    \n",
    "    def test_store_single_response(self):\n",
    "        \"\"\"Tests that a single response is stored properly\"\"\"\n",
    "        question = \"What language did you first learn to speak? \"\n",
    "        my_survey = AnonymousSurvey(question)   # create object instance of the class\n",
    "        my_survey.store_response('English')\n",
    "        self.assertIn('English', my_survey.responses)  # check data properly saved in object instance\n",
    "         \n",
    "    def test_store_three_response(self):\n",
    "        \"\"\"Tests that three individual responses are stored properly\"\"\"\n",
    "        question = \"What language did you first learn to speak? \"\n",
    "        my_survey = AnonymousSurvey(question)   # create object instance of the class\n",
    "        responses = ['English', 'Spanish', 'Mandarin']\n",
    "        \n",
    "        # loop to store each response\n",
    "        for response in responses:\n",
    "            my_survey.store_response(response)\n",
    "        \n",
    "        # loop to check if each response is saved properly\n",
    "        for response in responses:\n",
    "            self.assertIn(response, my_survey.responses)\n",
    "        \n",
    "if __name__ == '__main__':\n",
    "    unittest.main(argv=['first-arg-is-ignored'], exit=False)"
   ]
  },
  {
   "cell_type": "markdown",
   "metadata": {},
   "source": [
    "### The `setUp()` method\n",
    "\n",
    "Earlier, I've created a new instance of *AnonymousSurvey* in each test method, and we created new responses in each method. The `unittest.TestCase` class has a `setUp()` method that allows you to create these objects once and then use them in each of your test methods. When you include a `setUp()` method, Python runs the `setUp()` method before running each method starting with *test_*. Any objects created in the `setUp()` method are then available in each test method you write:"
   ]
  },
  {
   "cell_type": "code",
   "execution_count": 3,
   "metadata": {},
   "outputs": [
    {
     "name": "stderr",
     "output_type": "stream",
     "text": [
      "..\n",
      "----------------------------------------------------------------------\n",
      "Ran 2 tests in 0.002s\n",
      "\n",
      "OK\n"
     ]
    }
   ],
   "source": [
    "from survey import AnonymousSurvey\n",
    "\n",
    "class TestAnonymousSurvey(unittest.TestCase):\n",
    "    \"\"\"Tests for the class AnonymousSurvey\"\"\"\n",
    "    \n",
    "    def setUp(self):\n",
    "        \"\"\"Create a survey and a set of responses for use in all test methods\"\"\"\n",
    "        question = \"What language did you first learn to speak? \"\n",
    "        self.my_survey = AnonymousSurvey(question)   # create object instance of the class\n",
    "        self.responses = ['English', 'Spanish', 'Mandarin']\n",
    "    \n",
    "    def test_store_single_response(self):\n",
    "        \"\"\"Tests that a single response is stored properly\"\"\"\n",
    "        self.my_survey.store_response(self.responses[0])\n",
    "        self.assertIn(self.responses[0], self.my_survey.responses)  # check data properly saved in object instance\n",
    "       \n",
    "    def test_store_three_response(self):\n",
    "        \"\"\"Tests that three individual responses are stored properly\"\"\"        \n",
    "        for response in self.responses:\n",
    "            self.my_survey.store_response(response)\n",
    "        \n",
    "        for response in self.responses:\n",
    "            self.assertIn(response, self.my_survey.responses)\n",
    "        \n",
    "if __name__ == '__main__':\n",
    "    unittest.main(argv=['first-arg-is-ignored'], exit=False)"
   ]
  }
 ],
 "metadata": {
  "kernelspec": {
   "display_name": "Python 3",
   "language": "python",
   "name": "python3"
  },
  "language_info": {
   "codemirror_mode": {
    "name": "ipython",
    "version": 3
   },
   "file_extension": ".py",
   "mimetype": "text/x-python",
   "name": "python",
   "nbconvert_exporter": "python",
   "pygments_lexer": "ipython3",
   "version": "3.8.5"
  }
 },
 "nbformat": 4,
 "nbformat_minor": 4
}
